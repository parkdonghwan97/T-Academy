{
 "cells": [
  {
   "cell_type": "code",
   "execution_count": 1,
   "id": "425d2279",
   "metadata": {
    "ExecuteTime": {
     "end_time": "2021-12-29T15:13:56.358863Z",
     "start_time": "2021-12-29T15:13:56.347892Z"
    }
   },
   "outputs": [],
   "source": [
    "#         model = Sequential()\n",
    "#         model.add(Conv2D(20, kernel_size = 5, padding=\"same\", input_shape=input_shape))\n",
    "#         model.add(Activation(\"relu\"))\n",
    "#         model.add(MaxPooling2D(pool_size = (2,2), strides = (2,2)))\n",
    "#         model.add(Conv2D(50, kernel_size = 5, padding=\"same\"))\n",
    "#         model.add(Activation(\"relu\"))\n",
    "#         model.add(MaxPooling2D(pool_size = (2,2), strides = (2,2)))\n",
    "#         model.add(Flatten())\n",
    "#         model.add(Dense(500))\n",
    "#         model.add(Activation(\"relu\"))\n",
    "#         model.add(Dense(10))\n",
    "#         model.add(Activation(\"softmax\"))\n"
   ]
  },
  {
   "cell_type": "code",
   "execution_count": 2,
   "id": "8b265954",
   "metadata": {
    "ExecuteTime": {
     "end_time": "2022-04-03T05:36:39.741922Z",
     "start_time": "2022-04-03T05:36:39.728922Z"
    }
   },
   "outputs": [],
   "source": [
    "from tensorflow.keras.models import load_model"
   ]
  },
  {
   "cell_type": "code",
   "execution_count": 3,
   "id": "9cfc6450",
   "metadata": {
    "ExecuteTime": {
     "end_time": "2022-04-03T05:36:40.472179Z",
     "start_time": "2022-04-03T05:36:39.742923Z"
    }
   },
   "outputs": [
    {
     "name": "stdout",
     "output_type": "stream",
     "text": [
      "Model: \"sequential_4\"\n",
      "_________________________________________________________________\n",
      "Layer (type)                 Output Shape              Param #   \n",
      "=================================================================\n",
      "flatten_2 (Flatten)          (None, 28812)             0         \n",
      "_________________________________________________________________\n",
      "dense_12 (Dense)             (None, 64)                1844032   \n",
      "_________________________________________________________________\n",
      "dense_13 (Dense)             (None, 32)                2080      \n",
      "_________________________________________________________________\n",
      "dense_14 (Dense)             (None, 2)                 66        \n",
      "=================================================================\n",
      "Total params: 1,846,178\n",
      "Trainable params: 1,846,178\n",
      "Non-trainable params: 0\n",
      "_________________________________________________________________\n"
     ]
    }
   ],
   "source": [
    "model = load_model('catdog.h5')\n",
    "model.summary()"
   ]
  },
  {
   "cell_type": "code",
   "execution_count": 4,
   "id": "c71d9aa4",
   "metadata": {
    "ExecuteTime": {
     "end_time": "2022-04-03T05:36:41.907233Z",
     "start_time": "2022-04-03T05:36:41.889217Z"
    }
   },
   "outputs": [],
   "source": [
    "from tensorflow.keras.preprocessing import image"
   ]
  },
  {
   "cell_type": "code",
   "execution_count": 5,
   "id": "a94432b5",
   "metadata": {
    "ExecuteTime": {
     "end_time": "2022-04-03T05:36:42.111731Z",
     "start_time": "2022-04-03T05:36:42.068716Z"
    }
   },
   "outputs": [
    {
     "data": {
      "image/png": "[encoded data removed]",
      "text/plain": [
       "<PIL.Image.Image image mode=RGB size=98x98 at 0x18BAC6E77C8>"
      ]
     },
     "execution_count": 5,
     "metadata": {},
     "output_type": "execute_result"
    }
   ],
   "source": [
    "testImg = image.load_img('image/test.jpg',target_size=(98,98))\n",
    "testImg"
   ]
  },
  {
   "cell_type": "code",
   "execution_count": 6,
   "id": "1b7acdfb",
   "metadata": {
    "ExecuteTime": {
     "end_time": "2022-04-03T05:36:42.238624Z",
     "start_time": "2022-04-03T05:36:42.228624Z"
    }
   },
   "outputs": [],
   "source": [
    "imgArr = image.img_to_array(testImg) #  넘파이 배열로 만듦\n",
    "imgArr = imgArr/255   #  스케일링"
   ]
  },
  {
   "cell_type": "code",
   "execution_count": 7,
   "id": "ea7f2168",
   "metadata": {
    "ExecuteTime": {
     "end_time": "2022-04-03T05:36:42.456155Z",
     "start_time": "2022-04-03T05:36:42.437153Z"
    }
   },
   "outputs": [
    {
     "data": {
      "text/plain": [
       "(98, 98, 3)"
      ]
     },
     "execution_count": 7,
     "metadata": {},
     "output_type": "execute_result"
    }
   ],
   "source": [
    "imgArr.shape"
   ]
  },
  {
   "cell_type": "code",
   "execution_count": 8,
   "id": "d031e743",
   "metadata": {
    "ExecuteTime": {
     "end_time": "2022-04-03T05:36:43.818676Z",
     "start_time": "2022-04-03T05:36:42.599671Z"
    }
   },
   "outputs": [
    {
     "data": {
      "text/plain": [
       "array([[3.6435237e-04, 9.9963558e-01]], dtype=float32)"
      ]
     },
     "execution_count": 8,
     "metadata": {},
     "output_type": "execute_result"
    }
   ],
   "source": [
    "model.predict(imgArr.reshape(1,98,98,3))"
   ]
  },
  {
   "cell_type": "code",
   "execution_count": 9,
   "id": "dfd671bb",
   "metadata": {
    "ExecuteTime": {
     "end_time": "2022-04-03T05:36:43.866676Z",
     "start_time": "2022-04-03T05:36:43.820677Z"
    }
   },
   "outputs": [
    {
     "data": {
      "text/plain": [
       "array([1], dtype=int64)"
      ]
     },
     "execution_count": 9,
     "metadata": {},
     "output_type": "execute_result"
    }
   ],
   "source": [
    "model.predict(imgArr.reshape(1,98,98,3)).argmax(axis=1)"
   ]
  },
  {
   "cell_type": "code",
   "execution_count": 10,
   "id": "a5007792",
   "metadata": {
    "ExecuteTime": {
     "end_time": "2022-04-03T05:36:43.897897Z",
     "start_time": "2022-04-03T05:36:43.868677Z"
    }
   },
   "outputs": [
    {
     "data": {
      "text/plain": [
       "{'loss': [0.011175118386745453,\n",
       "  0.011422483250498772,\n",
       "  0.011195170693099499,\n",
       "  0.010512296110391617,\n",
       "  0.009570762515068054,\n",
       "  0.008995364420115948,\n",
       "  0.008700957521796227,\n",
       "  0.008806411176919937,\n",
       "  0.008796635083854198,\n",
       "  0.008516417816281319,\n",
       "  0.00799019169062376,\n",
       "  0.007566369138658047,\n",
       "  0.0072755091823637486,\n",
       "  0.007226476911455393,\n",
       "  0.007195086218416691,\n",
       "  0.007121738977730274,\n",
       "  0.006915133446455002,\n",
       "  0.006661468651145697,\n",
       "  0.006389480084180832,\n",
       "  0.006268967874348164,\n",
       "  0.006168064195662737,\n",
       "  0.006108283065259457,\n",
       "  0.006047907285392284,\n",
       "  0.005947594530880451,\n",
       "  0.005736921913921833,\n",
       "  0.005611131899058819,\n",
       "  0.005499782040715218,\n",
       "  0.005414205603301525,\n",
       "  0.00537593150511384,\n",
       "  0.005305142141878605,\n",
       "  0.005251332186162472,\n",
       "  0.00513067189604044,\n",
       "  0.005017468705773354,\n",
       "  0.004935172386467457,\n",
       "  0.004875004291534424,\n",
       "  0.004809801001101732,\n",
       "  0.004757004790008068,\n",
       "  0.004700052086263895,\n",
       "  0.004632141441106796,\n",
       "  0.004529466386884451,\n",
       "  0.004451367538422346,\n",
       "  0.004404486157000065,\n",
       "  0.004342756234109402,\n",
       "  0.004287534859031439,\n",
       "  0.004231848753988743,\n",
       "  0.00417783809825778,\n",
       "  0.004117138683795929,\n",
       "  0.004064518492668867,\n",
       "  0.004019091837108135,\n",
       "  0.003976801410317421],\n",
       " 'acc': [1.0,\n",
       "  1.0,\n",
       "  1.0,\n",
       "  1.0,\n",
       "  1.0,\n",
       "  1.0,\n",
       "  1.0,\n",
       "  1.0,\n",
       "  1.0,\n",
       "  1.0,\n",
       "  1.0,\n",
       "  1.0,\n",
       "  1.0,\n",
       "  1.0,\n",
       "  1.0,\n",
       "  1.0,\n",
       "  1.0,\n",
       "  1.0,\n",
       "  1.0,\n",
       "  1.0,\n",
       "  1.0,\n",
       "  1.0,\n",
       "  1.0,\n",
       "  1.0,\n",
       "  1.0,\n",
       "  1.0,\n",
       "  1.0,\n",
       "  1.0,\n",
       "  1.0,\n",
       "  1.0,\n",
       "  1.0,\n",
       "  1.0,\n",
       "  1.0,\n",
       "  1.0,\n",
       "  1.0,\n",
       "  1.0,\n",
       "  1.0,\n",
       "  1.0,\n",
       "  1.0,\n",
       "  1.0,\n",
       "  1.0,\n",
       "  1.0,\n",
       "  1.0,\n",
       "  1.0,\n",
       "  1.0,\n",
       "  1.0,\n",
       "  1.0,\n",
       "  1.0,\n",
       "  1.0,\n",
       "  1.0]}"
      ]
     },
     "execution_count": 10,
     "metadata": {},
     "output_type": "execute_result"
    }
   ],
   "source": [
    "import pickle\n",
    "fp = open('catdog.history','rb')\n",
    "h = pickle.load(fp)\n",
    "h"
   ]
  },
  {
   "cell_type": "code",
   "execution_count": 11,
   "id": "9d507374",
   "metadata": {
    "ExecuteTime": {
     "end_time": "2022-04-03T05:36:43.929838Z",
     "start_time": "2022-04-03T05:36:43.900839Z"
    }
   },
   "outputs": [
    {
     "name": "stdout",
     "output_type": "stream",
     "text": [
      "myh\n"
     ]
    }
   ],
   "source": [
    "import shelve\n",
    "sh = shelve.open('myhist')\n",
    "\n",
    "for k in sh.keys():\n",
    "    print(k)"
   ]
  },
  {
   "cell_type": "code",
   "execution_count": 12,
   "id": "cc08c189",
   "metadata": {
    "ExecuteTime": {
     "end_time": "2022-04-03T05:36:43.945829Z",
     "start_time": "2022-04-03T05:36:43.935831Z"
    }
   },
   "outputs": [
    {
     "data": {
      "text/plain": [
       "{'loss': [0.011175118386745453,\n",
       "  0.011422483250498772,\n",
       "  0.011195170693099499,\n",
       "  0.010512296110391617,\n",
       "  0.009570762515068054,\n",
       "  0.008995364420115948,\n",
       "  0.008700957521796227,\n",
       "  0.008806411176919937,\n",
       "  0.008796635083854198,\n",
       "  0.008516417816281319,\n",
       "  0.00799019169062376,\n",
       "  0.007566369138658047,\n",
       "  0.0072755091823637486,\n",
       "  0.007226476911455393,\n",
       "  0.007195086218416691,\n",
       "  0.007121738977730274,\n",
       "  0.006915133446455002,\n",
       "  0.006661468651145697,\n",
       "  0.006389480084180832,\n",
       "  0.006268967874348164,\n",
       "  0.006168064195662737,\n",
       "  0.006108283065259457,\n",
       "  0.006047907285392284,\n",
       "  0.005947594530880451,\n",
       "  0.005736921913921833,\n",
       "  0.005611131899058819,\n",
       "  0.005499782040715218,\n",
       "  0.005414205603301525,\n",
       "  0.00537593150511384,\n",
       "  0.005305142141878605,\n",
       "  0.005251332186162472,\n",
       "  0.00513067189604044,\n",
       "  0.005017468705773354,\n",
       "  0.004935172386467457,\n",
       "  0.004875004291534424,\n",
       "  0.004809801001101732,\n",
       "  0.004757004790008068,\n",
       "  0.004700052086263895,\n",
       "  0.004632141441106796,\n",
       "  0.004529466386884451,\n",
       "  0.004451367538422346,\n",
       "  0.004404486157000065,\n",
       "  0.004342756234109402,\n",
       "  0.004287534859031439,\n",
       "  0.004231848753988743,\n",
       "  0.00417783809825778,\n",
       "  0.004117138683795929,\n",
       "  0.004064518492668867,\n",
       "  0.004019091837108135,\n",
       "  0.003976801410317421],\n",
       " 'acc': [1.0,\n",
       "  1.0,\n",
       "  1.0,\n",
       "  1.0,\n",
       "  1.0,\n",
       "  1.0,\n",
       "  1.0,\n",
       "  1.0,\n",
       "  1.0,\n",
       "  1.0,\n",
       "  1.0,\n",
       "  1.0,\n",
       "  1.0,\n",
       "  1.0,\n",
       "  1.0,\n",
       "  1.0,\n",
       "  1.0,\n",
       "  1.0,\n",
       "  1.0,\n",
       "  1.0,\n",
       "  1.0,\n",
       "  1.0,\n",
       "  1.0,\n",
       "  1.0,\n",
       "  1.0,\n",
       "  1.0,\n",
       "  1.0,\n",
       "  1.0,\n",
       "  1.0,\n",
       "  1.0,\n",
       "  1.0,\n",
       "  1.0,\n",
       "  1.0,\n",
       "  1.0,\n",
       "  1.0,\n",
       "  1.0,\n",
       "  1.0,\n",
       "  1.0,\n",
       "  1.0,\n",
       "  1.0,\n",
       "  1.0,\n",
       "  1.0,\n",
       "  1.0,\n",
       "  1.0,\n",
       "  1.0,\n",
       "  1.0,\n",
       "  1.0,\n",
       "  1.0,\n",
       "  1.0,\n",
       "  1.0]}"
      ]
     },
     "execution_count": 12,
     "metadata": {},
     "output_type": "execute_result"
    }
   ],
   "source": [
    "sh['myh']"
   ]
  }
 ],
 "metadata": {
  "kernelspec": {
   "display_name": "Python 3 (ipykernel)",
   "language": "python",
   "name": "python3"
  },
  "language_info": {
   "codemirror_mode": {
    "name": "ipython",
    "version": 3
   },
   "file_extension": ".py",
   "mimetype": "text/x-python",
   "name": "python",
   "nbconvert_exporter": "python",
   "pygments_lexer": "ipython3",
   "version": "3.7.12"
  },
  "toc": {
   "base_numbering": 1,
   "nav_menu": {},
   "number_sections": true,
   "sideBar": true,
   "skip_h1_title": false,
   "title_cell": "Table of Contents",
   "title_sidebar": "Contents",
   "toc_cell": false,
   "toc_position": {},
   "toc_section_display": true,
   "toc_window_display": false
  }
 },
 "nbformat": 4,
 "nbformat_minor": 5
}
