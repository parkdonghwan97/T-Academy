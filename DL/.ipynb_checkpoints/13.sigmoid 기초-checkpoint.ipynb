{
 "cells": [
  {
   "cell_type": "code",
   "execution_count": 1,
   "id": "899c664e",
   "metadata": {
    "ExecuteTime": {
     "end_time": "2022-04-03T04:14:03.624492Z",
     "start_time": "2022-04-03T04:14:02.893443Z"
    }
   },
   "outputs": [],
   "source": [
    "import numpy as np\n",
    "import math\n",
    "import matplotlib.pyplot as plt \n",
    "\n",
    "plt.style.use('ggplot')"
   ]
  },
  {
   "cell_type": "code",
   "execution_count": 2,
   "id": "a425ffa3",
   "metadata": {
    "ExecuteTime": {
     "end_time": "2022-04-03T04:14:03.640483Z",
     "start_time": "2022-04-03T04:14:03.625484Z"
    }
   },
   "outputs": [
    {
     "name": "stdout",
     "output_type": "stream",
     "text": [
      "4\n",
      "0.25\n",
      "8\n",
      "0.125\n",
      "2.718281828459045\n"
     ]
    }
   ],
   "source": [
    "print(2**2)\n",
    "print(2**-2)   # 1/4\n",
    "print(2**3)\n",
    "print(2**-3)   # 1/8\n",
    "print(math.e)  # e  자연상수"
   ]
  },
  {
   "cell_type": "code",
   "execution_count": 3,
   "id": "d0812b51",
   "metadata": {
    "ExecuteTime": {
     "end_time": "2022-04-03T04:14:03.656483Z",
     "start_time": "2022-04-03T04:14:03.641484Z"
    }
   },
   "outputs": [],
   "source": [
    "def sigmoid( z ) : \n",
    "    return 1 / (1 + math.e ** -z)"
   ]
  },
  {
   "cell_type": "code",
   "execution_count": 4,
   "id": "821c159a",
   "metadata": {
    "ExecuteTime": {
     "end_time": "2022-04-03T04:14:03.672492Z",
     "start_time": "2022-04-03T04:14:03.658483Z"
    }
   },
   "outputs": [
    {
     "name": "stdout",
     "output_type": "stream",
     "text": [
      "4.539786870243442e-05\n",
      "0.2689414213699951\n",
      "0.5\n",
      "0.7310585786300049\n",
      "0.9999546021312976\n"
     ]
    }
   ],
   "source": [
    "# z 값이 커질수록 1에 가까워짐\n",
    "print(sigmoid(-10))\n",
    "print(sigmoid(-1))\n",
    "print(sigmoid(0))\n",
    "print(sigmoid(1))\n",
    "print(sigmoid(10))\n"
   ]
  },
  {
   "cell_type": "code",
   "execution_count": 5,
   "id": "8fc4f7c5",
   "metadata": {
    "ExecuteTime": {
     "end_time": "2022-04-03T04:14:03.688483Z",
     "start_time": "2022-04-03T04:14:03.673484Z"
    }
   },
   "outputs": [
    {
     "data": {
      "text/plain": [
       "array([-10.        ,  -9.59183673,  -9.18367347,  -8.7755102 ,\n",
       "        -8.36734694,  -7.95918367,  -7.55102041,  -7.14285714,\n",
       "        -6.73469388,  -6.32653061,  -5.91836735,  -5.51020408,\n",
       "        -5.10204082,  -4.69387755,  -4.28571429,  -3.87755102,\n",
       "        -3.46938776,  -3.06122449,  -2.65306122,  -2.24489796,\n",
       "        -1.83673469,  -1.42857143,  -1.02040816,  -0.6122449 ,\n",
       "        -0.20408163,   0.20408163,   0.6122449 ,   1.02040816,\n",
       "         1.42857143,   1.83673469,   2.24489796,   2.65306122,\n",
       "         3.06122449,   3.46938776,   3.87755102,   4.28571429,\n",
       "         4.69387755,   5.10204082,   5.51020408,   5.91836735,\n",
       "         6.32653061,   6.73469388,   7.14285714,   7.55102041,\n",
       "         7.95918367,   8.36734694,   8.7755102 ,   9.18367347,\n",
       "         9.59183673,  10.        ])"
      ]
     },
     "execution_count": 5,
     "metadata": {},
     "output_type": "execute_result"
    }
   ],
   "source": [
    "np.linspace(-10,10,50)"
   ]
  },
  {
   "cell_type": "code",
   "execution_count": 6,
   "id": "47174605",
   "metadata": {
    "ExecuteTime": {
     "end_time": "2022-04-03T04:14:03.863501Z",
     "start_time": "2022-04-03T04:14:03.690484Z"
    }
   },
   "outputs": [
    {
     "data": {
      "image/png": "[encoded data removed]",
      "text/plain": [
       "<Figure size 432x288 with 1 Axes>"
      ]
     },
     "metadata": {},
     "output_type": "display_data"
    }
   ],
   "source": [
    "for z in np.linspace( -10, 10 , 50):\n",
    "    s = sigmoid(z)\n",
    "    plt.plot(z,s,'ro')"
   ]
  },
  {
   "cell_type": "markdown",
   "id": "25130562",
   "metadata": {},
   "source": [
    "# 시그모이드 공식\n",
    "```\n",
    "def sigmoid( z ) : \n",
    "    return 1 / (1 + math.e ** -z)\n",
    "```\n",
    "Z = w * x + b   \n",
    "Hx = sigmoid( z )"
   ]
  }
 ],
 "metadata": {
  "kernelspec": {
   "display_name": "Python 3 (ipykernel)",
   "language": "python",
   "name": "python3"
  },
  "language_info": {
   "codemirror_mode": {
    "name": "ipython",
    "version": 3
   },
   "file_extension": ".py",
   "mimetype": "text/x-python",
   "name": "python",
   "nbconvert_exporter": "python",
   "pygments_lexer": "ipython3",
   "version": "3.8.8"
  },
  "toc": {
   "base_numbering": 1,
   "nav_menu": {},
   "number_sections": true,
   "sideBar": true,
   "skip_h1_title": false,
   "title_cell": "Table of Contents",
   "title_sidebar": "Contents",
   "toc_cell": false,
   "toc_position": {},
   "toc_section_display": true,
   "toc_window_display": false
  }
 },
 "nbformat": 4,
 "nbformat_minor": 5
}
