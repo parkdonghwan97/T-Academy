{
 "cells": [
  {
   "cell_type": "code",
   "execution_count": null,
   "id": "942310ea",
   "metadata": {},
   "outputs": [],
   "source": []
  },
  {
   "cell_type": "code",
   "execution_count": 7,
   "id": "ca02442b",
   "metadata": {
    "ExecuteTime": {
     "end_time": "2022-04-03T05:17:24.330462Z",
     "start_time": "2022-04-03T05:17:24.320461Z"
    }
   },
   "outputs": [],
   "source": [
    "# from tensorflow.keras.applications import vgg16"
   ]
  },
  {
   "cell_type": "code",
   "execution_count": 8,
   "id": "be40cb62",
   "metadata": {
    "ExecuteTime": {
     "end_time": "2022-04-03T05:17:24.346463Z",
     "start_time": "2022-04-03T05:17:24.332463Z"
    }
   },
   "outputs": [],
   "source": [
    "# modelvgg16 =vgg16.VGG16()\n",
    "# modelvgg16.summary()"
   ]
  },
  {
   "cell_type": "code",
   "execution_count": 9,
   "id": "1b5d3a5c",
   "metadata": {
    "ExecuteTime": {
     "end_time": "2022-04-03T05:17:24.362513Z",
     "start_time": "2022-04-03T05:17:24.347461Z"
    }
   },
   "outputs": [],
   "source": [
    "# from tensorflow.keras.preprocessing import image\n",
    "# # from tensorflow.keras.applications.vgg16 import preprocess_input,decode_predictions\n",
    "# from tensorflow.keras.applications.vgg16 import preprocess_input,decode_predictions\n",
    "# testImg = image.load_img('image/test.jpg',target_size=(224,224))"
   ]
  },
  {
   "cell_type": "code",
   "execution_count": 10,
   "id": "2f3ddf91",
   "metadata": {
    "ExecuteTime": {
     "end_time": "2022-04-03T05:17:24.377999Z",
     "start_time": "2022-04-03T05:17:24.363504Z"
    }
   },
   "outputs": [],
   "source": [
    "# imgArr = image.img_to_array(testImg).reshape(1,224,224,3)\n",
    "# pred = modelvgg16.predict(preprocess_input(imgArr))\n"
   ]
  },
  {
   "cell_type": "code",
   "execution_count": 11,
   "id": "9d09962e",
   "metadata": {
    "ExecuteTime": {
     "end_time": "2022-04-03T05:17:24.394356Z",
     "start_time": "2022-04-03T05:17:24.378993Z"
    }
   },
   "outputs": [],
   "source": [
    "\n",
    "# label = decode_predictions(pred)\n",
    "# print(label)"
   ]
  },
  {
   "cell_type": "code",
   "execution_count": 12,
   "id": "f6d8a265",
   "metadata": {
    "ExecuteTime": {
     "end_time": "2022-04-03T05:17:24.409430Z",
     "start_time": "2022-04-03T05:17:24.395363Z"
    }
   },
   "outputs": [],
   "source": [
    "# label[0][0]"
   ]
  },
  {
   "cell_type": "code",
   "execution_count": 13,
   "id": "ef8aebe5",
   "metadata": {
    "ExecuteTime": {
     "end_time": "2022-04-03T05:17:24.425428Z",
     "start_time": "2022-04-03T05:17:24.410421Z"
    }
   },
   "outputs": [],
   "source": [
    "# import tensorflow as tf\n",
    "# import numpy as np\n",
    "# import matplotlib.pyplot as plt\n",
    "# from tensorflow.keras.layers import Dense,Flatten\n",
    "# from tensorflow.keras import Sequential\n",
    "# from tensorflow.keras.utils import to_categorical\n",
    "# from tensorflow.keras.preprocessing import image\n",
    "# plt.style.use('ggplot')\n",
    "# model = Sequential()\n",
    "# model.add( modelvgg16) # model_vgg_conv는 특징추출기만을 가져온거다. ( con, relu, pool )\n",
    "\n",
    "# model.add( Flatten())\n",
    "# model.add( Dense( units=128, activation='relu'))\n",
    "# model.add(Dense(units = 64, activation='relu'))\n",
    "# model.add(Dense(units = 32, activation='relu'))\n",
    "# model.add( Dense( units=2, activation='softmax'))\n",
    "\n",
    "# # model.compile( loss=\"categorical_crossentropy\", optimizer='adam', metrics=['acc'])\n",
    "# model.compile( loss=\"categorical_crossentropy\",\n",
    "#               optimizer='adam'(learning_rate=1e-4),\n",
    "#               metrics=['acc'])\n",
    "\n",
    "# model.fit( x_train, y_train, epochs=100, validation_data=(x_valid, y_valid))"
   ]
  },
  {
   "cell_type": "code",
   "execution_count": null,
   "id": "c3c1e1ef",
   "metadata": {},
   "outputs": [],
   "source": []
  }
 ],
 "metadata": {
  "kernelspec": {
   "display_name": "Python 3 (ipykernel)",
   "language": "python",
   "name": "python3"
  },
  "language_info": {
   "codemirror_mode": {
    "name": "ipython",
    "version": 3
   },
   "file_extension": ".py",
   "mimetype": "text/x-python",
   "name": "python",
   "nbconvert_exporter": "python",
   "pygments_lexer": "ipython3",
   "version": "3.8.8"
  },
  "toc": {
   "base_numbering": 1,
   "nav_menu": {},
   "number_sections": true,
   "sideBar": true,
   "skip_h1_title": false,
   "title_cell": "Table of Contents",
   "title_sidebar": "Contents",
   "toc_cell": false,
   "toc_position": {},
   "toc_section_display": true,
   "toc_window_display": false
  }
 },
 "nbformat": 4,
 "nbformat_minor": 5
}
