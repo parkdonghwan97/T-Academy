{
 "cells": [
  {
   "cell_type": "markdown",
   "id": "03844296",
   "metadata": {},
   "source": [
    "# Mnist\n",
    "```\n",
    "MNIST 데이터베이스 (Modified National Institute of Standards and Technology database)는 손으로 쓴 숫자들로 이루어진 대형 데이터베이스이며, 다양한 화상 처리 시스템을 트레이닝하기 위해 일반적으로 사용된다\n",
    "```"
   ]
  },
  {
   "cell_type": "code",
   "execution_count": 25,
   "id": "5aa1dd15",
   "metadata": {
    "ExecuteTime": {
     "end_time": "2022-04-03T04:58:37.014936Z",
     "start_time": "2022-04-03T04:58:36.999929Z"
    }
   },
   "outputs": [],
   "source": [
    "import tensorflow as tf\n",
    "import numpy as np\n",
    "import matplotlib.pyplot as plt\n",
    "from tensorflow.keras.layers import Dense\n",
    "from tensorflow.keras import Sequential\n",
    "import tensorflow as tf\n",
    "import numpy as np\n",
    "import matplotlib.pyplot as plt\n",
    "from tensorflow.keras.layers import Dense,Flatten\n",
    "from tensorflow.keras import Sequential\n",
    "from tensorflow.keras.optimizers import Adam\n",
    "from tensorflow.keras.datasets.mnist import load_data\n",
    "from tensorflow.keras.utils import to_categorical\n",
    "plt.style.use(\"ggplot\")"
   ]
  },
  {
   "cell_type": "code",
   "execution_count": 26,
   "id": "9ec3cdfa",
   "metadata": {
    "ExecuteTime": {
     "end_time": "2022-04-03T04:58:37.220946Z",
     "start_time": "2022-04-03T04:58:37.015929Z"
    }
   },
   "outputs": [],
   "source": [
    "mnistData = load_data()"
   ]
  },
  {
   "cell_type": "code",
   "execution_count": 27,
   "id": "095e3346",
   "metadata": {
    "ExecuteTime": {
     "end_time": "2022-04-03T04:58:37.236939Z",
     "start_time": "2022-04-03T04:58:37.221992Z"
    }
   },
   "outputs": [
    {
     "data": {
      "text/plain": [
       "((array([[[0, 0, 0, ..., 0, 0, 0],\n",
       "          [0, 0, 0, ..., 0, 0, 0],\n",
       "          [0, 0, 0, ..., 0, 0, 0],\n",
       "          ...,\n",
       "          [0, 0, 0, ..., 0, 0, 0],\n",
       "          [0, 0, 0, ..., 0, 0, 0],\n",
       "          [0, 0, 0, ..., 0, 0, 0]],\n",
       "  \n",
       "         [[0, 0, 0, ..., 0, 0, 0],\n",
       "          [0, 0, 0, ..., 0, 0, 0],\n",
       "          [0, 0, 0, ..., 0, 0, 0],\n",
       "          ...,\n",
       "          [0, 0, 0, ..., 0, 0, 0],\n",
       "          [0, 0, 0, ..., 0, 0, 0],\n",
       "          [0, 0, 0, ..., 0, 0, 0]],\n",
       "  \n",
       "         [[0, 0, 0, ..., 0, 0, 0],\n",
       "          [0, 0, 0, ..., 0, 0, 0],\n",
       "          [0, 0, 0, ..., 0, 0, 0],\n",
       "          ...,\n",
       "          [0, 0, 0, ..., 0, 0, 0],\n",
       "          [0, 0, 0, ..., 0, 0, 0],\n",
       "          [0, 0, 0, ..., 0, 0, 0]],\n",
       "  \n",
       "         ...,\n",
       "  \n",
       "         [[0, 0, 0, ..., 0, 0, 0],\n",
       "          [0, 0, 0, ..., 0, 0, 0],\n",
       "          [0, 0, 0, ..., 0, 0, 0],\n",
       "          ...,\n",
       "          [0, 0, 0, ..., 0, 0, 0],\n",
       "          [0, 0, 0, ..., 0, 0, 0],\n",
       "          [0, 0, 0, ..., 0, 0, 0]],\n",
       "  \n",
       "         [[0, 0, 0, ..., 0, 0, 0],\n",
       "          [0, 0, 0, ..., 0, 0, 0],\n",
       "          [0, 0, 0, ..., 0, 0, 0],\n",
       "          ...,\n",
       "          [0, 0, 0, ..., 0, 0, 0],\n",
       "          [0, 0, 0, ..., 0, 0, 0],\n",
       "          [0, 0, 0, ..., 0, 0, 0]],\n",
       "  \n",
       "         [[0, 0, 0, ..., 0, 0, 0],\n",
       "          [0, 0, 0, ..., 0, 0, 0],\n",
       "          [0, 0, 0, ..., 0, 0, 0],\n",
       "          ...,\n",
       "          [0, 0, 0, ..., 0, 0, 0],\n",
       "          [0, 0, 0, ..., 0, 0, 0],\n",
       "          [0, 0, 0, ..., 0, 0, 0]]], dtype=uint8),\n",
       "  array([5, 0, 4, ..., 5, 6, 8], dtype=uint8)),\n",
       " (array([[[0, 0, 0, ..., 0, 0, 0],\n",
       "          [0, 0, 0, ..., 0, 0, 0],\n",
       "          [0, 0, 0, ..., 0, 0, 0],\n",
       "          ...,\n",
       "          [0, 0, 0, ..., 0, 0, 0],\n",
       "          [0, 0, 0, ..., 0, 0, 0],\n",
       "          [0, 0, 0, ..., 0, 0, 0]],\n",
       "  \n",
       "         [[0, 0, 0, ..., 0, 0, 0],\n",
       "          [0, 0, 0, ..., 0, 0, 0],\n",
       "          [0, 0, 0, ..., 0, 0, 0],\n",
       "          ...,\n",
       "          [0, 0, 0, ..., 0, 0, 0],\n",
       "          [0, 0, 0, ..., 0, 0, 0],\n",
       "          [0, 0, 0, ..., 0, 0, 0]],\n",
       "  \n",
       "         [[0, 0, 0, ..., 0, 0, 0],\n",
       "          [0, 0, 0, ..., 0, 0, 0],\n",
       "          [0, 0, 0, ..., 0, 0, 0],\n",
       "          ...,\n",
       "          [0, 0, 0, ..., 0, 0, 0],\n",
       "          [0, 0, 0, ..., 0, 0, 0],\n",
       "          [0, 0, 0, ..., 0, 0, 0]],\n",
       "  \n",
       "         ...,\n",
       "  \n",
       "         [[0, 0, 0, ..., 0, 0, 0],\n",
       "          [0, 0, 0, ..., 0, 0, 0],\n",
       "          [0, 0, 0, ..., 0, 0, 0],\n",
       "          ...,\n",
       "          [0, 0, 0, ..., 0, 0, 0],\n",
       "          [0, 0, 0, ..., 0, 0, 0],\n",
       "          [0, 0, 0, ..., 0, 0, 0]],\n",
       "  \n",
       "         [[0, 0, 0, ..., 0, 0, 0],\n",
       "          [0, 0, 0, ..., 0, 0, 0],\n",
       "          [0, 0, 0, ..., 0, 0, 0],\n",
       "          ...,\n",
       "          [0, 0, 0, ..., 0, 0, 0],\n",
       "          [0, 0, 0, ..., 0, 0, 0],\n",
       "          [0, 0, 0, ..., 0, 0, 0]],\n",
       "  \n",
       "         [[0, 0, 0, ..., 0, 0, 0],\n",
       "          [0, 0, 0, ..., 0, 0, 0],\n",
       "          [0, 0, 0, ..., 0, 0, 0],\n",
       "          ...,\n",
       "          [0, 0, 0, ..., 0, 0, 0],\n",
       "          [0, 0, 0, ..., 0, 0, 0],\n",
       "          [0, 0, 0, ..., 0, 0, 0]]], dtype=uint8),\n",
       "  array([7, 2, 1, ..., 4, 5, 6], dtype=uint8)))"
      ]
     },
     "execution_count": 27,
     "metadata": {},
     "output_type": "execute_result"
    }
   ],
   "source": [
    "mnistData"
   ]
  },
  {
   "cell_type": "code",
   "execution_count": 28,
   "id": "b69d31b6",
   "metadata": {
    "ExecuteTime": {
     "end_time": "2022-04-03T04:58:37.251928Z",
     "start_time": "2022-04-03T04:58:37.237941Z"
    }
   },
   "outputs": [],
   "source": [
    "(x_train,y_train),(x_test,y_test) = mnistData"
   ]
  },
  {
   "cell_type": "code",
   "execution_count": 29,
   "id": "8ef0e7c3",
   "metadata": {
    "ExecuteTime": {
     "end_time": "2022-04-03T04:58:37.267927Z",
     "start_time": "2022-04-03T04:58:37.253928Z"
    }
   },
   "outputs": [
    {
     "data": {
      "text/plain": [
       "((60000, 28, 28), (10000, 28, 28), (10000,), (10000,))"
      ]
     },
     "execution_count": 29,
     "metadata": {},
     "output_type": "execute_result"
    }
   ],
   "source": [
    "x_train.shape,x_test.shape,y_test.shape , y_test.shape"
   ]
  },
  {
   "cell_type": "code",
   "execution_count": 30,
   "id": "bcbcbc49",
   "metadata": {
    "ExecuteTime": {
     "end_time": "2022-04-03T04:58:37.362928Z",
     "start_time": "2022-04-03T04:58:37.268930Z"
    }
   },
   "outputs": [
    {
     "data": {
      "image/png": "[encoded data removed]",
      "text/plain": [
       "<Figure size 432x288 with 1 Axes>"
      ]
     },
     "metadata": {},
     "output_type": "display_data"
    }
   ],
   "source": [
    "plt.imshow(x_train[0])   # [면, 행, 열]\n",
    "plt.show()"
   ]
  },
  {
   "cell_type": "code",
   "execution_count": 31,
   "id": "83e48120",
   "metadata": {
    "ExecuteTime": {
     "end_time": "2022-04-03T04:58:37.378928Z",
     "start_time": "2022-04-03T04:58:37.363966Z"
    }
   },
   "outputs": [
    {
     "data": {
      "text/plain": [
       "5"
      ]
     },
     "execution_count": 31,
     "metadata": {},
     "output_type": "execute_result"
    }
   ],
   "source": [
    "y_train[0]"
   ]
  },
  {
   "cell_type": "code",
   "execution_count": 32,
   "id": "fb48dfcb",
   "metadata": {
    "ExecuteTime": {
     "end_time": "2022-04-03T04:58:37.394930Z",
     "start_time": "2022-04-03T04:58:37.380928Z"
    }
   },
   "outputs": [
    {
     "data": {
      "text/plain": [
       "array([5, 0, 4, ..., 5, 6, 8], dtype=uint8)"
      ]
     },
     "execution_count": 32,
     "metadata": {},
     "output_type": "execute_result"
    }
   ],
   "source": [
    "y_train  # y값을 인코딩해야함."
   ]
  },
  {
   "cell_type": "code",
   "execution_count": 33,
   "id": "bf482398",
   "metadata": {
    "ExecuteTime": {
     "end_time": "2022-04-03T04:58:37.410927Z",
     "start_time": "2022-04-03T04:58:37.395929Z"
    },
    "scrolled": true
   },
   "outputs": [
    {
     "data": {
      "text/plain": [
       "array([[0., 0., 0., ..., 0., 0., 0.],\n",
       "       [1., 0., 0., ..., 0., 0., 0.],\n",
       "       [0., 0., 0., ..., 0., 0., 0.],\n",
       "       ...,\n",
       "       [0., 0., 0., ..., 0., 0., 0.],\n",
       "       [0., 0., 0., ..., 0., 0., 0.],\n",
       "       [0., 0., 0., ..., 0., 1., 0.]], dtype=float32)"
      ]
     },
     "execution_count": 33,
     "metadata": {},
     "output_type": "execute_result"
    }
   ],
   "source": [
    "y_trainOne = to_categorical(y_train)\n",
    "y_trainOne"
   ]
  },
  {
   "cell_type": "code",
   "execution_count": 34,
   "id": "90ac22a0",
   "metadata": {
    "ExecuteTime": {
     "end_time": "2022-04-03T04:58:37.425928Z",
     "start_time": "2022-04-03T04:58:37.411929Z"
    },
    "scrolled": true
   },
   "outputs": [
    {
     "data": {
      "text/plain": [
       "(60000, 28, 28)"
      ]
     },
     "execution_count": 34,
     "metadata": {},
     "output_type": "execute_result"
    }
   ],
   "source": [
    "x_train.shape"
   ]
  },
  {
   "cell_type": "code",
   "execution_count": 35,
   "id": "b1e69b2a",
   "metadata": {
    "ExecuteTime": {
     "end_time": "2022-04-03T04:58:37.441959Z",
     "start_time": "2022-04-03T04:58:37.426930Z"
    }
   },
   "outputs": [
    {
     "data": {
      "text/plain": [
       "(60000, 784)"
      ]
     },
     "execution_count": 35,
     "metadata": {},
     "output_type": "execute_result"
    }
   ],
   "source": [
    "x_trainM = x_train.reshape(60000,-1, )  # 2차원으로 변경\n",
    "x_trainM.shape"
   ]
  },
  {
   "cell_type": "code",
   "execution_count": 36,
   "id": "31c77790",
   "metadata": {
    "ExecuteTime": {
     "end_time": "2022-04-03T04:59:18.867452Z",
     "start_time": "2022-04-03T04:58:37.445931Z"
    }
   },
   "outputs": [
    {
     "name": "stdout",
     "output_type": "stream",
     "text": [
      "Epoch 1/10\n",
      "1875/1875 [==============================] - 4s 2ms/step - loss: 1.6398 - acc: 0.8066\n",
      "Epoch 2/10\n",
      "1875/1875 [==============================] - 4s 2ms/step - loss: 0.3621 - acc: 0.9046\n",
      "Epoch 3/10\n",
      "1875/1875 [==============================] - 4s 2ms/step - loss: 0.2578 - acc: 0.9284\n",
      "Epoch 4/10\n",
      "1875/1875 [==============================] - 4s 2ms/step - loss: 0.2119 - acc: 0.9413\n",
      "Epoch 5/10\n",
      "1875/1875 [==============================] - 4s 2ms/step - loss: 0.1875 - acc: 0.9477\n",
      "Epoch 6/10\n",
      "1875/1875 [==============================] - 4s 2ms/step - loss: 0.1582 - acc: 0.9553\n",
      "Epoch 7/10\n",
      "1875/1875 [==============================] - 4s 2ms/step - loss: 0.1434 - acc: 0.9590\n",
      "Epoch 8/10\n",
      "1875/1875 [==============================] - 4s 2ms/step - loss: 0.1361 - acc: 0.9619\n",
      "Epoch 9/10\n",
      "1875/1875 [==============================] - 4s 2ms/step - loss: 0.1205 - acc: 0.9656\n",
      "Epoch 10/10\n",
      "1875/1875 [==============================] - 4s 2ms/step - loss: 0.1150 - acc: 0.9674\n"
     ]
    },
    {
     "data": {
      "text/plain": [
       "<keras.callbacks.History at 0x135958bea30>"
      ]
     },
     "execution_count": 36,
     "metadata": {},
     "output_type": "execute_result"
    }
   ],
   "source": [
    "model = Sequential()\n",
    "model.add(Dense(units=64, input_dim = 784, activation='relu' )  )\n",
    "model.add(Dense(units=32, input_dim = 64, activation='relu' )  )\n",
    "model.add(Dense(units=10, input_dim = 32, activation='softmax' )  )\n",
    "\n",
    "model.compile(loss = 'categorical_crossentropy',optimizer='adam',metrics=['acc'])\n",
    "model.fit(x_trainM, y_trainOne,epochs=10)"
   ]
  },
  {
   "cell_type": "code",
   "execution_count": 37,
   "id": "e428ba4d",
   "metadata": {
    "ExecuteTime": {
     "end_time": "2022-04-03T04:59:18.977453Z",
     "start_time": "2022-04-03T04:59:18.868454Z"
    }
   },
   "outputs": [
    {
     "data": {
      "text/plain": [
       "<matplotlib.image.AxesImage at 0x135958b8d60>"
      ]
     },
     "execution_count": 37,
     "metadata": {},
     "output_type": "execute_result"
    },
    {
     "data": {
      "image/png": "[encoded data removed]",
      "text/plain": [
       "<Figure size 432x288 with 1 Axes>"
      ]
     },
     "metadata": {},
     "output_type": "display_data"
    }
   ],
   "source": [
    "plt.imshow(x_test[0])"
   ]
  },
  {
   "cell_type": "code",
   "execution_count": 38,
   "id": "264356e7",
   "metadata": {
    "ExecuteTime": {
     "end_time": "2022-04-03T04:59:18.993454Z",
     "start_time": "2022-04-03T04:59:18.978482Z"
    },
    "scrolled": true
   },
   "outputs": [
    {
     "data": {
      "text/plain": [
       "(28, 28)"
      ]
     },
     "execution_count": 38,
     "metadata": {},
     "output_type": "execute_result"
    }
   ],
   "source": [
    "x_test[0].shape"
   ]
  },
  {
   "cell_type": "code",
   "execution_count": 39,
   "id": "87ca9a0c",
   "metadata": {
    "ExecuteTime": {
     "end_time": "2022-04-03T04:59:19.054460Z",
     "start_time": "2022-04-03T04:59:18.995453Z"
    }
   },
   "outputs": [
    {
     "data": {
      "text/plain": [
       "array([7], dtype=int64)"
      ]
     },
     "execution_count": 39,
     "metadata": {},
     "output_type": "execute_result"
    }
   ],
   "source": [
    "model.predict( x_test[0].reshape(1,-1)).argmax(axis=1) "
   ]
  },
  {
   "cell_type": "code",
   "execution_count": 40,
   "id": "81062ae9",
   "metadata": {
    "ExecuteTime": {
     "end_time": "2022-04-03T04:59:19.070457Z",
     "start_time": "2022-04-03T04:59:19.057452Z"
    },
    "scrolled": true
   },
   "outputs": [
    {
     "data": {
      "text/plain": [
       "((10000, 28, 28), (10000,))"
      ]
     },
     "execution_count": 40,
     "metadata": {},
     "output_type": "execute_result"
    }
   ],
   "source": [
    "x_test.shape, y_test.shape     #  x_test를 수정해야함"
   ]
  },
  {
   "cell_type": "code",
   "execution_count": 41,
   "id": "5476414b",
   "metadata": {
    "ExecuteTime": {
     "end_time": "2022-04-03T04:59:19.086453Z",
     "start_time": "2022-04-03T04:59:19.072453Z"
    }
   },
   "outputs": [
    {
     "data": {
      "text/plain": [
       "7"
      ]
     },
     "execution_count": 41,
     "metadata": {},
     "output_type": "execute_result"
    }
   ],
   "source": [
    "y_test[0]"
   ]
  },
  {
   "cell_type": "code",
   "execution_count": 42,
   "id": "9494ca29",
   "metadata": {
    "ExecuteTime": {
     "end_time": "2022-04-03T04:59:19.102452Z",
     "start_time": "2022-04-03T04:59:19.087456Z"
    },
    "scrolled": true
   },
   "outputs": [
    {
     "data": {
      "text/plain": [
       "array([[0, 0, 0, ..., 0, 0, 0],\n",
       "       [0, 0, 0, ..., 0, 0, 0],\n",
       "       [0, 0, 0, ..., 0, 0, 0],\n",
       "       ...,\n",
       "       [0, 0, 0, ..., 0, 0, 0],\n",
       "       [0, 0, 0, ..., 0, 0, 0],\n",
       "       [0, 0, 0, ..., 0, 0, 0]], dtype=uint8)"
      ]
     },
     "execution_count": 42,
     "metadata": {},
     "output_type": "execute_result"
    }
   ],
   "source": [
    "x_test.reshape(-1,28*28)"
   ]
  },
  {
   "cell_type": "code",
   "execution_count": 43,
   "id": "c5a1edf3",
   "metadata": {
    "ExecuteTime": {
     "end_time": "2022-04-03T04:59:19.118502Z",
     "start_time": "2022-04-03T04:59:19.103454Z"
    }
   },
   "outputs": [
    {
     "data": {
      "text/plain": [
       "array([355,  97, 406, ..., 711, 464,  75], dtype=int64)"
      ]
     },
     "execution_count": 43,
     "metadata": {},
     "output_type": "execute_result"
    }
   ],
   "source": [
    "x_test.reshape(-1,28*28).argmax(axis=1)"
   ]
  },
  {
   "cell_type": "code",
   "execution_count": 44,
   "id": "38c71bca",
   "metadata": {
    "ExecuteTime": {
     "end_time": "2022-04-03T04:59:19.134532Z",
     "start_time": "2022-04-03T04:59:19.119503Z"
    }
   },
   "outputs": [],
   "source": [
    "y_test = to_categorical(y_test)"
   ]
  },
  {
   "cell_type": "code",
   "execution_count": 45,
   "id": "b5965695",
   "metadata": {
    "ExecuteTime": {
     "end_time": "2022-04-03T04:59:19.790454Z",
     "start_time": "2022-04-03T04:59:19.136502Z"
    },
    "scrolled": false
   },
   "outputs": [
    {
     "name": "stdout",
     "output_type": "stream",
     "text": [
      "313/313 [==============================] - 1s 2ms/step - loss: 0.1555 - acc: 0.9619\n"
     ]
    },
    {
     "data": {
      "text/plain": [
       "[0.15553271770477295, 0.961899995803833]"
      ]
     },
     "execution_count": 45,
     "metadata": {},
     "output_type": "execute_result"
    }
   ],
   "source": [
    "model.evaluate(x_test.reshape(-1,28*28),y_test)"
   ]
  },
  {
   "cell_type": "code",
   "execution_count": 46,
   "id": "5ed4a81e",
   "metadata": {
    "ExecuteTime": {
     "end_time": "2022-04-03T04:59:20.012460Z",
     "start_time": "2022-04-03T04:59:19.791454Z"
    }
   },
   "outputs": [
    {
     "data": {
      "text/plain": [
       "(60000, 28, 28)"
      ]
     },
     "execution_count": 46,
     "metadata": {},
     "output_type": "execute_result"
    }
   ],
   "source": [
    "mnistData = load_data()\n",
    "\n",
    "(x_train,y_train),(x_test,y_test) = mnistData\n",
    "\n",
    "x_train.shape"
   ]
  },
  {
   "cell_type": "markdown",
   "id": "d0efab7d",
   "metadata": {},
   "source": [
    "\n",
    " # onehot인코딩 안하는 방법\n",
    " ## Flatten -> 1차원\n",
    " ## sparse_categorical_crossentropy"
   ]
  },
  {
   "cell_type": "code",
   "execution_count": 47,
   "id": "31049370",
   "metadata": {
    "ExecuteTime": {
     "end_time": "2022-04-03T05:00:00.683462Z",
     "start_time": "2022-04-03T04:59:20.014453Z"
    }
   },
   "outputs": [
    {
     "name": "stdout",
     "output_type": "stream",
     "text": [
      "Epoch 1/10\n",
      "1875/1875 [==============================] - 4s 2ms/step - loss: 1.8232 - acc: 0.5527\n",
      "Epoch 2/10\n",
      "1875/1875 [==============================] - 4s 2ms/step - loss: 0.6983 - acc: 0.7786\n",
      "Epoch 3/10\n",
      "1875/1875 [==============================] - 4s 2ms/step - loss: 0.3361 - acc: 0.9104\n",
      "Epoch 4/10\n",
      "1875/1875 [==============================] - 4s 2ms/step - loss: 0.2192 - acc: 0.9394\n",
      "Epoch 5/10\n",
      "1875/1875 [==============================] - 4s 2ms/step - loss: 0.1754 - acc: 0.9509\n",
      "Epoch 6/10\n",
      "1875/1875 [==============================] - 4s 2ms/step - loss: 0.1551 - acc: 0.9570\n",
      "Epoch 7/10\n",
      "1875/1875 [==============================] - 4s 2ms/step - loss: 0.1387 - acc: 0.9620\n",
      "Epoch 8/10\n",
      "1875/1875 [==============================] - 4s 2ms/step - loss: 0.1269 - acc: 0.9654\n",
      "Epoch 9/10\n",
      "1875/1875 [==============================] - 4s 2ms/step - loss: 0.1166 - acc: 0.9679\n",
      "Epoch 10/10\n",
      "1875/1875 [==============================] - 4s 2ms/step - loss: 0.1086 - acc: 0.9702\n"
     ]
    },
    {
     "data": {
      "text/plain": [
       "<keras.callbacks.History at 0x1359fcb5100>"
      ]
     },
     "execution_count": 47,
     "metadata": {},
     "output_type": "execute_result"
    }
   ],
   "source": [
    "model = Sequential()\n",
    "model.add(Flatten(input_shape = (28,28)))\n",
    "model.add(Dense(units=64,  activation='relu' )  )\n",
    "model.add(Dense(units=32,  activation='relu' )  )\n",
    "model.add(Dense(units=10,  activation='softmax' )  )\n",
    "\n",
    "model.compile(loss = 'sparse_categorical_crossentropy',optimizer='adam',metrics=['acc'])\n",
    "model.fit(x_train, y_train,epochs=10)"
   ]
  },
  {
   "cell_type": "code",
   "execution_count": 48,
   "id": "ed76b26b",
   "metadata": {
    "ExecuteTime": {
     "end_time": "2022-04-03T05:00:00.937453Z",
     "start_time": "2022-04-03T05:00:00.684454Z"
    }
   },
   "outputs": [
    {
     "data": {
      "text/plain": [
       "array([[7.99695325e-15, 3.71166279e-05, 1.45218901e-05, ...,\n",
       "        9.99932408e-01, 2.21290075e-09, 7.02894340e-07],\n",
       "       [3.47690908e-12, 9.57619886e-06, 9.99884367e-01, ...,\n",
       "        1.05896666e-04, 1.34228425e-12, 6.49979785e-16],\n",
       "       [8.68639750e-24, 9.99745071e-01, 1.33220732e-04, ...,\n",
       "        1.19880642e-04, 1.74314050e-06, 1.28922539e-09],\n",
       "       ...,\n",
       "       [2.22765613e-13, 1.47938792e-07, 1.71086215e-10, ...,\n",
       "        9.65961430e-04, 1.64680756e-07, 4.00251569e-03],\n",
       "       [1.78815324e-10, 1.02645356e-06, 6.28767600e-25, ...,\n",
       "        5.34168792e-14, 1.57235627e-05, 1.07649196e-08],\n",
       "       [2.61486275e-04, 1.34416141e-11, 1.64712677e-04, ...,\n",
       "        0.00000000e+00, 1.78495259e-06, 2.72282630e-11]], dtype=float32)"
      ]
     },
     "execution_count": 48,
     "metadata": {},
     "output_type": "execute_result"
    }
   ],
   "source": [
    "model.predict( x_test )"
   ]
  },
  {
   "cell_type": "code",
   "execution_count": 49,
   "id": "2658d900",
   "metadata": {
    "ExecuteTime": {
     "end_time": "2022-04-03T05:00:00.953475Z",
     "start_time": "2022-04-03T05:00:00.940454Z"
    }
   },
   "outputs": [
    {
     "data": {
      "text/plain": [
       "array([[[0, 0, 0, ..., 0, 0, 0],\n",
       "        [0, 0, 0, ..., 0, 0, 0],\n",
       "        [0, 0, 0, ..., 0, 0, 0],\n",
       "        ...,\n",
       "        [0, 0, 0, ..., 0, 0, 0],\n",
       "        [0, 0, 0, ..., 0, 0, 0],\n",
       "        [0, 0, 0, ..., 0, 0, 0]],\n",
       "\n",
       "       [[0, 0, 0, ..., 0, 0, 0],\n",
       "        [0, 0, 0, ..., 0, 0, 0],\n",
       "        [0, 0, 0, ..., 0, 0, 0],\n",
       "        ...,\n",
       "        [0, 0, 0, ..., 0, 0, 0],\n",
       "        [0, 0, 0, ..., 0, 0, 0],\n",
       "        [0, 0, 0, ..., 0, 0, 0]],\n",
       "\n",
       "       [[0, 0, 0, ..., 0, 0, 0],\n",
       "        [0, 0, 0, ..., 0, 0, 0],\n",
       "        [0, 0, 0, ..., 0, 0, 0],\n",
       "        ...,\n",
       "        [0, 0, 0, ..., 0, 0, 0],\n",
       "        [0, 0, 0, ..., 0, 0, 0],\n",
       "        [0, 0, 0, ..., 0, 0, 0]],\n",
       "\n",
       "       ...,\n",
       "\n",
       "       [[0, 0, 0, ..., 0, 0, 0],\n",
       "        [0, 0, 0, ..., 0, 0, 0],\n",
       "        [0, 0, 0, ..., 0, 0, 0],\n",
       "        ...,\n",
       "        [0, 0, 0, ..., 0, 0, 0],\n",
       "        [0, 0, 0, ..., 0, 0, 0],\n",
       "        [0, 0, 0, ..., 0, 0, 0]],\n",
       "\n",
       "       [[0, 0, 0, ..., 0, 0, 0],\n",
       "        [0, 0, 0, ..., 0, 0, 0],\n",
       "        [0, 0, 0, ..., 0, 0, 0],\n",
       "        ...,\n",
       "        [0, 0, 0, ..., 0, 0, 0],\n",
       "        [0, 0, 0, ..., 0, 0, 0],\n",
       "        [0, 0, 0, ..., 0, 0, 0]],\n",
       "\n",
       "       [[0, 0, 0, ..., 0, 0, 0],\n",
       "        [0, 0, 0, ..., 0, 0, 0],\n",
       "        [0, 0, 0, ..., 0, 0, 0],\n",
       "        ...,\n",
       "        [0, 0, 0, ..., 0, 0, 0],\n",
       "        [0, 0, 0, ..., 0, 0, 0],\n",
       "        [0, 0, 0, ..., 0, 0, 0]]], dtype=uint8)"
      ]
     },
     "execution_count": 49,
     "metadata": {},
     "output_type": "execute_result"
    }
   ],
   "source": [
    "x_test"
   ]
  },
  {
   "cell_type": "code",
   "execution_count": 50,
   "id": "b3bc1aca",
   "metadata": {
    "ExecuteTime": {
     "end_time": "2022-04-03T05:00:00.969265Z",
     "start_time": "2022-04-03T05:00:00.954462Z"
    }
   },
   "outputs": [
    {
     "data": {
      "text/plain": [
       "array([7, 2, 1, ..., 4, 5, 6], dtype=uint8)"
      ]
     },
     "execution_count": 50,
     "metadata": {},
     "output_type": "execute_result"
    }
   ],
   "source": [
    "y_test"
   ]
  },
  {
   "cell_type": "code",
   "execution_count": 51,
   "id": "e3ba0c0d",
   "metadata": {
    "ExecuteTime": {
     "end_time": "2022-04-03T05:00:00.985013Z",
     "start_time": "2022-04-03T05:00:00.969901Z"
    }
   },
   "outputs": [
    {
     "data": {
      "text/plain": [
       "array([[  0,   0,   0,   0,   0,   0,   0,   0,   0,   0,   0,   0,   0,\n",
       "          0,   0,   0,   0,   0,   0,   0,   0,   0,   0,   0,   0,   0,\n",
       "          0,   0],\n",
       "       [  0,   0,   0,   0,   0,   0,   0,   0,   0,   0,   0,   0,   0,\n",
       "          0,   0,   0,   0,   0,   0,   0,   0,   0,   0,   0,   0,   0,\n",
       "          0,   0],\n",
       "       [  0,   0,   0,   0,   0,   0,   0,   0,   0,   0,   0,   0,   0,\n",
       "          0,   0,   0,   0,   0,   0,   0,   0,   0,   0,   0,   0,   0,\n",
       "          0,   0],\n",
       "       [  0,   0,   0,   0,   0,   0,   0,   0,   0,   0,   0,   0,   0,\n",
       "          0,   0,   0,   0,   0,   0,   0,   0,   0,   0,   0,   0,   0,\n",
       "          0,   0],\n",
       "       [  0,   0,   0,   0,   0,   0,   0,   0,   0,   0,   0,   0,   0,\n",
       "          0,   0,   0,   0,   0,   0,   0,   0,   0,   0,   0,   0,   0,\n",
       "          0,   0],\n",
       "       [  0,   0,   0,   0,   0,   0,   0,   0,   0,   0,   0,   0,   0,\n",
       "          0,   0,   0,   0,   0,   0,   0,   0,   0,   0,   0,   0,   0,\n",
       "          0,   0],\n",
       "       [  0,   0,   0,   0,   0,   0,   0,   0,   0,   0,   0,   0,   0,\n",
       "          0,   0,   0,   0,   0,   0,   0,   0,   0,   0,   0,   0,   0,\n",
       "          0,   0],\n",
       "       [  0,   0,   0,   0,   0,   0,  84, 185, 159, 151,  60,  36,   0,\n",
       "          0,   0,   0,   0,   0,   0,   0,   0,   0,   0,   0,   0,   0,\n",
       "          0,   0],\n",
       "       [  0,   0,   0,   0,   0,   0, 222, 254, 254, 254, 254, 241, 198,\n",
       "        198, 198, 198, 198, 198, 198, 198, 170,  52,   0,   0,   0,   0,\n",
       "          0,   0],\n",
       "       [  0,   0,   0,   0,   0,   0,  67, 114,  72, 114, 163, 227, 254,\n",
       "        225, 254, 254, 254, 250, 229, 254, 254, 140,   0,   0,   0,   0,\n",
       "          0,   0],\n",
       "       [  0,   0,   0,   0,   0,   0,   0,   0,   0,   0,   0,  17,  66,\n",
       "         14,  67,  67,  67,  59,  21, 236, 254, 106,   0,   0,   0,   0,\n",
       "          0,   0],\n",
       "       [  0,   0,   0,   0,   0,   0,   0,   0,   0,   0,   0,   0,   0,\n",
       "          0,   0,   0,   0,   0,  83, 253, 209,  18,   0,   0,   0,   0,\n",
       "          0,   0],\n",
       "       [  0,   0,   0,   0,   0,   0,   0,   0,   0,   0,   0,   0,   0,\n",
       "          0,   0,   0,   0,  22, 233, 255,  83,   0,   0,   0,   0,   0,\n",
       "          0,   0],\n",
       "       [  0,   0,   0,   0,   0,   0,   0,   0,   0,   0,   0,   0,   0,\n",
       "          0,   0,   0,   0, 129, 254, 238,  44,   0,   0,   0,   0,   0,\n",
       "          0,   0],\n",
       "       [  0,   0,   0,   0,   0,   0,   0,   0,   0,   0,   0,   0,   0,\n",
       "          0,   0,   0,  59, 249, 254,  62,   0,   0,   0,   0,   0,   0,\n",
       "          0,   0],\n",
       "       [  0,   0,   0,   0,   0,   0,   0,   0,   0,   0,   0,   0,   0,\n",
       "          0,   0,   0, 133, 254, 187,   5,   0,   0,   0,   0,   0,   0,\n",
       "          0,   0],\n",
       "       [  0,   0,   0,   0,   0,   0,   0,   0,   0,   0,   0,   0,   0,\n",
       "          0,   0,   9, 205, 248,  58,   0,   0,   0,   0,   0,   0,   0,\n",
       "          0,   0],\n",
       "       [  0,   0,   0,   0,   0,   0,   0,   0,   0,   0,   0,   0,   0,\n",
       "          0,   0, 126, 254, 182,   0,   0,   0,   0,   0,   0,   0,   0,\n",
       "          0,   0],\n",
       "       [  0,   0,   0,   0,   0,   0,   0,   0,   0,   0,   0,   0,   0,\n",
       "          0,  75, 251, 240,  57,   0,   0,   0,   0,   0,   0,   0,   0,\n",
       "          0,   0],\n",
       "       [  0,   0,   0,   0,   0,   0,   0,   0,   0,   0,   0,   0,   0,\n",
       "         19, 221, 254, 166,   0,   0,   0,   0,   0,   0,   0,   0,   0,\n",
       "          0,   0],\n",
       "       [  0,   0,   0,   0,   0,   0,   0,   0,   0,   0,   0,   0,   3,\n",
       "        203, 254, 219,  35,   0,   0,   0,   0,   0,   0,   0,   0,   0,\n",
       "          0,   0],\n",
       "       [  0,   0,   0,   0,   0,   0,   0,   0,   0,   0,   0,   0,  38,\n",
       "        254, 254,  77,   0,   0,   0,   0,   0,   0,   0,   0,   0,   0,\n",
       "          0,   0],\n",
       "       [  0,   0,   0,   0,   0,   0,   0,   0,   0,   0,   0,  31, 224,\n",
       "        254, 115,   1,   0,   0,   0,   0,   0,   0,   0,   0,   0,   0,\n",
       "          0,   0],\n",
       "       [  0,   0,   0,   0,   0,   0,   0,   0,   0,   0,   0, 133, 254,\n",
       "        254,  52,   0,   0,   0,   0,   0,   0,   0,   0,   0,   0,   0,\n",
       "          0,   0],\n",
       "       [  0,   0,   0,   0,   0,   0,   0,   0,   0,   0,  61, 242, 254,\n",
       "        254,  52,   0,   0,   0,   0,   0,   0,   0,   0,   0,   0,   0,\n",
       "          0,   0],\n",
       "       [  0,   0,   0,   0,   0,   0,   0,   0,   0,   0, 121, 254, 254,\n",
       "        219,  40,   0,   0,   0,   0,   0,   0,   0,   0,   0,   0,   0,\n",
       "          0,   0],\n",
       "       [  0,   0,   0,   0,   0,   0,   0,   0,   0,   0, 121, 254, 207,\n",
       "         18,   0,   0,   0,   0,   0,   0,   0,   0,   0,   0,   0,   0,\n",
       "          0,   0],\n",
       "       [  0,   0,   0,   0,   0,   0,   0,   0,   0,   0,   0,   0,   0,\n",
       "          0,   0,   0,   0,   0,   0,   0,   0,   0,   0,   0,   0,   0,\n",
       "          0,   0]], dtype=uint8)"
      ]
     },
     "execution_count": 51,
     "metadata": {},
     "output_type": "execute_result"
    }
   ],
   "source": [
    "x_test[0]"
   ]
  },
  {
   "cell_type": "code",
   "execution_count": 52,
   "id": "127eaf94",
   "metadata": {
    "ExecuteTime": {
     "end_time": "2022-04-03T05:00:01.000377Z",
     "start_time": "2022-04-03T05:00:00.985901Z"
    }
   },
   "outputs": [
    {
     "data": {
      "text/plain": [
       "(28, 28)"
      ]
     },
     "execution_count": 52,
     "metadata": {},
     "output_type": "execute_result"
    }
   ],
   "source": [
    "x_test[0].shape"
   ]
  },
  {
   "cell_type": "code",
   "execution_count": 53,
   "id": "2acada60",
   "metadata": {
    "ExecuteTime": {
     "end_time": "2022-04-03T05:00:01.015760Z",
     "start_time": "2022-04-03T05:00:01.001317Z"
    }
   },
   "outputs": [
    {
     "data": {
      "text/plain": [
       "array([[ 0,  0,  0,  0,  0,  0,  8,  8,  8,  8,  8, 25,  9, 21,  9,  9,\n",
       "         9, 15, 13, 12,  9,  9,  0,  0,  0,  0,  0,  0]], dtype=int64)"
      ]
     },
     "execution_count": 53,
     "metadata": {},
     "output_type": "execute_result"
    }
   ],
   "source": [
    "x_test[0].reshape(1,28,28).argmax(axis=1)"
   ]
  },
  {
   "cell_type": "code",
   "execution_count": 54,
   "id": "67f9508d",
   "metadata": {
    "ExecuteTime": {
     "end_time": "2022-04-03T05:00:01.062483Z",
     "start_time": "2022-04-03T05:00:01.016762Z"
    }
   },
   "outputs": [
    {
     "data": {
      "text/plain": [
       "array([7], dtype=int64)"
      ]
     },
     "execution_count": 54,
     "metadata": {},
     "output_type": "execute_result"
    }
   ],
   "source": [
    "model.predict(x_test[0].reshape(1,28,28)).argmax(axis=1)"
   ]
  },
  {
   "cell_type": "code",
   "execution_count": 55,
   "id": "089fa645",
   "metadata": {
    "ExecuteTime": {
     "end_time": "2022-04-03T05:00:01.284514Z",
     "start_time": "2022-04-03T05:00:01.063428Z"
    }
   },
   "outputs": [
    {
     "data": {
      "text/plain": [
       "array([7, 2, 1, ..., 4, 5, 6], dtype=int64)"
      ]
     },
     "execution_count": 55,
     "metadata": {},
     "output_type": "execute_result"
    }
   ],
   "source": [
    "model.predict(x_test).argmax(axis=1) # => x 전체 예측값"
   ]
  },
  {
   "cell_type": "code",
   "execution_count": 56,
   "id": "97237a69",
   "metadata": {
    "ExecuteTime": {
     "end_time": "2022-04-03T05:00:01.923514Z",
     "start_time": "2022-04-03T05:00:01.285498Z"
    }
   },
   "outputs": [
    {
     "name": "stdout",
     "output_type": "stream",
     "text": [
      "313/313 [==============================] - 1s 2ms/step - loss: 0.1603 - acc: 0.9604\n"
     ]
    },
    {
     "data": {
      "text/plain": [
       "[0.16027680039405823, 0.9603999853134155]"
      ]
     },
     "execution_count": 56,
     "metadata": {},
     "output_type": "execute_result"
    }
   ],
   "source": [
    "model.evaluate(x_test,y_test) # 손실, 정확도"
   ]
  },
  {
   "cell_type": "markdown",
   "id": "eb3259d3",
   "metadata": {},
   "source": [
    "# 텐서\n"
   ]
  },
  {
   "cell_type": "code",
   "execution_count": 57,
   "id": "9263a185",
   "metadata": {
    "ExecuteTime": {
     "end_time": "2022-04-03T05:00:02.146514Z",
     "start_time": "2022-04-03T05:00:01.924499Z"
    }
   },
   "outputs": [
    {
     "data": {
      "text/plain": [
       "(60000, 28, 28)"
      ]
     },
     "execution_count": 57,
     "metadata": {},
     "output_type": "execute_result"
    }
   ],
   "source": [
    "mnistData = load_data()\n",
    "\n",
    "(x_train,y_train),(x_test,y_test) = mnistData\n",
    "\n",
    "x_train.shape"
   ]
  },
  {
   "cell_type": "code",
   "execution_count": 58,
   "id": "10a31417",
   "metadata": {
    "ExecuteTime": {
     "end_time": "2022-04-03T05:00:02.162498Z",
     "start_time": "2022-04-03T05:00:02.147499Z"
    }
   },
   "outputs": [
    {
     "data": {
      "text/plain": [
       "(60000, 784)"
      ]
     },
     "execution_count": 58,
     "metadata": {},
     "output_type": "execute_result"
    }
   ],
   "source": [
    "x_trainM = x_train.reshape(60000, -1 )  \n",
    "x_trainM.shape"
   ]
  },
  {
   "cell_type": "code",
   "execution_count": 59,
   "id": "7cbebe04",
   "metadata": {
    "ExecuteTime": {
     "end_time": "2022-04-03T05:00:02.178507Z",
     "start_time": "2022-04-03T05:00:02.163499Z"
    },
    "scrolled": true
   },
   "outputs": [
    {
     "data": {
      "text/plain": [
       "array([[0., 0., 0., ..., 0., 0., 0.],\n",
       "       [1., 0., 0., ..., 0., 0., 0.],\n",
       "       [0., 0., 0., ..., 0., 0., 0.],\n",
       "       ...,\n",
       "       [0., 0., 0., ..., 0., 0., 0.],\n",
       "       [0., 0., 0., ..., 0., 0., 0.],\n",
       "       [0., 0., 0., ..., 0., 1., 0.]], dtype=float32)"
      ]
     },
     "execution_count": 59,
     "metadata": {},
     "output_type": "execute_result"
    }
   ],
   "source": [
    "y_trainOne = to_categorical(y_train)\n",
    "y_trainOne"
   ]
  },
  {
   "cell_type": "code",
   "execution_count": 60,
   "id": "8f2b20d1",
   "metadata": {
    "ExecuteTime": {
     "end_time": "2022-04-03T05:00:02.194499Z",
     "start_time": "2022-04-03T05:00:02.179499Z"
    }
   },
   "outputs": [],
   "source": [
    "x_trainM = tf.cast(x_trainM, dtype=tf.float32)"
   ]
  },
  {
   "cell_type": "code",
   "execution_count": 61,
   "id": "be7d3cb5",
   "metadata": {
    "ExecuteTime": {
     "end_time": "2022-04-03T05:00:02.210507Z",
     "start_time": "2022-04-03T05:00:02.195498Z"
    }
   },
   "outputs": [
    {
     "data": {
      "text/plain": [
       "(60000,)"
      ]
     },
     "execution_count": 61,
     "metadata": {},
     "output_type": "execute_result"
    }
   ],
   "source": [
    "y_train.shape"
   ]
  },
  {
   "cell_type": "code",
   "execution_count": 62,
   "id": "41ec2534",
   "metadata": {
    "ExecuteTime": {
     "end_time": "2022-04-03T05:00:02.226498Z",
     "start_time": "2022-04-03T05:00:02.211498Z"
    }
   },
   "outputs": [
    {
     "data": {
      "text/plain": [
       "(TensorShape([60000, 784]), (60000, 10))"
      ]
     },
     "execution_count": 62,
     "metadata": {},
     "output_type": "execute_result"
    }
   ],
   "source": [
    "x_trainM.shape, y_trainOne.shape"
   ]
  },
  {
   "cell_type": "code",
   "execution_count": 63,
   "id": "bdea3dc1",
   "metadata": {
    "ExecuteTime": {
     "end_time": "2022-04-03T05:00:02.241499Z",
     "start_time": "2022-04-03T05:00:02.227497Z"
    }
   },
   "outputs": [],
   "source": [
    "# x = tf.constant(x_trainM, tf.float32)\n",
    "# y= tf.constant(y_trainOne, tf.float32)"
   ]
  },
  {
   "cell_type": "code",
   "execution_count": 64,
   "id": "46036f0c",
   "metadata": {
    "ExecuteTime": {
     "end_time": "2022-04-03T05:00:02.256647Z",
     "start_time": "2022-04-03T05:00:02.242499Z"
    }
   },
   "outputs": [],
   "source": [
    "initX = tf.initializers.GlorotUniform()\n",
    "w1 = tf.Variable(initX(shape=[784,64]))\n",
    "b1 = tf.Variable(initX(shape = [64]))\n",
    "w2 = tf.Variable( initX( shape=[64,32] ) )\n",
    "b2 = tf.Variable( initX( shape=[32] ) )\n",
    "w3 = tf.Variable( initX( shape=[32,10] ) ) #1은 남겨야 한다.\n",
    "b3 = tf.Variable( initX( shape=[10] ) ) "
   ]
  },
  {
   "cell_type": "code",
   "execution_count": 65,
   "id": "51ebea24",
   "metadata": {
    "ExecuteTime": {
     "end_time": "2022-04-03T05:00:02.272018Z",
     "start_time": "2022-04-03T05:00:02.257638Z"
    }
   },
   "outputs": [],
   "source": [
    "def compute_loss():\n",
    "    z1 = tf.matmul( x_trainM, w1) + b1\n",
    "    hx1 = tf.nn.relu( z1 ) \n",
    "    z2 = tf.matmul( hx1, w2 ) + b2\n",
    "    hx2 = tf.nn.relu( z2 )\n",
    "    z = tf.matmul( hx2, w3 ) + b3\n",
    "    \n",
    "    cost_i = tf.nn.softmax_cross_entropy_with_logits( logits=z, labels = y_trainOne)\n",
    "    cost = tf.reduce_mean( cost_i)\n",
    "    return cost"
   ]
  },
  {
   "cell_type": "markdown",
   "id": "28fa81d3",
   "metadata": {},
   "source": [
    "# 1000번이라 오래걸림"
   ]
  },
  {
   "cell_type": "code",
   "execution_count": 66,
   "id": "3b353040",
   "metadata": {
    "ExecuteTime": {
     "end_time": "2022-04-03T05:00:13.153994Z",
     "start_time": "2022-04-03T05:00:02.273011Z"
    }
   },
   "outputs": [
    {
     "name": "stdout",
     "output_type": "stream",
     "text": [
      "0 109.454414\n",
      "1 113.82115\n",
      "2 77.10857\n",
      "3 71.939224\n",
      "4 30.700792\n",
      "5 23.994463\n",
      "6 28.74915\n",
      "7 22.82573\n",
      "8 14.305456\n",
      "9 11.033146\n",
      "10 10.062037\n",
      "11 8.669084\n",
      "12 6.8359075\n",
      "13 5.2763863\n",
      "14 5.466232\n",
      "15 5.0612288\n",
      "16 3.6583922\n",
      "17 2.6683338\n",
      "18 2.3736427\n",
      "19 2.3114307\n",
      "20 2.2586224\n",
      "21 2.2043417\n",
      "22 2.1733117\n",
      "23 2.171021\n",
      "24 2.1797376\n",
      "25 2.1887708\n",
      "26 2.1927707\n",
      "27 2.1932938\n",
      "28 2.1956096\n",
      "29 2.201675\n",
      "30 2.2075598\n",
      "31 2.2108588\n",
      "32 2.211263\n",
      "33 2.2091217\n",
      "34 2.2048044\n",
      "35 2.198547\n",
      "36 2.1909714\n",
      "37 2.1827345\n",
      "38 2.1742563\n",
      "39 2.1658835\n",
      "40 2.1575782\n",
      "41 2.1493607\n",
      "42 2.1401951\n",
      "43 2.1294181\n",
      "44 2.1162295\n",
      "45 2.1006927\n",
      "46 2.0840914\n",
      "47 2.0681477\n",
      "48 2.053868\n",
      "49 2.0412073\n",
      "50 2.0290704\n",
      "51 2.0169141\n",
      "52 2.0046833\n",
      "53 1.9931414\n",
      "54 1.983037\n",
      "55 1.9745214\n",
      "56 1.9672155\n",
      "57 1.9608018\n",
      "58 1.9544669\n",
      "59 1.9481974\n",
      "60 1.9427509\n",
      "61 1.9381398\n",
      "62 1.9335558\n",
      "63 1.9286094\n",
      "64 1.923012\n",
      "65 1.9165657\n",
      "66 1.9096018\n",
      "67 1.9024824\n",
      "68 1.8949848\n",
      "69 1.8873069\n",
      "70 1.8790329\n",
      "71 1.8705671\n",
      "72 1.8620242\n",
      "73 1.8531909\n",
      "74 1.8440251\n",
      "75 1.8343242\n",
      "76 1.8240545\n",
      "77 1.81354\n",
      "78 1.8037468\n",
      "79 1.7937896\n",
      "80 1.7841681\n",
      "81 1.774365\n",
      "82 1.7650362\n",
      "83 1.7560679\n",
      "84 1.7473896\n",
      "85 1.7396102\n",
      "86 1.7322578\n",
      "87 1.7256827\n",
      "88 1.7197729\n",
      "89 1.7144864\n",
      "90 1.7093166\n",
      "91 1.7037381\n",
      "92 1.6982747\n",
      "93 1.6922393\n",
      "94 1.6858724\n",
      "95 1.6791649\n",
      "96 1.6723261\n",
      "97 1.6650507\n",
      "98 1.6581966\n",
      "99 1.6512792\n",
      "100 1.6441734\n",
      "101 1.6372367\n",
      "102 1.6308565\n",
      "103 1.6247385\n",
      "104 1.6186258\n",
      "105 1.6127039\n",
      "106 1.6066192\n",
      "107 1.6003393\n",
      "108 1.5940065\n",
      "109 1.5878657\n",
      "110 1.5818716\n",
      "111 1.5761898\n",
      "112 1.5705346\n",
      "113 1.5646206\n",
      "114 1.5588154\n",
      "115 1.5533115\n",
      "116 1.5481554\n",
      "117 1.5429122\n",
      "118 1.537778\n",
      "119 1.5328803\n",
      "120 1.5279615\n",
      "121 1.5230393\n",
      "122 1.5181828\n",
      "123 1.5134212\n",
      "124 1.5086604\n",
      "125 1.5039856\n",
      "126 1.4993855\n",
      "127 1.4947263\n",
      "128 1.4901323\n",
      "129 1.485742\n",
      "130 1.4815363\n",
      "131 1.4774249\n",
      "132 1.4733605\n",
      "133 1.469315\n",
      "134 1.4652573\n",
      "135 1.4613589\n",
      "136 1.4573253\n",
      "137 1.453297\n",
      "138 1.4492465\n",
      "139 1.4453367\n",
      "140 1.4415597\n",
      "141 1.4378568\n",
      "142 1.4342842\n",
      "143 1.4307361\n",
      "144 1.427332\n",
      "145 1.4239693\n",
      "146 1.4206122\n",
      "147 1.4174317\n",
      "148 1.4142023\n",
      "149 1.4109654\n",
      "150 1.4077699\n",
      "151 1.4045664\n",
      "152 1.4014485\n",
      "153 1.3983763\n",
      "154 1.3953089\n",
      "155 1.3922988\n",
      "156 1.3892801\n",
      "157 1.3863833\n",
      "158 1.3834912\n",
      "159 1.3806077\n",
      "160 1.3777146\n",
      "161 1.3749061\n",
      "162 1.3720995\n",
      "163 1.3693113\n",
      "164 1.366535\n",
      "165 1.3638346\n",
      "166 1.3611317\n",
      "167 1.3583035\n",
      "168 1.3554125\n",
      "169 1.3526798\n",
      "170 1.349846\n",
      "171 1.347239\n",
      "172 1.3446536\n",
      "173 1.3421592\n",
      "174 1.3396417\n",
      "175 1.3370099\n",
      "176 1.3343931\n",
      "177 1.3318568\n",
      "178 1.3294609\n",
      "179 1.3270565\n",
      "180 1.3245854\n",
      "181 1.3221161\n",
      "182 1.3196926\n",
      "183 1.3173513\n",
      "184 1.3151586\n",
      "185 1.3127761\n",
      "186 1.310322\n",
      "187 1.3079091\n",
      "188 1.3055242\n",
      "189 1.3030213\n",
      "190 1.3005654\n",
      "191 1.2982578\n",
      "192 1.2959068\n",
      "193 1.2935287\n",
      "194 1.2912979\n",
      "195 1.289155\n",
      "196 1.2869\n",
      "197 1.2846649\n",
      "198 1.2824368\n",
      "199 1.2802203\n",
      "200 1.2780412\n",
      "201 1.2758868\n",
      "202 1.2737792\n",
      "203 1.2716486\n",
      "204 1.2695981\n",
      "205 1.2675402\n",
      "206 1.2654644\n",
      "207 1.2632883\n",
      "208 1.2610773\n",
      "209 1.2588991\n",
      "210 1.2567348\n",
      "211 1.2545711\n",
      "212 1.2523093\n",
      "213 1.2501727\n",
      "214 1.2480425\n",
      "215 1.2460272\n",
      "216 1.2439024\n",
      "217 1.2418102\n",
      "218 1.2398076\n",
      "219 1.2378463\n",
      "220 1.2358955\n",
      "221 1.2339584\n",
      "222 1.2319914\n",
      "223 1.2300591\n",
      "224 1.228144\n",
      "225 1.2263047\n",
      "226 1.224437\n",
      "227 1.2224772\n",
      "228 1.220565\n",
      "229 1.2187032\n",
      "230 1.2169127\n",
      "231 1.2151036\n",
      "232 1.2132486\n",
      "233 1.2114651\n",
      "234 1.2096324\n",
      "235 1.2078456\n",
      "236 1.205983\n",
      "237 1.2041781\n",
      "238 1.2024727\n",
      "239 1.2007736\n",
      "240 1.1991018\n",
      "241 1.1974\n",
      "242 1.1957544\n",
      "243 1.1941522\n",
      "244 1.1925145\n",
      "245 1.1908077\n",
      "246 1.1891669\n",
      "247 1.1876246\n",
      "248 1.1860642\n",
      "249 1.184383\n",
      "250 1.1827273\n",
      "251 1.181133\n",
      "252 1.1795349\n",
      "253 1.1778659\n",
      "254 1.176239\n",
      "255 1.1745833\n",
      "256 1.1730094\n",
      "257 1.1714138\n",
      "258 1.169745\n",
      "259 1.1681182\n",
      "260 1.1665034\n",
      "261 1.1648705\n",
      "262 1.1632684\n",
      "263 1.161658\n",
      "264 1.1600982\n",
      "265 1.1585375\n",
      "266 1.1570106\n",
      "267 1.1554327\n",
      "268 1.1538035\n",
      "269 1.1522225\n",
      "270 1.1506925\n",
      "271 1.1491245\n",
      "272 1.1475431\n",
      "273 1.1459996\n",
      "274 1.1444762\n",
      "275 1.1429543\n",
      "276 1.1413945\n",
      "277 1.1399072\n",
      "278 1.1383592\n",
      "279 1.1368318\n",
      "280 1.1353096\n",
      "281 1.1338168\n",
      "282 1.1323453\n",
      "283 1.1308378\n",
      "284 1.1293716\n",
      "285 1.1278855\n",
      "286 1.1264434\n",
      "287 1.1250249\n",
      "288 1.1236168\n",
      "289 1.1222017\n",
      "290 1.120804\n",
      "291 1.1193976\n",
      "292 1.1180623\n",
      "293 1.1166781\n",
      "294 1.1153318\n",
      "295 1.113919\n",
      "296 1.1125395\n",
      "297 1.111139\n",
      "298 1.1098077\n",
      "299 1.1083847\n",
      "300 1.1070569\n",
      "301 1.1056694\n",
      "302 1.1043237\n",
      "303 1.1029502\n",
      "304 1.1016201\n",
      "305 1.1003207\n",
      "306 1.0989803\n",
      "307 1.0976529\n",
      "308 1.09635\n",
      "309 1.0950112\n",
      "310 1.0936944\n",
      "311 1.092357\n",
      "312 1.0910896\n",
      "313 1.0897796\n",
      "314 1.088512\n",
      "315 1.0872086\n",
      "316 1.0859233\n",
      "317 1.0846052\n",
      "318 1.0832822\n",
      "319 1.0819579\n",
      "320 1.0806605\n",
      "321 1.0793288\n",
      "322 1.077934\n",
      "323 1.0766081\n",
      "324 1.0752131\n",
      "325 1.0738506\n",
      "326 1.0724661\n",
      "327 1.0710407\n",
      "328 1.0696768\n",
      "329 1.0683122\n",
      "330 1.0669662\n",
      "331 1.0655473\n",
      "332 1.0641497\n",
      "333 1.0628113\n",
      "334 1.0614382\n",
      "335 1.0601324\n",
      "336 1.0588113\n",
      "337 1.0575744\n",
      "338 1.0563142\n",
      "339 1.0550295\n",
      "340 1.0537722\n",
      "341 1.0525184\n",
      "342 1.0512742\n",
      "343 1.0500638\n",
      "344 1.0488333\n",
      "345 1.0476031\n",
      "346 1.0463358\n",
      "347 1.0450621\n",
      "348 1.0438608\n",
      "349 1.0426685\n",
      "350 1.0414661\n",
      "351 1.0402703\n",
      "352 1.0389996\n",
      "353 1.0377153\n",
      "354 1.0364748\n",
      "355 1.0352193\n",
      "356 1.0340052\n",
      "357 1.0327896\n",
      "358 1.0315931\n",
      "359 1.0304466\n",
      "360 1.0292811\n",
      "361 1.0281689\n",
      "362 1.0270553\n",
      "363 1.0259254\n",
      "364 1.0247638\n",
      "365 1.0235734\n",
      "366 1.0223858\n",
      "367 1.0212535\n",
      "368 1.0200946\n",
      "369 1.0189846\n",
      "370 1.0178686\n",
      "371 1.0166963\n",
      "372 1.0155715\n",
      "373 1.0144458\n",
      "374 1.0132934\n",
      "375 1.012158\n",
      "376 1.0109615\n",
      "377 1.0097727\n",
      "378 1.0085995\n",
      "379 1.0074612\n",
      "380 1.0063072\n",
      "381 1.0051723\n",
      "382 1.0040536\n",
      "383 1.0029857\n",
      "384 1.0018604\n",
      "385 1.0007321\n",
      "386 0.9995733\n",
      "387 0.9984204\n",
      "388 0.99734044\n",
      "389 0.99621487\n",
      "390 0.9950302\n",
      "391 0.99390745\n",
      "392 0.9927339\n",
      "393 0.99160075\n",
      "394 0.9904393\n",
      "395 0.98928034\n",
      "396 0.9881001\n",
      "397 0.9868647\n",
      "398 0.9856291\n",
      "399 0.9843457\n",
      "400 0.983047\n",
      "401 0.98176455\n",
      "402 0.9804628\n",
      "403 0.979183\n",
      "404 0.9778792\n",
      "405 0.97661376\n",
      "406 0.9753098\n",
      "407 0.9739957\n",
      "408 0.972702\n",
      "409 0.9714079\n",
      "410 0.9701087\n",
      "411 0.96875185\n",
      "412 0.9674242\n",
      "413 0.96612734\n",
      "414 0.96474236\n",
      "415 0.9634037\n",
      "416 0.96209264\n",
      "417 0.96073943\n",
      "418 0.95944685\n",
      "419 0.95815176\n",
      "420 0.95685977\n",
      "421 0.95549273\n",
      "422 0.954138\n",
      "423 0.952806\n",
      "424 0.9514941\n",
      "425 0.95009255\n",
      "426 0.9486512\n",
      "427 0.94721144\n",
      "428 0.94572836\n",
      "429 0.9442677\n",
      "430 0.942848\n",
      "431 0.94146264\n",
      "432 0.94004416\n",
      "433 0.93865496\n",
      "434 0.9371978\n",
      "435 0.9357699\n",
      "436 0.93432504\n",
      "437 0.93289655\n",
      "438 0.93138176\n",
      "439 0.9299369\n",
      "440 0.9284849\n",
      "441 0.927028\n",
      "442 0.9255983\n",
      "443 0.9241084\n",
      "444 0.92263216\n",
      "445 0.9212332\n",
      "446 0.9197754\n",
      "447 0.9182982\n",
      "448 0.9168487\n",
      "449 0.915374\n",
      "450 0.9138298\n",
      "451 0.9123563\n",
      "452 0.9107215\n",
      "453 0.9090887\n",
      "454 0.90743953\n",
      "455 0.9057796\n",
      "456 0.9040311\n",
      "457 0.90219647\n",
      "458 0.9003785\n",
      "459 0.89852476\n",
      "460 0.8966538\n",
      "461 0.8947196\n",
      "462 0.89278424\n",
      "463 0.89080846\n",
      "464 0.8888682\n",
      "465 0.88694715\n",
      "466 0.8850298\n",
      "467 0.8829341\n",
      "468 0.8807475\n",
      "469 0.87841105\n",
      "470 0.87598825\n",
      "471 0.87351966\n",
      "472 0.87116575\n",
      "473 0.8688014\n",
      "474 0.8663584\n",
      "475 0.8639167\n",
      "476 0.8613944\n",
      "477 0.85877854\n",
      "478 0.85615486\n",
      "479 0.8533004\n",
      "480 0.8504462\n",
      "481 0.84759545\n",
      "482 0.8445772\n",
      "483 0.8417054\n",
      "484 0.8388117\n",
      "485 0.8361336\n",
      "486 0.83357966\n",
      "487 0.83093214\n",
      "488 0.82818276\n",
      "489 0.82567775\n",
      "490 0.82295823\n",
      "491 0.8203644\n",
      "492 0.8178012\n",
      "493 0.81514806\n",
      "494 0.81263596\n",
      "495 0.8100298\n",
      "496 0.8075544\n",
      "497 0.8051129\n",
      "498 0.80272055\n",
      "499 0.800281\n",
      "500 0.79791147\n",
      "501 0.7955768\n",
      "502 0.79321486\n",
      "503 0.79083997\n",
      "504 0.7884577\n",
      "505 0.78604656\n",
      "506 0.7836962\n",
      "507 0.78135586\n",
      "508 0.77894706\n",
      "509 0.77649087\n",
      "510 0.77413756\n",
      "511 0.7717896\n",
      "512 0.76949793\n",
      "513 0.76725715\n",
      "514 0.7649473\n",
      "515 0.7626582\n",
      "516 0.7604392\n",
      "517 0.7582344\n",
      "518 0.7560384\n",
      "519 0.75381655\n",
      "520 0.75171757\n",
      "521 0.7495503\n",
      "522 0.7474423\n",
      "523 0.74525887\n",
      "524 0.7430647\n",
      "525 0.74085665\n",
      "526 0.73855174\n",
      "527 0.7364051\n",
      "528 0.73416924\n",
      "529 0.7319225\n",
      "530 0.7296773\n",
      "531 0.72742504\n",
      "532 0.72531587\n",
      "533 0.723117\n",
      "534 0.7209186\n",
      "535 0.71878874\n",
      "536 0.71661735\n",
      "537 0.7143859\n",
      "538 0.712264\n",
      "539 0.71002096\n",
      "540 0.7077957\n",
      "541 0.70552397\n",
      "542 0.7033189\n",
      "543 0.7010172\n",
      "544 0.6987997\n",
      "545 0.6964789\n",
      "546 0.69418865\n",
      "547 0.6918683\n",
      "548 0.6895658\n",
      "549 0.6872771\n",
      "550 0.6850449\n",
      "551 0.6828209\n",
      "552 0.6806091\n",
      "553 0.67837036\n",
      "554 0.6761625\n",
      "555 0.67396826\n",
      "556 0.67176664\n",
      "557 0.6695469\n",
      "558 0.66727316\n",
      "559 0.6650513\n",
      "560 0.6628893\n",
      "561 0.6606919\n",
      "562 0.6584791\n",
      "563 0.65628344\n",
      "564 0.6541212\n",
      "565 0.65199715\n",
      "566 0.6499074\n",
      "567 0.64785624\n",
      "568 0.64577043\n",
      "569 0.64357185\n",
      "570 0.6414402\n",
      "571 0.6393364\n",
      "572 0.63725305\n",
      "573 0.6352363\n",
      "574 0.6332565\n",
      "575 0.6312797\n",
      "576 0.62939477\n",
      "577 0.6276042\n",
      "578 0.6258154\n",
      "579 0.62405926\n",
      "580 0.622256\n",
      "581 0.6206198\n",
      "582 0.61886847\n",
      "583 0.61723536\n",
      "584 0.61559\n",
      "585 0.61393124\n",
      "586 0.6122198\n",
      "587 0.6105149\n",
      "588 0.6088108\n",
      "589 0.6071123\n",
      "590 0.60551995\n",
      "591 0.6038678\n",
      "592 0.6023144\n",
      "593 0.60069555\n",
      "594 0.5991896\n",
      "595 0.5976033\n",
      "596 0.5960693\n",
      "597 0.5945107\n",
      "598 0.5930836\n",
      "599 0.5915833\n",
      "600 0.59011054\n",
      "601 0.5887036\n",
      "602 0.5872144\n",
      "603 0.58582604\n"
     ]
    },
    {
     "name": "stdout",
     "output_type": "stream",
     "text": [
      "604 0.5844879\n",
      "605 0.5831918\n",
      "606 0.5818238\n",
      "607 0.58053124\n",
      "608 0.57927483\n",
      "609 0.57789975\n",
      "610 0.5766706\n",
      "611 0.5754246\n",
      "612 0.5742889\n",
      "613 0.57297117\n",
      "614 0.57178164\n",
      "615 0.57059205\n",
      "616 0.56931263\n",
      "617 0.5681227\n",
      "618 0.56692547\n",
      "619 0.5656393\n",
      "620 0.56452394\n",
      "621 0.56322175\n",
      "622 0.56209576\n",
      "623 0.5608263\n",
      "624 0.55963475\n",
      "625 0.5584899\n",
      "626 0.55723506\n",
      "627 0.5560654\n",
      "628 0.55481464\n",
      "629 0.5536969\n",
      "630 0.55245185\n",
      "631 0.55136245\n",
      "632 0.5502094\n",
      "633 0.5491047\n",
      "634 0.5478948\n",
      "635 0.5467795\n",
      "636 0.5455673\n",
      "637 0.5444651\n",
      "638 0.5433297\n",
      "639 0.5422555\n",
      "640 0.5411536\n",
      "641 0.5400392\n",
      "642 0.53897107\n",
      "643 0.53787404\n",
      "644 0.5368269\n",
      "645 0.5357372\n",
      "646 0.5347407\n",
      "647 0.5336424\n",
      "648 0.53260744\n",
      "649 0.53155154\n",
      "650 0.53056496\n",
      "651 0.52955323\n",
      "652 0.5285344\n",
      "653 0.5274815\n",
      "654 0.5264024\n",
      "655 0.5254377\n",
      "656 0.5243319\n",
      "657 0.5233084\n",
      "658 0.5223485\n",
      "659 0.5213132\n",
      "660 0.5203584\n",
      "661 0.5193767\n",
      "662 0.5184347\n",
      "663 0.51750964\n",
      "664 0.5165077\n",
      "665 0.5156166\n",
      "666 0.5147119\n",
      "667 0.5138196\n",
      "668 0.512894\n",
      "669 0.5120605\n",
      "670 0.5111555\n",
      "671 0.5102018\n",
      "672 0.50949216\n",
      "673 0.5085836\n",
      "674 0.5075813\n",
      "675 0.50675577\n",
      "676 0.50593156\n",
      "677 0.50505716\n",
      "678 0.50426805\n",
      "679 0.50343364\n",
      "680 0.5025392\n",
      "681 0.5017934\n",
      "682 0.5009175\n",
      "683 0.5000474\n",
      "684 0.4992662\n",
      "685 0.4984547\n",
      "686 0.49773386\n",
      "687 0.49689332\n",
      "688 0.4961103\n",
      "689 0.49522465\n",
      "690 0.4944077\n",
      "691 0.4936365\n",
      "692 0.49290052\n",
      "693 0.49210316\n",
      "694 0.49131867\n",
      "695 0.49055347\n",
      "696 0.48988608\n",
      "697 0.48916078\n",
      "698 0.4884345\n",
      "699 0.48775437\n",
      "700 0.48690736\n",
      "701 0.4863111\n",
      "702 0.4855484\n",
      "703 0.48483974\n",
      "704 0.48404664\n",
      "705 0.4832852\n",
      "706 0.48259544\n",
      "707 0.48187172\n",
      "708 0.48118043\n",
      "709 0.48043582\n",
      "710 0.47968554\n",
      "711 0.4790747\n",
      "712 0.47835454\n",
      "713 0.47761723\n",
      "714 0.4769484\n",
      "715 0.47620976\n",
      "716 0.47553605\n",
      "717 0.47485188\n",
      "718 0.4741876\n",
      "719 0.47353417\n",
      "720 0.47278032\n",
      "721 0.4719923\n",
      "722 0.47128958\n",
      "723 0.47064358\n",
      "724 0.4698716\n",
      "725 0.46908614\n",
      "726 0.46838728\n",
      "727 0.4676992\n",
      "728 0.46691817\n",
      "729 0.46615806\n",
      "730 0.4655112\n",
      "731 0.46491656\n",
      "732 0.46411\n",
      "733 0.4633433\n",
      "734 0.46263653\n",
      "735 0.4619768\n",
      "736 0.4612592\n",
      "737 0.4605761\n",
      "738 0.45985672\n",
      "739 0.45912606\n",
      "740 0.45840362\n",
      "741 0.45774737\n",
      "742 0.45711905\n",
      "743 0.45659792\n",
      "744 0.45591733\n",
      "745 0.45495206\n",
      "746 0.4541257\n",
      "747 0.45348573\n",
      "748 0.45314276\n",
      "749 0.45266291\n",
      "750 0.45147708\n",
      "751 0.45050624\n",
      "752 0.44998625\n",
      "753 0.44947392\n",
      "754 0.4484494\n",
      "755 0.44749433\n",
      "756 0.4468872\n",
      "757 0.4464807\n",
      "758 0.44581726\n",
      "759 0.44475156\n",
      "760 0.44374442\n",
      "761 0.44300103\n",
      "762 0.4423267\n",
      "763 0.44168204\n",
      "764 0.44094187\n",
      "765 0.44005924\n",
      "766 0.43937454\n",
      "767 0.43832788\n",
      "768 0.43764082\n",
      "769 0.43674752\n",
      "770 0.43583807\n",
      "771 0.4351894\n",
      "772 0.43425083\n",
      "773 0.43401155\n",
      "774 0.4337692\n",
      "775 0.4330574\n",
      "776 0.43136603\n",
      "777 0.430005\n",
      "778 0.42923322\n",
      "779 0.4291385\n",
      "780 0.4287518\n",
      "781 0.42726344\n",
      "782 0.4258081\n",
      "783 0.425025\n",
      "784 0.42485267\n",
      "785 0.42465875\n",
      "786 0.42302194\n",
      "787 0.4215236\n",
      "788 0.4205882\n",
      "789 0.4211819\n",
      "790 0.42104217\n",
      "791 0.4200951\n",
      "792 0.41748548\n",
      "793 0.41584447\n",
      "794 0.41603762\n",
      "795 0.4162425\n",
      "796 0.41533267\n",
      "797 0.4125556\n",
      "798 0.4107928\n",
      "799 0.41046792\n",
      "800 0.4099894\n",
      "801 0.4087591\n",
      "802 0.4069403\n",
      "803 0.4059121\n",
      "804 0.40589607\n",
      "805 0.40506446\n",
      "806 0.40380463\n",
      "807 0.40197623\n",
      "808 0.40055788\n",
      "809 0.3999933\n",
      "810 0.4004436\n",
      "811 0.40198228\n",
      "812 0.40136924\n",
      "813 0.4004761\n",
      "814 0.39587605\n",
      "815 0.39318013\n",
      "816 0.39329764\n",
      "817 0.39399314\n",
      "818 0.39587358\n",
      "819 0.3930802\n",
      "820 0.39096558\n",
      "821 0.38713217\n",
      "822 0.38619533\n",
      "823 0.38728052\n",
      "824 0.38694906\n",
      "825 0.38613307\n",
      "826 0.38325083\n",
      "827 0.38093844\n",
      "828 0.37934023\n",
      "829 0.37816003\n",
      "830 0.37729907\n",
      "831 0.3764688\n",
      "832 0.3755177\n",
      "833 0.37459376\n",
      "834 0.37374708\n",
      "835 0.37324363\n",
      "836 0.3734728\n",
      "837 0.37350875\n",
      "838 0.37511718\n",
      "839 0.37301534\n",
      "840 0.3721385\n",
      "841 0.36887997\n",
      "842 0.36641777\n",
      "843 0.36474425\n",
      "844 0.36323947\n",
      "845 0.36270833\n",
      "846 0.36322692\n",
      "847 0.36700967\n",
      "848 0.36710572\n",
      "849 0.37033218\n",
      "850 0.36430383\n",
      "851 0.36016726\n",
      "852 0.35630497\n",
      "853 0.3566176\n",
      "854 0.3603582\n",
      "855 0.3606209\n",
      "856 0.36227164\n",
      "857 0.3562248\n",
      "858 0.3520918\n",
      "859 0.35039452\n",
      "860 0.35120362\n",
      "861 0.35265625\n",
      "862 0.35101432\n",
      "863 0.34970984\n",
      "864 0.3475266\n",
      "865 0.34581998\n",
      "866 0.34473327\n",
      "867 0.34416574\n",
      "868 0.3442794\n",
      "869 0.34422025\n",
      "870 0.34420767\n",
      "871 0.343738\n",
      "872 0.34413022\n",
      "873 0.34377512\n",
      "874 0.34450102\n",
      "875 0.34237483\n",
      "876 0.34173223\n",
      "877 0.33949816\n",
      "878 0.33792305\n",
      "879 0.33596727\n",
      "880 0.3346099\n",
      "881 0.3340013\n",
      "882 0.33365366\n",
      "883 0.3333636\n",
      "884 0.33289868\n",
      "885 0.33273712\n",
      "886 0.33221653\n",
      "887 0.33136275\n",
      "888 0.33055395\n",
      "889 0.33025324\n",
      "890 0.3300319\n",
      "891 0.33194318\n",
      "892 0.3348053\n",
      "893 0.34321797\n",
      "894 0.3399966\n",
      "895 0.3408915\n",
      "896 0.32990807\n",
      "897 0.32484272\n",
      "898 0.3261627\n",
      "899 0.32986718\n",
      "900 0.33462635\n",
      "901 0.32917517\n",
      "902 0.3257317\n",
      "903 0.32119322\n",
      "904 0.32101765\n",
      "905 0.3231824\n",
      "906 0.32318035\n",
      "907 0.3220317\n",
      "908 0.31898412\n",
      "909 0.31715173\n",
      "910 0.31717646\n",
      "911 0.3189694\n",
      "912 0.32256776\n",
      "913 0.32259595\n",
      "914 0.3237722\n",
      "915 0.31922114\n",
      "916 0.3155961\n",
      "917 0.31272513\n",
      "918 0.3139604\n",
      "919 0.31890997\n",
      "920 0.3197688\n",
      "921 0.32257056\n",
      "922 0.31701458\n",
      "923 0.31180748\n",
      "924 0.30920973\n",
      "925 0.31235254\n",
      "926 0.3200586\n",
      "927 0.3183417\n",
      "928 0.31911796\n",
      "929 0.3099035\n",
      "930 0.30661827\n",
      "931 0.30924293\n",
      "932 0.3114336\n",
      "933 0.31289077\n",
      "934 0.30674177\n",
      "935 0.30339083\n",
      "936 0.30445528\n",
      "937 0.30727214\n",
      "938 0.31079167\n",
      "939 0.30662382\n",
      "940 0.30290416\n",
      "941 0.3005718\n",
      "942 0.30023822\n",
      "943 0.30090418\n",
      "944 0.30113086\n",
      "945 0.30120307\n",
      "946 0.29990765\n",
      "947 0.2994651\n",
      "948 0.29840207\n",
      "949 0.29757383\n",
      "950 0.2965697\n",
      "951 0.29536456\n",
      "952 0.2949084\n",
      "953 0.29530153\n",
      "954 0.29658952\n",
      "955 0.29767266\n",
      "956 0.30039272\n",
      "957 0.30138952\n",
      "958 0.3072806\n",
      "959 0.3021598\n",
      "960 0.2995028\n",
      "961 0.29296607\n",
      "962 0.29095027\n",
      "963 0.29312065\n",
      "964 0.29505572\n",
      "965 0.29723066\n",
      "966 0.29447618\n",
      "967 0.29230854\n",
      "968 0.2890853\n",
      "969 0.28770494\n",
      "970 0.28843477\n",
      "971 0.28864035\n",
      "972 0.2883223\n",
      "973 0.28717968\n",
      "974 0.28596827\n",
      "975 0.28517377\n",
      "976 0.2848594\n",
      "977 0.2850096\n",
      "978 0.28575298\n",
      "979 0.28775576\n",
      "980 0.2897087\n",
      "981 0.29664335\n",
      "982 0.2964701\n",
      "983 0.3016463\n",
      "984 0.28877077\n",
      "985 0.28204125\n",
      "986 0.2833241\n",
      "987 0.28814393\n",
      "988 0.29511622\n",
      "989 0.28860652\n",
      "990 0.28432056\n",
      "991 0.27999407\n",
      "992 0.27904686\n",
      "993 0.2810863\n",
      "994 0.2813992\n",
      "995 0.28050476\n",
      "996 0.27728692\n",
      "997 0.27603987\n",
      "998 0.2772329\n",
      "999 0.2788403\n"
     ]
    }
   ],
   "source": [
    "optimizer = Adam( learning_rate=0.01)\n",
    "for i in range(1000):\n",
    "    optimizer.minimize( compute_loss, var_list=[w1,w2,w3, b1,b2,b3])\n",
    "    print( i, compute_loss().numpy() )"
   ]
  },
  {
   "cell_type": "code",
   "execution_count": 67,
   "id": "874b1ef0",
   "metadata": {
    "ExecuteTime": {
     "end_time": "2022-04-03T05:00:13.169994Z",
     "start_time": "2022-04-03T05:00:13.154987Z"
    }
   },
   "outputs": [],
   "source": [
    "def hxfn(xdata):\n",
    "    xd = tf.constant(xdata, tf.float32)\n",
    "    z1 = tf.matmul(xd, w1)+b1\n",
    "    hx1 = tf.nn.relu( z1 ) \n",
    "    z2 = tf.matmul( hx1, w2 ) + b2\n",
    "    hx2 = tf.nn.relu( z2 )\n",
    "    z = tf.matmul( hx2, w3 ) + b3\n",
    "    hx = tf.nn.softmax(z)\n",
    "    return(hx.numpy()>0.5) +0"
   ]
  },
  {
   "cell_type": "code",
   "execution_count": 68,
   "id": "55913e74",
   "metadata": {
    "ExecuteTime": {
     "end_time": "2022-04-03T05:00:13.185987Z",
     "start_time": "2022-04-03T05:00:13.170987Z"
    }
   },
   "outputs": [],
   "source": [
    "pred = hxfn(x_trainM).argmax(axis = 1)"
   ]
  },
  {
   "cell_type": "code",
   "execution_count": 69,
   "id": "91273f9d",
   "metadata": {
    "ExecuteTime": {
     "end_time": "2022-04-03T05:00:13.201987Z",
     "start_time": "2022-04-03T05:00:13.186989Z"
    },
    "scrolled": true
   },
   "outputs": [
    {
     "data": {
      "text/plain": [
       "0.9126"
      ]
     },
     "execution_count": 69,
     "metadata": {},
     "output_type": "execute_result"
    }
   ],
   "source": [
    "(pred ==y_train).mean()"
   ]
  },
  {
   "cell_type": "markdown",
   "id": "918e6ca5",
   "metadata": {},
   "source": [
    "# ImageMake"
   ]
  },
  {
   "cell_type": "code",
   "execution_count": 71,
   "id": "53973495",
   "metadata": {
    "ExecuteTime": {
     "end_time": "2022-04-03T05:03:05.639440Z",
     "start_time": "2022-04-03T05:03:05.631442Z"
    }
   },
   "outputs": [],
   "source": [
    "import tensorflow as tf\n",
    "import numpy as np\n",
    "import matplotlib.pyplot as plt\n",
    "from tensorflow.keras.layers import Dense,Flatten\n",
    "from tensorflow.keras import Sequential\n",
    "from tensorflow.keras.utils import to_categorical\n",
    "from tensorflow.keras.preprocessing import image\n",
    "plt.style.use('ggplot')"
   ]
  },
  {
   "cell_type": "code",
   "execution_count": 72,
   "id": "befb8a7a",
   "metadata": {
    "ExecuteTime": {
     "end_time": "2022-04-03T05:03:05.969548Z",
     "start_time": "2022-04-03T05:03:05.904548Z"
    }
   },
   "outputs": [
    {
     "data": {
      "image/png": "[encoded data removed]",
      "text/plain": [
       "<PIL.JpegImagePlugin.JpegImageFile image mode=RGB size=500x374 at 0x135A9CC6E80>"
      ]
     },
     "execution_count": 72,
     "metadata": {},
     "output_type": "execute_result"
    }
   ],
   "source": [
    "# 고양이사진\n",
    "imgData = image.load_img('image/cat/cat1.jpg')\n",
    "imgData"
   ]
  },
  {
   "cell_type": "code",
   "execution_count": null,
   "id": "a632c415",
   "metadata": {},
   "outputs": [],
   "source": [
    "type(imgData)"
   ]
  },
  {
   "cell_type": "code",
   "execution_count": 73,
   "id": "a6f39376",
   "metadata": {
    "ExecuteTime": {
     "end_time": "2022-04-03T05:03:25.564650Z",
     "start_time": "2022-04-03T05:03:25.549632Z"
    }
   },
   "outputs": [],
   "source": [
    "# rgb값 255로 스케일\n",
    "dataGen = image.ImageDataGenerator(rescale=1./255)"
   ]
  },
  {
   "cell_type": "code",
   "execution_count": 75,
   "id": "f667cf8a",
   "metadata": {
    "ExecuteTime": {
     "end_time": "2022-04-03T05:05:14.981461Z",
     "start_time": "2022-04-03T05:05:14.962455Z"
    }
   },
   "outputs": [
    {
     "name": "stdout",
     "output_type": "stream",
     "text": [
      "Found 20 images belonging to 2 classes.\n"
     ]
    }
   ],
   "source": [
    "trainGen= dataGen.flow_from_directory('image',target_size=(98,98))"
   ]
  },
  {
   "cell_type": "code",
   "execution_count": 76,
   "id": "5b080954",
   "metadata": {
    "ExecuteTime": {
     "end_time": "2022-04-03T05:05:15.106908Z",
     "start_time": "2022-04-03T05:05:15.093646Z"
    }
   },
   "outputs": [
    {
     "data": {
      "text/plain": [
       "keras.preprocessing.image.DirectoryIterator"
      ]
     },
     "execution_count": 76,
     "metadata": {},
     "output_type": "execute_result"
    }
   ],
   "source": [
    "type(trainGen)"
   ]
  },
  {
   "cell_type": "code",
   "execution_count": 77,
   "id": "5ad61669",
   "metadata": {
    "ExecuteTime": {
     "end_time": "2022-04-03T05:05:15.310127Z",
     "start_time": "2022-04-03T05:05:15.195710Z"
    }
   },
   "outputs": [],
   "source": [
    "x_train,y_train = trainGen.next()"
   ]
  },
  {
   "cell_type": "code",
   "execution_count": 78,
   "id": "71431c0e",
   "metadata": {
    "ExecuteTime": {
     "end_time": "2022-04-03T05:05:15.341632Z",
     "start_time": "2022-04-03T05:05:15.324626Z"
    }
   },
   "outputs": [
    {
     "data": {
      "text/plain": [
       "((20, 98, 98, 3), (20, 2))"
      ]
     },
     "execution_count": 78,
     "metadata": {},
     "output_type": "execute_result"
    }
   ],
   "source": [
    "x_train.shape , y_train.shape"
   ]
  },
  {
   "cell_type": "code",
   "execution_count": 79,
   "id": "6e45a26c",
   "metadata": {
    "ExecuteTime": {
     "end_time": "2022-04-03T05:05:15.483631Z",
     "start_time": "2022-04-03T05:05:15.462632Z"
    }
   },
   "outputs": [
    {
     "data": {
      "text/plain": [
       "array([[[[0.3019608 , 0.27450982, 0.20392159],\n",
       "         [0.30980393, 0.28235295, 0.21176472],\n",
       "         [0.3137255 , 0.28627452, 0.21568629],\n",
       "         ...,\n",
       "         [0.18431373, 0.16078432, 0.16078432],\n",
       "         [0.18431373, 0.16078432, 0.16078432],\n",
       "         [0.16862746, 0.14509805, 0.14509805]],\n",
       "\n",
       "        [[0.2901961 , 0.2627451 , 0.19215688],\n",
       "         [0.29411766, 0.26666668, 0.19607845],\n",
       "         [0.29411766, 0.26666668, 0.19607845],\n",
       "         ...,\n",
       "         [0.25882354, 0.23529413, 0.23529413],\n",
       "         [0.25490198, 0.23137257, 0.23137257],\n",
       "         [0.20392159, 0.18039216, 0.18039216]],\n",
       "\n",
       "        [[0.28235295, 0.25490198, 0.18431373],\n",
       "         [0.28235295, 0.25490198, 0.18431373],\n",
       "         [0.28235295, 0.25490198, 0.18431373],\n",
       "         ...,\n",
       "         [0.16078432, 0.13725491, 0.13725491],\n",
       "         [0.1764706 , 0.15294118, 0.15294118],\n",
       "         [0.19215688, 0.16862746, 0.16862746]],\n",
       "\n",
       "        ...,\n",
       "\n",
       "        [[0.5411765 , 0.46274513, 0.33333334],\n",
       "         [0.52156866, 0.43529415, 0.34117648],\n",
       "         [0.5137255 , 0.427451  , 0.34509805],\n",
       "         ...,\n",
       "         [0.80392164, 0.8235295 , 0.8980393 ],\n",
       "         [0.80392164, 0.8235295 , 0.8980393 ],\n",
       "         [0.80392164, 0.8235295 , 0.8980393 ]],\n",
       "\n",
       "        [[0.48235297, 0.4156863 , 0.30588236],\n",
       "         [0.5372549 , 0.4666667 , 0.3803922 ],\n",
       "         [0.5137255 , 0.43921572, 0.37254903],\n",
       "         ...,\n",
       "         [0.8078432 , 0.82745105, 0.9058824 ],\n",
       "         [0.79215693, 0.8117648 , 0.89019614],\n",
       "         [0.81568635, 0.8352942 , 0.91372555]],\n",
       "\n",
       "        [[0.49411768, 0.47058827, 0.38431376],\n",
       "         [0.5019608 , 0.47058827, 0.41960788],\n",
       "         [0.49411768, 0.45882356, 0.42352945],\n",
       "         ...,\n",
       "         [0.78823537, 0.8000001 , 0.9215687 ],\n",
       "         [0.8000001 , 0.8117648 , 0.9333334 ],\n",
       "         [0.7843138 , 0.7960785 , 0.9176471 ]]],\n",
       "\n",
       "\n",
       "       [[[1.        , 1.        , 1.        ],\n",
       "         [1.        , 1.        , 1.        ],\n",
       "         [1.        , 1.        , 1.        ],\n",
       "         ...,\n",
       "         [0.9960785 , 0.9960785 , 0.9960785 ],\n",
       "         [1.        , 1.        , 1.        ],\n",
       "         [1.        , 1.        , 1.        ]],\n",
       "\n",
       "        [[1.        , 1.        , 1.        ],\n",
       "         [1.        , 1.        , 1.        ],\n",
       "         [1.        , 1.        , 1.        ],\n",
       "         ...,\n",
       "         [0.9960785 , 0.9960785 , 0.9960785 ],\n",
       "         [1.        , 1.        , 1.        ],\n",
       "         [1.        , 1.        , 1.        ]],\n",
       "\n",
       "        [[1.        , 1.        , 1.        ],\n",
       "         [1.        , 1.        , 1.        ],\n",
       "         [1.        , 1.        , 1.        ],\n",
       "         ...,\n",
       "         [0.9960785 , 0.9960785 , 0.9960785 ],\n",
       "         [1.        , 1.        , 1.        ],\n",
       "         [1.        , 1.        , 1.        ]],\n",
       "\n",
       "        ...,\n",
       "\n",
       "        [[1.        , 1.        , 1.        ],\n",
       "         [1.        , 1.        , 1.        ],\n",
       "         [1.        , 1.        , 1.        ],\n",
       "         ...,\n",
       "         [1.        , 1.        , 1.        ],\n",
       "         [1.        , 1.        , 1.        ],\n",
       "         [1.        , 1.        , 1.        ]],\n",
       "\n",
       "        [[1.        , 1.        , 1.        ],\n",
       "         [1.        , 1.        , 1.        ],\n",
       "         [1.        , 1.        , 1.        ],\n",
       "         ...,\n",
       "         [1.        , 1.        , 1.        ],\n",
       "         [1.        , 1.        , 1.        ],\n",
       "         [1.        , 1.        , 1.        ]],\n",
       "\n",
       "        [[1.        , 1.        , 1.        ],\n",
       "         [1.        , 1.        , 1.        ],\n",
       "         [1.        , 1.        , 1.        ],\n",
       "         ...,\n",
       "         [1.        , 1.        , 1.        ],\n",
       "         [1.        , 1.        , 1.        ],\n",
       "         [1.        , 1.        , 1.        ]]],\n",
       "\n",
       "\n",
       "       [[[0.32156864, 0.36862746, 0.2901961 ],\n",
       "         [0.35686275, 0.3921569 , 0.31764707],\n",
       "         [0.33333334, 0.3647059 , 0.28235295],\n",
       "         ...,\n",
       "         [0.6039216 , 0.627451  , 0.6745098 ],\n",
       "         [0.8235295 , 0.8588236 , 0.8862746 ],\n",
       "         [0.41960788, 0.454902  , 0.47450984]],\n",
       "\n",
       "        [[0.4039216 , 0.41960788, 0.3529412 ],\n",
       "         [0.48235297, 0.49803925, 0.43137258],\n",
       "         [0.3803922 , 0.41176474, 0.32941177],\n",
       "         ...,\n",
       "         [0.58431375, 0.6117647 , 0.6509804 ],\n",
       "         [0.7411765 , 0.77647066, 0.7960785 ],\n",
       "         [0.24313727, 0.28235295, 0.2901961 ]],\n",
       "\n",
       "        [[0.43137258, 0.4431373 , 0.37647063],\n",
       "         [0.5019608 , 0.5137255 , 0.44705886],\n",
       "         [0.40784317, 0.43921572, 0.35686275],\n",
       "         ...,\n",
       "         [0.5372549 , 0.5647059 , 0.59607846],\n",
       "         [0.50980395, 0.5411765 , 0.5529412 ],\n",
       "         [0.43921572, 0.4784314 , 0.48235297]],\n",
       "\n",
       "        ...,\n",
       "\n",
       "        [[0.5529412 , 0.41960788, 0.3803922 ],\n",
       "         [0.43137258, 0.29803923, 0.25882354],\n",
       "         [0.47450984, 0.34117648, 0.30588236],\n",
       "         ...,\n",
       "         [0.38431376, 0.30980393, 0.31764707],\n",
       "         [0.31764707, 0.25490198, 0.25490198],\n",
       "         [0.3019608 , 0.2392157 , 0.2392157 ]],\n",
       "\n",
       "        [[0.50980395, 0.3803922 , 0.34509805],\n",
       "         [0.3921569 , 0.2627451 , 0.23529413],\n",
       "         [0.3921569 , 0.27450982, 0.24313727],\n",
       "         ...,\n",
       "         [0.37647063, 0.3137255 , 0.3254902 ],\n",
       "         [0.3372549 , 0.28235295, 0.28235295],\n",
       "         [0.32156864, 0.26666668, 0.26666668]],\n",
       "\n",
       "        [[0.5372549 , 0.43921572, 0.42352945],\n",
       "         [0.43529415, 0.3372549 , 0.32156864],\n",
       "         [0.27058825, 0.17254902, 0.15686275],\n",
       "         ...,\n",
       "         [0.4431373 , 0.3921569 , 0.41960788],\n",
       "         [0.427451  , 0.38431376, 0.40000004],\n",
       "         [0.37647063, 0.34117648, 0.34509805]]],\n",
       "\n",
       "\n",
       "       ...,\n",
       "\n",
       "\n",
       "       [[[0.04705883, 0.03529412, 0.00784314],\n",
       "         [0.03137255, 0.0509804 , 0.03529412],\n",
       "         [0.03137255, 0.08627451, 0.08627451],\n",
       "         ...,\n",
       "         [0.10196079, 0.15294118, 0.07450981],\n",
       "         [0.10588236, 0.14117648, 0.06666667],\n",
       "         [0.07058824, 0.12156864, 0.05490196]],\n",
       "\n",
       "        [[0.03529412, 0.02745098, 0.        ],\n",
       "         [0.06666667, 0.10980393, 0.08627451],\n",
       "         [0.20392159, 0.3137255 , 0.31764707],\n",
       "         ...,\n",
       "         [0.07450981, 0.10588236, 0.04705883],\n",
       "         [0.07058824, 0.09803922, 0.02745098],\n",
       "         [0.03921569, 0.07058824, 0.01960784]],\n",
       "\n",
       "        [[0.09411766, 0.12156864, 0.19607845],\n",
       "         [0.2392157 , 0.30588236, 0.40784317],\n",
       "         [0.25490198, 0.38431376, 0.5058824 ],\n",
       "         ...,\n",
       "         [0.01568628, 0.03921569, 0.03921569],\n",
       "         [0.03137255, 0.07058824, 0.03529412],\n",
       "         [0.04705883, 0.09411766, 0.05490196]],\n",
       "\n",
       "        ...,\n",
       "\n",
       "        [[0.21568629, 0.3921569 , 0.37254903],\n",
       "         [0.19607845, 0.40000004, 0.3921569 ],\n",
       "         [0.22352943, 0.3921569 , 0.427451  ],\n",
       "         ...,\n",
       "         [0.33333334, 0.6509804 , 0.7686275 ],\n",
       "         [0.33333334, 0.64705884, 0.7843138 ],\n",
       "         [0.32156864, 0.64705884, 0.7803922 ]],\n",
       "\n",
       "        [[0.21960786, 0.3803922 , 0.3647059 ],\n",
       "         [0.18039216, 0.36862746, 0.4156863 ],\n",
       "         [0.21176472, 0.40000004, 0.4156863 ],\n",
       "         ...,\n",
       "         [0.34117648, 0.6431373 , 0.75294125],\n",
       "         [0.3254902 , 0.6431373 , 0.7607844 ],\n",
       "         [0.2901961 , 0.6509804 , 0.7490196 ]],\n",
       "\n",
       "        [[0.23137257, 0.38431376, 0.3647059 ],\n",
       "         [0.18431373, 0.37254903, 0.41176474],\n",
       "         [0.23137257, 0.40784317, 0.41960788],\n",
       "         ...,\n",
       "         [0.3529412 , 0.654902  , 0.76470596],\n",
       "         [0.33333334, 0.6509804 , 0.7686275 ],\n",
       "         [0.32941177, 0.65882355, 0.7686275 ]]],\n",
       "\n",
       "\n",
       "       [[[0.3372549 , 0.3137255 , 0.32156864],\n",
       "         [0.35686275, 0.33333334, 0.34117648],\n",
       "         [0.34509805, 0.32156864, 0.32941177],\n",
       "         ...,\n",
       "         [0.5254902 , 0.5254902 , 0.53333336],\n",
       "         [0.5058824 , 0.50980395, 0.5294118 ],\n",
       "         [0.49803925, 0.5019608 , 0.52156866]],\n",
       "\n",
       "        [[0.32156864, 0.29803923, 0.30588236],\n",
       "         [0.34117648, 0.31764707, 0.3254902 ],\n",
       "         [0.34509805, 0.32156864, 0.32941177],\n",
       "         ...,\n",
       "         [0.5058824 , 0.5058824 , 0.5137255 ],\n",
       "         [0.50980395, 0.5137255 , 0.53333336],\n",
       "         [0.48235297, 0.48627454, 0.5058824 ]],\n",
       "\n",
       "        [[0.28627452, 0.2627451 , 0.27058825],\n",
       "         [0.3019608 , 0.2784314 , 0.28627452],\n",
       "         [0.34117648, 0.31764707, 0.3254902 ],\n",
       "         ...,\n",
       "         [0.50980395, 0.50980395, 0.5176471 ],\n",
       "         [0.4784314 , 0.48235297, 0.5019608 ],\n",
       "         [0.48235297, 0.48627454, 0.5058824 ]],\n",
       "\n",
       "        ...,\n",
       "\n",
       "        [[0.46274513, 0.47450984, 0.49411768],\n",
       "         [0.4666667 , 0.4784314 , 0.5058824 ],\n",
       "         [0.4431373 , 0.45098042, 0.49803925],\n",
       "         ...,\n",
       "         [0.30980393, 0.28235295, 0.3137255 ],\n",
       "         [0.34117648, 0.29803923, 0.36078432],\n",
       "         [0.30588236, 0.26666668, 0.30980393]],\n",
       "\n",
       "        [[0.4666667 , 0.4784314 , 0.5058824 ],\n",
       "         [0.47450984, 0.5019608 , 0.5254902 ],\n",
       "         [0.4431373 , 0.4784314 , 0.49803925],\n",
       "         ...,\n",
       "         [0.3529412 , 0.34901962, 0.37254903],\n",
       "         [0.2901961 , 0.2784314 , 0.30588236],\n",
       "         [0.3137255 , 0.3019608 , 0.32941177]],\n",
       "\n",
       "        [[0.47058827, 0.5019608 , 0.5137255 ],\n",
       "         [0.47450984, 0.50980395, 0.5372549 ],\n",
       "         [0.46274513, 0.50980395, 0.5568628 ],\n",
       "         ...,\n",
       "         [0.30980393, 0.32156864, 0.34901962],\n",
       "         [0.2901961 , 0.2901961 , 0.32156864],\n",
       "         [0.29803923, 0.29803923, 0.32941177]]],\n",
       "\n",
       "\n",
       "       [[[0.6901961 , 0.63529414, 0.58431375],\n",
       "         [0.6627451 , 0.60784316, 0.5568628 ],\n",
       "         [0.6784314 , 0.62352943, 0.57254905],\n",
       "         ...,\n",
       "         [0.4901961 , 0.49411768, 0.50980395],\n",
       "         [0.4901961 , 0.5019608 , 0.5294118 ],\n",
       "         [0.47450984, 0.48627454, 0.5137255 ]],\n",
       "\n",
       "        [[0.64705884, 0.5921569 , 0.5411765 ],\n",
       "         [0.6745098 , 0.61960787, 0.5686275 ],\n",
       "         [0.68235296, 0.627451  , 0.5764706 ],\n",
       "         ...,\n",
       "         [0.45882356, 0.47450984, 0.48627454],\n",
       "         [0.53333336, 0.56078434, 0.58431375],\n",
       "         [0.5058824 , 0.53333336, 0.5568628 ]],\n",
       "\n",
       "        [[0.6666667 , 0.6117647 , 0.56078434],\n",
       "         [0.65882355, 0.6039216 , 0.5529412 ],\n",
       "         [0.6509804 , 0.59607846, 0.54509807],\n",
       "         ...,\n",
       "         [0.47058827, 0.5019608 , 0.50980395],\n",
       "         [0.5058824 , 0.5411765 , 0.56078434],\n",
       "         [0.4901961 , 0.5254902 , 0.54509807]],\n",
       "\n",
       "        ...,\n",
       "\n",
       "        [[0.5803922 , 0.5411765 , 0.49411768],\n",
       "         [0.454902  , 0.40784317, 0.34509805],\n",
       "         [0.3372549 , 0.27450982, 0.21176472],\n",
       "         ...,\n",
       "         [0.4901961 , 0.3372549 , 0.27058825],\n",
       "         [0.5921569 , 0.4156863 , 0.34117648],\n",
       "         [0.6313726 , 0.44705886, 0.32941177]],\n",
       "\n",
       "        [[0.54901963, 0.50980395, 0.46274513],\n",
       "         [0.42352945, 0.37647063, 0.3137255 ],\n",
       "         [0.36862746, 0.30588236, 0.24313727],\n",
       "         ...,\n",
       "         [0.48627454, 0.34117648, 0.2392157 ],\n",
       "         [0.67058825, 0.5019608 , 0.36862746],\n",
       "         [0.8313726 , 0.654902  , 0.5411765 ]],\n",
       "\n",
       "        [[0.58431375, 0.53333336, 0.45882356],\n",
       "         [0.52156866, 0.47058827, 0.40784317],\n",
       "         [0.39607847, 0.34117648, 0.2901961 ],\n",
       "         ...,\n",
       "         [0.62352943, 0.43137258, 0.3019608 ],\n",
       "         [0.74509805, 0.54509807, 0.43137258],\n",
       "         [0.8470589 , 0.6431373 , 0.54901963]]]], dtype=float32)"
      ]
     },
     "execution_count": 79,
     "metadata": {},
     "output_type": "execute_result"
    }
   ],
   "source": [
    "x_train"
   ]
  },
  {
   "cell_type": "code",
   "execution_count": 80,
   "id": "2cafcfe1",
   "metadata": {
    "ExecuteTime": {
     "end_time": "2022-04-03T05:05:15.611631Z",
     "start_time": "2022-04-03T05:05:15.592633Z"
    }
   },
   "outputs": [
    {
     "data": {
      "text/plain": [
       "array([[1., 0.],\n",
       "       [0., 1.],\n",
       "       [0., 1.],\n",
       "       [1., 0.],\n",
       "       [1., 0.],\n",
       "       [1., 0.],\n",
       "       [1., 0.],\n",
       "       [0., 1.],\n",
       "       [0., 1.],\n",
       "       [0., 1.],\n",
       "       [0., 1.],\n",
       "       [1., 0.],\n",
       "       [0., 1.],\n",
       "       [1., 0.],\n",
       "       [1., 0.],\n",
       "       [0., 1.],\n",
       "       [0., 1.],\n",
       "       [1., 0.],\n",
       "       [1., 0.],\n",
       "       [0., 1.]], dtype=float32)"
      ]
     },
     "execution_count": 80,
     "metadata": {},
     "output_type": "execute_result"
    }
   ],
   "source": [
    "y_train #  oh 인코딩"
   ]
  },
  {
   "cell_type": "code",
   "execution_count": 81,
   "id": "52ba5b3b",
   "metadata": {
    "ExecuteTime": {
     "end_time": "2022-04-03T05:05:15.844676Z",
     "start_time": "2022-04-03T05:05:15.724678Z"
    }
   },
   "outputs": [
    {
     "data": {
      "text/plain": [
       "<matplotlib.image.AxesImage at 0x135b678b880>"
      ]
     },
     "execution_count": 81,
     "metadata": {},
     "output_type": "execute_result"
    },
    {
     "data": {
      "image/png": "[encoded data removed]",
      "text/plain": [
       "<Figure size 432x288 with 1 Axes>"
      ]
     },
     "metadata": {},
     "output_type": "display_data"
    }
   ],
   "source": [
    "plt.imshow(x_train[0])"
   ]
  },
  {
   "cell_type": "code",
   "execution_count": 82,
   "id": "76e6dcc8",
   "metadata": {
    "ExecuteTime": {
     "end_time": "2022-04-03T05:05:15.860631Z",
     "start_time": "2022-04-03T05:05:15.852631Z"
    }
   },
   "outputs": [
    {
     "data": {
      "text/plain": [
       "{'cat': 0, 'dog': 1}"
      ]
     },
     "execution_count": 82,
     "metadata": {},
     "output_type": "execute_result"
    }
   ],
   "source": [
    "# 분류값 확인\n",
    "trainGen.class_indices"
   ]
  },
  {
   "cell_type": "code",
   "execution_count": 83,
   "id": "ef867eb6",
   "metadata": {
    "ExecuteTime": {
     "end_time": "2022-04-03T05:05:15.985632Z",
     "start_time": "2022-04-03T05:05:15.980631Z"
    }
   },
   "outputs": [
    {
     "data": {
      "text/plain": [
       "array([[0.3019608 , 0.27450982, 0.20392159, ..., 0.7843138 , 0.7960785 ,\n",
       "        0.9176471 ],\n",
       "       [1.        , 1.        , 1.        , ..., 1.        , 1.        ,\n",
       "        1.        ],\n",
       "       [0.32156864, 0.36862746, 0.2901961 , ..., 0.37647063, 0.34117648,\n",
       "        0.34509805],\n",
       "       ...,\n",
       "       [0.04705883, 0.03529412, 0.00784314, ..., 0.32941177, 0.65882355,\n",
       "        0.7686275 ],\n",
       "       [0.3372549 , 0.3137255 , 0.32156864, ..., 0.29803923, 0.29803923,\n",
       "        0.32941177],\n",
       "       [0.6901961 , 0.63529414, 0.58431375, ..., 0.8470589 , 0.6431373 ,\n",
       "        0.54901963]], dtype=float32)"
      ]
     },
     "execution_count": 83,
     "metadata": {},
     "output_type": "execute_result"
    }
   ],
   "source": [
    " x_train.reshape(20, -1)"
   ]
  },
  {
   "cell_type": "code",
   "execution_count": 84,
   "id": "0b450d0d",
   "metadata": {
    "ExecuteTime": {
     "end_time": "2022-04-03T05:05:16.127274Z",
     "start_time": "2022-04-03T05:05:16.121274Z"
    }
   },
   "outputs": [
    {
     "data": {
      "text/plain": [
       "(20, 98, 98, 3)"
      ]
     },
     "execution_count": 84,
     "metadata": {},
     "output_type": "execute_result"
    }
   ],
   "source": [
    "x_train.shape "
   ]
  },
  {
   "cell_type": "code",
   "execution_count": 85,
   "id": "19d32746",
   "metadata": {
    "ExecuteTime": {
     "end_time": "2022-04-03T05:05:17.247275Z",
     "start_time": "2022-04-03T05:05:16.231299Z"
    }
   },
   "outputs": [
    {
     "name": "stdout",
     "output_type": "stream",
     "text": [
      "Epoch 1/50\n",
      "1/1 [==============================] - 0s 233ms/step - loss: 0.6582 - acc: 0.5000\n",
      "Epoch 2/50\n",
      "1/1 [==============================] - 0s 5ms/step - loss: 15.5291 - acc: 0.5000\n",
      "Epoch 3/50\n",
      "1/1 [==============================] - 0s 5ms/step - loss: 3.1655 - acc: 0.5000\n",
      "Epoch 4/50\n",
      "1/1 [==============================] - 0s 5ms/step - loss: 0.9554 - acc: 0.5000\n",
      "Epoch 5/50\n",
      "1/1 [==============================] - 0s 4ms/step - loss: 3.0902 - acc: 0.5000\n",
      "Epoch 6/50\n",
      "1/1 [==============================] - 0s 3ms/step - loss: 1.8134 - acc: 0.5000\n",
      "Epoch 7/50\n",
      "1/1 [==============================] - 0s 4ms/step - loss: 0.5414 - acc: 0.8000\n",
      "Epoch 8/50\n",
      "1/1 [==============================] - 0s 4ms/step - loss: 0.7137 - acc: 0.6500\n",
      "Epoch 9/50\n",
      "1/1 [==============================] - 0s 5ms/step - loss: 0.2114 - acc: 0.9000\n",
      "Epoch 10/50\n",
      "1/1 [==============================] - 0s 4ms/step - loss: 0.3551 - acc: 0.8000\n",
      "Epoch 11/50\n",
      "1/1 [==============================] - 0s 5ms/step - loss: 0.2192 - acc: 0.9500\n",
      "Epoch 12/50\n",
      "1/1 [==============================] - 0s 5ms/step - loss: 0.2657 - acc: 0.9000\n",
      "Epoch 13/50\n",
      "1/1 [==============================] - 0s 5ms/step - loss: 0.1256 - acc: 1.0000\n",
      "Epoch 14/50\n",
      "1/1 [==============================] - 0s 4ms/step - loss: 0.1985 - acc: 0.9000\n",
      "Epoch 15/50\n",
      "1/1 [==============================] - 0s 6ms/step - loss: 0.1056 - acc: 0.9500\n",
      "Epoch 16/50\n",
      "1/1 [==============================] - 0s 5ms/step - loss: 0.1532 - acc: 0.9500\n",
      "Epoch 17/50\n",
      "1/1 [==============================] - 0s 6ms/step - loss: 0.1030 - acc: 0.9500\n",
      "Epoch 18/50\n",
      "1/1 [==============================] - 0s 5ms/step - loss: 0.0779 - acc: 1.0000\n",
      "Epoch 19/50\n",
      "1/1 [==============================] - 0s 5ms/step - loss: 0.1014 - acc: 1.0000\n",
      "Epoch 20/50\n",
      "1/1 [==============================] - 0s 4ms/step - loss: 0.0480 - acc: 1.0000\n",
      "Epoch 21/50\n",
      "1/1 [==============================] - 0s 5ms/step - loss: 0.0584 - acc: 1.0000\n",
      "Epoch 22/50\n",
      "1/1 [==============================] - 0s 4ms/step - loss: 0.0534 - acc: 1.0000\n",
      "Epoch 23/50\n",
      "1/1 [==============================] - 0s 4ms/step - loss: 0.0283 - acc: 1.0000\n",
      "Epoch 24/50\n",
      "1/1 [==============================] - 0s 5ms/step - loss: 0.0286 - acc: 1.0000\n",
      "Epoch 25/50\n",
      "1/1 [==============================] - 0s 3ms/step - loss: 0.0380 - acc: 1.0000\n",
      "Epoch 26/50\n",
      "1/1 [==============================] - 0s 4ms/step - loss: 0.0229 - acc: 1.0000\n",
      "Epoch 27/50\n",
      "1/1 [==============================] - 0s 4ms/step - loss: 0.0165 - acc: 1.0000\n",
      "Epoch 28/50\n",
      "1/1 [==============================] - 0s 4ms/step - loss: 0.0208 - acc: 1.0000\n",
      "Epoch 29/50\n",
      "1/1 [==============================] - 0s 5ms/step - loss: 0.0226 - acc: 1.0000\n",
      "Epoch 30/50\n",
      "1/1 [==============================] - 0s 5ms/step - loss: 0.0166 - acc: 1.0000\n",
      "Epoch 31/50\n",
      "1/1 [==============================] - 0s 5ms/step - loss: 0.0118 - acc: 1.0000\n",
      "Epoch 32/50\n",
      "1/1 [==============================] - 0s 4ms/step - loss: 0.0122 - acc: 1.0000\n",
      "Epoch 33/50\n",
      "1/1 [==============================] - 0s 5ms/step - loss: 0.0149 - acc: 1.0000\n",
      "Epoch 34/50\n",
      "1/1 [==============================] - 0s 3ms/step - loss: 0.0137 - acc: 1.0000\n",
      "Epoch 35/50\n",
      "1/1 [==============================] - 0s 5ms/step - loss: 0.0100 - acc: 1.0000\n",
      "Epoch 36/50\n",
      "1/1 [==============================] - 0s 5ms/step - loss: 0.0085 - acc: 1.0000\n",
      "Epoch 37/50\n",
      "1/1 [==============================] - 0s 4ms/step - loss: 0.0090 - acc: 1.0000\n",
      "Epoch 38/50\n",
      "1/1 [==============================] - 0s 3ms/step - loss: 0.0098 - acc: 1.0000\n",
      "Epoch 39/50\n",
      "1/1 [==============================] - 0s 4ms/step - loss: 0.0094 - acc: 1.0000\n",
      "Epoch 40/50\n",
      "1/1 [==============================] - 0s 4ms/step - loss: 0.0081 - acc: 1.0000\n",
      "Epoch 41/50\n",
      "1/1 [==============================] - 0s 4ms/step - loss: 0.0067 - acc: 1.0000\n",
      "Epoch 42/50\n",
      "1/1 [==============================] - 0s 4ms/step - loss: 0.0061 - acc: 1.0000\n",
      "Epoch 43/50\n",
      "1/1 [==============================] - 0s 4ms/step - loss: 0.0063 - acc: 1.0000\n",
      "Epoch 44/50\n",
      "1/1 [==============================] - 0s 4ms/step - loss: 0.0067 - acc: 1.0000\n",
      "Epoch 45/50\n",
      "1/1 [==============================] - 0s 5ms/step - loss: 0.0066 - acc: 1.0000\n",
      "Epoch 46/50\n",
      "1/1 [==============================] - 0s 4ms/step - loss: 0.0059 - acc: 1.0000\n",
      "Epoch 47/50\n",
      "1/1 [==============================] - 0s 5ms/step - loss: 0.0052 - acc: 1.0000\n",
      "Epoch 48/50\n",
      "1/1 [==============================] - 0s 4ms/step - loss: 0.0048 - acc: 1.0000\n",
      "Epoch 49/50\n",
      "1/1 [==============================] - 0s 4ms/step - loss: 0.0048 - acc: 1.0000\n",
      "Epoch 50/50\n",
      "1/1 [==============================] - 0s 5ms/step - loss: 0.0049 - acc: 1.0000\n",
      "Epoch 1/50\n",
      "1/1 [==============================] - 0s 9ms/step - loss: 0.0049 - acc: 1.0000\n",
      "Epoch 2/50\n",
      "1/1 [==============================] - 0s 4ms/step - loss: 0.0048 - acc: 1.0000\n",
      "Epoch 3/50\n",
      "1/1 [==============================] - 0s 4ms/step - loss: 0.0045 - acc: 1.0000\n",
      "Epoch 4/50\n",
      "1/1 [==============================] - 0s 5ms/step - loss: 0.0042 - acc: 1.0000\n",
      "Epoch 5/50\n",
      "1/1 [==============================] - 0s 4ms/step - loss: 0.0040 - acc: 1.0000\n",
      "Epoch 6/50\n",
      "1/1 [==============================] - 0s 5ms/step - loss: 0.0039 - acc: 1.0000\n",
      "Epoch 7/50\n",
      "1/1 [==============================] - 0s 5ms/step - loss: 0.0039 - acc: 1.0000\n",
      "Epoch 8/50\n",
      "1/1 [==============================] - 0s 5ms/step - loss: 0.0039 - acc: 1.0000\n",
      "Epoch 9/50\n",
      "1/1 [==============================] - 0s 5ms/step - loss: 0.0038 - acc: 1.0000\n",
      "Epoch 10/50\n",
      "1/1 [==============================] - 0s 5ms/step - loss: 0.0037 - acc: 1.0000\n",
      "Epoch 11/50\n",
      "1/1 [==============================] - 0s 4ms/step - loss: 0.0035 - acc: 1.0000\n",
      "Epoch 12/50\n",
      "1/1 [==============================] - 0s 4ms/step - loss: 0.0033 - acc: 1.0000\n",
      "Epoch 13/50\n",
      "1/1 [==============================] - 0s 4ms/step - loss: 0.0033 - acc: 1.0000\n",
      "Epoch 14/50\n",
      "1/1 [==============================] - 0s 4ms/step - loss: 0.0033 - acc: 1.0000\n",
      "Epoch 15/50\n",
      "1/1 [==============================] - 0s 4ms/step - loss: 0.0033 - acc: 1.0000\n",
      "Epoch 16/50\n",
      "1/1 [==============================] - 0s 5ms/step - loss: 0.0032 - acc: 1.0000\n",
      "Epoch 17/50\n",
      "1/1 [==============================] - 0s 6ms/step - loss: 0.0032 - acc: 1.0000\n",
      "Epoch 18/50\n",
      "1/1 [==============================] - 0s 4ms/step - loss: 0.0031 - acc: 1.0000\n",
      "Epoch 19/50\n",
      "1/1 [==============================] - 0s 5ms/step - loss: 0.0030 - acc: 1.0000\n",
      "Epoch 20/50\n",
      "1/1 [==============================] - 0s 4ms/step - loss: 0.0029 - acc: 1.0000\n",
      "Epoch 21/50\n",
      "1/1 [==============================] - 0s 5ms/step - loss: 0.0029 - acc: 1.0000\n",
      "Epoch 22/50\n",
      "1/1 [==============================] - 0s 4ms/step - loss: 0.0029 - acc: 1.0000\n",
      "Epoch 23/50\n",
      "1/1 [==============================] - 0s 4ms/step - loss: 0.0029 - acc: 1.0000\n",
      "Epoch 24/50\n",
      "1/1 [==============================] - 0s 4ms/step - loss: 0.0029 - acc: 1.0000\n",
      "Epoch 25/50\n",
      "1/1 [==============================] - 0s 4ms/step - loss: 0.0028 - acc: 1.0000\n",
      "Epoch 26/50\n",
      "1/1 [==============================] - 0s 4ms/step - loss: 0.0027 - acc: 1.0000\n",
      "Epoch 27/50\n",
      "1/1 [==============================] - 0s 5ms/step - loss: 0.0027 - acc: 1.0000\n",
      "Epoch 28/50\n",
      "1/1 [==============================] - 0s 5ms/step - loss: 0.0026 - acc: 1.0000\n",
      "Epoch 29/50\n",
      "1/1 [==============================] - 0s 3ms/step - loss: 0.0026 - acc: 1.0000\n",
      "Epoch 30/50\n",
      "1/1 [==============================] - 0s 5ms/step - loss: 0.0026 - acc: 1.0000\n",
      "Epoch 31/50\n",
      "1/1 [==============================] - 0s 4ms/step - loss: 0.0026 - acc: 1.0000\n",
      "Epoch 32/50\n",
      "1/1 [==============================] - 0s 4ms/step - loss: 0.0025 - acc: 1.0000\n",
      "Epoch 33/50\n",
      "1/1 [==============================] - 0s 7ms/step - loss: 0.0025 - acc: 1.0000\n",
      "Epoch 34/50\n",
      "1/1 [==============================] - 0s 5ms/step - loss: 0.0025 - acc: 1.0000\n",
      "Epoch 35/50\n",
      "1/1 [==============================] - 0s 5ms/step - loss: 0.0024 - acc: 1.0000\n",
      "Epoch 36/50\n",
      "1/1 [==============================] - 0s 4ms/step - loss: 0.0024 - acc: 1.0000\n",
      "Epoch 37/50\n",
      "1/1 [==============================] - 0s 4ms/step - loss: 0.0024 - acc: 1.0000\n",
      "Epoch 38/50\n",
      "1/1 [==============================] - 0s 4ms/step - loss: 0.0024 - acc: 1.0000\n",
      "Epoch 39/50\n",
      "1/1 [==============================] - 0s 4ms/step - loss: 0.0023 - acc: 1.0000\n",
      "Epoch 40/50\n"
     ]
    },
    {
     "name": "stdout",
     "output_type": "stream",
     "text": [
      "1/1 [==============================] - 0s 4ms/step - loss: 0.0023 - acc: 1.0000\n",
      "Epoch 41/50\n",
      "1/1 [==============================] - 0s 4ms/step - loss: 0.0023 - acc: 1.0000\n",
      "Epoch 42/50\n",
      "1/1 [==============================] - 0s 3ms/step - loss: 0.0023 - acc: 1.0000\n",
      "Epoch 43/50\n",
      "1/1 [==============================] - 0s 4ms/step - loss: 0.0023 - acc: 1.0000\n",
      "Epoch 44/50\n",
      "1/1 [==============================] - 0s 4ms/step - loss: 0.0022 - acc: 1.0000\n",
      "Epoch 45/50\n",
      "1/1 [==============================] - 0s 4ms/step - loss: 0.0022 - acc: 1.0000\n",
      "Epoch 46/50\n",
      "1/1 [==============================] - 0s 4ms/step - loss: 0.0022 - acc: 1.0000\n",
      "Epoch 47/50\n",
      "1/1 [==============================] - 0s 4ms/step - loss: 0.0022 - acc: 1.0000\n",
      "Epoch 48/50\n",
      "1/1 [==============================] - 0s 4ms/step - loss: 0.0021 - acc: 1.0000\n",
      "Epoch 49/50\n",
      "1/1 [==============================] - 0s 4ms/step - loss: 0.0021 - acc: 1.0000\n",
      "Epoch 50/50\n",
      "1/1 [==============================] - 0s 3ms/step - loss: 0.0021 - acc: 1.0000\n"
     ]
    }
   ],
   "source": [
    "# flatten 쓰면 인코딩 안해도됨. 3차원 데이터\n",
    "model = Sequential()\n",
    "model.add(Flatten(input_shape = (98,98,3)))\n",
    "model.add(Dense(units=64,  activation='relu' )  )\n",
    "model.add(Dense(units=32,  activation='relu' )  )\n",
    "model.add(Dense(units=2,  activation='softmax' )  )\n",
    "\n",
    "# model.compile(loss = 'sparse_categorical_crossentropy',optimizer='adam',metrics=['acc'])\n",
    "model.compile( loss='categorical_crossentropy',optimizer='adam', metrics=['acc'])\n",
    "model.fit(x_train, y_train,epochs=50)\n",
    "h = model.fit(x_train, y_train,epochs=50)"
   ]
  },
  {
   "cell_type": "code",
   "execution_count": 128,
   "id": "703f462e",
   "metadata": {
    "ExecuteTime": {
     "end_time": "2022-04-03T05:11:24.632593Z",
     "start_time": "2022-04-03T05:11:24.616593Z"
    }
   },
   "outputs": [
    {
     "ename": "AttributeError",
     "evalue": "module 'h5py' has no attribute 'File'",
     "output_type": "error",
     "traceback": [
      "\u001b[1;31m---------------------------------------------------------------------------\u001b[0m",
      "\u001b[1;31mAttributeError\u001b[0m                            Traceback (most recent call last)",
      "\u001b[1;32mC:\\Users\\TFG507~1\\AppData\\Local\\Temp/ipykernel_19740/2742806607.py\u001b[0m in \u001b[0;36m<module>\u001b[1;34m\u001b[0m\n\u001b[1;32m----> 1\u001b[1;33m \u001b[0mmodel\u001b[0m\u001b[1;33m.\u001b[0m\u001b[0msave\u001b[0m\u001b[1;33m(\u001b[0m\u001b[1;34m'catdog.h5'\u001b[0m\u001b[1;33m)\u001b[0m\u001b[1;33m\u001b[0m\u001b[1;33m\u001b[0m\u001b[0m\n\u001b[0m\u001b[0;32m      2\u001b[0m \u001b[1;31m# h5는 모델 압축 파일\u001b[0m\u001b[1;33m\u001b[0m\u001b[1;33m\u001b[0m\u001b[1;33m\u001b[0m\u001b[0m\n\u001b[0;32m      3\u001b[0m \u001b[1;33m\u001b[0m\u001b[0m\n\u001b[0;32m      4\u001b[0m \u001b[1;33m\u001b[0m\u001b[0m\n\u001b[0;32m      5\u001b[0m \u001b[1;31m# model.save(\"model.h5\")\u001b[0m\u001b[1;33m\u001b[0m\u001b[1;33m\u001b[0m\u001b[1;33m\u001b[0m\u001b[0m\n",
      "\u001b[1;32m~\\anaconda3\\lib\\site-packages\\keras\\engine\\training.py\u001b[0m in \u001b[0;36msave\u001b[1;34m(self, filepath, overwrite, include_optimizer, save_format, signatures, options, save_traces)\u001b[0m\n\u001b[0;32m   2143\u001b[0m     \"\"\"\n\u001b[0;32m   2144\u001b[0m     \u001b[1;31m# pylint: enable=line-too-long\u001b[0m\u001b[1;33m\u001b[0m\u001b[1;33m\u001b[0m\u001b[1;33m\u001b[0m\u001b[0m\n\u001b[1;32m-> 2145\u001b[1;33m     save.save_model(self, filepath, overwrite, include_optimizer, save_format,\n\u001b[0m\u001b[0;32m   2146\u001b[0m                     signatures, options, save_traces)\n\u001b[0;32m   2147\u001b[0m \u001b[1;33m\u001b[0m\u001b[0m\n",
      "\u001b[1;32m~\\anaconda3\\lib\\site-packages\\keras\\saving\\save.py\u001b[0m in \u001b[0;36msave_model\u001b[1;34m(model, filepath, overwrite, include_optimizer, save_format, signatures, options, save_traces)\u001b[0m\n\u001b[0;32m    131\u001b[0m \u001b[1;33m\u001b[0m\u001b[0m\n\u001b[0;32m    132\u001b[0m   if (save_format == 'h5' or\n\u001b[1;32m--> 133\u001b[1;33m       \u001b[1;33m(\u001b[0m\u001b[0mh5py\u001b[0m \u001b[1;32mis\u001b[0m \u001b[1;32mnot\u001b[0m \u001b[1;32mNone\u001b[0m \u001b[1;32mand\u001b[0m \u001b[0misinstance\u001b[0m\u001b[1;33m(\u001b[0m\u001b[0mfilepath\u001b[0m\u001b[1;33m,\u001b[0m \u001b[0mh5py\u001b[0m\u001b[1;33m.\u001b[0m\u001b[0mFile\u001b[0m\u001b[1;33m)\u001b[0m\u001b[1;33m)\u001b[0m \u001b[1;32mor\u001b[0m\u001b[1;33m\u001b[0m\u001b[1;33m\u001b[0m\u001b[0m\n\u001b[0m\u001b[0;32m    134\u001b[0m       saving_utils.is_hdf5_filepath(filepath)):\n\u001b[0;32m    135\u001b[0m     \u001b[1;31m# TODO(b/130258301): add utility method for detecting model type.\u001b[0m\u001b[1;33m\u001b[0m\u001b[1;33m\u001b[0m\u001b[1;33m\u001b[0m\u001b[0m\n",
      "\u001b[1;31mAttributeError\u001b[0m: module 'h5py' has no attribute 'File'"
     ]
    }
   ],
   "source": [
    "\n",
    "model.save('catdog.h5')\n",
    "# h5는 모델 압축 파일\n",
    "\n",
    "\n",
    "# model.save(\"model.h5\")\n",
    "# print(\"Saved model to disk\")\n",
    "\n",
    "# 해당 코드가 "
   ]
  },
  {
   "cell_type": "markdown",
   "id": "72304371",
   "metadata": {},
   "source": [
    "# 연습"
   ]
  },
  {
   "cell_type": "code",
   "execution_count": 114,
   "id": "a425721e",
   "metadata": {
    "ExecuteTime": {
     "end_time": "2022-04-03T05:10:17.232681Z",
     "start_time": "2022-04-03T05:10:17.203709Z"
    }
   },
   "outputs": [
    {
     "data": {
      "image/png": "[encoded data removed]",
      "text/plain": [
       "<PIL.Image.Image image mode=RGB size=98x98 at 0x135B67F6100>"
      ]
     },
     "execution_count": 114,
     "metadata": {},
     "output_type": "execute_result"
    }
   ],
   "source": [
    "testImg = image.load_img('image/test.jpg',target_size=(98,98))\n",
    "testImg"
   ]
  },
  {
   "cell_type": "code",
   "execution_count": 115,
   "id": "6abcbb51",
   "metadata": {
    "ExecuteTime": {
     "end_time": "2022-04-03T05:10:17.592032Z",
     "start_time": "2022-04-03T05:10:17.580031Z"
    }
   },
   "outputs": [
    {
     "data": {
      "text/plain": [
       "PIL.Image.Image"
      ]
     },
     "execution_count": 115,
     "metadata": {},
     "output_type": "execute_result"
    }
   ],
   "source": [
    "type(testImg)"
   ]
  },
  {
   "cell_type": "code",
   "execution_count": 116,
   "id": "45ce095a",
   "metadata": {
    "ExecuteTime": {
     "end_time": "2022-04-03T05:10:17.967116Z",
     "start_time": "2022-04-03T05:10:17.956116Z"
    }
   },
   "outputs": [],
   "source": [
    "imgArr = image.img_to_array(testImg) #  넘파이 배열로 만듦\n",
    "imgArr = imgArr/255   #  스케일링"
   ]
  },
  {
   "cell_type": "code",
   "execution_count": 117,
   "id": "1ecb3bfb",
   "metadata": {
    "ExecuteTime": {
     "end_time": "2022-04-03T05:10:18.400304Z",
     "start_time": "2022-04-03T05:10:18.396305Z"
    }
   },
   "outputs": [
    {
     "data": {
      "text/plain": [
       "(98, 98, 3)"
      ]
     },
     "execution_count": 117,
     "metadata": {},
     "output_type": "execute_result"
    }
   ],
   "source": [
    "imgArr.shape"
   ]
  },
  {
   "cell_type": "code",
   "execution_count": 118,
   "id": "9af58d4c",
   "metadata": {
    "ExecuteTime": {
     "end_time": "2022-04-03T05:10:18.919863Z",
     "start_time": "2022-04-03T05:10:18.833864Z"
    }
   },
   "outputs": [
    {
     "data": {
      "text/plain": [
       "array([1], dtype=int64)"
      ]
     },
     "execution_count": 118,
     "metadata": {},
     "output_type": "execute_result"
    }
   ],
   "source": [
    "model.predict(imgArr.reshape(1,98,98,3)).argmax(axis=1)"
   ]
  },
  {
   "cell_type": "code",
   "execution_count": 119,
   "id": "ef7a0775",
   "metadata": {
    "ExecuteTime": {
     "end_time": "2022-04-03T05:10:20.383369Z",
     "start_time": "2022-04-03T05:10:20.370369Z"
    }
   },
   "outputs": [],
   "source": [
    "# 피클 \n",
    "import pickle\n",
    "fp = open('catdog.history','wb')\n",
    "pickle.dump(h.history,fp)\n",
    "fp.close()"
   ]
  },
  {
   "cell_type": "code",
   "execution_count": 120,
   "id": "939abb77",
   "metadata": {
    "ExecuteTime": {
     "end_time": "2022-04-03T05:10:21.009361Z",
     "start_time": "2022-04-03T05:10:20.988363Z"
    }
   },
   "outputs": [],
   "source": [
    "import shelve\n",
    "sh = shelve.open('myhist')\n",
    "sh['myh'] = h.history\n",
    "sh.close()"
   ]
  },
  {
   "cell_type": "code",
   "execution_count": 122,
   "id": "83297e68",
   "metadata": {
    "ExecuteTime": {
     "end_time": "2022-04-03T05:10:30.506216Z",
     "start_time": "2022-04-03T05:10:30.488259Z"
    }
   },
   "outputs": [],
   "source": [
    "def mydecode(arg):\n",
    "    my= []\n",
    "    \n",
    "    for p,l in arg:\n",
    "        if p>0.5:\n",
    "            my.append((p,'강아지'))\n",
    "        else:\n",
    "            my.append((l,'고양이'))\n",
    "    return my\n",
    "            "
   ]
  },
  {
   "cell_type": "code",
   "execution_count": 123,
   "id": "680c4d16",
   "metadata": {
    "ExecuteTime": {
     "end_time": "2022-04-03T05:10:30.979034Z",
     "start_time": "2022-04-03T05:10:30.926674Z"
    }
   },
   "outputs": [
    {
     "data": {
      "text/plain": [
       "array([[5.4233667e-04, 9.9945766e-01]], dtype=float32)"
      ]
     },
     "execution_count": 123,
     "metadata": {},
     "output_type": "execute_result"
    }
   ],
   "source": [
    "# 모델 예측\n",
    "pred = model.predict(imgArr.reshape(1,98,98,3))\n",
    "pred"
   ]
  },
  {
   "cell_type": "code",
   "execution_count": 124,
   "id": "7be5ed16",
   "metadata": {
    "ExecuteTime": {
     "end_time": "2022-04-03T05:10:31.699739Z",
     "start_time": "2022-04-03T05:10:31.688720Z"
    }
   },
   "outputs": [],
   "source": [
    "# 해독 \n",
    "def mydecode(arg):\n",
    "    my= []\n",
    "    \n",
    "    for p,l in arg:\n",
    "        if p>0.5:\n",
    "            my.append((p,'강아지'))\n",
    "        else:\n",
    "            my.append((l,'고양이'))\n",
    "    return my\n",
    "            "
   ]
  },
  {
   "cell_type": "code",
   "execution_count": 125,
   "id": "dbbe66ff",
   "metadata": {
    "ExecuteTime": {
     "end_time": "2022-04-03T05:10:32.469292Z",
     "start_time": "2022-04-03T05:10:32.463331Z"
    }
   },
   "outputs": [
    {
     "data": {
      "text/plain": [
       "[(0.99945766, '고양이')]"
      ]
     },
     "execution_count": 125,
     "metadata": {},
     "output_type": "execute_result"
    }
   ],
   "source": [
    "# 고양이로 예측됨.\n",
    "mydecode(pred)"
   ]
  },
  {
   "cell_type": "markdown",
   "id": "0f0854b8",
   "metadata": {},
   "source": [
    "# 오류\n",
    " module 'h5py' has no attribute 'File'  = > h5py uninstall하고 다시 install"
   ]
  }
 ],
 "metadata": {
  "kernelspec": {
   "display_name": "Python 3 (ipykernel)",
   "language": "python",
   "name": "python3"
  },
  "language_info": {
   "codemirror_mode": {
    "name": "ipython",
    "version": 3
   },
   "file_extension": ".py",
   "mimetype": "text/x-python",
   "name": "python",
   "nbconvert_exporter": "python",
   "pygments_lexer": "ipython3",
   "version": "3.8.8"
  },
  "toc": {
   "base_numbering": 1,
   "nav_menu": {},
   "number_sections": true,
   "sideBar": true,
   "skip_h1_title": false,
   "title_cell": "Table of Contents",
   "title_sidebar": "Contents",
   "toc_cell": false,
   "toc_position": {
    "height": "calc(100% - 180px)",
    "left": "10px",
    "top": "150px",
    "width": "212.875px"
   },
   "toc_section_display": true,
   "toc_window_display": true
  }
 },
 "nbformat": 4,
 "nbformat_minor": 5
}
