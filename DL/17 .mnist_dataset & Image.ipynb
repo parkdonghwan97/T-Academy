{
 "cells": [
  {
   "cell_type": "markdown",
   "id": "03844296",
   "metadata": {},
   "source": [
    "# Mnist\n",
    "```\n",
    "MNIST 데이터베이스 (Modified National Institute of Standards and Technology database)는 손으로 쓴 숫자들로 이루어진 대형 데이터베이스이며, 다양한 화상 처리 시스템을 트레이닝하기 위해 일반적으로 사용된다\n",
    "```"
   ]
  },
  {
   "cell_type": "code",
   "execution_count": 40,
   "id": "5aa1dd15",
   "metadata": {
    "ExecuteTime": {
     "end_time": "2022-04-03T05:32:12.143340Z",
     "start_time": "2022-04-03T05:32:12.128237Z"
    }
   },
   "outputs": [],
   "source": [
    "import tensorflow as tf\n",
    "import numpy as np\n",
    "import matplotlib.pyplot as plt\n",
    "from tensorflow.keras.layers import Dense\n",
    "from tensorflow.keras import Sequential\n",
    "import tensorflow as tf\n",
    "import numpy as np\n",
    "import matplotlib.pyplot as plt\n",
    "from tensorflow.keras.layers import Dense,Flatten\n",
    "from tensorflow.keras import Sequential\n",
    "from tensorflow.keras.optimizers import Adam\n",
    "from tensorflow.keras.datasets.mnist import load_data\n",
    "from tensorflow.keras.utils import to_categorical\n",
    "plt.style.use(\"ggplot\")"
   ]
  },
  {
   "cell_type": "code",
   "execution_count": 41,
   "id": "9ec3cdfa",
   "metadata": {
    "ExecuteTime": {
     "end_time": "2022-04-03T05:32:12.367333Z",
     "start_time": "2022-04-03T05:32:12.144332Z"
    }
   },
   "outputs": [],
   "source": [
    "mnistData = load_data()"
   ]
  },
  {
   "cell_type": "code",
   "execution_count": 42,
   "id": "095e3346",
   "metadata": {
    "ExecuteTime": {
     "end_time": "2022-04-03T05:32:12.383334Z",
     "start_time": "2022-04-03T05:32:12.369334Z"
    }
   },
   "outputs": [
    {
     "data": {
      "text/plain": [
       "((array([[[0, 0, 0, ..., 0, 0, 0],\n",
       "          [0, 0, 0, ..., 0, 0, 0],\n",
       "          [0, 0, 0, ..., 0, 0, 0],\n",
       "          ...,\n",
       "          [0, 0, 0, ..., 0, 0, 0],\n",
       "          [0, 0, 0, ..., 0, 0, 0],\n",
       "          [0, 0, 0, ..., 0, 0, 0]],\n",
       "  \n",
       "         [[0, 0, 0, ..., 0, 0, 0],\n",
       "          [0, 0, 0, ..., 0, 0, 0],\n",
       "          [0, 0, 0, ..., 0, 0, 0],\n",
       "          ...,\n",
       "          [0, 0, 0, ..., 0, 0, 0],\n",
       "          [0, 0, 0, ..., 0, 0, 0],\n",
       "          [0, 0, 0, ..., 0, 0, 0]],\n",
       "  \n",
       "         [[0, 0, 0, ..., 0, 0, 0],\n",
       "          [0, 0, 0, ..., 0, 0, 0],\n",
       "          [0, 0, 0, ..., 0, 0, 0],\n",
       "          ...,\n",
       "          [0, 0, 0, ..., 0, 0, 0],\n",
       "          [0, 0, 0, ..., 0, 0, 0],\n",
       "          [0, 0, 0, ..., 0, 0, 0]],\n",
       "  \n",
       "         ...,\n",
       "  \n",
       "         [[0, 0, 0, ..., 0, 0, 0],\n",
       "          [0, 0, 0, ..., 0, 0, 0],\n",
       "          [0, 0, 0, ..., 0, 0, 0],\n",
       "          ...,\n",
       "          [0, 0, 0, ..., 0, 0, 0],\n",
       "          [0, 0, 0, ..., 0, 0, 0],\n",
       "          [0, 0, 0, ..., 0, 0, 0]],\n",
       "  \n",
       "         [[0, 0, 0, ..., 0, 0, 0],\n",
       "          [0, 0, 0, ..., 0, 0, 0],\n",
       "          [0, 0, 0, ..., 0, 0, 0],\n",
       "          ...,\n",
       "          [0, 0, 0, ..., 0, 0, 0],\n",
       "          [0, 0, 0, ..., 0, 0, 0],\n",
       "          [0, 0, 0, ..., 0, 0, 0]],\n",
       "  \n",
       "         [[0, 0, 0, ..., 0, 0, 0],\n",
       "          [0, 0, 0, ..., 0, 0, 0],\n",
       "          [0, 0, 0, ..., 0, 0, 0],\n",
       "          ...,\n",
       "          [0, 0, 0, ..., 0, 0, 0],\n",
       "          [0, 0, 0, ..., 0, 0, 0],\n",
       "          [0, 0, 0, ..., 0, 0, 0]]], dtype=uint8),\n",
       "  array([5, 0, 4, ..., 5, 6, 8], dtype=uint8)),\n",
       " (array([[[0, 0, 0, ..., 0, 0, 0],\n",
       "          [0, 0, 0, ..., 0, 0, 0],\n",
       "          [0, 0, 0, ..., 0, 0, 0],\n",
       "          ...,\n",
       "          [0, 0, 0, ..., 0, 0, 0],\n",
       "          [0, 0, 0, ..., 0, 0, 0],\n",
       "          [0, 0, 0, ..., 0, 0, 0]],\n",
       "  \n",
       "         [[0, 0, 0, ..., 0, 0, 0],\n",
       "          [0, 0, 0, ..., 0, 0, 0],\n",
       "          [0, 0, 0, ..., 0, 0, 0],\n",
       "          ...,\n",
       "          [0, 0, 0, ..., 0, 0, 0],\n",
       "          [0, 0, 0, ..., 0, 0, 0],\n",
       "          [0, 0, 0, ..., 0, 0, 0]],\n",
       "  \n",
       "         [[0, 0, 0, ..., 0, 0, 0],\n",
       "          [0, 0, 0, ..., 0, 0, 0],\n",
       "          [0, 0, 0, ..., 0, 0, 0],\n",
       "          ...,\n",
       "          [0, 0, 0, ..., 0, 0, 0],\n",
       "          [0, 0, 0, ..., 0, 0, 0],\n",
       "          [0, 0, 0, ..., 0, 0, 0]],\n",
       "  \n",
       "         ...,\n",
       "  \n",
       "         [[0, 0, 0, ..., 0, 0, 0],\n",
       "          [0, 0, 0, ..., 0, 0, 0],\n",
       "          [0, 0, 0, ..., 0, 0, 0],\n",
       "          ...,\n",
       "          [0, 0, 0, ..., 0, 0, 0],\n",
       "          [0, 0, 0, ..., 0, 0, 0],\n",
       "          [0, 0, 0, ..., 0, 0, 0]],\n",
       "  \n",
       "         [[0, 0, 0, ..., 0, 0, 0],\n",
       "          [0, 0, 0, ..., 0, 0, 0],\n",
       "          [0, 0, 0, ..., 0, 0, 0],\n",
       "          ...,\n",
       "          [0, 0, 0, ..., 0, 0, 0],\n",
       "          [0, 0, 0, ..., 0, 0, 0],\n",
       "          [0, 0, 0, ..., 0, 0, 0]],\n",
       "  \n",
       "         [[0, 0, 0, ..., 0, 0, 0],\n",
       "          [0, 0, 0, ..., 0, 0, 0],\n",
       "          [0, 0, 0, ..., 0, 0, 0],\n",
       "          ...,\n",
       "          [0, 0, 0, ..., 0, 0, 0],\n",
       "          [0, 0, 0, ..., 0, 0, 0],\n",
       "          [0, 0, 0, ..., 0, 0, 0]]], dtype=uint8),\n",
       "  array([7, 2, 1, ..., 4, 5, 6], dtype=uint8)))"
      ]
     },
     "execution_count": 42,
     "metadata": {},
     "output_type": "execute_result"
    }
   ],
   "source": [
    "mnistData"
   ]
  },
  {
   "cell_type": "code",
   "execution_count": 43,
   "id": "b69d31b6",
   "metadata": {
    "ExecuteTime": {
     "end_time": "2022-04-03T05:32:12.399337Z",
     "start_time": "2022-04-03T05:32:12.384333Z"
    }
   },
   "outputs": [],
   "source": [
    "(x_train,y_train),(x_test,y_test) = mnistData"
   ]
  },
  {
   "cell_type": "code",
   "execution_count": 44,
   "id": "8ef0e7c3",
   "metadata": {
    "ExecuteTime": {
     "end_time": "2022-04-03T05:32:12.415333Z",
     "start_time": "2022-04-03T05:32:12.401359Z"
    }
   },
   "outputs": [
    {
     "data": {
      "text/plain": [
       "((60000, 28, 28), (10000, 28, 28), (10000,), (10000,))"
      ]
     },
     "execution_count": 44,
     "metadata": {},
     "output_type": "execute_result"
    }
   ],
   "source": [
    "x_train.shape,x_test.shape,y_test.shape , y_test.shape"
   ]
  },
  {
   "cell_type": "code",
   "execution_count": 45,
   "id": "bcbcbc49",
   "metadata": {
    "ExecuteTime": {
     "end_time": "2022-04-03T05:32:12.526332Z",
     "start_time": "2022-04-03T05:32:12.417336Z"
    }
   },
   "outputs": [
    {
     "data": {
      "image/png": "[encoded data removed]",
      "text/plain": [
       "<Figure size 432x288 with 1 Axes>"
      ]
     },
     "metadata": {},
     "output_type": "display_data"
    }
   ],
   "source": [
    "plt.imshow(x_train[0])   # [면, 행, 열]\n",
    "plt.show()"
   ]
  },
  {
   "cell_type": "code",
   "execution_count": 46,
   "id": "83e48120",
   "metadata": {
    "ExecuteTime": {
     "end_time": "2022-04-03T05:32:12.542333Z",
     "start_time": "2022-04-03T05:32:12.528333Z"
    }
   },
   "outputs": [
    {
     "data": {
      "text/plain": [
       "5"
      ]
     },
     "execution_count": 46,
     "metadata": {},
     "output_type": "execute_result"
    }
   ],
   "source": [
    "y_train[0]"
   ]
  },
  {
   "cell_type": "code",
   "execution_count": 47,
   "id": "fb48dfcb",
   "metadata": {
    "ExecuteTime": {
     "end_time": "2022-04-03T05:32:12.557332Z",
     "start_time": "2022-04-03T05:32:12.544334Z"
    }
   },
   "outputs": [
    {
     "data": {
      "text/plain": [
       "array([5, 0, 4, ..., 5, 6, 8], dtype=uint8)"
      ]
     },
     "execution_count": 47,
     "metadata": {},
     "output_type": "execute_result"
    }
   ],
   "source": [
    "y_train  # y값을 인코딩해야함."
   ]
  },
  {
   "cell_type": "code",
   "execution_count": 48,
   "id": "bf482398",
   "metadata": {
    "ExecuteTime": {
     "end_time": "2022-04-03T05:32:12.573333Z",
     "start_time": "2022-04-03T05:32:12.559334Z"
    },
    "scrolled": true
   },
   "outputs": [
    {
     "data": {
      "text/plain": [
       "array([[0., 0., 0., ..., 0., 0., 0.],\n",
       "       [1., 0., 0., ..., 0., 0., 0.],\n",
       "       [0., 0., 0., ..., 0., 0., 0.],\n",
       "       ...,\n",
       "       [0., 0., 0., ..., 0., 0., 0.],\n",
       "       [0., 0., 0., ..., 0., 0., 0.],\n",
       "       [0., 0., 0., ..., 0., 1., 0.]], dtype=float32)"
      ]
     },
     "execution_count": 48,
     "metadata": {},
     "output_type": "execute_result"
    }
   ],
   "source": [
    "y_trainOne = to_categorical(y_train)\n",
    "y_trainOne"
   ]
  },
  {
   "cell_type": "code",
   "execution_count": 49,
   "id": "90ac22a0",
   "metadata": {
    "ExecuteTime": {
     "end_time": "2022-04-03T05:32:12.589333Z",
     "start_time": "2022-04-03T05:32:12.574334Z"
    },
    "scrolled": true
   },
   "outputs": [
    {
     "data": {
      "text/plain": [
       "(60000, 28, 28)"
      ]
     },
     "execution_count": 49,
     "metadata": {},
     "output_type": "execute_result"
    }
   ],
   "source": [
    "x_train.shape"
   ]
  },
  {
   "cell_type": "code",
   "execution_count": 50,
   "id": "b1e69b2a",
   "metadata": {
    "ExecuteTime": {
     "end_time": "2022-04-03T05:32:12.605334Z",
     "start_time": "2022-04-03T05:32:12.590334Z"
    }
   },
   "outputs": [
    {
     "data": {
      "text/plain": [
       "(60000, 784)"
      ]
     },
     "execution_count": 50,
     "metadata": {},
     "output_type": "execute_result"
    }
   ],
   "source": [
    "x_trainM = x_train.reshape(60000,-1, )  # 2차원으로 변경\n",
    "x_trainM.shape"
   ]
  },
  {
   "cell_type": "code",
   "execution_count": 51,
   "id": "31c77790",
   "metadata": {
    "ExecuteTime": {
     "end_time": "2022-04-03T05:32:57.215332Z",
     "start_time": "2022-04-03T05:32:12.606333Z"
    }
   },
   "outputs": [
    {
     "name": "stdout",
     "output_type": "stream",
     "text": [
      "Epoch 1/10\n",
      "1875/1875 [==============================] - 5s 2ms/step - loss: 1.7601 - acc: 0.7363\n",
      "Epoch 2/10\n",
      "1875/1875 [==============================] - 4s 2ms/step - loss: 0.4358 - acc: 0.8830\n",
      "Epoch 3/10\n",
      "1875/1875 [==============================] - 4s 2ms/step - loss: 0.2802 - acc: 0.9245\n",
      "Epoch 4/10\n",
      "1875/1875 [==============================] - 4s 2ms/step - loss: 0.2080 - acc: 0.9428\n",
      "Epoch 5/10\n",
      "1875/1875 [==============================] - 4s 2ms/step - loss: 0.1746 - acc: 0.9530\n",
      "Epoch 6/10\n",
      "1875/1875 [==============================] - 5s 2ms/step - loss: 0.1526 - acc: 0.9584\n",
      "Epoch 7/10\n",
      "1875/1875 [==============================] - 5s 3ms/step - loss: 0.1358 - acc: 0.9627\n",
      "Epoch 8/10\n",
      "1875/1875 [==============================] - 4s 2ms/step - loss: 0.1294 - acc: 0.9656\n",
      "Epoch 9/10\n",
      "1875/1875 [==============================] - 4s 2ms/step - loss: 0.1166 - acc: 0.9675\n",
      "Epoch 10/10\n",
      "1875/1875 [==============================] - 4s 2ms/step - loss: 0.1055 - acc: 0.9713\n"
     ]
    },
    {
     "data": {
      "text/plain": [
       "<keras.callbacks.History at 0x2785e377ec8>"
      ]
     },
     "execution_count": 51,
     "metadata": {},
     "output_type": "execute_result"
    }
   ],
   "source": [
    "model = Sequential()\n",
    "model.add(Dense(units=64, input_dim = 784, activation='relu' )  )\n",
    "model.add(Dense(units=32, input_dim = 64, activation='relu' )  )\n",
    "model.add(Dense(units=10, input_dim = 32, activation='softmax' )  )\n",
    "\n",
    "model.compile(loss = 'categorical_crossentropy',optimizer='adam',metrics=['acc'])\n",
    "model.fit(x_trainM, y_trainOne,epochs=10)"
   ]
  },
  {
   "cell_type": "code",
   "execution_count": 52,
   "id": "e428ba4d",
   "metadata": {
    "ExecuteTime": {
     "end_time": "2022-04-03T05:32:57.327333Z",
     "start_time": "2022-04-03T05:32:57.216333Z"
    }
   },
   "outputs": [
    {
     "data": {
      "text/plain": [
       "<matplotlib.image.AxesImage at 0x2785e3777c8>"
      ]
     },
     "execution_count": 52,
     "metadata": {},
     "output_type": "execute_result"
    },
    {
     "data": {
      "image/png": "[encoded data removed]",
      "text/plain": [
       "<Figure size 432x288 with 1 Axes>"
      ]
     },
     "metadata": {},
     "output_type": "display_data"
    }
   ],
   "source": [
    "plt.imshow(x_test[0])"
   ]
  },
  {
   "cell_type": "code",
   "execution_count": 53,
   "id": "264356e7",
   "metadata": {
    "ExecuteTime": {
     "end_time": "2022-04-03T05:32:57.343333Z",
     "start_time": "2022-04-03T05:32:57.329334Z"
    },
    "scrolled": true
   },
   "outputs": [
    {
     "data": {
      "text/plain": [
       "(28, 28)"
      ]
     },
     "execution_count": 53,
     "metadata": {},
     "output_type": "execute_result"
    }
   ],
   "source": [
    "x_test[0].shape"
   ]
  },
  {
   "cell_type": "code",
   "execution_count": 54,
   "id": "87ca9a0c",
   "metadata": {
    "ExecuteTime": {
     "end_time": "2022-04-03T05:32:57.421334Z",
     "start_time": "2022-04-03T05:32:57.344335Z"
    }
   },
   "outputs": [
    {
     "data": {
      "text/plain": [
       "array([7], dtype=int64)"
      ]
     },
     "execution_count": 54,
     "metadata": {},
     "output_type": "execute_result"
    }
   ],
   "source": [
    "model.predict( x_test[0].reshape(1,-1)).argmax(axis=1) "
   ]
  },
  {
   "cell_type": "code",
   "execution_count": 55,
   "id": "81062ae9",
   "metadata": {
    "ExecuteTime": {
     "end_time": "2022-04-03T05:32:57.437336Z",
     "start_time": "2022-04-03T05:32:57.424356Z"
    },
    "scrolled": true
   },
   "outputs": [
    {
     "data": {
      "text/plain": [
       "((10000, 28, 28), (10000,))"
      ]
     },
     "execution_count": 55,
     "metadata": {},
     "output_type": "execute_result"
    }
   ],
   "source": [
    "x_test.shape, y_test.shape     #  x_test를 수정해야함"
   ]
  },
  {
   "cell_type": "code",
   "execution_count": 56,
   "id": "5476414b",
   "metadata": {
    "ExecuteTime": {
     "end_time": "2022-04-03T05:32:57.453333Z",
     "start_time": "2022-04-03T05:32:57.438335Z"
    }
   },
   "outputs": [
    {
     "data": {
      "text/plain": [
       "7"
      ]
     },
     "execution_count": 56,
     "metadata": {},
     "output_type": "execute_result"
    }
   ],
   "source": [
    "y_test[0]"
   ]
  },
  {
   "cell_type": "code",
   "execution_count": 57,
   "id": "9494ca29",
   "metadata": {
    "ExecuteTime": {
     "end_time": "2022-04-03T05:32:57.469334Z",
     "start_time": "2022-04-03T05:32:57.455357Z"
    },
    "scrolled": true
   },
   "outputs": [
    {
     "data": {
      "text/plain": [
       "array([[0, 0, 0, ..., 0, 0, 0],\n",
       "       [0, 0, 0, ..., 0, 0, 0],\n",
       "       [0, 0, 0, ..., 0, 0, 0],\n",
       "       ...,\n",
       "       [0, 0, 0, ..., 0, 0, 0],\n",
       "       [0, 0, 0, ..., 0, 0, 0],\n",
       "       [0, 0, 0, ..., 0, 0, 0]], dtype=uint8)"
      ]
     },
     "execution_count": 57,
     "metadata": {},
     "output_type": "execute_result"
    }
   ],
   "source": [
    "x_test.reshape(-1,28*28)"
   ]
  },
  {
   "cell_type": "code",
   "execution_count": 58,
   "id": "c5a1edf3",
   "metadata": {
    "ExecuteTime": {
     "end_time": "2022-04-03T05:32:57.485335Z",
     "start_time": "2022-04-03T05:32:57.470335Z"
    }
   },
   "outputs": [
    {
     "data": {
      "text/plain": [
       "array([355,  97, 406, ..., 711, 464,  75], dtype=int64)"
      ]
     },
     "execution_count": 58,
     "metadata": {},
     "output_type": "execute_result"
    }
   ],
   "source": [
    "x_test.reshape(-1,28*28).argmax(axis=1)"
   ]
  },
  {
   "cell_type": "code",
   "execution_count": 59,
   "id": "38c71bca",
   "metadata": {
    "ExecuteTime": {
     "end_time": "2022-04-03T05:32:57.501349Z",
     "start_time": "2022-04-03T05:32:57.486334Z"
    }
   },
   "outputs": [],
   "source": [
    "y_test = to_categorical(y_test)"
   ]
  },
  {
   "cell_type": "code",
   "execution_count": 60,
   "id": "b5965695",
   "metadata": {
    "ExecuteTime": {
     "end_time": "2022-04-03T05:32:58.298333Z",
     "start_time": "2022-04-03T05:32:57.502334Z"
    },
    "scrolled": false
   },
   "outputs": [
    {
     "name": "stdout",
     "output_type": "stream",
     "text": [
      "313/313 [==============================] - 1s 2ms/step - loss: 0.1682 - acc: 0.9622\n"
     ]
    },
    {
     "data": {
      "text/plain": [
       "[0.168241485953331, 0.9621999859809875]"
      ]
     },
     "execution_count": 60,
     "metadata": {},
     "output_type": "execute_result"
    }
   ],
   "source": [
    "model.evaluate(x_test.reshape(-1,28*28),y_test)"
   ]
  },
  {
   "cell_type": "code",
   "execution_count": 61,
   "id": "5ed4a81e",
   "metadata": {
    "ExecuteTime": {
     "end_time": "2022-04-03T05:32:58.536333Z",
     "start_time": "2022-04-03T05:32:58.299333Z"
    }
   },
   "outputs": [
    {
     "data": {
      "text/plain": [
       "(60000, 28, 28)"
      ]
     },
     "execution_count": 61,
     "metadata": {},
     "output_type": "execute_result"
    }
   ],
   "source": [
    "mnistData = load_data()\n",
    "\n",
    "(x_train,y_train),(x_test,y_test) = mnistData\n",
    "\n",
    "x_train.shape"
   ]
  },
  {
   "cell_type": "markdown",
   "id": "d0efab7d",
   "metadata": {},
   "source": [
    "\n",
    " # onehot인코딩 안하는 방법\n",
    " ## Flatten -> 1차원\n",
    " ## sparse_categorical_crossentropy"
   ]
  },
  {
   "cell_type": "code",
   "execution_count": 62,
   "id": "31049370",
   "metadata": {
    "ExecuteTime": {
     "end_time": "2022-04-03T05:33:42.007139Z",
     "start_time": "2022-04-03T05:32:58.537332Z"
    }
   },
   "outputs": [
    {
     "name": "stdout",
     "output_type": "stream",
     "text": [
      "Epoch 1/10\n",
      "1875/1875 [==============================] - 5s 2ms/step - loss: 1.6016 - acc: 0.8210\n",
      "Epoch 2/10\n",
      "1875/1875 [==============================] - 4s 2ms/step - loss: 0.3567 - acc: 0.9095\n",
      "Epoch 3/10\n",
      "1875/1875 [==============================] - 4s 2ms/step - loss: 0.2791 - acc: 0.9262\n",
      "Epoch 4/10\n",
      "1875/1875 [==============================] - 4s 2ms/step - loss: 0.2323 - acc: 0.9368\n",
      "Epoch 5/10\n",
      "1875/1875 [==============================] - 4s 2ms/step - loss: 0.1988 - acc: 0.9453\n",
      "Epoch 6/10\n",
      "1875/1875 [==============================] - 4s 2ms/step - loss: 0.1794 - acc: 0.9500\n",
      "Epoch 7/10\n",
      "1875/1875 [==============================] - 4s 2ms/step - loss: 0.1603 - acc: 0.9539\n",
      "Epoch 8/10\n",
      "1875/1875 [==============================] - 4s 2ms/step - loss: 0.1496 - acc: 0.9577\n",
      "Epoch 9/10\n",
      "1875/1875 [==============================] - 4s 2ms/step - loss: 0.1378 - acc: 0.9609\n",
      "Epoch 10/10\n",
      "1875/1875 [==============================] - 4s 2ms/step - loss: 0.1305 - acc: 0.9614\n"
     ]
    },
    {
     "data": {
      "text/plain": [
       "<keras.callbacks.History at 0x27873c036c8>"
      ]
     },
     "execution_count": 62,
     "metadata": {},
     "output_type": "execute_result"
    }
   ],
   "source": [
    "model = Sequential()\n",
    "model.add(Flatten(input_shape = (28,28)))\n",
    "model.add(Dense(units=64,  activation='relu' )  )\n",
    "model.add(Dense(units=32,  activation='relu' )  )\n",
    "model.add(Dense(units=10,  activation='softmax' )  )\n",
    "\n",
    "model.compile(loss = 'sparse_categorical_crossentropy',optimizer='adam',metrics=['acc'])\n",
    "model.fit(x_train, y_train,epochs=10)"
   ]
  },
  {
   "cell_type": "code",
   "execution_count": 63,
   "id": "ed76b26b",
   "metadata": {
    "ExecuteTime": {
     "end_time": "2022-04-03T05:33:42.309149Z",
     "start_time": "2022-04-03T05:33:42.008236Z"
    }
   },
   "outputs": [
    {
     "data": {
      "text/plain": [
       "array([[4.22517815e-20, 1.56030555e-09, 2.78773723e-06, ...,\n",
       "        9.99997139e-01, 3.90529935e-11, 9.05792889e-12],\n",
       "       [3.02657094e-10, 2.48754630e-04, 9.99731243e-01, ...,\n",
       "        8.66578739e-06, 2.02377123e-06, 1.38956775e-08],\n",
       "       [6.62249163e-16, 9.99999762e-01, 4.81172102e-10, ...,\n",
       "        7.49954232e-09, 2.00125655e-07, 6.79155693e-14],\n",
       "       ...,\n",
       "       [2.86548367e-17, 1.41087779e-14, 1.13963976e-08, ...,\n",
       "        1.45738248e-08, 4.67164861e-14, 2.39800424e-09],\n",
       "       [7.62567929e-29, 3.95401089e-20, 2.27107769e-24, ...,\n",
       "        4.13591253e-23, 2.50763045e-15, 5.43873525e-22],\n",
       "       [4.86704635e-11, 1.07834449e-17, 3.32814523e-08, ...,\n",
       "        3.05323150e-13, 2.26694141e-12, 1.22508873e-17]], dtype=float32)"
      ]
     },
     "execution_count": 63,
     "metadata": {},
     "output_type": "execute_result"
    }
   ],
   "source": [
    "model.predict( x_test )"
   ]
  },
  {
   "cell_type": "code",
   "execution_count": 64,
   "id": "2658d900",
   "metadata": {
    "ExecuteTime": {
     "end_time": "2022-04-03T05:33:42.325141Z",
     "start_time": "2022-04-03T05:33:42.310141Z"
    }
   },
   "outputs": [
    {
     "data": {
      "text/plain": [
       "array([[[0, 0, 0, ..., 0, 0, 0],\n",
       "        [0, 0, 0, ..., 0, 0, 0],\n",
       "        [0, 0, 0, ..., 0, 0, 0],\n",
       "        ...,\n",
       "        [0, 0, 0, ..., 0, 0, 0],\n",
       "        [0, 0, 0, ..., 0, 0, 0],\n",
       "        [0, 0, 0, ..., 0, 0, 0]],\n",
       "\n",
       "       [[0, 0, 0, ..., 0, 0, 0],\n",
       "        [0, 0, 0, ..., 0, 0, 0],\n",
       "        [0, 0, 0, ..., 0, 0, 0],\n",
       "        ...,\n",
       "        [0, 0, 0, ..., 0, 0, 0],\n",
       "        [0, 0, 0, ..., 0, 0, 0],\n",
       "        [0, 0, 0, ..., 0, 0, 0]],\n",
       "\n",
       "       [[0, 0, 0, ..., 0, 0, 0],\n",
       "        [0, 0, 0, ..., 0, 0, 0],\n",
       "        [0, 0, 0, ..., 0, 0, 0],\n",
       "        ...,\n",
       "        [0, 0, 0, ..., 0, 0, 0],\n",
       "        [0, 0, 0, ..., 0, 0, 0],\n",
       "        [0, 0, 0, ..., 0, 0, 0]],\n",
       "\n",
       "       ...,\n",
       "\n",
       "       [[0, 0, 0, ..., 0, 0, 0],\n",
       "        [0, 0, 0, ..., 0, 0, 0],\n",
       "        [0, 0, 0, ..., 0, 0, 0],\n",
       "        ...,\n",
       "        [0, 0, 0, ..., 0, 0, 0],\n",
       "        [0, 0, 0, ..., 0, 0, 0],\n",
       "        [0, 0, 0, ..., 0, 0, 0]],\n",
       "\n",
       "       [[0, 0, 0, ..., 0, 0, 0],\n",
       "        [0, 0, 0, ..., 0, 0, 0],\n",
       "        [0, 0, 0, ..., 0, 0, 0],\n",
       "        ...,\n",
       "        [0, 0, 0, ..., 0, 0, 0],\n",
       "        [0, 0, 0, ..., 0, 0, 0],\n",
       "        [0, 0, 0, ..., 0, 0, 0]],\n",
       "\n",
       "       [[0, 0, 0, ..., 0, 0, 0],\n",
       "        [0, 0, 0, ..., 0, 0, 0],\n",
       "        [0, 0, 0, ..., 0, 0, 0],\n",
       "        ...,\n",
       "        [0, 0, 0, ..., 0, 0, 0],\n",
       "        [0, 0, 0, ..., 0, 0, 0],\n",
       "        [0, 0, 0, ..., 0, 0, 0]]], dtype=uint8)"
      ]
     },
     "execution_count": 64,
     "metadata": {},
     "output_type": "execute_result"
    }
   ],
   "source": [
    "x_test"
   ]
  },
  {
   "cell_type": "code",
   "execution_count": 65,
   "id": "b3bc1aca",
   "metadata": {
    "ExecuteTime": {
     "end_time": "2022-04-03T05:33:42.341149Z",
     "start_time": "2022-04-03T05:33:42.326145Z"
    }
   },
   "outputs": [
    {
     "data": {
      "text/plain": [
       "array([7, 2, 1, ..., 4, 5, 6], dtype=uint8)"
      ]
     },
     "execution_count": 65,
     "metadata": {},
     "output_type": "execute_result"
    }
   ],
   "source": [
    "y_test"
   ]
  },
  {
   "cell_type": "code",
   "execution_count": 66,
   "id": "e3ba0c0d",
   "metadata": {
    "ExecuteTime": {
     "end_time": "2022-04-03T05:33:42.357159Z",
     "start_time": "2022-04-03T05:33:42.343142Z"
    }
   },
   "outputs": [
    {
     "data": {
      "text/plain": [
       "array([[  0,   0,   0,   0,   0,   0,   0,   0,   0,   0,   0,   0,   0,\n",
       "          0,   0,   0,   0,   0,   0,   0,   0,   0,   0,   0,   0,   0,\n",
       "          0,   0],\n",
       "       [  0,   0,   0,   0,   0,   0,   0,   0,   0,   0,   0,   0,   0,\n",
       "          0,   0,   0,   0,   0,   0,   0,   0,   0,   0,   0,   0,   0,\n",
       "          0,   0],\n",
       "       [  0,   0,   0,   0,   0,   0,   0,   0,   0,   0,   0,   0,   0,\n",
       "          0,   0,   0,   0,   0,   0,   0,   0,   0,   0,   0,   0,   0,\n",
       "          0,   0],\n",
       "       [  0,   0,   0,   0,   0,   0,   0,   0,   0,   0,   0,   0,   0,\n",
       "          0,   0,   0,   0,   0,   0,   0,   0,   0,   0,   0,   0,   0,\n",
       "          0,   0],\n",
       "       [  0,   0,   0,   0,   0,   0,   0,   0,   0,   0,   0,   0,   0,\n",
       "          0,   0,   0,   0,   0,   0,   0,   0,   0,   0,   0,   0,   0,\n",
       "          0,   0],\n",
       "       [  0,   0,   0,   0,   0,   0,   0,   0,   0,   0,   0,   0,   0,\n",
       "          0,   0,   0,   0,   0,   0,   0,   0,   0,   0,   0,   0,   0,\n",
       "          0,   0],\n",
       "       [  0,   0,   0,   0,   0,   0,   0,   0,   0,   0,   0,   0,   0,\n",
       "          0,   0,   0,   0,   0,   0,   0,   0,   0,   0,   0,   0,   0,\n",
       "          0,   0],\n",
       "       [  0,   0,   0,   0,   0,   0,  84, 185, 159, 151,  60,  36,   0,\n",
       "          0,   0,   0,   0,   0,   0,   0,   0,   0,   0,   0,   0,   0,\n",
       "          0,   0],\n",
       "       [  0,   0,   0,   0,   0,   0, 222, 254, 254, 254, 254, 241, 198,\n",
       "        198, 198, 198, 198, 198, 198, 198, 170,  52,   0,   0,   0,   0,\n",
       "          0,   0],\n",
       "       [  0,   0,   0,   0,   0,   0,  67, 114,  72, 114, 163, 227, 254,\n",
       "        225, 254, 254, 254, 250, 229, 254, 254, 140,   0,   0,   0,   0,\n",
       "          0,   0],\n",
       "       [  0,   0,   0,   0,   0,   0,   0,   0,   0,   0,   0,  17,  66,\n",
       "         14,  67,  67,  67,  59,  21, 236, 254, 106,   0,   0,   0,   0,\n",
       "          0,   0],\n",
       "       [  0,   0,   0,   0,   0,   0,   0,   0,   0,   0,   0,   0,   0,\n",
       "          0,   0,   0,   0,   0,  83, 253, 209,  18,   0,   0,   0,   0,\n",
       "          0,   0],\n",
       "       [  0,   0,   0,   0,   0,   0,   0,   0,   0,   0,   0,   0,   0,\n",
       "          0,   0,   0,   0,  22, 233, 255,  83,   0,   0,   0,   0,   0,\n",
       "          0,   0],\n",
       "       [  0,   0,   0,   0,   0,   0,   0,   0,   0,   0,   0,   0,   0,\n",
       "          0,   0,   0,   0, 129, 254, 238,  44,   0,   0,   0,   0,   0,\n",
       "          0,   0],\n",
       "       [  0,   0,   0,   0,   0,   0,   0,   0,   0,   0,   0,   0,   0,\n",
       "          0,   0,   0,  59, 249, 254,  62,   0,   0,   0,   0,   0,   0,\n",
       "          0,   0],\n",
       "       [  0,   0,   0,   0,   0,   0,   0,   0,   0,   0,   0,   0,   0,\n",
       "          0,   0,   0, 133, 254, 187,   5,   0,   0,   0,   0,   0,   0,\n",
       "          0,   0],\n",
       "       [  0,   0,   0,   0,   0,   0,   0,   0,   0,   0,   0,   0,   0,\n",
       "          0,   0,   9, 205, 248,  58,   0,   0,   0,   0,   0,   0,   0,\n",
       "          0,   0],\n",
       "       [  0,   0,   0,   0,   0,   0,   0,   0,   0,   0,   0,   0,   0,\n",
       "          0,   0, 126, 254, 182,   0,   0,   0,   0,   0,   0,   0,   0,\n",
       "          0,   0],\n",
       "       [  0,   0,   0,   0,   0,   0,   0,   0,   0,   0,   0,   0,   0,\n",
       "          0,  75, 251, 240,  57,   0,   0,   0,   0,   0,   0,   0,   0,\n",
       "          0,   0],\n",
       "       [  0,   0,   0,   0,   0,   0,   0,   0,   0,   0,   0,   0,   0,\n",
       "         19, 221, 254, 166,   0,   0,   0,   0,   0,   0,   0,   0,   0,\n",
       "          0,   0],\n",
       "       [  0,   0,   0,   0,   0,   0,   0,   0,   0,   0,   0,   0,   3,\n",
       "        203, 254, 219,  35,   0,   0,   0,   0,   0,   0,   0,   0,   0,\n",
       "          0,   0],\n",
       "       [  0,   0,   0,   0,   0,   0,   0,   0,   0,   0,   0,   0,  38,\n",
       "        254, 254,  77,   0,   0,   0,   0,   0,   0,   0,   0,   0,   0,\n",
       "          0,   0],\n",
       "       [  0,   0,   0,   0,   0,   0,   0,   0,   0,   0,   0,  31, 224,\n",
       "        254, 115,   1,   0,   0,   0,   0,   0,   0,   0,   0,   0,   0,\n",
       "          0,   0],\n",
       "       [  0,   0,   0,   0,   0,   0,   0,   0,   0,   0,   0, 133, 254,\n",
       "        254,  52,   0,   0,   0,   0,   0,   0,   0,   0,   0,   0,   0,\n",
       "          0,   0],\n",
       "       [  0,   0,   0,   0,   0,   0,   0,   0,   0,   0,  61, 242, 254,\n",
       "        254,  52,   0,   0,   0,   0,   0,   0,   0,   0,   0,   0,   0,\n",
       "          0,   0],\n",
       "       [  0,   0,   0,   0,   0,   0,   0,   0,   0,   0, 121, 254, 254,\n",
       "        219,  40,   0,   0,   0,   0,   0,   0,   0,   0,   0,   0,   0,\n",
       "          0,   0],\n",
       "       [  0,   0,   0,   0,   0,   0,   0,   0,   0,   0, 121, 254, 207,\n",
       "         18,   0,   0,   0,   0,   0,   0,   0,   0,   0,   0,   0,   0,\n",
       "          0,   0],\n",
       "       [  0,   0,   0,   0,   0,   0,   0,   0,   0,   0,   0,   0,   0,\n",
       "          0,   0,   0,   0,   0,   0,   0,   0,   0,   0,   0,   0,   0,\n",
       "          0,   0]], dtype=uint8)"
      ]
     },
     "execution_count": 66,
     "metadata": {},
     "output_type": "execute_result"
    }
   ],
   "source": [
    "x_test[0]"
   ]
  },
  {
   "cell_type": "code",
   "execution_count": 67,
   "id": "127eaf94",
   "metadata": {
    "ExecuteTime": {
     "end_time": "2022-04-03T05:33:42.373140Z",
     "start_time": "2022-04-03T05:33:42.359142Z"
    }
   },
   "outputs": [
    {
     "data": {
      "text/plain": [
       "(28, 28)"
      ]
     },
     "execution_count": 67,
     "metadata": {},
     "output_type": "execute_result"
    }
   ],
   "source": [
    "x_test[0].shape"
   ]
  },
  {
   "cell_type": "code",
   "execution_count": 68,
   "id": "2acada60",
   "metadata": {
    "ExecuteTime": {
     "end_time": "2022-04-03T05:33:42.389142Z",
     "start_time": "2022-04-03T05:33:42.375154Z"
    }
   },
   "outputs": [
    {
     "data": {
      "text/plain": [
       "array([[ 0,  0,  0,  0,  0,  0,  8,  8,  8,  8,  8, 25,  9, 21,  9,  9,\n",
       "         9, 15, 13, 12,  9,  9,  0,  0,  0,  0,  0,  0]], dtype=int64)"
      ]
     },
     "execution_count": 68,
     "metadata": {},
     "output_type": "execute_result"
    }
   ],
   "source": [
    "x_test[0].reshape(1,28,28).argmax(axis=1)"
   ]
  },
  {
   "cell_type": "code",
   "execution_count": 69,
   "id": "67f9508d",
   "metadata": {
    "ExecuteTime": {
     "end_time": "2022-04-03T05:33:42.437140Z",
     "start_time": "2022-04-03T05:33:42.391141Z"
    }
   },
   "outputs": [
    {
     "data": {
      "text/plain": [
       "array([7], dtype=int64)"
      ]
     },
     "execution_count": 69,
     "metadata": {},
     "output_type": "execute_result"
    }
   ],
   "source": [
    "model.predict(x_test[0].reshape(1,28,28)).argmax(axis=1)"
   ]
  },
  {
   "cell_type": "code",
   "execution_count": 70,
   "id": "089fa645",
   "metadata": {
    "ExecuteTime": {
     "end_time": "2022-04-03T05:33:42.739139Z",
     "start_time": "2022-04-03T05:33:42.438140Z"
    }
   },
   "outputs": [
    {
     "data": {
      "text/plain": [
       "array([7, 2, 1, ..., 4, 5, 6], dtype=int64)"
      ]
     },
     "execution_count": 70,
     "metadata": {},
     "output_type": "execute_result"
    }
   ],
   "source": [
    "model.predict(x_test).argmax(axis=1) # => x 전체 예측값"
   ]
  },
  {
   "cell_type": "code",
   "execution_count": 71,
   "id": "97237a69",
   "metadata": {
    "ExecuteTime": {
     "end_time": "2022-04-03T05:33:43.537140Z",
     "start_time": "2022-04-03T05:33:42.741141Z"
    }
   },
   "outputs": [
    {
     "name": "stdout",
     "output_type": "stream",
     "text": [
      "313/313 [==============================] - 1s 2ms/step - loss: 0.1861 - acc: 0.9509\n"
     ]
    },
    {
     "data": {
      "text/plain": [
       "[0.1861191987991333, 0.9509000182151794]"
      ]
     },
     "execution_count": 71,
     "metadata": {},
     "output_type": "execute_result"
    }
   ],
   "source": [
    "model.evaluate(x_test,y_test) # 손실, 정확도"
   ]
  },
  {
   "cell_type": "markdown",
   "id": "eb3259d3",
   "metadata": {},
   "source": [
    "# 텐서\n"
   ]
  },
  {
   "cell_type": "code",
   "execution_count": 72,
   "id": "9263a185",
   "metadata": {
    "ExecuteTime": {
     "end_time": "2022-04-03T05:33:43.758139Z",
     "start_time": "2022-04-03T05:33:43.538142Z"
    }
   },
   "outputs": [
    {
     "data": {
      "text/plain": [
       "(60000, 28, 28)"
      ]
     },
     "execution_count": 72,
     "metadata": {},
     "output_type": "execute_result"
    }
   ],
   "source": [
    "mnistData = load_data()\n",
    "\n",
    "(x_train,y_train),(x_test,y_test) = mnistData\n",
    "\n",
    "x_train.shape"
   ]
  },
  {
   "cell_type": "code",
   "execution_count": 73,
   "id": "10a31417",
   "metadata": {
    "ExecuteTime": {
     "end_time": "2022-04-03T05:33:43.774140Z",
     "start_time": "2022-04-03T05:33:43.760142Z"
    }
   },
   "outputs": [
    {
     "data": {
      "text/plain": [
       "(60000, 784)"
      ]
     },
     "execution_count": 73,
     "metadata": {},
     "output_type": "execute_result"
    }
   ],
   "source": [
    "x_trainM = x_train.reshape(60000, -1 )  \n",
    "x_trainM.shape"
   ]
  },
  {
   "cell_type": "code",
   "execution_count": 74,
   "id": "7cbebe04",
   "metadata": {
    "ExecuteTime": {
     "end_time": "2022-04-03T05:33:43.789139Z",
     "start_time": "2022-04-03T05:33:43.777155Z"
    },
    "scrolled": true
   },
   "outputs": [
    {
     "data": {
      "text/plain": [
       "array([[0., 0., 0., ..., 0., 0., 0.],\n",
       "       [1., 0., 0., ..., 0., 0., 0.],\n",
       "       [0., 0., 0., ..., 0., 0., 0.],\n",
       "       ...,\n",
       "       [0., 0., 0., ..., 0., 0., 0.],\n",
       "       [0., 0., 0., ..., 0., 0., 0.],\n",
       "       [0., 0., 0., ..., 0., 1., 0.]], dtype=float32)"
      ]
     },
     "execution_count": 74,
     "metadata": {},
     "output_type": "execute_result"
    }
   ],
   "source": [
    "y_trainOne = to_categorical(y_train)\n",
    "y_trainOne"
   ]
  },
  {
   "cell_type": "code",
   "execution_count": 75,
   "id": "8f2b20d1",
   "metadata": {
    "ExecuteTime": {
     "end_time": "2022-04-03T05:33:43.805152Z",
     "start_time": "2022-04-03T05:33:43.791142Z"
    }
   },
   "outputs": [],
   "source": [
    "x_trainM = tf.cast(x_trainM, dtype=tf.float32)"
   ]
  },
  {
   "cell_type": "code",
   "execution_count": 76,
   "id": "be7d3cb5",
   "metadata": {
    "ExecuteTime": {
     "end_time": "2022-04-03T05:33:43.820141Z",
     "start_time": "2022-04-03T05:33:43.807141Z"
    }
   },
   "outputs": [
    {
     "data": {
      "text/plain": [
       "(60000,)"
      ]
     },
     "execution_count": 76,
     "metadata": {},
     "output_type": "execute_result"
    }
   ],
   "source": [
    "y_train.shape"
   ]
  },
  {
   "cell_type": "code",
   "execution_count": 77,
   "id": "41ec2534",
   "metadata": {
    "ExecuteTime": {
     "end_time": "2022-04-03T05:33:43.836142Z",
     "start_time": "2022-04-03T05:33:43.822158Z"
    }
   },
   "outputs": [
    {
     "data": {
      "text/plain": [
       "(TensorShape([60000, 784]), (60000, 10))"
      ]
     },
     "execution_count": 77,
     "metadata": {},
     "output_type": "execute_result"
    }
   ],
   "source": [
    "x_trainM.shape, y_trainOne.shape"
   ]
  },
  {
   "cell_type": "code",
   "execution_count": 78,
   "id": "bdea3dc1",
   "metadata": {
    "ExecuteTime": {
     "end_time": "2022-04-03T05:33:43.852168Z",
     "start_time": "2022-04-03T05:33:43.840141Z"
    }
   },
   "outputs": [],
   "source": [
    "# x = tf.constant(x_trainM, tf.float32)\n",
    "# y= tf.constant(y_trainOne, tf.float32)"
   ]
  },
  {
   "cell_type": "code",
   "execution_count": 79,
   "id": "46036f0c",
   "metadata": {
    "ExecuteTime": {
     "end_time": "2022-04-03T05:33:43.868141Z",
     "start_time": "2022-04-03T05:33:43.853142Z"
    }
   },
   "outputs": [],
   "source": [
    "initX = tf.initializers.GlorotUniform()\n",
    "w1 = tf.Variable(initX(shape=[784,64]))\n",
    "b1 = tf.Variable(initX(shape = [64]))\n",
    "w2 = tf.Variable( initX( shape=[64,32] ) )\n",
    "b2 = tf.Variable( initX( shape=[32] ) )\n",
    "w3 = tf.Variable( initX( shape=[32,10] ) ) #1은 남겨야 한다.\n",
    "b3 = tf.Variable( initX( shape=[10] ) ) "
   ]
  },
  {
   "cell_type": "code",
   "execution_count": 80,
   "id": "51ebea24",
   "metadata": {
    "ExecuteTime": {
     "end_time": "2022-04-03T05:33:43.883140Z",
     "start_time": "2022-04-03T05:33:43.870146Z"
    }
   },
   "outputs": [],
   "source": [
    "def compute_loss():\n",
    "    z1 = tf.matmul( x_trainM, w1) + b1\n",
    "    hx1 = tf.nn.relu( z1 ) \n",
    "    z2 = tf.matmul( hx1, w2 ) + b2\n",
    "    hx2 = tf.nn.relu( z2 )\n",
    "    z = tf.matmul( hx2, w3 ) + b3\n",
    "    \n",
    "    cost_i = tf.nn.softmax_cross_entropy_with_logits( logits=z, labels = y_trainOne)\n",
    "    cost = tf.reduce_mean( cost_i)\n",
    "    return cost"
   ]
  },
  {
   "cell_type": "markdown",
   "id": "28fa81d3",
   "metadata": {},
   "source": [
    "# 1000번이라 오래걸림"
   ]
  },
  {
   "cell_type": "code",
   "execution_count": 81,
   "id": "3b353040",
   "metadata": {
    "ExecuteTime": {
     "end_time": "2022-04-03T05:33:55.799217Z",
     "start_time": "2022-04-03T05:33:43.884141Z"
    }
   },
   "outputs": [
    {
     "name": "stdout",
     "output_type": "stream",
     "text": [
      "0 150.20003\n",
      "1 197.14236\n",
      "2 74.30106\n",
      "3 90.74205\n",
      "4 44.37617\n",
      "5 34.294205\n",
      "6 36.372643\n",
      "7 26.351671\n",
      "8 14.866162\n",
      "9 7.551987\n",
      "10 4.467898\n",
      "11 3.4273624\n",
      "12 3.09946\n",
      "13 2.8767784\n",
      "14 2.6379657\n",
      "15 2.4906495\n",
      "16 2.398101\n",
      "17 2.2909892\n",
      "18 2.2051756\n",
      "19 2.170393\n",
      "20 2.171979\n",
      "21 2.1828456\n",
      "22 2.1874065\n",
      "23 2.1837351\n",
      "24 2.1738935\n",
      "25 2.1591055\n",
      "26 2.144611\n",
      "27 2.1310883\n",
      "28 2.1209283\n",
      "29 2.115808\n",
      "30 2.1139567\n",
      "31 2.1105845\n",
      "32 2.1020367\n",
      "33 2.0899615\n",
      "34 2.0785623\n",
      "35 2.0701993\n",
      "36 2.0644395\n",
      "37 2.0600288\n",
      "38 2.0559962\n",
      "39 2.0521483\n",
      "40 2.048484\n",
      "41 2.0441177\n",
      "42 2.0392263\n",
      "43 2.0339491\n",
      "44 2.0277295\n",
      "45 2.0208697\n",
      "46 2.0133257\n",
      "47 2.0055888\n",
      "48 1.9970601\n",
      "49 1.988976\n",
      "50 1.9825304\n",
      "51 1.9796971\n",
      "52 1.9770604\n",
      "53 1.9677906\n",
      "54 1.9547089\n",
      "55 1.9449456\n",
      "56 1.938821\n",
      "57 1.932575\n",
      "58 1.924082\n",
      "59 1.9132308\n",
      "60 1.9021668\n",
      "61 1.8946465\n",
      "62 1.891875\n",
      "63 1.883796\n",
      "64 1.8739706\n",
      "65 1.8679981\n",
      "66 1.8614743\n",
      "67 1.8529052\n",
      "68 1.8450803\n",
      "69 1.8411635\n",
      "70 1.8365554\n",
      "71 1.8290128\n",
      "72 1.8233362\n",
      "73 1.8190706\n",
      "74 1.8135355\n",
      "75 1.8079185\n",
      "76 1.8041586\n",
      "77 1.7995622\n",
      "78 1.793315\n",
      "79 1.7886387\n",
      "80 1.7842689\n",
      "81 1.7795132\n",
      "82 1.7745275\n",
      "83 1.770019\n",
      "84 1.7655518\n",
      "85 1.7606871\n",
      "86 1.756641\n",
      "87 1.7526633\n",
      "88 1.7480949\n",
      "89 1.7437057\n",
      "90 1.7396789\n",
      "91 1.7356917\n",
      "92 1.731768\n",
      "93 1.727993\n",
      "94 1.7240037\n",
      "95 1.720015\n",
      "96 1.7161758\n",
      "97 1.7123868\n",
      "98 1.7086029\n",
      "99 1.7048638\n",
      "100 1.7011625\n",
      "101 1.6975257\n",
      "102 1.693959\n",
      "103 1.6904701\n",
      "104 1.6870066\n",
      "105 1.6833946\n",
      "106 1.6798711\n",
      "107 1.6763906\n",
      "108 1.6729399\n",
      "109 1.6696\n",
      "110 1.6662588\n",
      "111 1.6629349\n",
      "112 1.6597328\n",
      "113 1.6565652\n",
      "114 1.6534065\n",
      "115 1.6502749\n",
      "116 1.6471938\n",
      "117 1.6441591\n",
      "118 1.641112\n",
      "119 1.6381979\n",
      "120 1.6353016\n",
      "121 1.6324419\n",
      "122 1.629591\n",
      "123 1.6267453\n",
      "124 1.623919\n",
      "125 1.6211158\n",
      "126 1.6184393\n",
      "127 1.6157306\n",
      "128 1.6130893\n",
      "129 1.6104816\n",
      "130 1.607825\n",
      "131 1.605237\n",
      "132 1.6026218\n",
      "133 1.6000189\n",
      "134 1.5974784\n",
      "135 1.5949159\n",
      "136 1.5923854\n",
      "137 1.5898607\n",
      "138 1.587428\n",
      "139 1.5850008\n",
      "140 1.5826081\n",
      "141 1.5802833\n",
      "142 1.5779805\n",
      "143 1.5757221\n",
      "144 1.5734388\n",
      "145 1.5711846\n",
      "146 1.5689594\n",
      "147 1.5667135\n",
      "148 1.5644346\n",
      "149 1.5622021\n",
      "150 1.5599521\n",
      "151 1.5576665\n",
      "152 1.5554419\n",
      "153 1.5531826\n",
      "154 1.55097\n",
      "155 1.5487487\n",
      "156 1.5465101\n",
      "157 1.5442787\n",
      "158 1.542075\n",
      "159 1.5399092\n",
      "160 1.5376434\n",
      "161 1.5354736\n",
      "162 1.5332295\n",
      "163 1.5309767\n",
      "164 1.528725\n",
      "165 1.5264255\n",
      "166 1.5241526\n",
      "167 1.5218786\n",
      "168 1.5196289\n",
      "169 1.5173576\n",
      "170 1.5150936\n",
      "171 1.5129086\n",
      "172 1.5107114\n",
      "173 1.5085745\n",
      "174 1.5064684\n",
      "175 1.5043982\n",
      "176 1.5024323\n",
      "177 1.5004871\n",
      "178 1.4985638\n",
      "179 1.4966893\n",
      "180 1.4948585\n",
      "181 1.4930149\n",
      "182 1.4911687\n",
      "183 1.4893193\n",
      "184 1.4874012\n",
      "185 1.4854925\n",
      "186 1.4835209\n",
      "187 1.4816015\n",
      "188 1.479661\n",
      "189 1.4778249\n",
      "190 1.4759681\n",
      "191 1.4741572\n",
      "192 1.4723245\n",
      "193 1.4704758\n",
      "194 1.4686229\n",
      "195 1.4667518\n",
      "196 1.4648492\n",
      "197 1.4629815\n",
      "198 1.4610065\n",
      "199 1.459104\n",
      "200 1.4571645\n",
      "201 1.4552366\n",
      "202 1.4532776\n",
      "203 1.4513705\n",
      "204 1.4494604\n",
      "205 1.4475406\n",
      "206 1.445544\n",
      "207 1.44357\n",
      "208 1.4415812\n",
      "209 1.4396181\n",
      "210 1.437606\n",
      "211 1.4356472\n",
      "212 1.4336169\n",
      "213 1.4315474\n",
      "214 1.4294279\n",
      "215 1.4273167\n",
      "216 1.4251688\n",
      "217 1.4229102\n",
      "218 1.4206661\n",
      "219 1.4184506\n",
      "220 1.4161737\n",
      "221 1.413827\n",
      "222 1.4115721\n",
      "223 1.4092935\n",
      "224 1.4070718\n",
      "225 1.404799\n",
      "226 1.4025148\n",
      "227 1.4002303\n",
      "228 1.3979445\n",
      "229 1.3956784\n",
      "230 1.3933591\n",
      "231 1.3909866\n",
      "232 1.3885698\n",
      "233 1.38607\n",
      "234 1.3834813\n",
      "235 1.3808719\n",
      "236 1.3782063\n",
      "237 1.3755102\n",
      "238 1.3727999\n",
      "239 1.3700042\n",
      "240 1.3671536\n",
      "241 1.3643453\n",
      "242 1.3613925\n",
      "243 1.3584614\n",
      "244 1.3555732\n",
      "245 1.3524626\n",
      "246 1.3492582\n",
      "247 1.3461155\n",
      "248 1.3429862\n",
      "249 1.3396629\n",
      "250 1.3361709\n",
      "251 1.3328049\n",
      "252 1.3293839\n",
      "253 1.325843\n",
      "254 1.3222659\n",
      "255 1.318738\n",
      "256 1.3151911\n",
      "257 1.3115854\n",
      "258 1.3079894\n",
      "259 1.3043364\n",
      "260 1.3006526\n",
      "261 1.2968961\n",
      "262 1.293092\n",
      "263 1.2892709\n",
      "264 1.285478\n",
      "265 1.2818034\n",
      "266 1.2781292\n",
      "267 1.2744877\n",
      "268 1.2707353\n",
      "269 1.2669374\n",
      "270 1.2635242\n",
      "271 1.260576\n",
      "272 1.2607126\n",
      "273 1.2665344\n",
      "274 1.2928344\n",
      "275 1.2573774\n",
      "276 1.2419033\n",
      "277 1.239176\n",
      "278 1.2419724\n",
      "279 1.2474548\n",
      "280 1.2263266\n",
      "281 1.2225609\n",
      "282 1.2329473\n",
      "283 1.2245966\n",
      "284 1.2101768\n",
      "285 1.2064586\n",
      "286 1.2085719\n",
      "287 1.2130581\n",
      "288 1.1919739\n",
      "289 1.1903561\n",
      "290 1.1960008\n",
      "291 1.1834\n",
      "292 1.1719633\n",
      "293 1.1751692\n",
      "294 1.1745125\n",
      "295 1.1663879\n",
      "296 1.1564687\n",
      "297 1.1585296\n",
      "298 1.1590286\n",
      "299 1.1457753\n",
      "300 1.1395262\n",
      "301 1.1446097\n",
      "302 1.1370081\n",
      "303 1.1303318\n",
      "304 1.1223428\n",
      "305 1.125301\n",
      "306 1.1218768\n",
      "307 1.1139232\n",
      "308 1.1077172\n",
      "309 1.1066777\n",
      "310 1.1057453\n",
      "311 1.0994333\n",
      "312 1.0920209\n",
      "313 1.0885127\n",
      "314 1.0883802\n",
      "315 1.0849963\n",
      "316 1.0778751\n",
      "317 1.0716628\n",
      "318 1.0689367\n",
      "319 1.0679057\n",
      "320 1.0641795\n",
      "321 1.0598432\n",
      "322 1.0519501\n",
      "323 1.0483856\n",
      "324 1.047114\n",
      "325 1.0456607\n",
      "326 1.0442007\n",
      "327 1.036287\n",
      "328 1.0301186\n",
      "329 1.0232315\n",
      "330 1.0202204\n",
      "331 1.0196322\n",
      "332 1.016248\n",
      "333 1.0130751\n",
      "334 1.0067692\n",
      "335 1.0017947\n",
      "336 0.99627995\n",
      "337 0.9921709\n",
      "338 0.98922294\n",
      "339 0.98632157\n",
      "340 0.9849475\n",
      "341 0.98304987\n",
      "342 0.9824719\n",
      "343 0.98011214\n",
      "344 0.9808992\n",
      "345 0.97876483\n",
      "346 0.97486144\n",
      "347 0.9641479\n",
      "348 0.9548683\n",
      "349 0.9495949\n",
      "350 0.9491719\n",
      "351 0.9500364\n",
      "352 0.9476853\n",
      "353 0.9422647\n",
      "354 0.93477225\n",
      "355 0.92962\n",
      "356 0.9271768\n",
      "357 0.9261115\n",
      "358 0.9244783\n",
      "359 0.9204196\n",
      "360 0.91530716\n",
      "361 0.9102903\n",
      "362 0.9073004\n",
      "363 0.9048518\n",
      "364 0.9030663\n",
      "365 0.9011168\n",
      "366 0.89775854\n",
      "367 0.8935779\n",
      "368 0.889115\n",
      "369 0.88559777\n",
      "370 0.88246644\n",
      "371 0.8801649\n",
      "372 0.8773743\n",
      "373 0.8747776\n",
      "374 0.872038\n",
      "375 0.8691602\n",
      "376 0.86633754\n",
      "377 0.8630658\n",
      "378 0.8600992\n",
      "379 0.85685664\n",
      "380 0.8541956\n",
      "381 0.8514149\n",
      "382 0.8489918\n",
      "383 0.8467996\n",
      "384 0.84571815\n",
      "385 0.84486747\n",
      "386 0.84651643\n",
      "387 0.84997267\n",
      "388 0.86300653\n",
      "389 0.8759786\n",
      "390 0.89644724\n",
      "391 0.8637584\n",
      "392 0.82827854\n",
      "393 0.83035666\n",
      "394 0.84463567\n",
      "395 0.8349152\n",
      "396 0.81259346\n",
      "397 0.8232876\n",
      "398 0.8358039\n",
      "399 0.8150874\n",
      "400 0.80248076\n",
      "401 0.8139711\n",
      "402 0.8022857\n",
      "403 0.79538786\n",
      "404 0.8012128\n",
      "405 0.79406536\n",
      "406 0.7860509\n",
      "407 0.7891421\n",
      "408 0.7853772\n",
      "409 0.7784188\n",
      "410 0.7776587\n",
      "411 0.77709025\n",
      "412 0.7713651\n",
      "413 0.7683654\n",
      "414 0.76789343\n",
      "415 0.76520646\n",
      "416 0.7605672\n",
      "417 0.75929517\n",
      "418 0.7588415\n",
      "419 0.75430334\n",
      "420 0.75067604\n",
      "421 0.7498492\n",
      "422 0.74740326\n",
      "423 0.7435585\n",
      "424 0.7415643\n",
      "425 0.7405049\n",
      "426 0.7379305\n",
      "427 0.73451686\n",
      "428 0.73221314\n",
      "429 0.7305073\n",
      "430 0.7280569\n",
      "431 0.72526187\n",
      "432 0.72326964\n",
      "433 0.7213834\n",
      "434 0.71902394\n",
      "435 0.71647906\n",
      "436 0.714287\n",
      "437 0.7126423\n",
      "438 0.7107957\n",
      "439 0.70826215\n",
      "440 0.7056501\n",
      "441 0.70369023\n",
      "442 0.7020829\n",
      "443 0.70023084\n",
      "444 0.6979092\n",
      "445 0.6954502\n",
      "446 0.6932496\n",
      "447 0.691387\n",
      "448 0.68997514\n",
      "449 0.6886151\n",
      "450 0.68668264\n",
      "451 0.68407017\n",
      "452 0.6813985\n",
      "453 0.6791462\n",
      "454 0.677453\n",
      "455 0.6757499\n",
      "456 0.67378724\n",
      "457 0.671506\n",
      "458 0.6692254\n",
      "459 0.6670568\n",
      "460 0.6649763\n",
      "461 0.6629031\n",
      "462 0.66088045\n",
      "463 0.6588245\n",
      "464 0.6567927\n",
      "465 0.6548732\n",
      "466 0.6529592\n",
      "467 0.65107864\n",
      "468 0.649203\n",
      "469 0.6473279\n",
      "470 0.645262\n",
      "471 0.6434364\n",
      "472 0.64172745\n",
      "473 0.64027613\n",
      "474 0.6387919\n",
      "475 0.63741857\n",
      "476 0.6362119\n",
      "477 0.6350913\n",
      "478 0.6337618\n",
      "479 0.632845\n",
      "480 0.6313773\n",
      "481 0.63022757\n",
      "482 0.62791556\n",
      "483 0.62522554\n",
      "484 0.6205819\n",
      "485 0.615506\n",
      "486 0.61121005\n",
      "487 0.60936785\n",
      "488 0.60934126\n",
      "489 0.60949075\n",
      "490 0.6096518\n",
      "491 0.6077349\n",
      "492 0.60513103\n",
      "493 0.60046744\n",
      "494 0.5964894\n",
      "495 0.59408617\n",
      "496 0.5930988\n",
      "497 0.5927575\n",
      "498 0.59214115\n",
      "499 0.59110886\n",
      "500 0.5889371\n",
      "501 0.5865859\n",
      "502 0.58342123\n",
      "503 0.5804128\n",
      "504 0.57783806\n",
      "505 0.5760633\n",
      "506 0.57498294\n",
      "507 0.57386863\n",
      "508 0.5725271\n",
      "509 0.57089037\n",
      "510 0.5691338\n",
      "511 0.5671677\n",
      "512 0.56505674\n",
      "513 0.562864\n",
      "514 0.5607009\n",
      "515 0.5587518\n",
      "516 0.5570335\n",
      "517 0.55537605\n",
      "518 0.5537835\n",
      "519 0.55217624\n",
      "520 0.5506202\n",
      "521 0.54910046\n",
      "522 0.5475335\n",
      "523 0.5460005\n",
      "524 0.54451686\n",
      "525 0.54305494\n",
      "526 0.5415888\n",
      "527 0.54019445\n",
      "528 0.538866\n",
      "529 0.5377605\n",
      "530 0.5369797\n",
      "531 0.5366683\n",
      "532 0.5376935\n",
      "533 0.5409269\n",
      "534 0.5502554\n",
      "535 0.56550574\n",
      "536 0.59756756\n",
      "537 0.6158294\n",
      "538 0.6258354\n",
      "539 0.55227524\n",
      "540 0.5319635\n",
      "541 0.5723573\n",
      "542 0.55282396\n",
      "543 0.5221157\n",
      "544 0.5406653\n",
      "545 0.5456393\n",
      "546 0.52156824\n",
      "547 0.525834\n",
      "548 0.5339697\n",
      "549 0.51830953\n",
      "550 0.5183073\n",
      "551 0.52527803\n",
      "552 0.51419264\n",
      "553 0.51374775\n",
      "554 0.51892644\n",
      "555 0.5106023\n",
      "556 0.5095284\n",
      "557 0.51351446\n",
      "558 0.5077006\n",
      "559 0.50545746\n",
      "560 0.5092638\n",
      "561 0.50496936\n",
      "562 0.5020255\n",
      "563 0.5051515\n",
      "564 0.50242877\n",
      "565 0.4986362\n",
      "566 0.5001587\n",
      "567 0.49861568\n",
      "568 0.4955483\n",
      "569 0.49644408\n",
      "570 0.49532208\n",
      "571 0.49294597\n",
      "572 0.49352768\n",
      "573 0.4924886\n",
      "574 0.49051505\n",
      "575 0.4906214\n",
      "576 0.48990455\n",
      "577 0.48802695\n",
      "578 0.4883374\n",
      "579 0.48739508\n",
      "580 0.48590958\n",
      "581 0.48552054\n",
      "582 0.48514572\n",
      "583 0.48360026\n",
      "584 0.48341152\n",
      "585 0.4824585\n",
      "586 0.48151562\n",
      "587 0.48069313\n",
      "588 0.47981688\n",
      "589 0.47917622\n",
      "590 0.47841224\n",
      "591 0.47760558\n",
      "592 0.47694004\n",
      "593 0.47629157\n",
      "594 0.47582188\n",
      "595 0.4750127\n",
      "596 0.47483614\n",
      "597 0.47398573\n",
      "598 0.47325638\n",
      "599 0.47252935\n",
      "600 0.47140312\n"
     ]
    },
    {
     "name": "stdout",
     "output_type": "stream",
     "text": [
      "601 0.4716779\n",
      "602 0.470355\n",
      "603 0.46981838\n",
      "604 0.4691569\n",
      "605 0.468406\n",
      "606 0.46742037\n",
      "607 0.46750212\n",
      "608 0.4662206\n",
      "609 0.46570638\n",
      "610 0.46526814\n",
      "611 0.46461308\n",
      "612 0.46381465\n",
      "613 0.4629953\n",
      "614 0.46263093\n",
      "615 0.4617347\n",
      "616 0.4610506\n",
      "617 0.46048117\n",
      "618 0.45986706\n",
      "619 0.45915446\n",
      "620 0.45872086\n",
      "621 0.45776856\n",
      "622 0.45722273\n",
      "623 0.45648965\n",
      "624 0.45585227\n",
      "625 0.455101\n",
      "626 0.45452887\n",
      "627 0.45378014\n",
      "628 0.45320362\n",
      "629 0.45262638\n",
      "630 0.45174864\n",
      "631 0.451222\n",
      "632 0.450472\n",
      "633 0.44976088\n",
      "634 0.44887608\n",
      "635 0.44829687\n",
      "636 0.44746745\n",
      "637 0.44678977\n",
      "638 0.446164\n",
      "639 0.44545794\n",
      "640 0.44454443\n",
      "641 0.44391352\n",
      "642 0.4432926\n",
      "643 0.4423909\n",
      "644 0.44141448\n",
      "645 0.44076288\n",
      "646 0.43968582\n",
      "647 0.43961853\n",
      "648 0.4386345\n",
      "649 0.4382492\n",
      "650 0.4367111\n",
      "651 0.43670818\n",
      "652 0.43783042\n",
      "653 0.43617234\n",
      "654 0.4342611\n",
      "655 0.43623647\n",
      "656 0.43582487\n",
      "657 0.43447503\n",
      "658 0.43456218\n",
      "659 0.4343626\n",
      "660 0.43124124\n",
      "661 0.4304177\n",
      "662 0.43097514\n",
      "663 0.42968225\n",
      "664 0.42751664\n",
      "665 0.42701608\n",
      "666 0.42707217\n",
      "667 0.4274778\n",
      "668 0.42521343\n",
      "669 0.4268627\n",
      "670 0.4248608\n",
      "671 0.4211955\n",
      "672 0.4232552\n",
      "673 0.42104617\n",
      "674 0.4195772\n",
      "675 0.41947916\n",
      "676 0.41780105\n",
      "677 0.415463\n",
      "678 0.41618946\n",
      "679 0.4172267\n",
      "680 0.41417795\n",
      "681 0.41426763\n",
      "682 0.41227132\n",
      "683 0.4132201\n",
      "684 0.41831973\n",
      "685 0.41779813\n",
      "686 0.4143987\n",
      "687 0.4100283\n",
      "688 0.40603465\n",
      "689 0.40662533\n",
      "690 0.41126508\n",
      "691 0.4138522\n",
      "692 0.4070617\n",
      "693 0.4085522\n",
      "694 0.40138587\n",
      "695 0.4055263\n",
      "696 0.41300565\n",
      "697 0.39601043\n",
      "698 0.40558022\n",
      "699 0.40882596\n",
      "700 0.39973828\n",
      "701 0.40656587\n",
      "702 0.41071367\n",
      "703 0.418051\n",
      "704 0.41041583\n",
      "705 0.39390945\n",
      "706 0.4115612\n",
      "707 0.40585592\n",
      "708 0.39951834\n",
      "709 0.3894056\n",
      "710 0.3995441\n",
      "711 0.40180385\n",
      "712 0.39521286\n",
      "713 0.39099473\n",
      "714 0.41466716\n",
      "715 0.43852347\n",
      "716 0.43157697\n",
      "717 0.39364004\n",
      "718 0.4902442\n",
      "719 0.49974808\n",
      "720 0.6715948\n",
      "721 0.480363\n",
      "722 0.45243037\n",
      "723 0.5196545\n",
      "724 0.56466776\n",
      "725 0.48841396\n",
      "726 0.4527584\n",
      "727 0.45301786\n",
      "728 0.47207248\n",
      "729 0.49092326\n",
      "730 0.46597266\n",
      "731 0.44011477\n",
      "732 0.4341511\n",
      "733 0.43982577\n",
      "734 0.43643984\n",
      "735 0.4247572\n",
      "736 0.4201125\n",
      "737 0.4168319\n",
      "738 0.41233554\n",
      "739 0.40874517\n",
      "740 0.4053379\n",
      "741 0.4058944\n",
      "742 0.4031794\n",
      "743 0.3990582\n",
      "744 0.39758807\n",
      "745 0.39385465\n",
      "746 0.3900745\n",
      "747 0.3864506\n",
      "748 0.3830956\n",
      "749 0.38232327\n",
      "750 0.3818251\n",
      "751 0.38152343\n",
      "752 0.3802153\n",
      "753 0.37673718\n",
      "754 0.37385878\n",
      "755 0.37390563\n",
      "756 0.37308013\n",
      "757 0.371873\n",
      "758 0.3705561\n",
      "759 0.3687621\n",
      "760 0.36697826\n",
      "761 0.36581516\n",
      "762 0.36608544\n",
      "763 0.36551034\n",
      "764 0.36273983\n",
      "765 0.36218894\n",
      "766 0.36244643\n",
      "767 0.3619989\n",
      "768 0.36038965\n",
      "769 0.35932493\n",
      "770 0.3593288\n",
      "771 0.35847473\n",
      "772 0.35732096\n",
      "773 0.35687095\n",
      "774 0.35645646\n",
      "775 0.35546932\n",
      "776 0.3545284\n",
      "777 0.35424075\n",
      "778 0.35365582\n",
      "779 0.35282287\n",
      "780 0.35222703\n",
      "781 0.35182342\n",
      "782 0.35125118\n",
      "783 0.35044697\n",
      "784 0.3500944\n",
      "785 0.34970576\n",
      "786 0.34896806\n",
      "787 0.34853002\n",
      "788 0.34811926\n",
      "789 0.34761882\n",
      "790 0.34707832\n",
      "791 0.34670863\n",
      "792 0.34629172\n",
      "793 0.345706\n",
      "794 0.34534466\n",
      "795 0.34496713\n",
      "796 0.34447777\n",
      "797 0.34406653\n",
      "798 0.34371588\n",
      "799 0.34330332\n",
      "800 0.34290314\n",
      "801 0.342531\n",
      "802 0.34215412\n",
      "803 0.341782\n",
      "804 0.34141368\n",
      "805 0.3410271\n",
      "806 0.340697\n",
      "807 0.3403422\n",
      "808 0.33991086\n",
      "809 0.33954588\n",
      "810 0.3392374\n",
      "811 0.338877\n",
      "812 0.33851594\n",
      "813 0.33827645\n",
      "814 0.33808228\n",
      "815 0.3376979\n",
      "816 0.33722243\n",
      "817 0.33697128\n",
      "818 0.33667976\n",
      "819 0.33617133\n",
      "820 0.3357802\n",
      "821 0.3356075\n",
      "822 0.33542496\n",
      "823 0.3350254\n",
      "824 0.33462414\n",
      "825 0.33442226\n",
      "826 0.33438054\n",
      "827 0.33408847\n",
      "828 0.33347732\n",
      "829 0.3329175\n",
      "830 0.3327336\n",
      "831 0.33259085\n",
      "832 0.33211517\n",
      "833 0.3316797\n",
      "834 0.33150494\n",
      "835 0.33137652\n",
      "836 0.33100787\n",
      "837 0.33052084\n",
      "838 0.33022955\n",
      "839 0.33009773\n",
      "840 0.3298602\n",
      "841 0.32958138\n",
      "842 0.3293558\n",
      "843 0.32911536\n",
      "844 0.32867363\n",
      "845 0.32824394\n",
      "846 0.3280114\n",
      "847 0.3279919\n",
      "848 0.3280407\n",
      "849 0.32794696\n",
      "850 0.3273194\n",
      "851 0.32665604\n",
      "852 0.32636562\n",
      "853 0.32639155\n",
      "854 0.32640475\n",
      "855 0.32599804\n",
      "856 0.3254843\n",
      "857 0.32508144\n",
      "858 0.32506603\n",
      "859 0.32514995\n",
      "860 0.32482806\n",
      "861 0.3244267\n",
      "862 0.32387277\n",
      "863 0.3235263\n",
      "864 0.32345906\n",
      "865 0.323471\n",
      "866 0.32335508\n",
      "867 0.32281062\n",
      "868 0.32230297\n",
      "869 0.3221579\n",
      "870 0.32222188\n",
      "871 0.32215723\n",
      "872 0.32157397\n",
      "873 0.32112736\n",
      "874 0.32118574\n",
      "875 0.32143322\n",
      "876 0.32126698\n",
      "877 0.3205483\n",
      "878 0.31991938\n",
      "879 0.31974754\n",
      "880 0.31980795\n",
      "881 0.3198526\n",
      "882 0.31953663\n",
      "883 0.31902078\n",
      "884 0.31860805\n",
      "885 0.31831846\n",
      "886 0.31808177\n",
      "887 0.31789234\n",
      "888 0.3176567\n",
      "889 0.317416\n",
      "890 0.31724003\n",
      "891 0.31712997\n",
      "892 0.3168883\n",
      "893 0.31654647\n",
      "894 0.3162513\n",
      "895 0.3160624\n",
      "896 0.3158922\n",
      "897 0.3156704\n",
      "898 0.3154155\n",
      "899 0.31517202\n",
      "900 0.31495866\n",
      "901 0.31474164\n",
      "902 0.31462216\n",
      "903 0.3145632\n",
      "904 0.31437212\n",
      "905 0.31405377\n",
      "906 0.31373426\n",
      "907 0.31363663\n",
      "908 0.3138782\n",
      "909 0.31420872\n",
      "910 0.31435525\n",
      "911 0.31376523\n",
      "912 0.31309947\n",
      "913 0.3125347\n",
      "914 0.31258833\n",
      "915 0.31298372\n",
      "916 0.31293803\n",
      "917 0.3125754\n",
      "918 0.31176978\n",
      "919 0.31115794\n",
      "920 0.31088457\n",
      "921 0.3110309\n",
      "922 0.311502\n",
      "923 0.31144404\n",
      "924 0.3109364\n",
      "925 0.31015605\n",
      "926 0.30963898\n",
      "927 0.30944017\n",
      "928 0.30937988\n",
      "929 0.3092571\n",
      "930 0.30891368\n",
      "931 0.30859584\n",
      "932 0.30837137\n",
      "933 0.30831715\n",
      "934 0.3083109\n",
      "935 0.3083195\n",
      "936 0.30802423\n",
      "937 0.30782208\n",
      "938 0.30779532\n",
      "939 0.3078302\n",
      "940 0.3075579\n",
      "941 0.30710867\n",
      "942 0.30656537\n",
      "943 0.30625188\n",
      "944 0.3061182\n",
      "945 0.30598253\n",
      "946 0.30571395\n",
      "947 0.30548826\n",
      "948 0.30538997\n",
      "949 0.30537724\n",
      "950 0.30531138\n",
      "951 0.30520183\n",
      "952 0.3049059\n",
      "953 0.3045112\n",
      "954 0.30414346\n",
      "955 0.3040215\n",
      "956 0.304178\n",
      "957 0.30447158\n",
      "958 0.3044054\n",
      "959 0.30379102\n",
      "960 0.30320346\n",
      "961 0.3030906\n",
      "962 0.3033062\n",
      "963 0.30319357\n",
      "964 0.30257317\n",
      "965 0.30212083\n",
      "966 0.3019911\n",
      "967 0.30191517\n",
      "968 0.3017034\n",
      "969 0.30143383\n",
      "970 0.3012104\n",
      "971 0.3010832\n",
      "972 0.30098885\n",
      "973 0.30079162\n",
      "974 0.30049732\n",
      "975 0.30030975\n",
      "976 0.30022722\n",
      "977 0.30018628\n",
      "978 0.3001487\n",
      "979 0.3000374\n",
      "980 0.29971185\n",
      "981 0.29932758\n",
      "982 0.29904714\n",
      "983 0.29900467\n",
      "984 0.29915097\n",
      "985 0.29918504\n",
      "986 0.29905424\n",
      "987 0.29882854\n",
      "988 0.29863873\n",
      "989 0.29830676\n",
      "990 0.29787576\n",
      "991 0.29752916\n",
      "992 0.29730752\n",
      "993 0.29735294\n",
      "994 0.2976698\n",
      "995 0.2983442\n",
      "996 0.29923165\n",
      "997 0.30055535\n",
      "998 0.29957598\n",
      "999 0.29854068\n"
     ]
    }
   ],
   "source": [
    "optimizer = Adam( learning_rate=0.01)\n",
    "for i in range(1000):\n",
    "    optimizer.minimize( compute_loss, var_list=[w1,w2,w3, b1,b2,b3])\n",
    "    print( i, compute_loss().numpy() )"
   ]
  },
  {
   "cell_type": "code",
   "execution_count": 82,
   "id": "874b1ef0",
   "metadata": {
    "ExecuteTime": {
     "end_time": "2022-04-03T05:33:55.815219Z",
     "start_time": "2022-04-03T05:33:55.800217Z"
    }
   },
   "outputs": [],
   "source": [
    "def hxfn(xdata):\n",
    "    xd = tf.constant(xdata, tf.float32)\n",
    "    z1 = tf.matmul(xd, w1)+b1\n",
    "    hx1 = tf.nn.relu( z1 ) \n",
    "    z2 = tf.matmul( hx1, w2 ) + b2\n",
    "    hx2 = tf.nn.relu( z2 )\n",
    "    z = tf.matmul( hx2, w3 ) + b3\n",
    "    hx = tf.nn.softmax(z)\n",
    "    return(hx.numpy()>0.5) +0"
   ]
  },
  {
   "cell_type": "code",
   "execution_count": 83,
   "id": "55913e74",
   "metadata": {
    "ExecuteTime": {
     "end_time": "2022-04-03T05:33:55.830226Z",
     "start_time": "2022-04-03T05:33:55.816218Z"
    }
   },
   "outputs": [],
   "source": [
    "pred = hxfn(x_trainM).argmax(axis = 1)"
   ]
  },
  {
   "cell_type": "code",
   "execution_count": 84,
   "id": "91273f9d",
   "metadata": {
    "ExecuteTime": {
     "end_time": "2022-04-03T05:33:55.846217Z",
     "start_time": "2022-04-03T05:33:55.831219Z"
    },
    "scrolled": true
   },
   "outputs": [
    {
     "data": {
      "text/plain": [
       "0.8992666666666667"
      ]
     },
     "execution_count": 84,
     "metadata": {},
     "output_type": "execute_result"
    }
   ],
   "source": [
    "(pred ==y_train).mean()"
   ]
  },
  {
   "cell_type": "markdown",
   "id": "918e6ca5",
   "metadata": {},
   "source": [
    "# ImageMake"
   ]
  },
  {
   "cell_type": "code",
   "execution_count": 85,
   "id": "53973495",
   "metadata": {
    "ExecuteTime": {
     "end_time": "2022-04-03T05:33:55.862217Z",
     "start_time": "2022-04-03T05:33:55.848217Z"
    }
   },
   "outputs": [],
   "source": [
    "import tensorflow as tf\n",
    "import numpy as np\n",
    "import matplotlib.pyplot as plt\n",
    "from tensorflow.keras.layers import Dense,Flatten\n",
    "from tensorflow.keras import Sequential\n",
    "from tensorflow.keras.utils import to_categorical\n",
    "from tensorflow.keras.preprocessing import image\n",
    "plt.style.use('ggplot')"
   ]
  },
  {
   "cell_type": "code",
   "execution_count": 86,
   "id": "befb8a7a",
   "metadata": {
    "ExecuteTime": {
     "end_time": "2022-04-03T05:33:55.942217Z",
     "start_time": "2022-04-03T05:33:55.863218Z"
    }
   },
   "outputs": [
    {
     "data": {
      "image/png": "[encoded data removed]",
      "text/plain": [
       "<PIL.JpegImagePlugin.JpegImageFile image mode=RGB size=500x374 at 0x27873C9DD48>"
      ]
     },
     "execution_count": 86,
     "metadata": {},
     "output_type": "execute_result"
    }
   ],
   "source": [
    "# 고양이사진\n",
    "imgData = image.load_img('image/cat/cat1.jpg')\n",
    "imgData"
   ]
  },
  {
   "cell_type": "code",
   "execution_count": 87,
   "id": "a632c415",
   "metadata": {
    "ExecuteTime": {
     "end_time": "2022-04-03T05:33:55.958216Z",
     "start_time": "2022-04-03T05:33:55.943218Z"
    }
   },
   "outputs": [
    {
     "data": {
      "text/plain": [
       "PIL.JpegImagePlugin.JpegImageFile"
      ]
     },
     "execution_count": 87,
     "metadata": {},
     "output_type": "execute_result"
    }
   ],
   "source": [
    "type(imgData)"
   ]
  },
  {
   "cell_type": "code",
   "execution_count": 88,
   "id": "a6f39376",
   "metadata": {
    "ExecuteTime": {
     "end_time": "2022-04-03T05:33:55.974218Z",
     "start_time": "2022-04-03T05:33:55.959219Z"
    }
   },
   "outputs": [],
   "source": [
    "# rgb값 255로 스케일\n",
    "dataGen = image.ImageDataGenerator(rescale=1./255)"
   ]
  },
  {
   "cell_type": "code",
   "execution_count": 89,
   "id": "f667cf8a",
   "metadata": {
    "ExecuteTime": {
     "end_time": "2022-04-03T05:33:56.116218Z",
     "start_time": "2022-04-03T05:33:55.976216Z"
    }
   },
   "outputs": [
    {
     "name": "stdout",
     "output_type": "stream",
     "text": [
      "Found 20 images belonging to 2 classes.\n"
     ]
    }
   ],
   "source": [
    "trainGen= dataGen.flow_from_directory('image',target_size=(98,98))"
   ]
  },
  {
   "cell_type": "code",
   "execution_count": 90,
   "id": "5b080954",
   "metadata": {
    "ExecuteTime": {
     "end_time": "2022-04-03T05:33:56.132218Z",
     "start_time": "2022-04-03T05:33:56.118219Z"
    }
   },
   "outputs": [
    {
     "data": {
      "text/plain": [
       "keras.preprocessing.image.DirectoryIterator"
      ]
     },
     "execution_count": 90,
     "metadata": {},
     "output_type": "execute_result"
    }
   ],
   "source": [
    "type(trainGen)"
   ]
  },
  {
   "cell_type": "code",
   "execution_count": 91,
   "id": "5ad61669",
   "metadata": {
    "ExecuteTime": {
     "end_time": "2022-04-03T05:33:56.179223Z",
     "start_time": "2022-04-03T05:33:56.133219Z"
    }
   },
   "outputs": [],
   "source": [
    "x_train,y_train = trainGen.next()"
   ]
  },
  {
   "cell_type": "code",
   "execution_count": 92,
   "id": "71431c0e",
   "metadata": {
    "ExecuteTime": {
     "end_time": "2022-04-03T05:33:56.195220Z",
     "start_time": "2022-04-03T05:33:56.181223Z"
    }
   },
   "outputs": [
    {
     "data": {
      "text/plain": [
       "((20, 98, 98, 3), (20, 2))"
      ]
     },
     "execution_count": 92,
     "metadata": {},
     "output_type": "execute_result"
    }
   ],
   "source": [
    "x_train.shape , y_train.shape"
   ]
  },
  {
   "cell_type": "code",
   "execution_count": 93,
   "id": "6e45a26c",
   "metadata": {
    "ExecuteTime": {
     "end_time": "2022-04-03T05:33:56.211218Z",
     "start_time": "2022-04-03T05:33:56.197219Z"
    }
   },
   "outputs": [
    {
     "data": {
      "text/plain": [
       "array([[[[0.3019608 , 0.27450982, 0.20392159],\n",
       "         [0.30980393, 0.28235295, 0.21176472],\n",
       "         [0.3137255 , 0.28627452, 0.21568629],\n",
       "         ...,\n",
       "         [0.18431373, 0.16078432, 0.16078432],\n",
       "         [0.18431373, 0.16078432, 0.16078432],\n",
       "         [0.16862746, 0.14509805, 0.14509805]],\n",
       "\n",
       "        [[0.2901961 , 0.2627451 , 0.19215688],\n",
       "         [0.29411766, 0.26666668, 0.19607845],\n",
       "         [0.29411766, 0.26666668, 0.19607845],\n",
       "         ...,\n",
       "         [0.25882354, 0.23529413, 0.23529413],\n",
       "         [0.25490198, 0.23137257, 0.23137257],\n",
       "         [0.20392159, 0.18039216, 0.18039216]],\n",
       "\n",
       "        [[0.28235295, 0.25490198, 0.18431373],\n",
       "         [0.28235295, 0.25490198, 0.18431373],\n",
       "         [0.28235295, 0.25490198, 0.18431373],\n",
       "         ...,\n",
       "         [0.16078432, 0.13725491, 0.13725491],\n",
       "         [0.1764706 , 0.15294118, 0.15294118],\n",
       "         [0.19215688, 0.16862746, 0.16862746]],\n",
       "\n",
       "        ...,\n",
       "\n",
       "        [[0.5411765 , 0.46274513, 0.33333334],\n",
       "         [0.52156866, 0.43529415, 0.34117648],\n",
       "         [0.5137255 , 0.427451  , 0.34509805],\n",
       "         ...,\n",
       "         [0.80392164, 0.8235295 , 0.8980393 ],\n",
       "         [0.80392164, 0.8235295 , 0.8980393 ],\n",
       "         [0.80392164, 0.8235295 , 0.8980393 ]],\n",
       "\n",
       "        [[0.48235297, 0.4156863 , 0.30588236],\n",
       "         [0.5372549 , 0.4666667 , 0.3803922 ],\n",
       "         [0.5137255 , 0.43921572, 0.37254903],\n",
       "         ...,\n",
       "         [0.8078432 , 0.82745105, 0.91372555],\n",
       "         [0.79215693, 0.8117648 , 0.8980393 ],\n",
       "         [0.81568635, 0.8352942 , 0.91372555]],\n",
       "\n",
       "        [[0.49411768, 0.47058827, 0.38431376],\n",
       "         [0.5058824 , 0.4666667 , 0.41960788],\n",
       "         [0.49803925, 0.45882356, 0.42352945],\n",
       "         ...,\n",
       "         [0.78823537, 0.8000001 , 0.9215687 ],\n",
       "         [0.8000001 , 0.8117648 , 0.9333334 ],\n",
       "         [0.7843138 , 0.8000001 , 0.91372555]]],\n",
       "\n",
       "\n",
       "       [[[0.89019614, 0.92549026, 0.9607844 ],\n",
       "         [0.89019614, 0.92549026, 0.9607844 ],\n",
       "         [0.89019614, 0.92549026, 0.9607844 ],\n",
       "         ...,\n",
       "         [0.60784316, 0.56078434, 0.5764706 ],\n",
       "         [0.5882353 , 0.5411765 , 0.5568628 ],\n",
       "         [0.627451  , 0.5882353 , 0.61960787]],\n",
       "\n",
       "        [[0.89019614, 0.92549026, 0.9607844 ],\n",
       "         [0.89019614, 0.92549026, 0.9607844 ],\n",
       "         [0.89019614, 0.92549026, 0.9607844 ],\n",
       "         ...,\n",
       "         [0.6392157 , 0.5921569 , 0.60784316],\n",
       "         [0.6156863 , 0.5647059 , 0.5921569 ],\n",
       "         [0.61960787, 0.5803922 , 0.6117647 ]],\n",
       "\n",
       "        [[0.89019614, 0.92549026, 0.9607844 ],\n",
       "         [0.89019614, 0.92549026, 0.9607844 ],\n",
       "         [0.89019614, 0.92549026, 0.9607844 ],\n",
       "         ...,\n",
       "         [0.62352943, 0.57254905, 0.6       ],\n",
       "         [0.6       , 0.5568628 , 0.5803922 ],\n",
       "         [0.5803922 , 0.5411765 , 0.5764706 ]],\n",
       "\n",
       "        ...,\n",
       "\n",
       "        [[0.9921569 , 0.9333334 , 0.8588236 ],\n",
       "         [0.9921569 , 0.9333334 , 0.8588236 ],\n",
       "         [0.9921569 , 0.9333334 , 0.8588236 ],\n",
       "         ...,\n",
       "         [0.32941177, 0.5411765 , 0.3137255 ],\n",
       "         [0.40784317, 0.6156863 , 0.39607847],\n",
       "         [0.3529412 , 0.5411765 , 0.3372549 ]],\n",
       "\n",
       "        [[0.98823535, 0.9294118 , 0.854902  ],\n",
       "         [0.98823535, 0.9294118 , 0.854902  ],\n",
       "         [0.98823535, 0.9294118 , 0.854902  ],\n",
       "         ...,\n",
       "         [0.35686275, 0.5686275 , 0.34117648],\n",
       "         [0.32156864, 0.5294118 , 0.30980393],\n",
       "         [0.2392157 , 0.427451  , 0.22352943]],\n",
       "\n",
       "        [[0.9843138 , 0.92549026, 0.85098046],\n",
       "         [0.9843138 , 0.92549026, 0.85098046],\n",
       "         [0.9843138 , 0.92549026, 0.85098046],\n",
       "         ...,\n",
       "         [0.40784317, 0.61960787, 0.3921569 ],\n",
       "         [0.42352945, 0.6313726 , 0.41176474],\n",
       "         [0.34901962, 0.5372549 , 0.33333334]]],\n",
       "\n",
       "\n",
       "       [[[0.12156864, 0.12156864, 0.07450981],\n",
       "         [0.11764707, 0.11764707, 0.07058824],\n",
       "         [0.1137255 , 0.1137255 , 0.06666667],\n",
       "         ...,\n",
       "         [0.2392157 , 0.23529413, 0.0627451 ],\n",
       "         [0.3019608 , 0.3137255 , 0.09803922],\n",
       "         [0.59607846, 0.627451  , 0.33333334]],\n",
       "\n",
       "        [[0.12156864, 0.12156864, 0.07450981],\n",
       "         [0.11764707, 0.11764707, 0.07058824],\n",
       "         [0.1137255 , 0.1137255 , 0.06666667],\n",
       "         ...,\n",
       "         [0.23529413, 0.23529413, 0.03921569],\n",
       "         [0.2627451 , 0.27450982, 0.0509804 ],\n",
       "         [0.45882356, 0.48627454, 0.21176472]],\n",
       "\n",
       "        [[0.12156864, 0.12156864, 0.07450981],\n",
       "         [0.11764707, 0.11764707, 0.07058824],\n",
       "         [0.1137255 , 0.1137255 , 0.06666667],\n",
       "         ...,\n",
       "         [0.28627452, 0.2901961 , 0.05490196],\n",
       "         [0.28235295, 0.29803923, 0.06666667],\n",
       "         [0.3803922 , 0.4039216 , 0.15294118]],\n",
       "\n",
       "        ...,\n",
       "\n",
       "        [[0.38431376, 0.3254902 , 0.        ],\n",
       "         [0.3254902 , 0.26666668, 0.00392157],\n",
       "         [0.28627452, 0.21568629, 0.03529412],\n",
       "         ...,\n",
       "         [0.12156864, 0.10588236, 0.0627451 ],\n",
       "         [0.1254902 , 0.10980393, 0.06666667],\n",
       "         [0.1254902 , 0.10980393, 0.06666667]],\n",
       "\n",
       "        [[0.34901962, 0.28627452, 0.        ],\n",
       "         [0.30588236, 0.24705884, 0.        ],\n",
       "         [0.2784314 , 0.20784315, 0.02745098],\n",
       "         ...,\n",
       "         [0.10980393, 0.09411766, 0.0509804 ],\n",
       "         [0.11764707, 0.10196079, 0.05882353],\n",
       "         [0.12156864, 0.10588236, 0.0627451 ]],\n",
       "\n",
       "        [[0.34509805, 0.28235295, 0.        ],\n",
       "         [0.30588236, 0.24313727, 0.        ],\n",
       "         [0.28627452, 0.21568629, 0.02745098],\n",
       "         ...,\n",
       "         [0.10588236, 0.09019608, 0.04705883],\n",
       "         [0.10980393, 0.09411766, 0.0509804 ],\n",
       "         [0.1137255 , 0.09803922, 0.05490196]]],\n",
       "\n",
       "\n",
       "       ...,\n",
       "\n",
       "\n",
       "       [[[0.2509804 , 0.4156863 , 0.16470589],\n",
       "         [0.23529413, 0.36862746, 0.07843138],\n",
       "         [0.25490198, 0.3372549 , 0.16862746],\n",
       "         ...,\n",
       "         [0.08235294, 0.17254902, 0.0627451 ],\n",
       "         [0.07450981, 0.1764706 , 0.03921569],\n",
       "         [0.06666667, 0.10980393, 0.04705883]],\n",
       "\n",
       "        [[0.25882354, 0.427451  , 0.15686275],\n",
       "         [0.29803923, 0.4431373 , 0.14117648],\n",
       "         [0.2901961 , 0.37647063, 0.19215688],\n",
       "         ...,\n",
       "         [0.08235294, 0.16078432, 0.05490196],\n",
       "         [0.10980393, 0.20392159, 0.07058824],\n",
       "         [0.10980393, 0.16862746, 0.09411766]],\n",
       "\n",
       "        [[0.2784314 , 0.45882356, 0.16470589],\n",
       "         [0.3647059 , 0.5176471 , 0.20000002],\n",
       "         [0.32156864, 0.4156863 , 0.18823531],\n",
       "         ...,\n",
       "         [0.07450981, 0.15294118, 0.05490196],\n",
       "         [0.12941177, 0.22352943, 0.09019608],\n",
       "         [0.13725491, 0.20784315, 0.1137255 ]],\n",
       "\n",
       "        ...,\n",
       "\n",
       "        [[0.3529412 , 0.5058824 , 0.04705883],\n",
       "         [0.427451  , 0.59607846, 0.13333334],\n",
       "         [0.45882356, 0.63529414, 0.16862746],\n",
       "         ...,\n",
       "         [0.5058824 , 0.6745098 , 0.2627451 ],\n",
       "         [0.40000004, 0.58431375, 0.14509805],\n",
       "         [0.4901961 , 0.65882355, 0.2392157 ]],\n",
       "\n",
       "        [[0.28627452, 0.43921572, 0.        ],\n",
       "         [0.5686275 , 0.7372549 , 0.27450982],\n",
       "         [0.39607847, 0.57254905, 0.10588236],\n",
       "         ...,\n",
       "         [0.454902  , 0.62352943, 0.21176472],\n",
       "         [0.5137255 , 0.69803923, 0.25882354],\n",
       "         [0.4666667 , 0.63529414, 0.22352943]],\n",
       "\n",
       "        [[0.4666667 , 0.61960787, 0.16078432],\n",
       "         [0.3803922 , 0.54901963, 0.08627451],\n",
       "         [0.2392157 , 0.4156863 , 0.        ],\n",
       "         ...,\n",
       "         [0.5764706 , 0.74509805, 0.33333334],\n",
       "         [0.45882356, 0.6431373 , 0.20392159],\n",
       "         [0.58431375, 0.7490196 , 0.34901962]]],\n",
       "\n",
       "\n",
       "       [[[0.00784314, 0.10196079, 0.0509804 ],\n",
       "         [0.04705883, 0.05490196, 0.01176471],\n",
       "         [0.03529412, 0.12156864, 0.03137255],\n",
       "         ...,\n",
       "         [0.3921569 , 0.40000004, 0.38823533],\n",
       "         [0.43921572, 0.38823533, 0.35686275],\n",
       "         [0.07843138, 0.07843138, 0.07843138]],\n",
       "\n",
       "        [[0.01176471, 0.06666667, 0.06666667],\n",
       "         [0.03921569, 0.0627451 , 0.02352941],\n",
       "         [0.09803922, 0.227451  , 0.10588236],\n",
       "         ...,\n",
       "         [0.38823533, 0.39607847, 0.38431376],\n",
       "         [0.4431373 , 0.3921569 , 0.36078432],\n",
       "         [0.07450981, 0.07450981, 0.07450981]],\n",
       "\n",
       "        [[0.01960784, 0.03921569, 0.0509804 ],\n",
       "         [0.        , 0.02352941, 0.        ],\n",
       "         [0.01568628, 0.1254902 , 0.02745098],\n",
       "         ...,\n",
       "         [0.36862746, 0.37647063, 0.3647059 ],\n",
       "         [0.40784317, 0.35686275, 0.3254902 ],\n",
       "         [0.10196079, 0.10196079, 0.10196079]],\n",
       "\n",
       "        ...,\n",
       "\n",
       "        [[0.08627451, 0.08627451, 0.04705883],\n",
       "         [0.05490196, 0.05490196, 0.01568628],\n",
       "         [0.13333334, 0.13333334, 0.09411766],\n",
       "         ...,\n",
       "         [0.3803922 , 0.39607847, 0.30588236],\n",
       "         [0.34509805, 0.3529412 , 0.29803923],\n",
       "         [0.17254902, 0.18823531, 0.09019608]],\n",
       "\n",
       "        [[0.05882353, 0.06666667, 0.02352941],\n",
       "         [0.1764706 , 0.18431373, 0.14117648],\n",
       "         [0.16470589, 0.17254902, 0.12941177],\n",
       "         ...,\n",
       "         [0.3803922 , 0.3529412 , 0.24313727],\n",
       "         [0.30980393, 0.29411766, 0.18823531],\n",
       "         [0.18431373, 0.20000002, 0.09411766]],\n",
       "\n",
       "        [[0.03529412, 0.04313726, 0.        ],\n",
       "         [0.17254902, 0.18039216, 0.13725491],\n",
       "         [0.15294118, 0.16078432, 0.11764707],\n",
       "         ...,\n",
       "         [0.32941177, 0.30588236, 0.16470589],\n",
       "         [0.25882354, 0.24705884, 0.10980393],\n",
       "         [0.1764706 , 0.19607845, 0.07843138]]],\n",
       "\n",
       "\n",
       "       [[[0.32156864, 0.36862746, 0.2901961 ],\n",
       "         [0.35686275, 0.3921569 , 0.31764707],\n",
       "         [0.33333334, 0.3647059 , 0.28235295],\n",
       "         ...,\n",
       "         [0.6039216 , 0.627451  , 0.6745098 ],\n",
       "         [0.82745105, 0.854902  , 0.8862746 ],\n",
       "         [0.41960788, 0.454902  , 0.47450984]],\n",
       "\n",
       "        [[0.4039216 , 0.41960788, 0.3529412 ],\n",
       "         [0.48235297, 0.49803925, 0.43137258],\n",
       "         [0.3803922 , 0.41176474, 0.32941177],\n",
       "         ...,\n",
       "         [0.58431375, 0.6117647 , 0.6509804 ],\n",
       "         [0.74509805, 0.7725491 , 0.7960785 ],\n",
       "         [0.24313727, 0.28235295, 0.2901961 ]],\n",
       "\n",
       "        [[0.43137258, 0.4431373 , 0.37647063],\n",
       "         [0.5019608 , 0.5137255 , 0.44705886],\n",
       "         [0.40784317, 0.43921572, 0.35686275],\n",
       "         ...,\n",
       "         [0.5372549 , 0.5647059 , 0.59607846],\n",
       "         [0.50980395, 0.5411765 , 0.5529412 ],\n",
       "         [0.43921572, 0.4784314 , 0.48235297]],\n",
       "\n",
       "        ...,\n",
       "\n",
       "        [[0.5529412 , 0.41960788, 0.38431376],\n",
       "         [0.43137258, 0.29803923, 0.2627451 ],\n",
       "         [0.47450984, 0.34117648, 0.30588236],\n",
       "         ...,\n",
       "         [0.38431376, 0.30980393, 0.31764707],\n",
       "         [0.31764707, 0.25490198, 0.25490198],\n",
       "         [0.29803923, 0.24313727, 0.2392157 ]],\n",
       "\n",
       "        [[0.5019608 , 0.38431376, 0.3529412 ],\n",
       "         [0.38431376, 0.26666668, 0.23529413],\n",
       "         [0.3921569 , 0.27058825, 0.2509804 ],\n",
       "         ...,\n",
       "         [0.37647063, 0.3137255 , 0.31764707],\n",
       "         [0.3372549 , 0.28235295, 0.28235295],\n",
       "         [0.3137255 , 0.27058825, 0.2627451 ]],\n",
       "\n",
       "        [[0.54509807, 0.43529415, 0.41960788],\n",
       "         [0.4431373 , 0.33333334, 0.31764707],\n",
       "         [0.2784314 , 0.16862746, 0.15686275],\n",
       "         ...,\n",
       "         [0.45098042, 0.3921569 , 0.41176474],\n",
       "         [0.43137258, 0.38431376, 0.40000004],\n",
       "         [0.3803922 , 0.34117648, 0.34509805]]]], dtype=float32)"
      ]
     },
     "execution_count": 93,
     "metadata": {},
     "output_type": "execute_result"
    }
   ],
   "source": [
    "x_train"
   ]
  },
  {
   "cell_type": "code",
   "execution_count": 94,
   "id": "2cafcfe1",
   "metadata": {
    "ExecuteTime": {
     "end_time": "2022-04-03T05:33:56.227218Z",
     "start_time": "2022-04-03T05:33:56.213218Z"
    }
   },
   "outputs": [
    {
     "data": {
      "text/plain": [
       "array([[1., 0.],\n",
       "       [1., 0.],\n",
       "       [1., 0.],\n",
       "       [0., 1.],\n",
       "       [1., 0.],\n",
       "       [1., 0.],\n",
       "       [0., 1.],\n",
       "       [1., 0.],\n",
       "       [1., 0.],\n",
       "       [1., 0.],\n",
       "       [1., 0.],\n",
       "       [0., 1.],\n",
       "       [0., 1.],\n",
       "       [0., 1.],\n",
       "       [0., 1.],\n",
       "       [0., 1.],\n",
       "       [0., 1.],\n",
       "       [0., 1.],\n",
       "       [1., 0.],\n",
       "       [0., 1.]], dtype=float32)"
      ]
     },
     "execution_count": 94,
     "metadata": {},
     "output_type": "execute_result"
    }
   ],
   "source": [
    "y_train #  oh 인코딩"
   ]
  },
  {
   "cell_type": "code",
   "execution_count": 95,
   "id": "52ba5b3b",
   "metadata": {
    "ExecuteTime": {
     "end_time": "2022-04-03T05:33:56.355217Z",
     "start_time": "2022-04-03T05:33:56.229220Z"
    }
   },
   "outputs": [
    {
     "data": {
      "text/plain": [
       "<matplotlib.image.AxesImage at 0x27873d7b8c8>"
      ]
     },
     "execution_count": 95,
     "metadata": {},
     "output_type": "execute_result"
    },
    {
     "data": {
      "image/png": "[encoded data removed]",
      "text/plain": [
       "<Figure size 432x288 with 1 Axes>"
      ]
     },
     "metadata": {},
     "output_type": "display_data"
    }
   ],
   "source": [
    "plt.imshow(x_train[0])"
   ]
  },
  {
   "cell_type": "code",
   "execution_count": 96,
   "id": "76e6dcc8",
   "metadata": {
    "ExecuteTime": {
     "end_time": "2022-04-03T05:33:56.371220Z",
     "start_time": "2022-04-03T05:33:56.356219Z"
    }
   },
   "outputs": [
    {
     "data": {
      "text/plain": [
       "{'cat': 0, 'dog': 1}"
      ]
     },
     "execution_count": 96,
     "metadata": {},
     "output_type": "execute_result"
    }
   ],
   "source": [
    "# 분류값 확인\n",
    "trainGen.class_indices"
   ]
  },
  {
   "cell_type": "code",
   "execution_count": 97,
   "id": "ef867eb6",
   "metadata": {
    "ExecuteTime": {
     "end_time": "2022-04-03T05:33:56.387221Z",
     "start_time": "2022-04-03T05:33:56.372219Z"
    }
   },
   "outputs": [
    {
     "data": {
      "text/plain": [
       "array([[0.3019608 , 0.27450982, 0.20392159, ..., 0.7843138 , 0.8000001 ,\n",
       "        0.91372555],\n",
       "       [0.89019614, 0.92549026, 0.9607844 , ..., 0.34901962, 0.5372549 ,\n",
       "        0.33333334],\n",
       "       [0.12156864, 0.12156864, 0.07450981, ..., 0.1137255 , 0.09803922,\n",
       "        0.05490196],\n",
       "       ...,\n",
       "       [0.2509804 , 0.4156863 , 0.16470589, ..., 0.58431375, 0.7490196 ,\n",
       "        0.34901962],\n",
       "       [0.00784314, 0.10196079, 0.0509804 , ..., 0.1764706 , 0.19607845,\n",
       "        0.07843138],\n",
       "       [0.32156864, 0.36862746, 0.2901961 , ..., 0.3803922 , 0.34117648,\n",
       "        0.34509805]], dtype=float32)"
      ]
     },
     "execution_count": 97,
     "metadata": {},
     "output_type": "execute_result"
    }
   ],
   "source": [
    " x_train.reshape(20, -1)"
   ]
  },
  {
   "cell_type": "code",
   "execution_count": 98,
   "id": "0b450d0d",
   "metadata": {
    "ExecuteTime": {
     "end_time": "2022-04-03T05:33:56.403218Z",
     "start_time": "2022-04-03T05:33:56.388219Z"
    }
   },
   "outputs": [
    {
     "data": {
      "text/plain": [
       "(20, 98, 98, 3)"
      ]
     },
     "execution_count": 98,
     "metadata": {},
     "output_type": "execute_result"
    }
   ],
   "source": [
    "x_train.shape "
   ]
  },
  {
   "cell_type": "code",
   "execution_count": 99,
   "id": "19d32746",
   "metadata": {
    "ExecuteTime": {
     "end_time": "2022-04-03T05:33:57.538218Z",
     "start_time": "2022-04-03T05:33:56.405242Z"
    }
   },
   "outputs": [
    {
     "name": "stdout",
     "output_type": "stream",
     "text": [
      "Epoch 1/50\n",
      "1/1 [==============================] - 0s 297ms/step - loss: 0.7327 - acc: 0.5000\n",
      "Epoch 2/50\n",
      "1/1 [==============================] - 0s 6ms/step - loss: 6.4933 - acc: 0.5000\n",
      "Epoch 3/50\n",
      "1/1 [==============================] - 0s 5ms/step - loss: 4.1272 - acc: 0.5000\n",
      "Epoch 4/50\n",
      "1/1 [==============================] - 0s 4ms/step - loss: 1.5896 - acc: 0.5000\n",
      "Epoch 5/50\n",
      "1/1 [==============================] - 0s 4ms/step - loss: 1.8361 - acc: 0.5000\n",
      "Epoch 6/50\n",
      "1/1 [==============================] - 0s 5ms/step - loss: 1.9970 - acc: 0.5000\n",
      "Epoch 7/50\n",
      "1/1 [==============================] - 0s 4ms/step - loss: 0.7019 - acc: 0.6000\n",
      "Epoch 8/50\n",
      "1/1 [==============================] - 0s 5ms/step - loss: 1.1953 - acc: 0.5500\n",
      "Epoch 9/50\n",
      "1/1 [==============================] - 0s 5ms/step - loss: 1.6500 - acc: 0.5500\n",
      "Epoch 10/50\n",
      "1/1 [==============================] - 0s 5ms/step - loss: 0.8444 - acc: 0.6500\n",
      "Epoch 11/50\n",
      "1/1 [==============================] - 0s 4ms/step - loss: 0.3979 - acc: 0.8500\n",
      "Epoch 12/50\n",
      "1/1 [==============================] - 0s 4ms/step - loss: 0.9725 - acc: 0.5500\n",
      "Epoch 13/50\n",
      "1/1 [==============================] - 0s 4ms/step - loss: 0.7514 - acc: 0.7000\n",
      "Epoch 14/50\n",
      "1/1 [==============================] - 0s 5ms/step - loss: 0.3334 - acc: 0.9000\n",
      "Epoch 15/50\n",
      "1/1 [==============================] - 0s 4ms/step - loss: 0.2850 - acc: 0.8000\n",
      "Epoch 16/50\n",
      "1/1 [==============================] - 0s 4ms/step - loss: 0.3932 - acc: 0.8500\n",
      "Epoch 17/50\n",
      "1/1 [==============================] - 0s 5ms/step - loss: 0.2391 - acc: 0.8500\n",
      "Epoch 18/50\n",
      "1/1 [==============================] - 0s 5ms/step - loss: 0.2381 - acc: 0.9000\n",
      "Epoch 19/50\n",
      "1/1 [==============================] - 0s 5ms/step - loss: 0.2948 - acc: 0.9000\n",
      "Epoch 20/50\n",
      "1/1 [==============================] - 0s 5ms/step - loss: 0.1893 - acc: 0.9500\n",
      "Epoch 21/50\n",
      "1/1 [==============================] - 0s 4ms/step - loss: 0.1577 - acc: 0.9000\n",
      "Epoch 22/50\n",
      "1/1 [==============================] - 0s 5ms/step - loss: 0.2186 - acc: 0.9000\n",
      "Epoch 23/50\n",
      "1/1 [==============================] - 0s 5ms/step - loss: 0.1203 - acc: 0.9500\n",
      "Epoch 24/50\n",
      "1/1 [==============================] - 0s 4ms/step - loss: 0.1129 - acc: 0.9500\n",
      "Epoch 25/50\n",
      "1/1 [==============================] - 0s 5ms/step - loss: 0.1372 - acc: 0.9500\n",
      "Epoch 26/50\n",
      "1/1 [==============================] - 0s 5ms/step - loss: 0.0908 - acc: 0.9500\n",
      "Epoch 27/50\n",
      "1/1 [==============================] - 0s 5ms/step - loss: 0.0592 - acc: 1.0000\n",
      "Epoch 28/50\n",
      "1/1 [==============================] - 0s 4ms/step - loss: 0.0831 - acc: 1.0000\n",
      "Epoch 29/50\n",
      "1/1 [==============================] - 0s 5ms/step - loss: 0.0651 - acc: 1.0000\n",
      "Epoch 30/50\n",
      "1/1 [==============================] - 0s 5ms/step - loss: 0.0373 - acc: 1.0000\n",
      "Epoch 31/50\n",
      "1/1 [==============================] - 0s 5ms/step - loss: 0.0444 - acc: 1.0000\n",
      "Epoch 32/50\n",
      "1/1 [==============================] - 0s 5ms/step - loss: 0.0491 - acc: 1.0000\n",
      "Epoch 33/50\n",
      "1/1 [==============================] - 0s 4ms/step - loss: 0.0346 - acc: 1.0000\n",
      "Epoch 34/50\n",
      "1/1 [==============================] - 0s 5ms/step - loss: 0.0243 - acc: 1.0000\n",
      "Epoch 35/50\n",
      "1/1 [==============================] - 0s 4ms/step - loss: 0.0266 - acc: 1.0000\n",
      "Epoch 36/50\n",
      "1/1 [==============================] - 0s 5ms/step - loss: 0.0311 - acc: 1.0000\n",
      "Epoch 37/50\n",
      "1/1 [==============================] - 0s 4ms/step - loss: 0.0271 - acc: 1.0000\n",
      "Epoch 38/50\n",
      "1/1 [==============================] - 0s 4ms/step - loss: 0.0202 - acc: 1.0000\n",
      "Epoch 39/50\n",
      "1/1 [==============================] - 0s 3ms/step - loss: 0.0180 - acc: 1.0000\n",
      "Epoch 40/50\n",
      "1/1 [==============================] - 0s 4ms/step - loss: 0.0200 - acc: 1.0000\n",
      "Epoch 41/50\n",
      "1/1 [==============================] - 0s 4ms/step - loss: 0.0216 - acc: 1.0000\n",
      "Epoch 42/50\n",
      "1/1 [==============================] - 0s 4ms/step - loss: 0.0198 - acc: 1.0000\n",
      "Epoch 43/50\n",
      "1/1 [==============================] - 0s 4ms/step - loss: 0.0164 - acc: 1.0000\n",
      "Epoch 44/50\n",
      "1/1 [==============================] - 0s 5ms/step - loss: 0.0142 - acc: 1.0000\n",
      "Epoch 45/50\n",
      "1/1 [==============================] - 0s 5ms/step - loss: 0.0143 - acc: 1.0000\n",
      "Epoch 46/50\n",
      "1/1 [==============================] - 0s 6ms/step - loss: 0.0154 - acc: 1.0000\n",
      "Epoch 47/50\n",
      "1/1 [==============================] - 0s 5ms/step - loss: 0.0154 - acc: 1.0000\n",
      "Epoch 48/50\n",
      "1/1 [==============================] - 0s 5ms/step - loss: 0.0137 - acc: 1.0000\n",
      "Epoch 49/50\n",
      "1/1 [==============================] - 0s 5ms/step - loss: 0.0119 - acc: 1.0000\n",
      "Epoch 50/50\n",
      "1/1 [==============================] - 0s 4ms/step - loss: 0.0111 - acc: 1.0000\n",
      "Epoch 1/50\n",
      "1/1 [==============================] - 0s 10ms/step - loss: 0.0112 - acc: 1.0000\n",
      "Epoch 2/50\n",
      "1/1 [==============================] - 0s 4ms/step - loss: 0.0114 - acc: 1.0000\n",
      "Epoch 3/50\n",
      "1/1 [==============================] - 0s 7ms/step - loss: 0.0112 - acc: 1.0000\n",
      "Epoch 4/50\n",
      "1/1 [==============================] - 0s 6ms/step - loss: 0.0105 - acc: 1.0000\n",
      "Epoch 5/50\n",
      "1/1 [==============================] - 0s 5ms/step - loss: 0.0096 - acc: 1.0000\n",
      "Epoch 6/50\n",
      "1/1 [==============================] - 0s 6ms/step - loss: 0.0090 - acc: 1.0000\n",
      "Epoch 7/50\n",
      "1/1 [==============================] - 0s 4ms/step - loss: 0.0087 - acc: 1.0000\n",
      "Epoch 8/50\n",
      "1/1 [==============================] - 0s 4ms/step - loss: 0.0088 - acc: 1.0000\n",
      "Epoch 9/50\n",
      "1/1 [==============================] - 0s 5ms/step - loss: 0.0088 - acc: 1.0000\n",
      "Epoch 10/50\n",
      "1/1 [==============================] - 0s 4ms/step - loss: 0.0085 - acc: 1.0000\n",
      "Epoch 11/50\n",
      "1/1 [==============================] - 0s 4ms/step - loss: 0.0080 - acc: 1.0000\n",
      "Epoch 12/50\n",
      "1/1 [==============================] - 0s 5ms/step - loss: 0.0076 - acc: 1.0000\n",
      "Epoch 13/50\n",
      "1/1 [==============================] - 0s 4ms/step - loss: 0.0073 - acc: 1.0000\n",
      "Epoch 14/50\n",
      "1/1 [==============================] - 0s 6ms/step - loss: 0.0072 - acc: 1.0000\n",
      "Epoch 15/50\n",
      "1/1 [==============================] - 0s 4ms/step - loss: 0.0072 - acc: 1.0000\n",
      "Epoch 16/50\n",
      "1/1 [==============================] - 0s 5ms/step - loss: 0.0071 - acc: 1.0000\n",
      "Epoch 17/50\n",
      "1/1 [==============================] - 0s 4ms/step - loss: 0.0069 - acc: 1.0000\n",
      "Epoch 18/50\n",
      "1/1 [==============================] - 0s 4ms/step - loss: 0.0067 - acc: 1.0000\n",
      "Epoch 19/50\n",
      "1/1 [==============================] - 0s 4ms/step - loss: 0.0064 - acc: 1.0000\n",
      "Epoch 20/50\n",
      "1/1 [==============================] - 0s 5ms/step - loss: 0.0063 - acc: 1.0000\n",
      "Epoch 21/50\n",
      "1/1 [==============================] - 0s 4ms/step - loss: 0.0062 - acc: 1.0000\n",
      "Epoch 22/50\n",
      "1/1 [==============================] - 0s 4ms/step - loss: 0.0061 - acc: 1.0000\n",
      "Epoch 23/50\n",
      "1/1 [==============================] - 0s 4ms/step - loss: 0.0060 - acc: 1.0000\n",
      "Epoch 24/50\n",
      "1/1 [==============================] - 0s 4ms/step - loss: 0.0059 - acc: 1.0000\n",
      "Epoch 25/50\n",
      "1/1 [==============================] - 0s 5ms/step - loss: 0.0057 - acc: 1.0000\n",
      "Epoch 26/50\n",
      "1/1 [==============================] - 0s 6ms/step - loss: 0.0056 - acc: 1.0000\n",
      "Epoch 27/50\n",
      "1/1 [==============================] - 0s 5ms/step - loss: 0.0055 - acc: 1.0000\n",
      "Epoch 28/50\n",
      "1/1 [==============================] - 0s 5ms/step - loss: 0.0054 - acc: 1.0000\n",
      "Epoch 29/50\n",
      "1/1 [==============================] - 0s 5ms/step - loss: 0.0054 - acc: 1.0000\n",
      "Epoch 30/50\n",
      "1/1 [==============================] - 0s 5ms/step - loss: 0.0053 - acc: 1.0000\n",
      "Epoch 31/50\n",
      "1/1 [==============================] - 0s 4ms/step - loss: 0.0053 - acc: 1.0000\n",
      "Epoch 32/50\n",
      "1/1 [==============================] - 0s 5ms/step - loss: 0.0051 - acc: 1.0000\n",
      "Epoch 33/50\n",
      "1/1 [==============================] - 0s 5ms/step - loss: 0.0050 - acc: 1.0000\n",
      "Epoch 34/50\n",
      "1/1 [==============================] - 0s 5ms/step - loss: 0.0049 - acc: 1.0000\n",
      "Epoch 35/50\n",
      "1/1 [==============================] - 0s 4ms/step - loss: 0.0049 - acc: 1.0000\n",
      "Epoch 36/50\n",
      "1/1 [==============================] - 0s 5ms/step - loss: 0.0048 - acc: 1.0000\n",
      "Epoch 37/50\n",
      "1/1 [==============================] - 0s 4ms/step - loss: 0.0048 - acc: 1.0000\n",
      "Epoch 38/50\n",
      "1/1 [==============================] - 0s 5ms/step - loss: 0.0047 - acc: 1.0000\n",
      "Epoch 39/50\n",
      "1/1 [==============================] - 0s 4ms/step - loss: 0.0046 - acc: 1.0000\n",
      "Epoch 40/50\n"
     ]
    },
    {
     "name": "stdout",
     "output_type": "stream",
     "text": [
      "1/1 [==============================] - 0s 4ms/step - loss: 0.0045 - acc: 1.0000\n",
      "Epoch 41/50\n",
      "1/1 [==============================] - 0s 4ms/step - loss: 0.0045 - acc: 1.0000\n",
      "Epoch 42/50\n",
      "1/1 [==============================] - 0s 4ms/step - loss: 0.0044 - acc: 1.0000\n",
      "Epoch 43/50\n",
      "1/1 [==============================] - 0s 4ms/step - loss: 0.0043 - acc: 1.0000\n",
      "Epoch 44/50\n",
      "1/1 [==============================] - 0s 5ms/step - loss: 0.0043 - acc: 1.0000\n",
      "Epoch 45/50\n",
      "1/1 [==============================] - 0s 4ms/step - loss: 0.0042 - acc: 1.0000\n",
      "Epoch 46/50\n",
      "1/1 [==============================] - 0s 4ms/step - loss: 0.0042 - acc: 1.0000\n",
      "Epoch 47/50\n",
      "1/1 [==============================] - 0s 4ms/step - loss: 0.0041 - acc: 1.0000\n",
      "Epoch 48/50\n",
      "1/1 [==============================] - 0s 5ms/step - loss: 0.0041 - acc: 1.0000\n",
      "Epoch 49/50\n",
      "1/1 [==============================] - 0s 3ms/step - loss: 0.0040 - acc: 1.0000\n",
      "Epoch 50/50\n",
      "1/1 [==============================] - 0s 5ms/step - loss: 0.0040 - acc: 1.0000\n"
     ]
    }
   ],
   "source": [
    "# flatten 쓰면 인코딩 안해도됨. 3차원 데이터\n",
    "model = Sequential()\n",
    "model.add(Flatten(input_shape = (98,98,3)))\n",
    "model.add(Dense(units=64,  activation='relu' )  )\n",
    "model.add(Dense(units=32,  activation='relu' )  )\n",
    "model.add(Dense(units=2,  activation='softmax' )  )\n",
    "\n",
    "# model.compile(loss = 'sparse_categorical_crossentropy',optimizer='adam',metrics=['acc'])\n",
    "model.compile( loss='categorical_crossentropy',optimizer='adam', metrics=['acc'])\n",
    "model.fit(x_train, y_train,epochs=50)\n",
    "h = model.fit(x_train, y_train,epochs=50)"
   ]
  },
  {
   "cell_type": "code",
   "execution_count": 100,
   "id": "703f462e",
   "metadata": {
    "ExecuteTime": {
     "end_time": "2022-04-03T05:33:57.601227Z",
     "start_time": "2022-04-03T05:33:57.541220Z"
    }
   },
   "outputs": [],
   "source": [
    "\n",
    "model.save('catdog.h5')\n",
    "# h5는 모델 압축 파일\n",
    "\n",
    "\n",
    "# model.save(\"model.h5\")\n",
    "# print(\"Saved model to disk\")\n",
    "\n",
    "# 해당 코드가 "
   ]
  },
  {
   "cell_type": "markdown",
   "id": "72304371",
   "metadata": {},
   "source": [
    "# 연습"
   ]
  },
  {
   "cell_type": "code",
   "execution_count": 101,
   "id": "a425721e",
   "metadata": {
    "ExecuteTime": {
     "end_time": "2022-04-03T05:33:57.617219Z",
     "start_time": "2022-04-03T05:33:57.603232Z"
    }
   },
   "outputs": [
    {
     "data": {
      "image/png": "[encoded data removed]",
      "text/plain": [
       "<PIL.Image.Image image mode=RGB size=98x98 at 0x27873DD8548>"
      ]
     },
     "execution_count": 101,
     "metadata": {},
     "output_type": "execute_result"
    }
   ],
   "source": [
    "testImg = image.load_img('image/test.jpg',target_size=(98,98))\n",
    "testImg"
   ]
  },
  {
   "cell_type": "code",
   "execution_count": 102,
   "id": "6abcbb51",
   "metadata": {
    "ExecuteTime": {
     "end_time": "2022-04-03T05:33:57.632218Z",
     "start_time": "2022-04-03T05:33:57.619217Z"
    }
   },
   "outputs": [
    {
     "data": {
      "text/plain": [
       "PIL.Image.Image"
      ]
     },
     "execution_count": 102,
     "metadata": {},
     "output_type": "execute_result"
    }
   ],
   "source": [
    "type(testImg)"
   ]
  },
  {
   "cell_type": "code",
   "execution_count": 103,
   "id": "45ce095a",
   "metadata": {
    "ExecuteTime": {
     "end_time": "2022-04-03T05:33:57.648218Z",
     "start_time": "2022-04-03T05:33:57.633220Z"
    }
   },
   "outputs": [],
   "source": [
    "imgArr = image.img_to_array(testImg) #  넘파이 배열로 만듦\n",
    "imgArr = imgArr/255   #  스케일링"
   ]
  },
  {
   "cell_type": "code",
   "execution_count": 104,
   "id": "1ecb3bfb",
   "metadata": {
    "ExecuteTime": {
     "end_time": "2022-04-03T05:33:57.664217Z",
     "start_time": "2022-04-03T05:33:57.650244Z"
    }
   },
   "outputs": [
    {
     "data": {
      "text/plain": [
       "(98, 98, 3)"
      ]
     },
     "execution_count": 104,
     "metadata": {},
     "output_type": "execute_result"
    }
   ],
   "source": [
    "imgArr.shape"
   ]
  },
  {
   "cell_type": "code",
   "execution_count": 105,
   "id": "9af58d4c",
   "metadata": {
    "ExecuteTime": {
     "end_time": "2022-04-03T05:33:57.743218Z",
     "start_time": "2022-04-03T05:33:57.666220Z"
    }
   },
   "outputs": [
    {
     "data": {
      "text/plain": [
       "array([1], dtype=int64)"
      ]
     },
     "execution_count": 105,
     "metadata": {},
     "output_type": "execute_result"
    }
   ],
   "source": [
    "model.predict(imgArr.reshape(1,98,98,3)).argmax(axis=1)"
   ]
  },
  {
   "cell_type": "code",
   "execution_count": 106,
   "id": "ef7a0775",
   "metadata": {
    "ExecuteTime": {
     "end_time": "2022-04-03T05:33:57.759217Z",
     "start_time": "2022-04-03T05:33:57.744219Z"
    }
   },
   "outputs": [],
   "source": [
    "# 피클 \n",
    "import pickle\n",
    "fp = open('catdog.history','wb')\n",
    "pickle.dump(h.history,fp)\n",
    "fp.close()"
   ]
  },
  {
   "cell_type": "code",
   "execution_count": 107,
   "id": "939abb77",
   "metadata": {
    "ExecuteTime": {
     "end_time": "2022-04-03T05:33:57.791218Z",
     "start_time": "2022-04-03T05:33:57.761220Z"
    }
   },
   "outputs": [],
   "source": [
    "import shelve\n",
    "sh = shelve.open('myhist')\n",
    "sh['myh'] = h.history\n",
    "sh.close()"
   ]
  },
  {
   "cell_type": "code",
   "execution_count": 108,
   "id": "83297e68",
   "metadata": {
    "ExecuteTime": {
     "end_time": "2022-04-03T05:33:57.807218Z",
     "start_time": "2022-04-03T05:33:57.793218Z"
    }
   },
   "outputs": [],
   "source": [
    "def mydecode(arg):\n",
    "    my= []\n",
    "    \n",
    "    for p,l in arg:\n",
    "        if p>0.5:\n",
    "            my.append((p,'강아지'))\n",
    "        else:\n",
    "            my.append((l,'고양이'))\n",
    "    return my\n",
    "            "
   ]
  },
  {
   "cell_type": "code",
   "execution_count": 109,
   "id": "680c4d16",
   "metadata": {
    "ExecuteTime": {
     "end_time": "2022-04-03T05:33:57.871160Z",
     "start_time": "2022-04-03T05:33:57.809234Z"
    }
   },
   "outputs": [
    {
     "data": {
      "text/plain": [
       "array([[3.6435237e-04, 9.9963558e-01]], dtype=float32)"
      ]
     },
     "execution_count": 109,
     "metadata": {},
     "output_type": "execute_result"
    }
   ],
   "source": [
    "# 모델 예측\n",
    "pred = model.predict(imgArr.reshape(1,98,98,3))\n",
    "pred"
   ]
  },
  {
   "cell_type": "code",
   "execution_count": 110,
   "id": "7be5ed16",
   "metadata": {
    "ExecuteTime": {
     "end_time": "2022-04-03T05:33:57.883218Z",
     "start_time": "2022-04-03T05:33:57.874221Z"
    }
   },
   "outputs": [],
   "source": [
    "# 해독 \n",
    "def mydecode(arg):\n",
    "    my= []\n",
    "    \n",
    "    for p,l in arg:\n",
    "        if p>0.5:\n",
    "            my.append((p,'강아지'))\n",
    "        else:\n",
    "            my.append((l,'고양이'))\n",
    "    return my\n",
    "            "
   ]
  },
  {
   "cell_type": "code",
   "execution_count": 111,
   "id": "dbbe66ff",
   "metadata": {
    "ExecuteTime": {
     "end_time": "2022-04-03T05:33:57.898217Z",
     "start_time": "2022-04-03T05:33:57.885218Z"
    }
   },
   "outputs": [
    {
     "data": {
      "text/plain": [
       "[(0.9996356, '고양이')]"
      ]
     },
     "execution_count": 111,
     "metadata": {},
     "output_type": "execute_result"
    }
   ],
   "source": [
    "# 고양이로 예측됨.\n",
    "mydecode(pred)"
   ]
  },
  {
   "cell_type": "markdown",
   "id": "0f0854b8",
   "metadata": {},
   "source": [
    "# 오류\n",
    " module 'h5py' has no attribute 'File'  = > h5py uninstall하고 다시 install"
   ]
  }
 ],
 "metadata": {
  "kernelspec": {
   "display_name": "Python 3 (ipykernel)",
   "language": "python",
   "name": "python3"
  },
  "language_info": {
   "codemirror_mode": {
    "name": "ipython",
    "version": 3
   },
   "file_extension": ".py",
   "mimetype": "text/x-python",
   "name": "python",
   "nbconvert_exporter": "python",
   "pygments_lexer": "ipython3",
   "version": "3.7.12"
  },
  "toc": {
   "base_numbering": 1,
   "nav_menu": {},
   "number_sections": true,
   "sideBar": true,
   "skip_h1_title": false,
   "title_cell": "Table of Contents",
   "title_sidebar": "Contents",
   "toc_cell": false,
   "toc_position": {
    "height": "calc(100% - 180px)",
    "left": "10px",
    "top": "150px",
    "width": "212.875px"
   },
   "toc_section_display": true,
   "toc_window_display": true
  }
 },
 "nbformat": 4,
 "nbformat_minor": 5
}
