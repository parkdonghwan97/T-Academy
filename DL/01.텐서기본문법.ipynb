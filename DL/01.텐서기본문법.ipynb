{
 "cells": [
  {
   "cell_type": "code",
   "execution_count": 1,
   "id": "dd1b4513",
   "metadata": {
    "ExecuteTime": {
     "end_time": "2022-03-31T11:39:27.478447Z",
     "start_time": "2022-03-31T11:39:20.087468Z"
    }
   },
   "outputs": [],
   "source": [
    "import tensorflow as tf\n",
    "import numpy as np"
   ]
  },
  {
   "cell_type": "markdown",
   "id": "9640fbe3",
   "metadata": {},
   "source": [
    "# Scalar data\n",
    "\n",
    "- 단 하나의 값만을 저장할 수 있는 데이터 타입"
   ]
  },
  {
   "cell_type": "code",
   "execution_count": 2,
   "id": "6e9f8c92",
   "metadata": {
    "ExecuteTime": {
     "end_time": "2022-03-31T11:39:27.494444Z",
     "start_time": "2022-03-31T11:39:27.480444Z"
    }
   },
   "outputs": [],
   "source": [
    "s1 = 10 \n",
    "s2 = 'abc'\n",
    "s3 = 3.14"
   ]
  },
  {
   "cell_type": "markdown",
   "id": "def05f29",
   "metadata": {},
   "source": [
    "# Vector data\n",
    "- 스칼라 데이터 모음"
   ]
  },
  {
   "cell_type": "code",
   "execution_count": 3,
   "id": "9bcffab5",
   "metadata": {
    "ExecuteTime": {
     "end_time": "2022-03-31T11:39:27.510444Z",
     "start_time": "2022-03-31T11:39:27.495444Z"
    }
   },
   "outputs": [],
   "source": [
    "v = [10,20,30]"
   ]
  },
  {
   "cell_type": "markdown",
   "id": "31ad27d2",
   "metadata": {},
   "source": [
    "# matrix data\n",
    "\n",
    "- 벡터 데이터 모음"
   ]
  },
  {
   "cell_type": "code",
   "execution_count": 4,
   "id": "79c1e503",
   "metadata": {
    "ExecuteTime": {
     "end_time": "2022-03-31T11:39:27.526452Z",
     "start_time": "2022-03-31T11:39:27.512445Z"
    }
   },
   "outputs": [],
   "source": [
    "m = [  [10,20,30] , \n",
    "     [40,50,60]  ]   # 2 x 3  ==> 2행 3열"
   ]
  },
  {
   "cell_type": "markdown",
   "id": "30eea587",
   "metadata": {},
   "source": [
    "# 3d tensor\n",
    "\n",
    "- 메트릭스 데이터 모음\n"
   ]
  },
  {
   "cell_type": "code",
   "execution_count": 5,
   "id": "5314d927",
   "metadata": {
    "ExecuteTime": {
     "end_time": "2022-03-31T11:39:27.542445Z",
     "start_time": "2022-03-31T11:39:27.527445Z"
    }
   },
   "outputs": [],
   "source": [
    "# 2x2x3 ==> 2면 2행 3열   2메트릭스 2벡터 3스칼라\n",
    "d3 = [ \n",
    "      [  [10,20,30] , \n",
    "         [40,50,60]  ], \n",
    "    \n",
    "      [  [10,20,30] , \n",
    "         [40,50,60]  ] \n",
    "     ] "
   ]
  },
  {
   "cell_type": "markdown",
   "id": "ec1c40e7",
   "metadata": {},
   "source": [
    "# 4d tensor\n"
   ]
  },
  {
   "cell_type": "code",
   "execution_count": 6,
   "id": "ecc95fc0",
   "metadata": {
    "ExecuteTime": {
     "end_time": "2022-03-31T11:39:27.557446Z",
     "start_time": "2022-03-31T11:39:27.543445Z"
    }
   },
   "outputs": [],
   "source": [
    "# 2 x 2 x 2 x3      2 3dtensor 2매트릭스 2벡터 3스칼라\n",
    "d4 =[ [  [  [10,20,30] , [40,50,60]  ], \n",
    "       [  [10,20,30] , [40,50,60]  ] ] \n",
    "     ,[  [  [10,20,30] , [40,50,60]  ], \n",
    "       [  [10,20,30] , [40,50,60]  ] ] ]"
   ]
  },
  {
   "cell_type": "markdown",
   "id": "9e59366d",
   "metadata": {},
   "source": [
    "# tensor data node 정의\n",
    "```\n",
    "1. constant   - > 읽기 전용 ( 값 고정)\n",
    "2. Variable   - > 읽기 쓰기 \n",
    "```"
   ]
  },
  {
   "cell_type": "markdown",
   "id": "f934b175",
   "metadata": {},
   "source": [
    "## Constant"
   ]
  },
  {
   "cell_type": "code",
   "execution_count": 7,
   "id": "c5801803",
   "metadata": {
    "ExecuteTime": {
     "end_time": "2022-03-31T11:39:33.882149Z",
     "start_time": "2022-03-31T11:39:31.321597Z"
    }
   },
   "outputs": [
    {
     "data": {
      "text/plain": [
       "(<tf.Tensor: shape=(), dtype=int32, numpy=10>, 10)"
      ]
     },
     "execution_count": 7,
     "metadata": {},
     "output_type": "execute_result"
    }
   ],
   "source": [
    "# scalar      shape=()     numpy = value\n",
    "s1 = 10\n",
    "c1  = tf.constant( s1 )\n",
    "c1,c1.numpy()"
   ]
  },
  {
   "cell_type": "code",
   "execution_count": 8,
   "id": "75e18846",
   "metadata": {
    "ExecuteTime": {
     "end_time": "2022-03-31T11:39:33.897153Z",
     "start_time": "2022-03-31T11:39:33.888149Z"
    }
   },
   "outputs": [
    {
     "data": {
      "text/plain": [
       "(<tf.Tensor: shape=(3,), dtype=int32, numpy=array([10, 20, 30])>,\n",
       " array([10, 20, 30]),\n",
       " tensorflow.python.framework.ops.EagerTensor)"
      ]
     },
     "execution_count": 8,
     "metadata": {},
     "output_type": "execute_result"
    }
   ],
   "source": [
    "# vector   shape=(3,)   numpy=array([])\n",
    "v1 = [10,20,30]\n",
    "t1  = tf.constant(v1)\n",
    "t1, t1.numpy() , type(t1)"
   ]
  },
  {
   "cell_type": "code",
   "execution_count": 9,
   "id": "8b1ef98d",
   "metadata": {
    "ExecuteTime": {
     "end_time": "2022-03-31T11:39:33.913149Z",
     "start_time": "2022-03-31T11:39:33.899153Z"
    },
    "scrolled": true
   },
   "outputs": [
    {
     "data": {
      "text/plain": [
       "(<tf.Tensor: shape=(2, 3), dtype=int32, numpy=\n",
       " array([[10, 20, 30],\n",
       "        [40, 50, 60]])>,\n",
       " array([[10, 20, 30],\n",
       "        [40, 50, 60]]))"
      ]
     },
     "execution_count": 9,
     "metadata": {},
     "output_type": "execute_result"
    }
   ],
   "source": [
    "# matrix    shape=(2, 3)    numpy=array([ [ ] ])\n",
    "m1 = [[10,20,30], [40,50,60] ]\n",
    "t2 = tf.constant( m1 )\n",
    "t2, t2.numpy()"
   ]
  },
  {
   "cell_type": "markdown",
   "id": "8eb7cb66",
   "metadata": {},
   "source": [
    "## 연산  element wise\n",
    "- 요소별 연산 "
   ]
  },
  {
   "cell_type": "code",
   "execution_count": 10,
   "id": "e3874f08",
   "metadata": {
    "ExecuteTime": {
     "end_time": "2022-03-31T11:39:33.929149Z",
     "start_time": "2022-03-31T11:39:33.915149Z"
    }
   },
   "outputs": [],
   "source": [
    "a = tf.constant( 3 )  # scalar data         shape=()\n",
    "b = tf.constant( [1,2,3] ) # vector data   shape=(3,)"
   ]
  },
  {
   "cell_type": "code",
   "execution_count": 11,
   "id": "08ed9850",
   "metadata": {
    "ExecuteTime": {
     "end_time": "2022-03-31T11:39:33.945148Z",
     "start_time": "2022-03-31T11:39:33.930148Z"
    }
   },
   "outputs": [
    {
     "data": {
      "text/plain": [
       "(<tf.Tensor: shape=(3,), dtype=int32, numpy=array([3, 6, 9])>,\n",
       " array([3, 6, 9]))"
      ]
     },
     "execution_count": 11,
     "metadata": {},
     "output_type": "execute_result"
    }
   ],
   "source": [
    "c = tf.multiply(a , b)  # * 연산      shape=(3,)   \n",
    "c, c.numpy()"
   ]
  },
  {
   "cell_type": "code",
   "execution_count": 12,
   "id": "a4174fe6",
   "metadata": {
    "ExecuteTime": {
     "end_time": "2022-03-31T11:39:33.961150Z",
     "start_time": "2022-03-31T11:39:33.946149Z"
    }
   },
   "outputs": [
    {
     "data": {
      "text/plain": [
       "(<tf.Tensor: shape=(3,), dtype=int32, numpy=array([4, 5, 6])>,\n",
       " array([4, 5, 6]))"
      ]
     },
     "execution_count": 12,
     "metadata": {},
     "output_type": "execute_result"
    }
   ],
   "source": [
    "d = tf.add(a,b) #  + 연산        shape=(3,)\n",
    "d, d.numpy()"
   ]
  },
  {
   "cell_type": "code",
   "execution_count": 13,
   "id": "16917c2a",
   "metadata": {
    "ExecuteTime": {
     "end_time": "2022-03-31T11:39:33.977155Z",
     "start_time": "2022-03-31T11:39:33.963154Z"
    }
   },
   "outputs": [
    {
     "data": {
      "text/plain": [
       "(<tf.Tensor: shape=(3,), dtype=int32, numpy=array([ 4,  8, 12])>,\n",
       " array([ 4,  8, 12]))"
      ]
     },
     "execution_count": 13,
     "metadata": {},
     "output_type": "execute_result"
    }
   ],
   "source": [
    "e = tf.add(c, b)   #               shape=(3,)      c+b\n",
    "e, e.numpy()"
   ]
  },
  {
   "cell_type": "markdown",
   "id": "7c1454c2",
   "metadata": {},
   "source": [
    "## broad casting\n",
    "- 두 행렬 A, B 중 크기가 작은 행렬을 크기가 큰 행렬과 모양(shape)이 맞게끔 늘려주는 것을 의미\n"
   ]
  },
  {
   "cell_type": "code",
   "execution_count": 14,
   "id": "e856872c",
   "metadata": {
    "ExecuteTime": {
     "end_time": "2022-03-31T11:39:33.993154Z",
     "start_time": "2022-03-31T11:39:33.979151Z"
    }
   },
   "outputs": [],
   "source": [
    "f = tf.constant([1,2,3])\n",
    "g = tf.constant([\n",
    "                    [1,2,3],\n",
    "                    [4,5,6],\n",
    "                    [7,8,9]  ])\n",
    "h = f+g  # tf.add( f , g )"
   ]
  },
  {
   "cell_type": "code",
   "execution_count": 15,
   "id": "1cc3e02f",
   "metadata": {
    "ExecuteTime": {
     "end_time": "2022-03-31T11:39:34.024147Z",
     "start_time": "2022-03-31T11:39:34.017151Z"
    }
   },
   "outputs": [
    {
     "data": {
      "text/plain": [
       "array([[ 2,  4,  6],\n",
       "       [ 5,  7,  9],\n",
       "       [ 8, 10, 12]])"
      ]
     },
     "execution_count": 15,
     "metadata": {},
     "output_type": "execute_result"
    }
   ],
   "source": [
    "h.numpy()"
   ]
  },
  {
   "cell_type": "code",
   "execution_count": 16,
   "id": "13c7ef84",
   "metadata": {
    "ExecuteTime": {
     "end_time": "2022-03-31T11:39:34.212198Z",
     "start_time": "2022-03-31T11:39:34.196195Z"
    }
   },
   "outputs": [],
   "source": [
    "# i = tf.constant([1,2,3])\n",
    "i = tf.constant( [  [1],       # 3행 1열 매트릭스\n",
    "                    [2],\n",
    "                    [3]] )\n",
    "j = tf.constant([ [1,2,3],\n",
    "                  [4,5,6],\n",
    "                  [7,8,9] ] )\n",
    "\n",
    "k = i * j   # tf.constant( f, g )"
   ]
  },
  {
   "cell_type": "code",
   "execution_count": 17,
   "id": "ed62ac75",
   "metadata": {
    "ExecuteTime": {
     "end_time": "2022-03-31T11:39:34.372228Z",
     "start_time": "2022-03-31T11:39:34.366229Z"
    }
   },
   "outputs": [
    {
     "data": {
      "text/plain": [
       "array([[ 1,  2,  3],\n",
       "       [ 8, 10, 12],\n",
       "       [21, 24, 27]])"
      ]
     },
     "execution_count": 17,
     "metadata": {},
     "output_type": "execute_result"
    }
   ],
   "source": [
    "k.numpy()"
   ]
  },
  {
   "cell_type": "code",
   "execution_count": 18,
   "id": "c377b638",
   "metadata": {
    "ExecuteTime": {
     "end_time": "2022-03-31T11:39:34.578794Z",
     "start_time": "2022-03-31T11:39:34.565834Z"
    }
   },
   "outputs": [],
   "source": [
    "# # shape error\n",
    "# l = tf.constant( [1,2 ])     \n",
    "# m = tf.constant(  [ [1,2,3],\n",
    "#                     [4,5,6],\n",
    "#                     [7,8,9]] )\n",
    "# n = l - j    # tf.subtrack(l , m )    "
   ]
  },
  {
   "cell_type": "markdown",
   "id": "3a753e41",
   "metadata": {},
   "source": [
    "## 행렬의 곱\n",
    "- tf.matmul( A , B )"
   ]
  },
  {
   "cell_type": "code",
   "execution_count": 19,
   "id": "7bd4c8fa",
   "metadata": {
    "ExecuteTime": {
     "end_time": "2022-03-31T11:39:34.925593Z",
     "start_time": "2022-03-31T11:39:34.904596Z"
    }
   },
   "outputs": [],
   "source": [
    "#   2x2     2x2\n",
    "o = tf.constant([  [1,2],\n",
    "                   [3,4]] )\n",
    "p = tf.constant( [ [5,6],\n",
    "                    [7,8] ] )\n",
    "\n",
    "q = tf.multiply( o ,p )    # o * p \n",
    "\n",
    "r = tf.matmul( o, p )     # 행렬의 곱    \n",
    "# ((1*5)  + (2*6) , (1*6) + (2*8) ) \n",
    "# ((3*5)  + (4*6) , (3*6) + (5*8) ) "
   ]
  },
  {
   "cell_type": "code",
   "execution_count": 20,
   "id": "b8e99f86",
   "metadata": {
    "ExecuteTime": {
     "end_time": "2022-03-31T11:39:35.126484Z",
     "start_time": "2022-03-31T11:39:35.118495Z"
    }
   },
   "outputs": [
    {
     "data": {
      "text/plain": [
       "(<tf.Tensor: shape=(2, 2), dtype=int32, numpy=\n",
       " array([[ 5, 12],\n",
       "        [21, 32]])>,\n",
       " <tf.Tensor: shape=(2, 2), dtype=int32, numpy=\n",
       " array([[19, 22],\n",
       "        [43, 50]])>)"
      ]
     },
     "execution_count": 20,
     "metadata": {},
     "output_type": "execute_result"
    }
   ],
   "source": [
    "q,r"
   ]
  },
  {
   "cell_type": "markdown",
   "id": "87131cbe",
   "metadata": {},
   "source": [
    "## 많이 사용하는 operation\n",
    "```\n",
    "- tf.square()       제곱    s**2\n",
    "- tf.reduce_mean()  평균\n",
    "```"
   ]
  },
  {
   "cell_type": "code",
   "execution_count": 21,
   "id": "5226c2bb",
   "metadata": {
    "ExecuteTime": {
     "end_time": "2022-03-31T11:39:35.501768Z",
     "start_time": "2022-03-31T11:39:35.494781Z"
    }
   },
   "outputs": [],
   "source": [
    "s = [1,2,3,]\n",
    "t = tf.square( s )"
   ]
  },
  {
   "cell_type": "code",
   "execution_count": 22,
   "id": "dfae4c5a",
   "metadata": {
    "ExecuteTime": {
     "end_time": "2022-03-31T11:39:35.688139Z",
     "start_time": "2022-03-31T11:39:35.675142Z"
    }
   },
   "outputs": [
    {
     "data": {
      "text/plain": [
       "array([1, 4, 9])"
      ]
     },
     "execution_count": 22,
     "metadata": {},
     "output_type": "execute_result"
    }
   ],
   "source": [
    "t.numpy()"
   ]
  },
  {
   "cell_type": "code",
   "execution_count": 23,
   "id": "e01e2ef9",
   "metadata": {
    "ExecuteTime": {
     "end_time": "2022-03-31T11:39:35.921645Z",
     "start_time": "2022-03-31T11:39:35.903645Z"
    }
   },
   "outputs": [
    {
     "data": {
      "text/plain": [
       "2"
      ]
     },
     "execution_count": 23,
     "metadata": {},
     "output_type": "execute_result"
    }
   ],
   "source": [
    "u = tf.reduce_mean( s )\n",
    "u.numpy()"
   ]
  },
  {
   "cell_type": "markdown",
   "id": "0a8cae67",
   "metadata": {},
   "source": [
    "## Variable\n",
    "\n",
    "```\n",
    "변수명 =  tf.Variable(10)\n",
    "\n",
    "변수명.assign( 20 )    기존의 값을 10에서 20으로 변경\n",
    "변수명.assign_add( 3 ) 기존의 값에 3을 더함\n",
    "변수명.assign_sub( 3 ) 기존의 값에 3을 뺌\n",
    "\n",
    "```"
   ]
  },
  {
   "cell_type": "code",
   "execution_count": 24,
   "id": "8c2cf914",
   "metadata": {
    "ExecuteTime": {
     "end_time": "2022-03-31T11:39:36.301169Z",
     "start_time": "2022-03-31T11:39:36.291189Z"
    }
   },
   "outputs": [
    {
     "data": {
      "text/plain": [
       "<tf.Variable 'Variable:0' shape=() dtype=int32, numpy=10>"
      ]
     },
     "execution_count": 24,
     "metadata": {},
     "output_type": "execute_result"
    }
   ],
   "source": [
    "v = tf.Variable( 10 )\n",
    "v                       # 10"
   ]
  },
  {
   "cell_type": "code",
   "execution_count": 25,
   "id": "5dee7d9e",
   "metadata": {
    "ExecuteTime": {
     "end_time": "2022-03-31T11:39:36.519794Z",
     "start_time": "2022-03-31T11:39:36.501795Z"
    }
   },
   "outputs": [
    {
     "data": {
      "text/plain": [
       "<tf.Variable 'Variable:0' shape=() dtype=int32, numpy=3>"
      ]
     },
     "execution_count": 25,
     "metadata": {},
     "output_type": "execute_result"
    }
   ],
   "source": [
    "# v = 20   X\n",
    "v.assign(3)\n",
    "v                     #  3 "
   ]
  },
  {
   "cell_type": "code",
   "execution_count": 26,
   "id": "a8c0fc6f",
   "metadata": {
    "ExecuteTime": {
     "end_time": "2022-03-31T11:39:36.707225Z",
     "start_time": "2022-03-31T11:39:36.693226Z"
    }
   },
   "outputs": [
    {
     "data": {
      "text/plain": [
       "<tf.Variable 'Variable:0' shape=() dtype=int32, numpy=6>"
      ]
     },
     "execution_count": 26,
     "metadata": {},
     "output_type": "execute_result"
    }
   ],
   "source": [
    "v.assign_add( 3 )\n",
    "v                   #  3 + 3  = 6"
   ]
  },
  {
   "cell_type": "code",
   "execution_count": 27,
   "id": "de37d490",
   "metadata": {
    "ExecuteTime": {
     "end_time": "2022-03-31T11:39:36.895057Z",
     "start_time": "2022-03-31T11:39:36.882058Z"
    }
   },
   "outputs": [
    {
     "data": {
      "text/plain": [
       "<tf.Variable 'Variable:0' shape=() dtype=int32, numpy=3>"
      ]
     },
     "execution_count": 27,
     "metadata": {},
     "output_type": "execute_result"
    }
   ],
   "source": [
    "v.assign_sub( 3 )  #   6  -  3 =  3\n",
    "v"
   ]
  }
 ],
 "metadata": {
  "kernelspec": {
   "display_name": "Python 3 (ipykernel)",
   "language": "python",
   "name": "python3"
  },
  "language_info": {
   "codemirror_mode": {
    "name": "ipython",
    "version": 3
   },
   "file_extension": ".py",
   "mimetype": "text/x-python",
   "name": "python",
   "nbconvert_exporter": "python",
   "pygments_lexer": "ipython3",
   "version": "3.8.8"
  },
  "toc": {
   "base_numbering": 1,
   "nav_menu": {},
   "number_sections": false,
   "sideBar": true,
   "skip_h1_title": false,
   "title_cell": "Table of Contents",
   "title_sidebar": "Contents",
   "toc_cell": false,
   "toc_position": {
    "height": "789px",
    "left": "33px",
    "top": "191px",
    "width": "384px"
   },
   "toc_section_display": true,
   "toc_window_display": true
  }
 },
 "nbformat": 4,
 "nbformat_minor": 5
}
