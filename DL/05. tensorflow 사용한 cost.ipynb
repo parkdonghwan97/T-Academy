{
 "cells": [
  {
   "cell_type": "code",
   "execution_count": 5,
   "id": "63a6d249",
   "metadata": {
    "ExecuteTime": {
     "end_time": "2022-03-31T12:22:31.133613Z",
     "start_time": "2022-03-31T12:22:31.123588Z"
    }
   },
   "outputs": [],
   "source": [
    "import tensorflow as tf\n",
    "import numpy as np "
   ]
  },
  {
   "cell_type": "code",
   "execution_count": 6,
   "id": "75a7fad7",
   "metadata": {
    "ExecuteTime": {
     "end_time": "2022-03-31T12:22:31.751364Z",
     "start_time": "2022-03-31T12:22:31.230357Z"
    }
   },
   "outputs": [],
   "source": [
    "x_data = [1,2,3]\n",
    "y_data = [1,2,3]\n",
    "x = tf.constant( x_data ,dtype=float)\n",
    "y = tf.constant( y_data ,dtype=float)"
   ]
  },
  {
   "cell_type": "code",
   "execution_count": 7,
   "id": "150135d7",
   "metadata": {
    "ExecuteTime": {
     "end_time": "2022-03-31T12:22:31.767364Z",
     "start_time": "2022-03-31T12:22:31.753378Z"
    }
   },
   "outputs": [],
   "source": [
    "w = 3 \n",
    "hx = w *x      # tf.multiply(w, x)  ->  [3, 6, 9]\n",
    "sq = tf.square( hx- y )  # (hx-y)**2-> [ 4, 16, 36]\n",
    "cost = tf.reduce_mean( sq )  #       (4+16+36)/3     numpy=18.666666"
   ]
  },
  {
   "cell_type": "code",
   "execution_count": 8,
   "id": "e20bf376",
   "metadata": {
    "ExecuteTime": {
     "end_time": "2022-03-31T12:22:31.783355Z",
     "start_time": "2022-03-31T12:22:31.768357Z"
    }
   },
   "outputs": [
    {
     "data": {
      "text/plain": [
       "<tf.Tensor: shape=(), dtype=float32, numpy=18.666666>"
      ]
     },
     "execution_count": 8,
     "metadata": {},
     "output_type": "execute_result"
    }
   ],
   "source": [
    "def cost(w):\n",
    "    hx = w*x\n",
    "    cost = tf.reduce_mean( (hx - y)**2 )\n",
    "    return cost\n",
    "cost(3)"
   ]
  }
 ],
 "metadata": {
  "kernelspec": {
   "display_name": "Python 3 (ipykernel)",
   "language": "python",
   "name": "python3"
  },
  "language_info": {
   "codemirror_mode": {
    "name": "ipython",
    "version": 3
   },
   "file_extension": ".py",
   "mimetype": "text/x-python",
   "name": "python",
   "nbconvert_exporter": "python",
   "pygments_lexer": "ipython3",
   "version": "3.8.8"
  },
  "toc": {
   "base_numbering": 1,
   "nav_menu": {},
   "number_sections": true,
   "sideBar": true,
   "skip_h1_title": false,
   "title_cell": "Table of Contents",
   "title_sidebar": "Contents",
   "toc_cell": false,
   "toc_position": {},
   "toc_section_display": true,
   "toc_window_display": false
  }
 },
 "nbformat": 4,
 "nbformat_minor": 5
}
