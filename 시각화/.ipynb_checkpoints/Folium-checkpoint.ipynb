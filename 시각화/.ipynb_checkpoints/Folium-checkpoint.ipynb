{
 "cells": [
  {
   "cell_type": "code",
   "execution_count": 1,
   "id": "75fad2c5",
   "metadata": {
    "ExecuteTime": {
     "end_time": "2022-03-27T16:29:14.371514Z",
     "start_time": "2022-03-27T16:29:13.309713Z"
    }
   },
   "outputs": [
    {
     "name": "stdout",
     "output_type": "stream",
     "text": [
      "['Malgun Gothic']\n",
      "12.0\n"
     ]
    }
   ],
   "source": [
    "import pandas as pd\n",
    "import numpy as np\n",
    "import json\n",
    "import os\n",
    "import matplotlib as mpl\n",
    "import matplotlib.pyplot as plt\n",
    "%matplotlib inline\n",
    "#  한글글꼴로 변경\n",
    "plt.rcParams['font.size'] = 12.0\n",
    "# plt.rcParams['font.family'] = 'batang'\n",
    "plt.rcParams['font.family'] = 'Malgun Gothic'\n",
    "print(plt.rcParams['font.family'])\n",
    "print(plt.rcParams['font.size'])\n",
    "plt.style.use('ggplot')\n",
    "# 음수 표시 에러 \n",
    "mpl.rcParams['axes.unicode_minus'] = False"
   ]
  },
  {
   "cell_type": "markdown",
   "id": "c20eb5a6",
   "metadata": {},
   "source": [
    "# Folium 을 이용한 지도 시각화"
   ]
  },
  {
   "cell_type": "markdown",
   "id": "b7a673c4",
   "metadata": {},
   "source": [
    "# folium 설치와 임포트\n",
    "\n",
    "\n",
    "- folium 공식 깃허브\n",
    "https://github.com/python-visualization/folium\n",
    "\n",
    "- folium 공식 documentation\n",
    "https://python-visualization.github.io/folium/"
   ]
  },
  {
   "cell_type": "code",
   "execution_count": null,
   "id": "221897fc",
   "metadata": {},
   "outputs": [],
   "source": [
    "# Folium이란? 위치 좌표계 값(위도, 경도)를 이용한 지도시각화 모듈\n",
    "# 별도 설치과정 필요 - 터미널창이용\n",
    "# pip install folium"
   ]
  },
  {
   "cell_type": "code",
   "execution_count": 2,
   "id": "846f7314",
   "metadata": {
    "ExecuteTime": {
     "end_time": "2022-03-27T16:29:33.768050Z",
     "start_time": "2022-03-27T16:29:33.445342Z"
    }
   },
   "outputs": [
    {
     "data": {
      "text/plain": [
       "'0.12.1.post1'"
      ]
     },
     "execution_count": 2,
     "metadata": {},
     "output_type": "execute_result"
    }
   ],
   "source": [
    "import folium\n",
    "# 버전확인\n",
    "folium.__version__"
   ]
  },
  {
   "cell_type": "markdown",
   "id": "c8d32d24",
   "metadata": {},
   "source": [
    "# 특정 좌표로 지도 그리기\n",
    "\n",
    "```\n",
    "지도객체 = folium.Map( location=[위도, 경도], zoom_start=확대배율숫자\n",
    "                       , tiles=타일스타일)\n",
    "folium.Marker([위도2,경도2], popup='마커메세지', \n",
    "       icon=folium.Icon(icon='아이콘코드값', color='색상코드값',      \n",
    "                        prefix='fa')).add_to(지도객체)\n",
    "```\n",
    "\n",
    "- 타일스타일\n",
    "    - \"OpenStreetMap\"\n",
    "    - \"Mapbox Bright\" (Limited levels of zoom for free tiles)\n",
    "    - \"Mapbox Control Room\" (Limited levels of zoom for free tiles)\n",
    "    - \"Stamen\" (Terrain, Toner, and Watercolor)\n",
    "    - \"Cloudmade\" (Must pass API key)\n",
    "    - \"Mapbox\" (Must pass API key)\n",
    "    - \"CartoDB\" (positron and dark_matter)\n",
    "\n",
    "\n",
    "- 지도객체를 html 파일로 저장하기\n",
    "```\n",
    "지도객체.save('경로/파일명.html')\n",
    "```"
   ]
  },
  {
   "cell_type": "markdown",
   "id": "9491bf9b",
   "metadata": {
    "ExecuteTime": {
     "end_time": "2022-03-27T16:29:46.573470Z",
     "start_time": "2022-03-27T16:29:46.557375Z"
    }
   },
   "source": [
    "### 특정 주소 위도, 경도 확인 \n",
    "- 구글맵에서 검색\n",
    "- 마커 마우스 우측 버튼 \n",
    "- 이곳이 궁금한가요?\n",
    "- 가산 : 37.480131, 126.877216"
   ]
  },
  {
   "cell_type": "code",
   "execution_count": 4,
   "id": "bc847614",
   "metadata": {
    "ExecuteTime": {
     "end_time": "2022-03-27T16:29:56.723546Z",
     "start_time": "2022-03-27T16:29:56.698827Z"
    }
   },
   "outputs": [
    {
     "data": {
      "text/html": [
       "<div style=\"width:100%;\"><div style=\"position:relative;width:100%;height:0;padding-bottom:60%;\"><span style=\"color:#565656\">Make this Notebook Trusted to load map: File -> Trust Notebook</span><iframe src=\"about:blank\" style=\"position:absolute;width:100%;height:100%;left:0;top:0;border:none !important;\" data-html=%3C%21DOCTYPE%20html%3E%0A%3Chead%3E%20%20%20%20%0A%20%20%20%20%3Cmeta%20http-equiv%3D%22content-type%22%20content%3D%22text/html%3B%20charset%3DUTF-8%22%20/%3E%0A%20%20%20%20%0A%20%20%20%20%20%20%20%20%3Cscript%3E%0A%20%20%20%20%20%20%20%20%20%20%20%20L_NO_TOUCH%20%3D%20false%3B%0A%20%20%20%20%20%20%20%20%20%20%20%20L_DISABLE_3D%20%3D%20false%3B%0A%20%20%20%20%20%20%20%20%3C/script%3E%0A%20%20%20%20%0A%20%20%20%20%3Cstyle%3Ehtml%2C%20body%20%7Bwidth%3A%20100%25%3Bheight%3A%20100%25%3Bmargin%3A%200%3Bpadding%3A%200%3B%7D%3C/style%3E%0A%20%20%20%20%3Cstyle%3E%23map%20%7Bposition%3Aabsolute%3Btop%3A0%3Bbottom%3A0%3Bright%3A0%3Bleft%3A0%3B%7D%3C/style%3E%0A%20%20%20%20%3Cscript%20src%3D%22https%3A//cdn.jsdelivr.net/npm/leaflet%401.6.0/dist/leaflet.js%22%3E%3C/script%3E%0A%20%20%20%20%3Cscript%20src%3D%22https%3A//code.jquery.com/jquery-1.12.4.min.js%22%3E%3C/script%3E%0A%20%20%20%20%3Cscript%20src%3D%22https%3A//maxcdn.bootstrapcdn.com/bootstrap/3.2.0/js/bootstrap.min.js%22%3E%3C/script%3E%0A%20%20%20%20%3Cscript%20src%3D%22https%3A//cdnjs.cloudflare.com/ajax/libs/Leaflet.awesome-markers/2.0.2/leaflet.awesome-markers.js%22%3E%3C/script%3E%0A%20%20%20%20%3Clink%20rel%3D%22stylesheet%22%20href%3D%22https%3A//cdn.jsdelivr.net/npm/leaflet%401.6.0/dist/leaflet.css%22/%3E%0A%20%20%20%20%3Clink%20rel%3D%22stylesheet%22%20href%3D%22https%3A//maxcdn.bootstrapcdn.com/bootstrap/3.2.0/css/bootstrap.min.css%22/%3E%0A%20%20%20%20%3Clink%20rel%3D%22stylesheet%22%20href%3D%22https%3A//maxcdn.bootstrapcdn.com/bootstrap/3.2.0/css/bootstrap-theme.min.css%22/%3E%0A%20%20%20%20%3Clink%20rel%3D%22stylesheet%22%20href%3D%22https%3A//maxcdn.bootstrapcdn.com/font-awesome/4.6.3/css/font-awesome.min.css%22/%3E%0A%20%20%20%20%3Clink%20rel%3D%22stylesheet%22%20href%3D%22https%3A//cdnjs.cloudflare.com/ajax/libs/Leaflet.awesome-markers/2.0.2/leaflet.awesome-markers.css%22/%3E%0A%20%20%20%20%3Clink%20rel%3D%22stylesheet%22%20href%3D%22https%3A//cdn.jsdelivr.net/gh/python-visualization/folium/folium/templates/leaflet.awesome.rotate.min.css%22/%3E%0A%20%20%20%20%0A%20%20%20%20%20%20%20%20%20%20%20%20%3Cmeta%20name%3D%22viewport%22%20content%3D%22width%3Ddevice-width%2C%0A%20%20%20%20%20%20%20%20%20%20%20%20%20%20%20%20initial-scale%3D1.0%2C%20maximum-scale%3D1.0%2C%20user-scalable%3Dno%22%20/%3E%0A%20%20%20%20%20%20%20%20%20%20%20%20%3Cstyle%3E%0A%20%20%20%20%20%20%20%20%20%20%20%20%20%20%20%20%23map_99a04eff0f924877a1fb91c3dea96324%20%7B%0A%20%20%20%20%20%20%20%20%20%20%20%20%20%20%20%20%20%20%20%20position%3A%20relative%3B%0A%20%20%20%20%20%20%20%20%20%20%20%20%20%20%20%20%20%20%20%20width%3A%20100.0%25%3B%0A%20%20%20%20%20%20%20%20%20%20%20%20%20%20%20%20%20%20%20%20height%3A%20100.0%25%3B%0A%20%20%20%20%20%20%20%20%20%20%20%20%20%20%20%20%20%20%20%20left%3A%200.0%25%3B%0A%20%20%20%20%20%20%20%20%20%20%20%20%20%20%20%20%20%20%20%20top%3A%200.0%25%3B%0A%20%20%20%20%20%20%20%20%20%20%20%20%20%20%20%20%7D%0A%20%20%20%20%20%20%20%20%20%20%20%20%3C/style%3E%0A%20%20%20%20%20%20%20%20%0A%3C/head%3E%0A%3Cbody%3E%20%20%20%20%0A%20%20%20%20%0A%20%20%20%20%20%20%20%20%20%20%20%20%3Cdiv%20class%3D%22folium-map%22%20id%3D%22map_99a04eff0f924877a1fb91c3dea96324%22%20%3E%3C/div%3E%0A%20%20%20%20%20%20%20%20%0A%3C/body%3E%0A%3Cscript%3E%20%20%20%20%0A%20%20%20%20%0A%20%20%20%20%20%20%20%20%20%20%20%20var%20map_99a04eff0f924877a1fb91c3dea96324%20%3D%20L.map%28%0A%20%20%20%20%20%20%20%20%20%20%20%20%20%20%20%20%22map_99a04eff0f924877a1fb91c3dea96324%22%2C%0A%20%20%20%20%20%20%20%20%20%20%20%20%20%20%20%20%7B%0A%20%20%20%20%20%20%20%20%20%20%20%20%20%20%20%20%20%20%20%20center%3A%20%5B37.480131%2C%20126.877216%5D%2C%0A%20%20%20%20%20%20%20%20%20%20%20%20%20%20%20%20%20%20%20%20crs%3A%20L.CRS.EPSG3857%2C%0A%20%20%20%20%20%20%20%20%20%20%20%20%20%20%20%20%20%20%20%20zoom%3A%2017%2C%0A%20%20%20%20%20%20%20%20%20%20%20%20%20%20%20%20%20%20%20%20zoomControl%3A%20true%2C%0A%20%20%20%20%20%20%20%20%20%20%20%20%20%20%20%20%20%20%20%20preferCanvas%3A%20false%2C%0A%20%20%20%20%20%20%20%20%20%20%20%20%20%20%20%20%7D%0A%20%20%20%20%20%20%20%20%20%20%20%20%29%3B%0A%0A%20%20%20%20%20%20%20%20%20%20%20%20%0A%0A%20%20%20%20%20%20%20%20%0A%20%20%20%20%0A%20%20%20%20%20%20%20%20%20%20%20%20var%20tile_layer_d6517e4ac2044ad6becd23e8e0d4d26f%20%3D%20L.tileLayer%28%0A%20%20%20%20%20%20%20%20%20%20%20%20%20%20%20%20%22https%3A//%7Bs%7D.tile.openstreetmap.org/%7Bz%7D/%7Bx%7D/%7By%7D.png%22%2C%0A%20%20%20%20%20%20%20%20%20%20%20%20%20%20%20%20%7B%22attribution%22%3A%20%22Data%20by%20%5Cu0026copy%3B%20%5Cu003ca%20href%3D%5C%22http%3A//openstreetmap.org%5C%22%5Cu003eOpenStreetMap%5Cu003c/a%5Cu003e%2C%20under%20%5Cu003ca%20href%3D%5C%22http%3A//www.openstreetmap.org/copyright%5C%22%5Cu003eODbL%5Cu003c/a%5Cu003e.%22%2C%20%22detectRetina%22%3A%20false%2C%20%22maxNativeZoom%22%3A%2018%2C%20%22maxZoom%22%3A%2018%2C%20%22minZoom%22%3A%200%2C%20%22noWrap%22%3A%20false%2C%20%22opacity%22%3A%201%2C%20%22subdomains%22%3A%20%22abc%22%2C%20%22tms%22%3A%20false%7D%0A%20%20%20%20%20%20%20%20%20%20%20%20%29.addTo%28map_99a04eff0f924877a1fb91c3dea96324%29%3B%0A%20%20%20%20%20%20%20%20%0A%20%20%20%20%0A%20%20%20%20%20%20%20%20%20%20%20%20var%20marker_3bb978b5b7ea4fb7a9f872ca1590d7c6%20%3D%20L.marker%28%0A%20%20%20%20%20%20%20%20%20%20%20%20%20%20%20%20%5B37.480131%2C%20126.877216%5D%2C%0A%20%20%20%20%20%20%20%20%20%20%20%20%20%20%20%20%7B%7D%0A%20%20%20%20%20%20%20%20%20%20%20%20%29.addTo%28map_99a04eff0f924877a1fb91c3dea96324%29%3B%0A%20%20%20%20%20%20%20%20%0A%20%20%20%20%0A%20%20%20%20%20%20%20%20%20%20%20%20var%20icon_6f2e7cff76644962927a1a6f162f381e%20%3D%20L.AwesomeMarkers.icon%28%0A%20%20%20%20%20%20%20%20%20%20%20%20%20%20%20%20%7B%22extraClasses%22%3A%20%22fa-rotate-0%22%2C%20%22icon%22%3A%20%22bookmark%22%2C%20%22iconColor%22%3A%20%22white%22%2C%20%22markerColor%22%3A%20%22red%22%2C%20%22prefix%22%3A%20%22fa%22%7D%0A%20%20%20%20%20%20%20%20%20%20%20%20%29%3B%0A%20%20%20%20%20%20%20%20%20%20%20%20marker_3bb978b5b7ea4fb7a9f872ca1590d7c6.setIcon%28icon_6f2e7cff76644962927a1a6f162f381e%29%3B%0A%20%20%20%20%20%20%20%20%0A%20%20%20%20%0A%20%20%20%20%20%20%20%20var%20popup_07b261705dd04b27b9fa6dc104d8bcc7%20%3D%20L.popup%28%7B%22maxWidth%22%3A%20%22100%25%22%7D%29%3B%0A%0A%20%20%20%20%20%20%20%20%0A%20%20%20%20%20%20%20%20%20%20%20%20var%20html_37b8a45685694b70916b717abe39a32c%20%3D%20%24%28%60%3Cdiv%20id%3D%22html_37b8a45685694b70916b717abe39a32c%22%20style%3D%22width%3A%20100.0%25%3B%20height%3A%20100.0%25%3B%22%3EMuliCampus%3C/div%3E%60%29%5B0%5D%3B%0A%20%20%20%20%20%20%20%20%20%20%20%20popup_07b261705dd04b27b9fa6dc104d8bcc7.setContent%28html_37b8a45685694b70916b717abe39a32c%29%3B%0A%20%20%20%20%20%20%20%20%0A%0A%20%20%20%20%20%20%20%20marker_3bb978b5b7ea4fb7a9f872ca1590d7c6.bindPopup%28popup_07b261705dd04b27b9fa6dc104d8bcc7%29%0A%20%20%20%20%20%20%20%20%3B%0A%0A%20%20%20%20%20%20%20%20%0A%20%20%20%20%0A%20%20%20%20%0A%20%20%20%20%20%20%20%20%20%20%20%20var%20marker_401c39ad2b874f38a431eefbbaad9937%20%3D%20L.marker%28%0A%20%20%20%20%20%20%20%20%20%20%20%20%20%20%20%20%5B37.48101600952495%2C%20126.88125074616215%5D%2C%0A%20%20%20%20%20%20%20%20%20%20%20%20%20%20%20%20%7B%7D%0A%20%20%20%20%20%20%20%20%20%20%20%20%29.addTo%28map_99a04eff0f924877a1fb91c3dea96324%29%3B%0A%20%20%20%20%20%20%20%20%0A%20%20%20%20%0A%20%20%20%20%20%20%20%20%20%20%20%20var%20icon_0903eabdab454c0d9dfa592b572db39c%20%3D%20L.AwesomeMarkers.icon%28%0A%20%20%20%20%20%20%20%20%20%20%20%20%20%20%20%20%7B%22extraClasses%22%3A%20%22fa-rotate-0%22%2C%20%22icon%22%3A%20%22subway%22%2C%20%22iconColor%22%3A%20%22white%22%2C%20%22markerColor%22%3A%20%22green%22%2C%20%22prefix%22%3A%20%22fa%22%7D%0A%20%20%20%20%20%20%20%20%20%20%20%20%29%3B%0A%20%20%20%20%20%20%20%20%20%20%20%20marker_401c39ad2b874f38a431eefbbaad9937.setIcon%28icon_0903eabdab454c0d9dfa592b572db39c%29%3B%0A%20%20%20%20%20%20%20%20%0A%20%20%20%20%0A%20%20%20%20%20%20%20%20var%20popup_9b0c2d491f0a422fad82c37765269247%20%3D%20L.popup%28%7B%22maxWidth%22%3A%20%22100%25%22%7D%29%3B%0A%0A%20%20%20%20%20%20%20%20%0A%20%20%20%20%20%20%20%20%20%20%20%20var%20html_b82072e0cb5d45c59e87b0572d2b719f%20%3D%20%24%28%60%3Cdiv%20id%3D%22html_b82072e0cb5d45c59e87b0572d2b719f%22%20style%3D%22width%3A%20100.0%25%3B%20height%3A%20100.0%25%3B%22%3EGasan%20Subway%3C/div%3E%60%29%5B0%5D%3B%0A%20%20%20%20%20%20%20%20%20%20%20%20popup_9b0c2d491f0a422fad82c37765269247.setContent%28html_b82072e0cb5d45c59e87b0572d2b719f%29%3B%0A%20%20%20%20%20%20%20%20%0A%0A%20%20%20%20%20%20%20%20marker_401c39ad2b874f38a431eefbbaad9937.bindPopup%28popup_9b0c2d491f0a422fad82c37765269247%29%0A%20%20%20%20%20%20%20%20%3B%0A%0A%20%20%20%20%20%20%20%20%0A%20%20%20%20%0A%3C/script%3E onload=\"this.contentDocument.open();this.contentDocument.write(    decodeURIComponent(this.getAttribute('data-html')));this.contentDocument.close();\" allowfullscreen webkitallowfullscreen mozallowfullscreen></iframe></div></div>"
      ],
      "text/plain": [
       "<folium.folium.Map at 0x206b07a3c70>"
      ]
     },
     "execution_count": 4,
     "metadata": {},
     "output_type": "execute_result"
    }
   ],
   "source": [
    "map = folium.Map(location=[37.480131, 126.877216], zoom_start=17)\n",
    "\n",
    "folium.Marker([37.480131, 126.877216], popup='MuliCampus', \n",
    "       icon=folium.Icon(icon='bookmark', color='red',      \n",
    "                        prefix='fa')).add_to(map)\n",
    "\n",
    "# 37.48101600952495, 126.88125074616215\n",
    "folium.Marker([37.48101600952495, 126.88125074616215], popup='Gasan Subway', \n",
    "       icon=folium.Icon(icon='subway', color='green',      \n",
    "                        prefix='fa')).add_to(map)\n",
    "\n",
    "\n",
    "\n",
    "map"
   ]
  },
  {
   "cell_type": "markdown",
   "id": "84d2781b",
   "metadata": {
    "ExecuteTime": {
     "end_time": "2022-03-27T16:30:04.251157Z",
     "start_time": "2022-03-27T16:30:04.237645Z"
    }
   },
   "source": [
    "### tiles 적용과  html 파일 저장\n",
    "\n",
    "\n",
    "```\n",
    "    - \"OpenStreetMap\"\n",
    "    - \"Mapbox Bright\" (Limited levels of zoom for free tiles)\n",
    "    - \"Mapbox Control Room\" (Limited levels of zoom for free tiles)\n",
    "    - \"Stamen\" (Terrain, Toner, and Watercolor)\n",
    "    - \"Cloudmade\" (Must pass API key)\n",
    "    - \"Mapbox\" (Must pass API key)\n",
    "    - \"CartoDB\" (positron and dark_matter)\n",
    "    ```"
   ]
  },
  {
   "cell_type": "code",
   "execution_count": 8,
   "id": "00e339e2",
   "metadata": {
    "ExecuteTime": {
     "end_time": "2022-03-27T16:34:12.774396Z",
     "start_time": "2022-03-27T16:34:12.757773Z"
    }
   },
   "outputs": [],
   "source": [
    "map = folium.Map(location=[37.48101600952495, 126.88125074616215], zoom_start=17, \n",
    "                 tiles='Stamen Toner')\n",
    "\n",
    "folium.Marker([37.480131, 126.877216], popup='가산 대성 디폴리스', \n",
    "       icon=folium.Icon(icon='bookmark', color='red',      \n",
    "                        prefix='fa')).add_to(map)\n",
    "\n",
    "\n",
    "folium.Marker([37.48101600952495, 126.88125074616215], popup='Gasan Subway', \n",
    "       icon=folium.Icon(icon='subway', color='green',      \n",
    "                        prefix='fa')).add_to(map)\n",
    "\n",
    "map\n",
    "\n",
    "map.save('output/map1.html')"
   ]
  },
  {
   "cell_type": "markdown",
   "id": "00ea674d",
   "metadata": {
    "ExecuteTime": {
     "end_time": "2022-03-27T16:34:17.219919Z",
     "start_time": "2022-03-27T16:34:17.204401Z"
    }
   },
   "source": [
    "# folium.CircleMaker\n",
    "\n",
    "- 반경과 색상 지정\n",
    "\n",
    "```\n",
    "folium.CircleMarker([위도, 경도], radius=반지름, \n",
    "                    popup='팝업메세지', color='색상값', \n",
    "                    fill_color='색상값', ).add_to(foliumMap객체)\n",
    "                   ```"
   ]
  },
  {
   "cell_type": "code",
   "execution_count": 10,
   "id": "3f045ed0",
   "metadata": {
    "ExecuteTime": {
     "end_time": "2022-03-27T16:35:09.070837Z",
     "start_time": "2022-03-27T16:35:09.049836Z"
    }
   },
   "outputs": [],
   "source": [
    "\n",
    "map = folium.Map(location=[37.501460, 127.039606], zoom_start=17, \n",
    "                 tiles='Stamen Toner')\n",
    "\n",
    "\n",
    "folium.Marker([37.501460, 127.039606], popup='멀티캠퍼스', \n",
    "       icon=folium.Icon(icon='bookmark', color='red',      \n",
    "                        prefix='fa')).add_to(map)\n",
    "\n",
    "\n",
    "folium.CircleMarker([37.501460, 127.039606], radius=50, \n",
    "                    popup='멀티캠퍼스', color='#666666', \n",
    "                    fill_color='#666666', ).add_to(map)\n",
    "\n",
    "\n",
    "\n",
    "map\n",
    "\n",
    "map.save('output/map2.html')"
   ]
  },
  {
   "cell_type": "code",
   "execution_count": 11,
   "id": "adae8ad0",
   "metadata": {
    "ExecuteTime": {
     "end_time": "2022-03-27T16:35:13.275109Z",
     "start_time": "2022-03-27T16:35:13.257107Z"
    }
   },
   "outputs": [],
   "source": [
    "map = folium.Map(location=[37.501460, 127.039606], \\\n",
    "                 zoom_start=15, tiles='Stamen Toner')\n",
    "folium.Marker([37.501460, 127.039606], popup='멀티캠퍼스 역삼', \n",
    "              icon=folium.Icon(icon='bolt', color='red',  \n",
    "                               prefix='fa')).add_to(map)\n",
    "folium.Marker([37.500463, 127.037237], popup='역삼역', \n",
    "              icon=folium.Icon(icon='train', color='green', \n",
    "                               prefix='fa')).add_to(map)\n",
    "\n",
    "folium.CircleMarker([37.501460, 127.039606], radius=10, \n",
    "                     color='#3186cc', \n",
    "                    fill_color='#3186cc', ).add_to(map)\n",
    "folium.CircleMarker([37.500463, 127.037237], radius=10, \n",
    "                    color='yellow', \n",
    "                    fill_color='#3186cc', ).add_to(map)\n",
    "map\n",
    "\n",
    "map.save(\"output/map3.html\")"
   ]
  },
  {
   "cell_type": "markdown",
   "id": "9c5bcaca",
   "metadata": {},
   "source": [
    "# folium.Marker 반복문이용하기 - 다중 마커\n",
    "\n",
    "\n",
    "- police.csv => 데이타프레임 (위도, 경도, 팝업내용) \n",
    "- folium 객체 생성 \n",
    "- 데이타프레임(위도, 경도, 팝업내용) 반복문 이용해서 마커 표시 \n",
    "- html로 저장 "
   ]
  },
  {
   "cell_type": "code",
   "execution_count": 12,
   "id": "7c278381",
   "metadata": {
    "ExecuteTime": {
     "end_time": "2022-03-27T16:36:34.651136Z",
     "start_time": "2022-03-27T16:36:34.631089Z"
    }
   },
   "outputs": [
    {
     "data": {
      "text/plain": [
       "(31, 4)"
      ]
     },
     "execution_count": 12,
     "metadata": {},
     "output_type": "execute_result"
    }
   ],
   "source": [
    "police = pd.read_csv('data/police.csv', index_col=1)\n",
    "del police['Unnamed: 0']\n",
    "police.head()"
   ]
  },
  {
   "cell_type": "code",
   "execution_count": 13,
   "id": "51477e0a",
   "metadata": {
    "ExecuteTime": {
     "end_time": "2022-03-27T16:37:09.587863Z",
     "start_time": "2022-03-27T16:37:09.565038Z"
    }
   },
   "outputs": [],
   "source": [
    "# 서울의 중앙 위도와 경도 기준\n",
    "map = folium.Map(location=[37.5502, 126.982], zoom_start=11)\n",
    "\n",
    "map\n",
    "\n",
    "map.save(\"output/map4.html\")"
   ]
  }
 ],
 "metadata": {
  "kernelspec": {
   "display_name": "Python 3 (ipykernel)",
   "language": "python",
   "name": "python3"
  },
  "language_info": {
   "codemirror_mode": {
    "name": "ipython",
    "version": 3
   },
   "file_extension": ".py",
   "mimetype": "text/x-python",
   "name": "python",
   "nbconvert_exporter": "python",
   "pygments_lexer": "ipython3",
   "version": "3.8.8"
  },
  "toc": {
   "base_numbering": 1,
   "nav_menu": {},
   "number_sections": true,
   "sideBar": true,
   "skip_h1_title": false,
   "title_cell": "Table of Contents",
   "title_sidebar": "Contents",
   "toc_cell": false,
   "toc_position": {},
   "toc_section_display": true,
   "toc_window_display": false
  }
 },
 "nbformat": 4,
 "nbformat_minor": 5
}
