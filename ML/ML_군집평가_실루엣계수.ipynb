{
 "cells": [
  {
   "cell_type": "code",
   "execution_count": 1,
   "id": "e711f3cc",
   "metadata": {
    "ExecuteTime": {
     "end_time": "2022-03-27T17:14:26.214238Z",
     "start_time": "2022-03-27T17:14:24.234482Z"
    }
   },
   "outputs": [],
   "source": [
    "import numpy as np\n",
    "import pandas as pd\n",
    "import os\n",
    "\n",
    "import matplotlib\n",
    "import matplotlib.pyplot as plt\n",
    "import seaborn as sns\n",
    "\n",
    "%matplotlib inline\n",
    "\n",
    "# 관련 라이브러리 임포트 \n",
    "import matplotlib.font_manager as fm\n",
    "\n",
    "#  한글글꼴로 변경\n",
    "# plt.rcParams['font.family'] = '한글글꼴명'\n",
    "plt.rcParams['font.size'] = 11.0\n",
    "# plt.rcParams['font.family'] = 'batang'\n",
    "plt.rcParams['font.family'] = 'Malgun Gothic'\n",
    "\n",
    "# 그래프에서 마이너스 폰트 깨지는 문제에 대한 대처\n",
    "matplotlib.rcParams['axes.unicode_minus'] = False\n",
    "\n",
    "# 그래프 기본 크기 설정 \n",
    "plt.rcParams['figure.figsize'] = [10, 10]\n",
    "plt.style.use('ggplot')"
   ]
  },
  {
   "cell_type": "markdown",
   "id": "67c54f5c",
   "metadata": {},
   "source": [
    "# 군집 평가 - 실루엣 계수 \n",
    "\n",
    "- 각 군집 간의 거리가 얼마나 효율적으로 분리 돼있는지를 나타낸다. 효율적으로 잘 분리 됐다는 것은 다른 군집과의 거리는 떨어져 있고 동일 군집끼리의 데이터는 서로 가깝게 잘 뭉쳐 있다는 의미이다. 군집화가 잘 될 수록 개별 군집은 비슷한 정도의 여우 공간을 가지고 떨어져 있을 것이다.\n",
    "- 실루엣 계수는 개별 데이터가 가지는 군집화 지표로 해당 데이터가 같은 군집 내의 데이터와 얼마나 가깝게 군집화 돼있고, 다른 군집에 있는 데이터와는 얼마나 멀리 분리돼 있는지를 나타내는 지표이다 .\n",
    "\n",
    "- a(i) : 특정 데이터 포인트의 실루엣 계수 값은 해당 데이터 포인트와 같은 군집 내에 있는 다른 데이터 포인트와의 거리를 평균한 값\n",
    "\n",
    "- b(i) : 해당 데이터 포인트가 속하지 않은 군집 중 가장 가까운 군집과의 평균 거리\n",
    "\n",
    "- 두 군집 간의 거리 값은 b(i) - a(i) 이며 이 값을 정규화 하기 위해 Max(a(i),b(i)) 값으로 나눈다. 따라서 i 번째 데이터 포인트의 실루엣 계수 값 s(i) 는 다음과 같이 정의된다.\n",
    "\n",
    "<img src='https://t1.daumcdn.net/cfile/tistory/99BC644B5F4346CA10'>\n",
    "\n",
    "- 실루엣 계수는 -1 에서 1사이의 값을 가지며, 1로 가까워 질수록 근처의 군집과 더 멀리 떨어져 있다는 것이고, 0에 가까울 수록 근처의 군집과 가까워 진다는 의미이다."
   ]
  },
  {
   "cell_type": "markdown",
   "id": "0426d23a",
   "metadata": {},
   "source": [
    "<img src=\"https://t1.daumcdn.net/cfile/tistory/995D6D455F4346C315\" width=\"500\">\n",
    "\n",
    "### 성능이 좋은 군집의 특징 \n",
    "\n",
    "- 전체 실루엣 계수의 평균값, 즉 사이킷런의 silhouette_score() 값은 0~1 사이의 값을 가지며, 1에 가까울 수록 좋다.\n",
    "\n",
    "- 전체 실루엣 계수의 평균값과 더불어 개별 군집의 평균값의 편차가 작아야한다. 즉 개별 군집의 실루엣 계수 평균값이 전체 실루엣 계수의 평균값에서 크게 벗어나지 않는 것이 중요하다.\n",
    "\n",
    "- 전체 실루엣 계수의 평균값은 높지만, 특정 군집의 실루엣 계수 평균값만 유난히 높고 다른 군집들의 실루엣 계수 평균값은 낮으면 좋은 군집화가 아니다.\n",
    "\n",
    "\n",
    "### 사이킷런의 실루엣 분석 관련 메서드\n",
    "\n",
    "#### sklearn.metrics.silhouette_samples(X, labels, metric=’euclidean’, **kwds) \n",
    "\n",
    "#### sklearn.metrics.silhouette_score(X, labels, metric=’euclidean’, smaple_szie = None, **kwds) \n",
    "```\n",
    "값이 높을수록 군집화가 어느정도 잘 됐다고 판단할 수 있다. (절대적인 기준이 될 수는 없다.)\n",
    "```"
   ]
  },
  {
   "cell_type": "markdown",
   "id": "d6879c26",
   "metadata": {},
   "source": [
    "### 붓꽃(Iris) 데이터 셋을 이용한 클러스터 평가"
   ]
  },
  {
   "cell_type": "code",
   "execution_count": 2,
   "id": "d6adb78a",
   "metadata": {
    "ExecuteTime": {
     "end_time": "2022-03-27T17:14:26.530550Z",
     "start_time": "2022-03-27T17:14:26.215329Z"
    }
   },
   "outputs": [],
   "source": [
    "from sklearn.preprocessing import StandardScaler\n",
    "from sklearn.cluster import KMeans\n",
    "\n",
    "\n",
    "# 군집 평가 메서드 추가\n",
    "from sklearn.metrics import silhouette_samples, silhouette_score"
   ]
  },
  {
   "cell_type": "code",
   "execution_count": 3,
   "id": "4e1e067f",
   "metadata": {
    "ExecuteTime": {
     "end_time": "2022-03-27T17:14:26.608467Z",
     "start_time": "2022-03-27T17:14:26.532551Z"
    }
   },
   "outputs": [
    {
     "data": {
      "text/html": [
       "<div>\n",
       "<style scoped>\n",
       "    .dataframe tbody tr th:only-of-type {\n",
       "        vertical-align: middle;\n",
       "    }\n",
       "\n",
       "    .dataframe tbody tr th {\n",
       "        vertical-align: top;\n",
       "    }\n",
       "\n",
       "    .dataframe thead th {\n",
       "        text-align: right;\n",
       "    }\n",
       "</style>\n",
       "<table border=\"1\" class=\"dataframe\">\n",
       "  <thead>\n",
       "    <tr style=\"text-align: right;\">\n",
       "      <th></th>\n",
       "      <th>sepal_length</th>\n",
       "      <th>sepal_width</th>\n",
       "      <th>petal_length</th>\n",
       "      <th>petal_width</th>\n",
       "    </tr>\n",
       "  </thead>\n",
       "  <tbody>\n",
       "    <tr>\n",
       "      <th>0</th>\n",
       "      <td>5.1</td>\n",
       "      <td>3.5</td>\n",
       "      <td>1.4</td>\n",
       "      <td>0.2</td>\n",
       "    </tr>\n",
       "    <tr>\n",
       "      <th>1</th>\n",
       "      <td>4.9</td>\n",
       "      <td>3.0</td>\n",
       "      <td>1.4</td>\n",
       "      <td>0.2</td>\n",
       "    </tr>\n",
       "    <tr>\n",
       "      <th>2</th>\n",
       "      <td>4.7</td>\n",
       "      <td>3.2</td>\n",
       "      <td>1.3</td>\n",
       "      <td>0.2</td>\n",
       "    </tr>\n",
       "  </tbody>\n",
       "</table>\n",
       "</div>"
      ],
      "text/plain": [
       "   sepal_length  sepal_width  petal_length  petal_width\n",
       "0           5.1          3.5           1.4          0.2\n",
       "1           4.9          3.0           1.4          0.2\n",
       "2           4.7          3.2           1.3          0.2"
      ]
     },
     "execution_count": 3,
     "metadata": {},
     "output_type": "execute_result"
    }
   ],
   "source": [
    "# 데이터 셋 준비\n",
    "from sklearn.datasets import load_iris\n",
    "\n",
    "iris = load_iris()\n",
    "\n",
    "df_iris = pd.DataFrame(data=iris.data, columns=['sepal_length','sepal_width','petal_length','petal_width'])\n",
    "df_iris.head(3)"
   ]
  },
  {
   "cell_type": "markdown",
   "id": "9faf0fe9",
   "metadata": {},
   "source": [
    "#### 요소\n",
    "```\n",
    "KMeans(n_clusters=3, init='k-means++', max_iter=300, random_state=111)\n",
    "\n",
    "n_clusters : 군집 갯수. 군집중심점의 갯수 \n",
    "init : 초기 군집중심점. k-means++ 알고리즘이 알아서 처리 \n",
    "max-iter : 최대반복횟수\n",
    "labels : 데이터포인트가 속한 군집 중심점 레이블\n",
    "cluster_centers : 각 군집중심점 좌표\n",
    "```"
   ]
  },
  {
   "cell_type": "code",
   "execution_count": 4,
   "id": "6ec73e28",
   "metadata": {
    "ExecuteTime": {
     "end_time": "2022-03-27T17:14:26.685368Z",
     "start_time": "2022-03-27T17:14:26.610467Z"
    }
   },
   "outputs": [
    {
     "data": {
      "text/plain": [
       "array([1, 1, 1, 1, 1, 1, 1, 1, 1, 1, 1, 1, 1, 1, 1, 1, 1, 1, 1, 1, 1, 1,\n",
       "       1, 1, 1, 1, 1, 1, 1, 1, 1, 1, 1, 1, 1, 1, 1, 1, 1, 1, 1, 1, 1, 1,\n",
       "       1, 1, 1, 1, 1, 1, 0, 0, 2, 0, 0, 0, 0, 0, 0, 0, 0, 0, 0, 0, 0, 0,\n",
       "       0, 0, 0, 0, 0, 0, 0, 0, 0, 0, 0, 2, 0, 0, 0, 0, 0, 0, 0, 0, 0, 0,\n",
       "       0, 0, 0, 0, 0, 0, 0, 0, 0, 0, 0, 0, 2, 0, 2, 2, 2, 2, 0, 2, 2, 2,\n",
       "       2, 2, 2, 0, 0, 2, 2, 2, 2, 0, 2, 0, 2, 0, 2, 2, 0, 0, 2, 2, 2, 2,\n",
       "       2, 0, 2, 2, 2, 2, 0, 2, 2, 2, 0, 2, 2, 2, 0, 2, 2, 0])"
      ]
     },
     "execution_count": 4,
     "metadata": {},
     "output_type": "execute_result"
    }
   ],
   "source": [
    "model_kmeans = KMeans(n_clusters=3, init='k-means++', max_iter=300, random_state=111)\n",
    "model_kmeans.fit(df_iris)\n",
    "model_kmeans.labels_"
   ]
  },
  {
   "cell_type": "code",
   "execution_count": 5,
   "id": "27060114",
   "metadata": {
    "ExecuteTime": {
     "end_time": "2022-03-27T17:14:26.796462Z",
     "start_time": "2022-03-27T17:14:26.687369Z"
    }
   },
   "outputs": [
    {
     "data": {
      "text/plain": [
       "array([1, 1, 1, 1, 1, 1, 1, 1, 1, 1, 1, 1, 1, 1, 1, 1, 1, 1, 1, 1, 1, 1,\n",
       "       1, 1, 1, 1, 1, 1, 1, 1, 1, 1, 1, 1, 1, 1, 1, 1, 1, 1, 1, 1, 1, 1,\n",
       "       1, 1, 1, 1, 1, 1, 0, 0, 2, 0, 0, 0, 0, 0, 0, 0, 0, 0, 0, 0, 0, 0,\n",
       "       0, 0, 0, 0, 0, 0, 0, 0, 0, 0, 0, 2, 0, 0, 0, 0, 0, 0, 0, 0, 0, 0,\n",
       "       0, 0, 0, 0, 0, 0, 0, 0, 0, 0, 0, 0, 2, 0, 2, 2, 2, 2, 0, 2, 2, 2,\n",
       "       2, 2, 2, 0, 0, 2, 2, 2, 2, 0, 2, 0, 2, 0, 2, 2, 0, 0, 2, 2, 2, 2,\n",
       "       2, 0, 2, 2, 2, 2, 0, 2, 2, 2, 0, 2, 2, 2, 0, 2, 2, 0])"
      ]
     },
     "execution_count": 5,
     "metadata": {},
     "output_type": "execute_result"
    }
   ],
   "source": [
    "model_kmeans.predict(df_iris)"
   ]
  },
  {
   "cell_type": "code",
   "execution_count": 6,
   "id": "412994fd",
   "metadata": {
    "ExecuteTime": {
     "end_time": "2022-03-27T17:14:26.811487Z",
     "start_time": "2022-03-27T17:14:26.797463Z"
    }
   },
   "outputs": [],
   "source": [
    "# 군집 결과 라벨 추가\n",
    "df_iris['cluster'] = model_kmeans.labels_"
   ]
  },
  {
   "cell_type": "code",
   "execution_count": 7,
   "id": "f78d2c66",
   "metadata": {
    "ExecuteTime": {
     "end_time": "2022-03-27T17:14:26.827486Z",
     "start_time": "2022-03-27T17:14:26.813487Z"
    }
   },
   "outputs": [
    {
     "data": {
      "text/html": [
       "<div>\n",
       "<style scoped>\n",
       "    .dataframe tbody tr th:only-of-type {\n",
       "        vertical-align: middle;\n",
       "    }\n",
       "\n",
       "    .dataframe tbody tr th {\n",
       "        vertical-align: top;\n",
       "    }\n",
       "\n",
       "    .dataframe thead th {\n",
       "        text-align: right;\n",
       "    }\n",
       "</style>\n",
       "<table border=\"1\" class=\"dataframe\">\n",
       "  <thead>\n",
       "    <tr style=\"text-align: right;\">\n",
       "      <th></th>\n",
       "      <th>sepal_length</th>\n",
       "      <th>sepal_width</th>\n",
       "      <th>petal_length</th>\n",
       "      <th>petal_width</th>\n",
       "      <th>cluster</th>\n",
       "    </tr>\n",
       "  </thead>\n",
       "  <tbody>\n",
       "    <tr>\n",
       "      <th>0</th>\n",
       "      <td>5.1</td>\n",
       "      <td>3.5</td>\n",
       "      <td>1.4</td>\n",
       "      <td>0.2</td>\n",
       "      <td>1</td>\n",
       "    </tr>\n",
       "    <tr>\n",
       "      <th>1</th>\n",
       "      <td>4.9</td>\n",
       "      <td>3.0</td>\n",
       "      <td>1.4</td>\n",
       "      <td>0.2</td>\n",
       "      <td>1</td>\n",
       "    </tr>\n",
       "    <tr>\n",
       "      <th>2</th>\n",
       "      <td>4.7</td>\n",
       "      <td>3.2</td>\n",
       "      <td>1.3</td>\n",
       "      <td>0.2</td>\n",
       "      <td>1</td>\n",
       "    </tr>\n",
       "  </tbody>\n",
       "</table>\n",
       "</div>"
      ],
      "text/plain": [
       "   sepal_length  sepal_width  petal_length  petal_width  cluster\n",
       "0           5.1          3.5           1.4          0.2        1\n",
       "1           4.9          3.0           1.4          0.2        1\n",
       "2           4.7          3.2           1.3          0.2        1"
      ]
     },
     "execution_count": 7,
     "metadata": {},
     "output_type": "execute_result"
    }
   ],
   "source": [
    "df_iris.head(3)"
   ]
  },
  {
   "cell_type": "code",
   "execution_count": 8,
   "id": "62a7b9a0",
   "metadata": {
    "ExecuteTime": {
     "end_time": "2022-03-27T17:14:26.843486Z",
     "start_time": "2022-03-27T17:14:26.829486Z"
    }
   },
   "outputs": [],
   "source": [
    "from sklearn.decomposition import PCA\n",
    "\n",
    "# 스케일링\n",
    "iris_scaled = StandardScaler().fit_transform(iris.data)\n",
    "# print(iris_scaled)\n",
    "\n",
    "# 차원 축소\n",
    "pca = PCA(n_components=2)\n",
    "pca_transformed = pca.fit_transform(iris.data)\n",
    "\n",
    "df_iris['pca_x'] = pca_transformed[:,0]\n",
    "df_iris['pca_y'] = pca_transformed[:,1]"
   ]
  },
  {
   "cell_type": "code",
   "execution_count": 9,
   "id": "3d91cc87",
   "metadata": {
    "ExecuteTime": {
     "end_time": "2022-03-27T17:14:26.874487Z",
     "start_time": "2022-03-27T17:14:26.845488Z"
    }
   },
   "outputs": [
    {
     "data": {
      "text/html": [
       "<div>\n",
       "<style scoped>\n",
       "    .dataframe tbody tr th:only-of-type {\n",
       "        vertical-align: middle;\n",
       "    }\n",
       "\n",
       "    .dataframe tbody tr th {\n",
       "        vertical-align: top;\n",
       "    }\n",
       "\n",
       "    .dataframe thead th {\n",
       "        text-align: right;\n",
       "    }\n",
       "</style>\n",
       "<table border=\"1\" class=\"dataframe\">\n",
       "  <thead>\n",
       "    <tr style=\"text-align: right;\">\n",
       "      <th></th>\n",
       "      <th>sepal_length</th>\n",
       "      <th>sepal_width</th>\n",
       "      <th>petal_length</th>\n",
       "      <th>petal_width</th>\n",
       "      <th>cluster</th>\n",
       "      <th>pca_x</th>\n",
       "      <th>pca_y</th>\n",
       "    </tr>\n",
       "  </thead>\n",
       "  <tbody>\n",
       "    <tr>\n",
       "      <th>0</th>\n",
       "      <td>5.1</td>\n",
       "      <td>3.5</td>\n",
       "      <td>1.4</td>\n",
       "      <td>0.2</td>\n",
       "      <td>1</td>\n",
       "      <td>-2.684126</td>\n",
       "      <td>0.319397</td>\n",
       "    </tr>\n",
       "    <tr>\n",
       "      <th>1</th>\n",
       "      <td>4.9</td>\n",
       "      <td>3.0</td>\n",
       "      <td>1.4</td>\n",
       "      <td>0.2</td>\n",
       "      <td>1</td>\n",
       "      <td>-2.714142</td>\n",
       "      <td>-0.177001</td>\n",
       "    </tr>\n",
       "    <tr>\n",
       "      <th>2</th>\n",
       "      <td>4.7</td>\n",
       "      <td>3.2</td>\n",
       "      <td>1.3</td>\n",
       "      <td>0.2</td>\n",
       "      <td>1</td>\n",
       "      <td>-2.888991</td>\n",
       "      <td>-0.144949</td>\n",
       "    </tr>\n",
       "  </tbody>\n",
       "</table>\n",
       "</div>"
      ],
      "text/plain": [
       "   sepal_length  sepal_width  petal_length  petal_width  cluster     pca_x  \\\n",
       "0           5.1          3.5           1.4          0.2        1 -2.684126   \n",
       "1           4.9          3.0           1.4          0.2        1 -2.714142   \n",
       "2           4.7          3.2           1.3          0.2        1 -2.888991   \n",
       "\n",
       "      pca_y  \n",
       "0  0.319397  \n",
       "1 -0.177001  \n",
       "2 -0.144949  "
      ]
     },
     "execution_count": 9,
     "metadata": {},
     "output_type": "execute_result"
    }
   ],
   "source": [
    "df_iris.head(3)"
   ]
  },
  {
   "cell_type": "markdown",
   "id": "c1a10831",
   "metadata": {},
   "source": [
    "### 실루엣 계수\n",
    "\n",
    "인자로 X feature 데이터 셋과 각 피처 데이터 셋이 속한 군집 레이블 값인 labels 데이터를 입력해주면 \n",
    "각 데이터 포인트의 실루엣 계수를 계산해 반환한다.\n",
    "\n",
    "```\n",
    "from sklearn.metrics import silhouette_samples, silhouette_score\n",
    "\n",
    "silhouette_samples(Xdata, clusterData)\n",
    "\n",
    "```"
   ]
  },
  {
   "cell_type": "code",
   "execution_count": 10,
   "id": "d2f67ae3",
   "metadata": {
    "ExecuteTime": {
     "end_time": "2022-03-27T17:14:26.890486Z",
     "start_time": "2022-03-27T17:14:26.877486Z"
    }
   },
   "outputs": [
    {
     "data": {
      "text/plain": [
       "Index(['sepal_length', 'sepal_width', 'petal_length', 'petal_width', 'cluster',\n",
       "       'pca_x', 'pca_y'],\n",
       "      dtype='object')"
      ]
     },
     "execution_count": 10,
     "metadata": {},
     "output_type": "execute_result"
    }
   ],
   "source": [
    "df_iris.columns"
   ]
  },
  {
   "cell_type": "code",
   "execution_count": 11,
   "id": "63d657b7",
   "metadata": {
    "ExecuteTime": {
     "end_time": "2022-03-27T17:14:26.906513Z",
     "start_time": "2022-03-27T17:14:26.891486Z"
    },
    "scrolled": true
   },
   "outputs": [
    {
     "data": {
      "text/html": [
       "<div>\n",
       "<style scoped>\n",
       "    .dataframe tbody tr th:only-of-type {\n",
       "        vertical-align: middle;\n",
       "    }\n",
       "\n",
       "    .dataframe tbody tr th {\n",
       "        vertical-align: top;\n",
       "    }\n",
       "\n",
       "    .dataframe thead th {\n",
       "        text-align: right;\n",
       "    }\n",
       "</style>\n",
       "<table border=\"1\" class=\"dataframe\">\n",
       "  <thead>\n",
       "    <tr style=\"text-align: right;\">\n",
       "      <th></th>\n",
       "      <th>sepal_length</th>\n",
       "      <th>sepal_width</th>\n",
       "      <th>petal_length</th>\n",
       "      <th>petal_width</th>\n",
       "      <th>cluster</th>\n",
       "    </tr>\n",
       "  </thead>\n",
       "  <tbody>\n",
       "    <tr>\n",
       "      <th>0</th>\n",
       "      <td>5.1</td>\n",
       "      <td>3.5</td>\n",
       "      <td>1.4</td>\n",
       "      <td>0.2</td>\n",
       "      <td>1</td>\n",
       "    </tr>\n",
       "    <tr>\n",
       "      <th>1</th>\n",
       "      <td>4.9</td>\n",
       "      <td>3.0</td>\n",
       "      <td>1.4</td>\n",
       "      <td>0.2</td>\n",
       "      <td>1</td>\n",
       "    </tr>\n",
       "    <tr>\n",
       "      <th>2</th>\n",
       "      <td>4.7</td>\n",
       "      <td>3.2</td>\n",
       "      <td>1.3</td>\n",
       "      <td>0.2</td>\n",
       "      <td>1</td>\n",
       "    </tr>\n",
       "    <tr>\n",
       "      <th>3</th>\n",
       "      <td>4.6</td>\n",
       "      <td>3.1</td>\n",
       "      <td>1.5</td>\n",
       "      <td>0.2</td>\n",
       "      <td>1</td>\n",
       "    </tr>\n",
       "  </tbody>\n",
       "</table>\n",
       "</div>"
      ],
      "text/plain": [
       "   sepal_length  sepal_width  petal_length  petal_width  cluster\n",
       "0           5.1          3.5           1.4          0.2        1\n",
       "1           4.9          3.0           1.4          0.2        1\n",
       "2           4.7          3.2           1.3          0.2        1\n",
       "3           4.6          3.1           1.5          0.2        1"
      ]
     },
     "execution_count": 11,
     "metadata": {},
     "output_type": "execute_result"
    }
   ],
   "source": [
    "df_iris[['sepal_length', 'sepal_width', 'petal_length', 'petal_width',\n",
    "       'cluster']].head(4)"
   ]
  },
  {
   "cell_type": "code",
   "execution_count": 12,
   "id": "836e9c84",
   "metadata": {
    "ExecuteTime": {
     "end_time": "2022-03-27T17:14:26.922544Z",
     "start_time": "2022-03-27T17:14:26.907516Z"
    }
   },
   "outputs": [
    {
     "data": {
      "text/plain": [
       "array([0.85885242, 0.82305028, 0.83567987, 0.81290735, 0.85518741,\n",
       "       0.75991827, 0.82847818, 0.86005478, 0.76143419, 0.8326006 ,\n",
       "       0.81136816, 0.84293352, 0.81804328, 0.75415567, 0.71303549,\n",
       "       0.65724484, 0.78424137, 0.85710775, 0.72065425, 0.8276396 ,\n",
       "       0.7946902 , 0.83327523, 0.79936852, 0.80458814, 0.7861609 ,\n",
       "       0.80791149, 0.84113237, 0.84874264, 0.85006606, 0.82566886,\n",
       "       0.82334851, 0.80818512, 0.77160074, 0.73238576, 0.83609048,\n",
       "       0.83848629, 0.80228751, 0.847863  , 0.7768243 , 0.85671603,\n",
       "       0.8552095 , 0.65232157, 0.7940982 , 0.80960851, 0.75976518,\n",
       "       0.81759049, 0.82123356, 0.82596066, 0.8258018 , 0.85809769,\n",
       "       0.44551038, 0.62673275, 0.49434457, 0.68205736, 0.63302537,\n",
       "       0.718578  , 0.59471359, 0.32683955, 0.60733933, 0.631986  ,\n",
       "       0.41536175, 0.71362396, 0.6547472 , 0.68726839, 0.59309036,\n",
       "       0.58018263, 0.69710217, 0.70756903, 0.63981518, 0.67298542,\n",
       "       0.61063844, 0.70336641, 0.60913122, 0.68032958, 0.67005554,\n",
       "       0.61703881, 0.5205472 , 0.55413453, 0.71465298, 0.54291749,\n",
       "       0.63134391, 0.58873742, 0.70307461, 0.59702385, 0.67423205,\n",
       "       0.62723465, 0.54445843, 0.65160339, 0.70818308, 0.6994264 ,\n",
       "       0.7029852 , 0.69276939, 0.71766005, 0.35086841, 0.72569154,\n",
       "       0.71295709, 0.7263969 , 0.70330669, 0.22854939, 0.72774386,\n",
       "       0.639814  , 0.56778871, 0.72094552, 0.63260009, 0.7075472 ,\n",
       "       0.6255609 , 0.58904313, 0.66079974, 0.63434046, 0.65516276,\n",
       "       0.6040533 , 0.59571218, 0.71840875, 0.56403852, 0.44841227,\n",
       "       0.64052162, 0.66786319, 0.57177386, 0.56161519, 0.58005993,\n",
       "       0.72667349, 0.58780436, 0.59504146, 0.59056815, 0.71997818,\n",
       "       0.69041542, 0.62779897, 0.60705672, 0.66944863, 0.66086777,\n",
       "       0.66611508, 0.56796981, 0.66846319, 0.56561663, 0.4683856 ,\n",
       "       0.64270717, 0.6392206 , 0.65170674, 0.63581597, 0.70405659,\n",
       "       0.7117309 , 0.63154493, 0.56778871, 0.7246975 , 0.69602517,\n",
       "       0.65288189, 0.53774696, 0.63340845, 0.59942329, 0.56678209])"
      ]
     },
     "execution_count": 12,
     "metadata": {},
     "output_type": "execute_result"
    }
   ],
   "source": [
    "silhouette_samples(df_iris[['sepal_length', 'sepal_width', 'petal_length', 'petal_width',\n",
    "       'cluster']],df_iris['cluster'])"
   ]
  },
  {
   "cell_type": "code",
   "execution_count": 13,
   "id": "df297035",
   "metadata": {
    "ExecuteTime": {
     "end_time": "2022-03-27T17:14:26.938544Z",
     "start_time": "2022-03-27T17:14:26.924545Z"
    }
   },
   "outputs": [
    {
     "data": {
      "text/plain": [
       "(150,)"
      ]
     },
     "execution_count": 13,
     "metadata": {},
     "output_type": "execute_result"
    }
   ],
   "source": [
    "score_samples = silhouette_samples(iris.data, df_iris['cluster'])\n",
    "score_samples = silhouette_samples(df_iris[['sepal_length', 'sepal_width', 'petal_length', 'petal_width',\n",
    "       'cluster']], df_iris['cluster'])\n",
    "score_samples.shape"
   ]
  },
  {
   "cell_type": "code",
   "execution_count": 14,
   "id": "c1ac866e",
   "metadata": {
    "ExecuteTime": {
     "end_time": "2022-03-27T17:14:26.953562Z",
     "start_time": "2022-03-27T17:14:26.939546Z"
    }
   },
   "outputs": [
    {
     "data": {
      "text/plain": [
       "(150,)"
      ]
     },
     "execution_count": 14,
     "metadata": {},
     "output_type": "execute_result"
    }
   ],
   "source": [
    "score_samples = silhouette_samples(iris.data, df_iris['cluster'])\n",
    "score_samples = silhouette_samples(df_iris[['sepal_length', 'sepal_width', 'petal_length', 'petal_width',\n",
    "       'cluster']], df_iris['cluster'])\n",
    "score_samples.shape"
   ]
  },
  {
   "cell_type": "code",
   "execution_count": 15,
   "id": "37710f5a",
   "metadata": {
    "ExecuteTime": {
     "end_time": "2022-03-27T17:14:26.968564Z",
     "start_time": "2022-03-27T17:14:26.956691Z"
    }
   },
   "outputs": [
    {
     "data": {
      "text/plain": [
       "array([0.85885242, 0.82305028, 0.83567987, 0.81290735, 0.85518741])"
      ]
     },
     "execution_count": 15,
     "metadata": {},
     "output_type": "execute_result"
    }
   ],
   "source": [
    "score_samples[:5]"
   ]
  },
  {
   "cell_type": "code",
   "execution_count": 16,
   "id": "197ad8ac",
   "metadata": {
    "ExecuteTime": {
     "end_time": "2022-03-27T17:14:26.984566Z",
     "start_time": "2022-03-27T17:14:26.969566Z"
    }
   },
   "outputs": [
    {
     "data": {
      "text/html": [
       "<div>\n",
       "<style scoped>\n",
       "    .dataframe tbody tr th:only-of-type {\n",
       "        vertical-align: middle;\n",
       "    }\n",
       "\n",
       "    .dataframe tbody tr th {\n",
       "        vertical-align: top;\n",
       "    }\n",
       "\n",
       "    .dataframe thead th {\n",
       "        text-align: right;\n",
       "    }\n",
       "</style>\n",
       "<table border=\"1\" class=\"dataframe\">\n",
       "  <thead>\n",
       "    <tr style=\"text-align: right;\">\n",
       "      <th></th>\n",
       "      <th>sepal_length</th>\n",
       "      <th>sepal_width</th>\n",
       "      <th>petal_length</th>\n",
       "      <th>petal_width</th>\n",
       "      <th>cluster</th>\n",
       "      <th>pca_x</th>\n",
       "      <th>pca_y</th>\n",
       "      <th>silhouette_coeff</th>\n",
       "    </tr>\n",
       "  </thead>\n",
       "  <tbody>\n",
       "    <tr>\n",
       "      <th>9</th>\n",
       "      <td>4.9</td>\n",
       "      <td>3.1</td>\n",
       "      <td>1.5</td>\n",
       "      <td>0.1</td>\n",
       "      <td>1</td>\n",
       "      <td>-2.672756</td>\n",
       "      <td>-0.113774</td>\n",
       "      <td>0.832601</td>\n",
       "    </tr>\n",
       "    <tr>\n",
       "      <th>126</th>\n",
       "      <td>6.2</td>\n",
       "      <td>2.8</td>\n",
       "      <td>4.8</td>\n",
       "      <td>1.8</td>\n",
       "      <td>0</td>\n",
       "      <td>1.258508</td>\n",
       "      <td>-0.179705</td>\n",
       "      <td>0.627799</td>\n",
       "    </tr>\n",
       "    <tr>\n",
       "      <th>60</th>\n",
       "      <td>5.0</td>\n",
       "      <td>2.0</td>\n",
       "      <td>3.5</td>\n",
       "      <td>1.0</td>\n",
       "      <td>0</td>\n",
       "      <td>-0.507841</td>\n",
       "      <td>-1.265971</td>\n",
       "      <td>0.415362</td>\n",
       "    </tr>\n",
       "    <tr>\n",
       "      <th>98</th>\n",
       "      <td>5.1</td>\n",
       "      <td>2.5</td>\n",
       "      <td>3.0</td>\n",
       "      <td>1.1</td>\n",
       "      <td>0</td>\n",
       "      <td>-0.906470</td>\n",
       "      <td>-0.756093</td>\n",
       "      <td>0.228549</td>\n",
       "    </tr>\n",
       "    <tr>\n",
       "      <th>64</th>\n",
       "      <td>5.6</td>\n",
       "      <td>2.9</td>\n",
       "      <td>3.6</td>\n",
       "      <td>1.3</td>\n",
       "      <td>0</td>\n",
       "      <td>-0.173925</td>\n",
       "      <td>-0.254854</td>\n",
       "      <td>0.593090</td>\n",
       "    </tr>\n",
       "  </tbody>\n",
       "</table>\n",
       "</div>"
      ],
      "text/plain": [
       "     sepal_length  sepal_width  petal_length  petal_width  cluster     pca_x  \\\n",
       "9             4.9          3.1           1.5          0.1        1 -2.672756   \n",
       "126           6.2          2.8           4.8          1.8        0  1.258508   \n",
       "60            5.0          2.0           3.5          1.0        0 -0.507841   \n",
       "98            5.1          2.5           3.0          1.1        0 -0.906470   \n",
       "64            5.6          2.9           3.6          1.3        0 -0.173925   \n",
       "\n",
       "        pca_y  silhouette_coeff  \n",
       "9   -0.113774          0.832601  \n",
       "126 -0.179705          0.627799  \n",
       "60  -1.265971          0.415362  \n",
       "98  -0.756093          0.228549  \n",
       "64  -0.254854          0.593090  "
      ]
     },
     "execution_count": 16,
     "metadata": {},
     "output_type": "execute_result"
    }
   ],
   "source": [
    "df_iris['silhouette_coeff'] = score_samples\n",
    "\n",
    "df_iris.sample(5)"
   ]
  },
  {
   "cell_type": "code",
   "execution_count": 17,
   "id": "a1c920cb",
   "metadata": {
    "ExecuteTime": {
     "end_time": "2022-03-27T17:14:27.000563Z",
     "start_time": "2022-03-27T17:14:26.986564Z"
    }
   },
   "outputs": [
    {
     "name": "stdout",
     "output_type": "stream",
     "text": [
      "붓꽃 데이터셋 Silhouette Analysis Score:0.553\n",
      "군집별 실루엣계수 절편 평균:  0.6851559988597147\n"
     ]
    }
   ],
   "source": [
    "# 실루엣 계수 스코어\n",
    "#  average_score = silhouette(x, 군집결과cluster label )\n",
    "average_score = silhouette_score(df_iris[['sepal_length', 'sepal_width', 'petal_length', 'petal_width']], df_iris['cluster'])\n",
    "print('붓꽃 데이터셋 Silhouette Analysis Score:{0:.3f}'.format(average_score))\n",
    "print('군집별 실루엣계수 절편 평균: ',df_iris['silhouette_coeff'].mean())"
   ]
  },
  {
   "cell_type": "code",
   "execution_count": 18,
   "id": "34d08481",
   "metadata": {
    "ExecuteTime": {
     "end_time": "2022-03-27T17:14:27.172747Z",
     "start_time": "2022-03-27T17:14:27.001565Z"
    }
   },
   "outputs": [
    {
     "data": {
      "text/plain": [
       "<AxesSubplot:>"
      ]
     },
     "execution_count": 18,
     "metadata": {},
     "output_type": "execute_result"
    },
    {
     "data": {
      "image/png": "[encoded data removed]",
      "text/plain": [
       "<Figure size 720x720 with 1 Axes>"
      ]
     },
     "metadata": {},
     "output_type": "display_data"
    }
   ],
   "source": [
    "df_iris['silhouette_coeff'].hist()"
   ]
  },
  {
   "cell_type": "code",
   "execution_count": 19,
   "id": "0f566007",
   "metadata": {
    "ExecuteTime": {
     "end_time": "2022-03-27T17:14:27.188747Z",
     "start_time": "2022-03-27T17:14:27.173746Z"
    }
   },
   "outputs": [
    {
     "data": {
      "text/plain": [
       "cluster\n",
       "0    0.613674\n",
       "1    0.806393\n",
       "2    0.642262\n",
       "Name: silhouette_coeff, dtype: float64"
      ]
     },
     "execution_count": 19,
     "metadata": {},
     "output_type": "execute_result"
    }
   ],
   "source": [
    "# 군집별 실루엣 계수 평균\n",
    "df_iris.groupby('cluster')['silhouette_coeff'].mean()"
   ]
  },
  {
   "cell_type": "code",
   "execution_count": 20,
   "id": "b34557e6",
   "metadata": {
    "ExecuteTime": {
     "end_time": "2022-03-27T17:14:27.360704Z",
     "start_time": "2022-03-27T17:14:27.190802Z"
    }
   },
   "outputs": [
    {
     "data": {
      "text/plain": [
       "<AxesSubplot:xlabel='pca_x', ylabel='pca_y'>"
      ]
     },
     "execution_count": 20,
     "metadata": {},
     "output_type": "execute_result"
    },
    {
     "data": {
      "image/png": "[encoded data removed]",
      "text/plain": [
       "<Figure size 720x720 with 1 Axes>"
      ]
     },
     "metadata": {},
     "output_type": "display_data"
    }
   ],
   "source": [
    "# seaborn 결과 : 군집 최종 라벨 기준 \n",
    "sns.scatterplot(x='pca_x', y='pca_y', data=df_iris, hue='cluster', style='cluster', palette='deep')\n"
   ]
  },
  {
   "cell_type": "markdown",
   "id": "fbbeb52b",
   "metadata": {},
   "source": [
    "### 클러스터별 평균 실루엣 계수의 시각화를 통한 클러스터 개수 최적화 방법"
   ]
  },
  {
   "cell_type": "code",
   "execution_count": 21,
   "id": "7f65a43d",
   "metadata": {
    "ExecuteTime": {
     "end_time": "2022-03-27T17:14:27.376758Z",
     "start_time": "2022-03-27T17:14:27.361759Z"
    }
   },
   "outputs": [],
   "source": [
    "# https://scikit-learn.org/stable/auto_examples/cluster/plot_kmeans_silhouette_analysis.html\n",
    "# 실루엣계수값들이 어떻게 분포되어있는지 샘플 예제 "
   ]
  },
  {
   "cell_type": "code",
   "execution_count": 22,
   "id": "8700f65b",
   "metadata": {
    "ExecuteTime": {
     "end_time": "2022-03-27T17:14:27.391762Z",
     "start_time": "2022-03-27T17:14:27.377759Z"
    }
   },
   "outputs": [],
   "source": [
    "def visualize_silhouette(cluster_lists, X_features): \n",
    "    \n",
    "    from sklearn.datasets import make_blobs\n",
    "    from sklearn.cluster import KMeans\n",
    "    from sklearn.metrics import silhouette_samples, silhouette_score\n",
    "\n",
    "    import matplotlib.pyplot as plt\n",
    "    import matplotlib.cm as cm\n",
    "    import math\n",
    "    \n",
    "    n_cols = len(cluster_lists)\n",
    "    fig, axs = plt.subplots(figsize=(4*n_cols, 4), nrows=1, ncols=n_cols)\n",
    "\n",
    "    for ind, n_cluster in enumerate(cluster_lists):\n",
    "        clusterer = KMeans(n_clusters = n_cluster, max_iter=500, random_state=0)\n",
    "        cluster_labels = clusterer.fit_predict(X_features)\n",
    "        \n",
    "        sil_avg = silhouette_score(X_features, cluster_labels)\n",
    "        sil_values = silhouette_samples(X_features, cluster_labels)\n",
    "        \n",
    "        y_lower = 10\n",
    "        axs[ind].set_title('Number of Cluster : '+ str(n_cluster)+'\\n' \\\n",
    "                          'Silhouette Score :' + str(round(sil_avg,3)) )\n",
    "        axs[ind].set_xlabel(\"The silhouette coefficient values\")\n",
    "        axs[ind].set_ylabel(\"Cluster label\")\n",
    "        axs[ind].set_xlim([-0.1, 1])\n",
    "        axs[ind].set_ylim([0, len(X_features) + (n_cluster + 1) * 10])\n",
    "        axs[ind].set_yticks([])  # Clear the yaxis labels / ticks\n",
    "        axs[ind].set_xticks([0, 0.2, 0.4, 0.6, 0.8, 1])\n",
    "        \n",
    "        for i in range(n_cluster):\n",
    "            ith_cluster_sil_values = sil_values[cluster_labels==i]\n",
    "            ith_cluster_sil_values.sort()\n",
    "            \n",
    "            size_cluster_i = ith_cluster_sil_values.shape[0]\n",
    "            y_upper = y_lower + size_cluster_i\n",
    "            \n",
    "            color = cm.nipy_spectral(float(i) / n_cluster)\n",
    "            axs[ind].fill_betweenx(np.arange(y_lower, y_upper), 0, ith_cluster_sil_values, \\\n",
    "                                facecolor=color, edgecolor=color, alpha=0.7)\n",
    "            axs[ind].text(-0.05, y_lower + 0.5 * size_cluster_i, str(i))\n",
    "            y_lower = y_upper + 10\n",
    "            \n",
    "        axs[ind].axvline(x=sil_avg, color=\"red\", linestyle=\"--\")"
   ]
  },
  {
   "cell_type": "code",
   "execution_count": 23,
   "id": "7924d199",
   "metadata": {
    "ExecuteTime": {
     "end_time": "2022-03-27T17:14:27.896674Z",
     "start_time": "2022-03-27T17:14:27.393761Z"
    }
   },
   "outputs": [
    {
     "data": {
      "image/png": "[encoded data removed]",
      "text/plain": [
       "<Figure size 1152x288 with 4 Axes>"
      ]
     },
     "metadata": {},
     "output_type": "display_data"
    }
   ],
   "source": [
    "from sklearn.datasets import load_iris\n",
    "\n",
    "iris=load_iris()\n",
    "\n",
    "\n",
    "# visualize_silhouette(군집 리스트, X데이터)\n",
    "visualize_silhouette([ 2, 3, 4, 5 ], iris.data)"
   ]
  },
  {
   "cell_type": "markdown",
   "id": "45b38465",
   "metadata": {},
   "source": [
    "### make_blobs 를 이용하여 예제 생성 후 군집 시각화"
   ]
  },
  {
   "cell_type": "code",
   "execution_count": 24,
   "id": "1479e04e",
   "metadata": {
    "ExecuteTime": {
     "end_time": "2022-03-27T17:14:28.561359Z",
     "start_time": "2022-03-27T17:14:27.897674Z"
    },
    "scrolled": true
   },
   "outputs": [
    {
     "data": {
      "image/png": "[encoded data removed]",
      "text/plain": [
       "<Figure size 1152x288 with 4 Axes>"
      ]
     },
     "metadata": {},
     "output_type": "display_data"
    }
   ],
   "source": [
    "from sklearn.datasets import make_blobs\n",
    "X, y = make_blobs(n_samples=500, n_features=2, centers=4, cluster_std=1, \\\n",
    "                  center_box=(-10.0, 10.0), shuffle=True, random_state=1)  \n",
    "\n",
    "visualize_silhouette([ 2, 3, 4, 5], X)"
   ]
  },
  {
   "cell_type": "code",
   "execution_count": 25,
   "id": "515a1e7b",
   "metadata": {
    "ExecuteTime": {
     "end_time": "2022-03-27T17:14:28.577275Z",
     "start_time": "2022-03-27T17:14:28.563238Z"
    }
   },
   "outputs": [
    {
     "data": {
      "text/html": [
       "<div>\n",
       "<style scoped>\n",
       "    .dataframe tbody tr th:only-of-type {\n",
       "        vertical-align: middle;\n",
       "    }\n",
       "\n",
       "    .dataframe tbody tr th {\n",
       "        vertical-align: top;\n",
       "    }\n",
       "\n",
       "    .dataframe thead th {\n",
       "        text-align: right;\n",
       "    }\n",
       "</style>\n",
       "<table border=\"1\" class=\"dataframe\">\n",
       "  <thead>\n",
       "    <tr style=\"text-align: right;\">\n",
       "      <th></th>\n",
       "      <th>ftr1</th>\n",
       "      <th>ftr2</th>\n",
       "      <th>target</th>\n",
       "    </tr>\n",
       "  </thead>\n",
       "  <tbody>\n",
       "    <tr>\n",
       "      <th>414</th>\n",
       "      <td>-10.033080</td>\n",
       "      <td>-1.842743</td>\n",
       "      <td>1</td>\n",
       "    </tr>\n",
       "    <tr>\n",
       "      <th>120</th>\n",
       "      <td>-10.699057</td>\n",
       "      <td>-4.490572</td>\n",
       "      <td>1</td>\n",
       "    </tr>\n",
       "    <tr>\n",
       "      <th>489</th>\n",
       "      <td>-9.891490</td>\n",
       "      <td>-5.479029</td>\n",
       "      <td>1</td>\n",
       "    </tr>\n",
       "    <tr>\n",
       "      <th>2</th>\n",
       "      <td>-9.630481</td>\n",
       "      <td>-2.720449</td>\n",
       "      <td>1</td>\n",
       "    </tr>\n",
       "    <tr>\n",
       "      <th>373</th>\n",
       "      <td>-6.098343</td>\n",
       "      <td>-7.440179</td>\n",
       "      <td>2</td>\n",
       "    </tr>\n",
       "  </tbody>\n",
       "</table>\n",
       "</div>"
      ],
      "text/plain": [
       "          ftr1      ftr2  target\n",
       "414 -10.033080 -1.842743       1\n",
       "120 -10.699057 -4.490572       1\n",
       "489  -9.891490 -5.479029       1\n",
       "2    -9.630481 -2.720449       1\n",
       "373  -6.098343 -7.440179       2"
      ]
     },
     "execution_count": 25,
     "metadata": {},
     "output_type": "execute_result"
    }
   ],
   "source": [
    "# 데이타프레임화 \n",
    "df_cluster = pd.DataFrame(data=X, columns=['ftr1', 'ftr2'])\n",
    "\n",
    "# 타겟 y 라벨 추가 \n",
    "df_cluster['target'] = y\n",
    "\n",
    "\n",
    "df_cluster.sample(5)"
   ]
  },
  {
   "cell_type": "code",
   "execution_count": 26,
   "id": "b9b46936",
   "metadata": {
    "ExecuteTime": {
     "end_time": "2022-03-27T17:14:28.592855Z",
     "start_time": "2022-03-27T17:14:28.579406Z"
    }
   },
   "outputs": [
    {
     "data": {
      "text/plain": [
       "array([2, 2, 1, 0, 3, 0, 3, 3, 1, 3, 2, 2, 3, 0, 3, 2, 1, 2, 0, 3, 1, 1,\n",
       "       3, 0, 3, 3, 0, 0, 1, 3, 2, 0, 3, 2, 3, 2, 1, 1, 2, 1, 3, 1, 0, 3,\n",
       "       3, 2, 1, 3, 0, 0, 0, 1, 1, 3, 2, 1, 1, 1, 1, 3, 0, 0, 1, 3, 0, 3,\n",
       "       2, 3, 1, 1, 2, 1, 3, 2, 3, 3, 2, 3, 3, 1, 0, 0, 1, 0, 0, 1, 1, 0,\n",
       "       1, 1, 0, 2, 1, 3, 0, 2, 2, 3, 2, 0, 0, 2, 0, 1, 0, 3, 3, 0, 0, 1,\n",
       "       3, 2, 0, 1, 0, 1, 0, 3, 0, 3, 1, 2, 2, 1, 3, 1, 0, 2, 2, 3, 0, 1,\n",
       "       1, 1, 1, 2, 0, 3, 0, 0, 3, 2, 3, 0, 0, 0, 3, 3, 2, 2, 1, 1, 0, 2,\n",
       "       0, 1, 1, 1, 1, 1, 1, 1, 1, 1, 0, 2, 2, 2, 3, 0, 2, 1, 3, 2, 0, 1,\n",
       "       1, 1, 1, 2, 3, 1, 0, 2, 2, 1, 3, 2, 2, 3, 0, 0, 2, 2, 3, 0, 3, 2,\n",
       "       2, 0, 2, 1, 0, 3, 3, 2, 3, 1, 2, 3, 1, 3, 1, 2, 3, 3, 3, 0, 1, 0,\n",
       "       3, 2, 1, 3, 1, 1, 1, 0, 3, 0, 2, 1, 2, 1, 0, 0, 1, 2, 0, 2, 3, 1,\n",
       "       2, 2, 2, 2, 3, 1, 2, 1, 3, 0, 0, 3, 3, 0, 1, 3, 1, 0, 3, 0, 1, 1,\n",
       "       0, 3, 2, 2, 1, 1, 1, 3, 0, 0, 3, 0, 1, 2, 0, 2, 0, 2, 2, 0, 2, 0,\n",
       "       0, 3, 1, 1, 1, 3, 3, 3, 2, 0, 2, 1, 2, 3, 2, 3, 2, 1, 2, 2, 1, 2,\n",
       "       2, 1, 0, 2, 3, 3, 0, 0, 3, 2, 0, 0, 3, 2, 0, 0, 3, 1, 0, 1, 3, 2,\n",
       "       2, 0, 1, 2, 3, 0, 0, 3, 3, 1, 2, 3, 0, 0, 1, 0, 0, 0, 0, 2, 2, 3,\n",
       "       0, 1, 3, 2, 0, 1, 0, 3, 0, 1, 3, 1, 0, 3, 3, 2, 0, 2, 2, 2, 2, 2,\n",
       "       2, 1, 2, 0, 2, 0, 0, 1, 0, 3, 1, 2, 2, 0, 1, 0, 3, 2, 3, 1, 2, 1,\n",
       "       1, 0, 0, 2, 1, 3, 0, 3, 3, 2, 2, 3, 2, 1, 1, 2, 1, 2, 1, 0, 2, 0,\n",
       "       1, 3, 0, 1, 3, 0, 2, 3, 0, 0, 1, 3, 1, 3, 2, 0, 2, 3, 0, 2, 2, 2,\n",
       "       1, 0, 3, 2, 3, 3, 1, 1, 2, 3, 3, 3, 3, 3, 3, 2, 3, 1, 2, 3, 0, 3,\n",
       "       0, 3, 1, 3, 0, 0, 0, 1, 3, 1, 2, 1, 0, 3, 2, 0, 2, 0, 2, 3, 0, 0,\n",
       "       2, 1, 3, 2, 1, 1, 1, 2, 3, 0, 1, 3, 2, 2, 2, 3])"
      ]
     },
     "execution_count": 26,
     "metadata": {},
     "output_type": "execute_result"
    }
   ],
   "source": [
    "df_cluster['target'].values"
   ]
  },
  {
   "cell_type": "code",
   "execution_count": 27,
   "id": "52c62331",
   "metadata": {
    "ExecuteTime": {
     "end_time": "2022-03-27T17:14:29.268981Z",
     "start_time": "2022-03-27T17:14:28.594858Z"
    },
    "scrolled": true
   },
   "outputs": [
    {
     "data": {
      "image/png": "[encoded data removed]",
      "text/plain": [
       "<Figure size 1152x288 with 4 Axes>"
      ]
     },
     "metadata": {},
     "output_type": "display_data"
    }
   ],
   "source": [
    "\n",
    "iris=load_iris()\n",
    "visualize_silhouette([ 2, 3, 4, 5 ], X)"
   ]
  }
 ],
 "metadata": {
  "kernelspec": {
   "display_name": "Python 3 (ipykernel)",
   "language": "python",
   "name": "python3"
  },
  "language_info": {
   "codemirror_mode": {
    "name": "ipython",
    "version": 3
   },
   "file_extension": ".py",
   "mimetype": "text/x-python",
   "name": "python",
   "nbconvert_exporter": "python",
   "pygments_lexer": "ipython3",
   "version": "3.8.8"
  },
  "toc": {
   "base_numbering": 1,
   "nav_menu": {},
   "number_sections": true,
   "sideBar": true,
   "skip_h1_title": false,
   "title_cell": "Table of Contents",
   "title_sidebar": "Contents",
   "toc_cell": false,
   "toc_position": {},
   "toc_section_display": true,
   "toc_window_display": false
  }
 },
 "nbformat": 4,
 "nbformat_minor": 5
}
