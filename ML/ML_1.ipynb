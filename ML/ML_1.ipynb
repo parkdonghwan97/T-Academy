{
 "cells": [
  {
   "cell_type": "code",
   "execution_count": 25,
   "id": "2b3cf72e",
   "metadata": {
    "ExecuteTime": {
     "end_time": "2022-03-26T11:37:05.113277Z",
     "start_time": "2022-03-26T11:37:05.095235Z"
    }
   },
   "outputs": [],
   "source": [
    "# 자주쓰는 메서드\n",
    "\n",
    "import numpy as np\n",
    "import pandas as pd\n",
    "import os\n",
    "\n",
    "import matplotlib\n",
    "import matplotlib.pyplot as plt\n",
    "import seaborn as sns\n",
    "\n",
    "%matplotlib inline\n",
    "\n",
    "# 관련 라이브러리 임포트 \n",
    "import matplotlib.font_manager as fm\n",
    "\n",
    "#  한글글꼴로 변경\n",
    "# plt.rcParams['font.family'] = '한글글꼴명'\n",
    "plt.rcParams['font.size'] = 11.0\n",
    "# plt.rcParams['font.family'] = 'batang'\n",
    "plt.rcParams['font.family'] = 'Malgun Gothic'\n",
    "\n",
    "# 그래프에서 마이너스 폰트 깨지는 문제에 대한 대처\n",
    "matplotlib.rcParams['axes.unicode_minus'] = False\n",
    "plt.style.use('ggplot')\n"
   ]
  },
  {
   "cell_type": "markdown",
   "id": "5193b6c6",
   "metadata": {
    "ExecuteTime": {
     "end_time": "2022-03-26T06:48:44.802753Z",
     "start_time": "2022-03-26T06:48:44.780728Z"
    }
   },
   "source": [
    "# 사이킷런 (Scikit-learn)\n",
    "\n",
    "- 머신러닝 교육을 위한 파이썬 패키지\n",
    "- https://scikit-learn.org/stable/\n",
    "- 데이터 전처리(preprocessing)\n",
    "- 지도 학습(Supervised learning)\n",
    "    - : KNN, Naive Bayes, Decision Trees, Support Vector Machine\n",
    "- 비지도 학습(Unsupervised learning)\n",
    "    - : Clustering, Gaussian mixture models\n",
    "- 모형 평가 및 선택 (evaluation and selection)\n",
    "    - : Cross validation, Model evaluation\n"
   ]
  },
  {
   "cell_type": "markdown",
   "id": "b10347b6",
   "metadata": {},
   "source": [
    "| 모듈 | 설명 |\n",
    "|------|------|\n",
    "| `sklearn.datasets` | 내장된 예제 데이터 세트 |\n",
    "| `sklearn.preprocessing` | 다양한 데이터 전처리 기능 제공 (변환, 정규화, 스케일링 등) |\n",
    "| `sklearn.feature_selection` | 특징(feature)를 선택할 수 있는 기능 제공 | \n",
    "| `sklearn.feature_extraction` | 특징(feature) 추출에 사용 |\n",
    "| `sklearn.decomposition` | 차원 축소 관련 알고리즘 지원 (PCA, NMF, Truncated SVD 등)\n",
    "| `sklearn.model_selection` | 교차 검증을 위해 데이터를 학습/테스트용으로 분리, 최적 파라미터를 추출하는 API 제공 (GridSearch 등)\n",
    "| `sklearn.metrics` | 분류, 회귀, 클러스터링, Pairwise에 대한 다양한 성능 측정 방법 제공 (Accuracy, Precision, Recall, ROC-AUC, RMSE 등) |\n",
    "| `sklearn.pipeline` | 특징 처리 등의 변환과 ML 알고리즘 학습, 예측 등을 묶어서 실행할 수 있는 유틸리티 제공 |\n",
    "| `sklearn.linear_model` | 선형 회귀, 릿지(Ridge), 라쏘(Lasso), 로지스틱 회귀 등 회귀 관련 알고리즘과 SGD(Stochastic Gradient Descent) 알고리즘 제공 |\n",
    "| `sklearn.svm` | 서포트 벡터 머신 알고리즘 제공 |\n",
    "| `sklearn.neighbors` | 최근접 이웃 알고리즘 제공 (k-NN 등)\n",
    "| `sklearn.naive_bayes` | 나이브 베이즈 알고리즘 제공 (가우시안 NB, 다항 분포 NB 등) |\n",
    "| `sklearn.tree` | 의사 결정 트리 알고리즘 제공 |\n",
    "| `sklearn.ensemble` | 앙상블 알고리즘 제공 (Random Forest, AdaBoost, GradientBoost 등) |\n",
    "| `sklearn.cluster` | 비지도 클러스터링 알고리즘 제공 (k-Means, 계층형 클러스터링, DBSCAN 등)"
   ]
  },
  {
   "cell_type": "code",
   "execution_count": 26,
   "id": "416b80c4",
   "metadata": {
    "ExecuteTime": {
     "end_time": "2022-03-26T11:37:05.128229Z",
     "start_time": "2022-03-26T11:37:05.115231Z"
    }
   },
   "outputs": [
    {
     "data": {
      "text/plain": [
       "'1.0.2'"
      ]
     },
     "execution_count": 26,
     "metadata": {},
     "output_type": "execute_result"
    }
   ],
   "source": [
    "import sklearn\n",
    "sklearn.__version__"
   ]
  },
  {
   "cell_type": "markdown",
   "id": "74f74086",
   "metadata": {
    "ExecuteTime": {
     "end_time": "2022-03-26T06:49:31.582574Z",
     "start_time": "2022-03-26T06:49:31.572574Z"
    }
   },
   "source": [
    "# XOR 연산 학습\n",
    "\n",
    "- 두 값의 각 자릿수를 비교해, 값이 같으면 0, 다르면 1을 계산한다. "
   ]
  },
  {
   "cell_type": "code",
   "execution_count": 27,
   "id": "901017fa",
   "metadata": {
    "ExecuteTime": {
     "end_time": "2022-03-26T11:37:05.143230Z",
     "start_time": "2022-03-26T11:37:05.129230Z"
    }
   },
   "outputs": [],
   "source": [
    "# from sklearn.neighbors import KNeighborsClassifier\n",
    "# from sklearn.tree import DecisionTreeClassifier\n",
    "# from sklearn.ensemble import RandomForestClassifier\n",
    "# from sklearn.naive_bayes import GaussianNB\n",
    "from sklearn.svm import SVC   # sklearn의 SVM"
   ]
  },
  {
   "cell_type": "markdown",
   "id": "12f695a0",
   "metadata": {},
   "source": [
    "### 학습데이타 와 레이블 \n",
    "```\n",
    "xor_data =  [\n",
    "     [0, 0, 0],\n",
    "     [0, 1, 1],\n",
    "     [1, 0, 1],\n",
    "     [1, 1, 0]\n",
    " ]\n",
    "```"
   ]
  },
  {
   "cell_type": "code",
   "execution_count": 28,
   "id": "2c817e70",
   "metadata": {
    "ExecuteTime": {
     "end_time": "2022-03-26T11:37:05.158228Z",
     "start_time": "2022-03-26T11:37:05.145230Z"
    }
   },
   "outputs": [],
   "source": [
    "X = [ [0,0], [0,1], [1,0], [1,1]]\n",
    "y = [0, 1, 1, 0]"
   ]
  },
  {
   "cell_type": "markdown",
   "id": "426e1dc0",
   "metadata": {},
   "source": [
    "### 데이타 학습 -> 모델링"
   ]
  },
  {
   "cell_type": "code",
   "execution_count": 29,
   "id": "0fe23d8b",
   "metadata": {
    "ExecuteTime": {
     "end_time": "2022-03-26T11:37:05.173228Z",
     "start_time": "2022-03-26T11:37:05.159230Z"
    }
   },
   "outputs": [
    {
     "data": {
      "text/plain": [
       "SVC()"
      ]
     },
     "execution_count": 29,
     "metadata": {},
     "output_type": "execute_result"
    }
   ],
   "source": [
    "model = SVC()\n",
    "model.fit(X, y)"
   ]
  },
  {
   "cell_type": "code",
   "execution_count": 30,
   "id": "13436e29",
   "metadata": {
    "ExecuteTime": {
     "end_time": "2022-03-26T11:37:05.188229Z",
     "start_time": "2022-03-26T11:37:05.175230Z"
    }
   },
   "outputs": [
    {
     "data": {
      "text/plain": [
       "{'C': 1.0,\n",
       " 'break_ties': False,\n",
       " 'cache_size': 200,\n",
       " 'class_weight': None,\n",
       " 'coef0': 0.0,\n",
       " 'decision_function_shape': 'ovr',\n",
       " 'degree': 3,\n",
       " 'gamma': 'scale',\n",
       " 'kernel': 'rbf',\n",
       " 'max_iter': -1,\n",
       " 'probability': False,\n",
       " 'random_state': None,\n",
       " 'shrinking': True,\n",
       " 'tol': 0.001,\n",
       " 'verbose': False}"
      ]
     },
     "execution_count": 30,
     "metadata": {},
     "output_type": "execute_result"
    }
   ],
   "source": [
    "model.get_params()"
   ]
  },
  {
   "cell_type": "markdown",
   "id": "dfd6dfdd",
   "metadata": {},
   "source": [
    "### 데이터 예측 "
   ]
  },
  {
   "cell_type": "code",
   "execution_count": 31,
   "id": "5e5c09ac",
   "metadata": {
    "ExecuteTime": {
     "end_time": "2022-03-26T11:37:05.203229Z",
     "start_time": "2022-03-26T11:37:05.190231Z"
    }
   },
   "outputs": [
    {
     "data": {
      "text/plain": [
       "array([0, 1, 1, 0])"
      ]
     },
     "execution_count": 31,
     "metadata": {},
     "output_type": "execute_result"
    }
   ],
   "source": [
    "model.predict(X)"
   ]
  },
  {
   "cell_type": "code",
   "execution_count": 32,
   "id": "6a3eaca4",
   "metadata": {
    "ExecuteTime": {
     "end_time": "2022-03-26T11:37:05.218229Z",
     "start_time": "2022-03-26T11:37:05.205233Z"
    }
   },
   "outputs": [
    {
     "data": {
      "text/plain": [
       "array([0])"
      ]
     },
     "execution_count": 32,
     "metadata": {},
     "output_type": "execute_result"
    }
   ],
   "source": [
    "model.predict([[1,1]])"
   ]
  },
  {
   "cell_type": "code",
   "execution_count": 33,
   "id": "d74e193a",
   "metadata": {
    "ExecuteTime": {
     "end_time": "2022-03-26T11:37:05.233229Z",
     "start_time": "2022-03-26T11:37:05.219231Z"
    }
   },
   "outputs": [
    {
     "data": {
      "text/plain": [
       "array([0, 0])"
      ]
     },
     "execution_count": 33,
     "metadata": {},
     "output_type": "execute_result"
    }
   ],
   "source": [
    "model.predict([[1,1],[0,0]])"
   ]
  },
  {
   "cell_type": "markdown",
   "id": "80176e39",
   "metadata": {},
   "source": [
    "### 모델 평가 : 결과 확인 \n",
    "\n",
    "- 정답률과 에러률 \n",
    "```\n",
    "accuracy_score()\n",
    "mean_squared_error()\n",
    "```"
   ]
  },
  {
   "cell_type": "code",
   "execution_count": 34,
   "id": "1e5047ac",
   "metadata": {
    "ExecuteTime": {
     "end_time": "2022-03-26T11:37:05.250027Z",
     "start_time": "2022-03-26T11:37:05.235229Z"
    }
   },
   "outputs": [
    {
     "data": {
      "text/plain": [
       "1.0"
      ]
     },
     "execution_count": 34,
     "metadata": {},
     "output_type": "execute_result"
    }
   ],
   "source": [
    "from sklearn.metrics import accuracy_score, mean_squared_error\n",
    "accuracy_score(y, model.predict(X))"
   ]
  },
  {
   "cell_type": "code",
   "execution_count": 35,
   "id": "fa0caf5e",
   "metadata": {
    "ExecuteTime": {
     "end_time": "2022-03-26T11:37:05.263229Z",
     "start_time": "2022-03-26T11:37:05.251230Z"
    }
   },
   "outputs": [
    {
     "data": {
      "text/plain": [
       "0.0"
      ]
     },
     "execution_count": 35,
     "metadata": {},
     "output_type": "execute_result"
    }
   ],
   "source": [
    "mean_squared_error(model.predict(X), y)"
   ]
  },
  {
   "cell_type": "code",
   "execution_count": 36,
   "id": "81e3c58a",
   "metadata": {
    "ExecuteTime": {
     "end_time": "2022-03-26T11:37:05.278229Z",
     "start_time": "2022-03-26T11:37:05.264230Z"
    }
   },
   "outputs": [],
   "source": [
    "### XOR 연산 머신러닝 - 데이타프레임 활용"
   ]
  },
  {
   "cell_type": "code",
   "execution_count": 37,
   "id": "e014661d",
   "metadata": {
    "ExecuteTime": {
     "end_time": "2022-03-26T11:37:05.293270Z",
     "start_time": "2022-03-26T11:37:05.280231Z"
    }
   },
   "outputs": [],
   "source": [
    "data =  [\n",
    "    [0, 0, 0],\n",
    "    [0, 1, 1],\n",
    "    [1, 0, 1],\n",
    "    [1, 1, 0]\n",
    "]"
   ]
  },
  {
   "cell_type": "code",
   "execution_count": 38,
   "id": "52c16dc7",
   "metadata": {
    "ExecuteTime": {
     "end_time": "2022-03-26T11:37:05.323228Z",
     "start_time": "2022-03-26T11:37:05.295232Z"
    }
   },
   "outputs": [
    {
     "data": {
      "text/html": [
       "<div>\n",
       "<style scoped>\n",
       "    .dataframe tbody tr th:only-of-type {\n",
       "        vertical-align: middle;\n",
       "    }\n",
       "\n",
       "    .dataframe tbody tr th {\n",
       "        vertical-align: top;\n",
       "    }\n",
       "\n",
       "    .dataframe thead th {\n",
       "        text-align: right;\n",
       "    }\n",
       "</style>\n",
       "<table border=\"1\" class=\"dataframe\">\n",
       "  <thead>\n",
       "    <tr style=\"text-align: right;\">\n",
       "      <th></th>\n",
       "      <th>0</th>\n",
       "      <th>1</th>\n",
       "      <th>2</th>\n",
       "    </tr>\n",
       "  </thead>\n",
       "  <tbody>\n",
       "    <tr>\n",
       "      <th>0</th>\n",
       "      <td>0</td>\n",
       "      <td>0</td>\n",
       "      <td>0</td>\n",
       "    </tr>\n",
       "    <tr>\n",
       "      <th>1</th>\n",
       "      <td>0</td>\n",
       "      <td>1</td>\n",
       "      <td>1</td>\n",
       "    </tr>\n",
       "    <tr>\n",
       "      <th>2</th>\n",
       "      <td>1</td>\n",
       "      <td>0</td>\n",
       "      <td>1</td>\n",
       "    </tr>\n",
       "    <tr>\n",
       "      <th>3</th>\n",
       "      <td>1</td>\n",
       "      <td>1</td>\n",
       "      <td>0</td>\n",
       "    </tr>\n",
       "  </tbody>\n",
       "</table>\n",
       "</div>"
      ],
      "text/plain": [
       "   0  1  2\n",
       "0  0  0  0\n",
       "1  0  1  1\n",
       "2  1  0  1\n",
       "3  1  1  0"
      ]
     },
     "execution_count": 38,
     "metadata": {},
     "output_type": "execute_result"
    }
   ],
   "source": [
    "df = pd.DataFrame(data)\n",
    "df"
   ]
  },
  {
   "cell_type": "code",
   "execution_count": 39,
   "id": "5735daa9",
   "metadata": {
    "ExecuteTime": {
     "end_time": "2022-03-26T11:37:05.338229Z",
     "start_time": "2022-03-26T11:37:05.325229Z"
    }
   },
   "outputs": [
    {
     "data": {
      "text/plain": [
       "0    0\n",
       "1    1\n",
       "2    1\n",
       "3    0\n",
       "Name: 2, dtype: int64"
      ]
     },
     "execution_count": 39,
     "metadata": {},
     "output_type": "execute_result"
    }
   ],
   "source": [
    "X = df[[0,1]]\n",
    "X\n",
    "y = df[2]\n",
    "y"
   ]
  },
  {
   "cell_type": "code",
   "execution_count": 40,
   "id": "df7cce79",
   "metadata": {
    "ExecuteTime": {
     "end_time": "2022-03-26T11:37:05.353228Z",
     "start_time": "2022-03-26T11:37:05.339229Z"
    }
   },
   "outputs": [
    {
     "data": {
      "text/plain": [
       "SVC()"
      ]
     },
     "execution_count": 40,
     "metadata": {},
     "output_type": "execute_result"
    }
   ],
   "source": [
    "model = SVC()\n",
    "model.fit(X, y)"
   ]
  },
  {
   "cell_type": "code",
   "execution_count": 41,
   "id": "3d46792e",
   "metadata": {
    "ExecuteTime": {
     "end_time": "2022-03-26T11:37:05.368230Z",
     "start_time": "2022-03-26T11:37:05.354229Z"
    }
   },
   "outputs": [
    {
     "data": {
      "text/plain": [
       "array([0, 1, 1, 0], dtype=int64)"
      ]
     },
     "execution_count": 41,
     "metadata": {},
     "output_type": "execute_result"
    }
   ],
   "source": [
    "model.predict(X)"
   ]
  },
  {
   "cell_type": "code",
   "execution_count": 42,
   "id": "cf1774fe",
   "metadata": {
    "ExecuteTime": {
     "end_time": "2022-03-26T11:37:05.383284Z",
     "start_time": "2022-03-26T11:37:05.369231Z"
    }
   },
   "outputs": [
    {
     "data": {
      "text/plain": [
       "array([0, 1], dtype=int64)"
      ]
     },
     "execution_count": 42,
     "metadata": {},
     "output_type": "execute_result"
    }
   ],
   "source": [
    "model.predict([[0,0], [1,0]])"
   ]
  },
  {
   "cell_type": "code",
   "execution_count": 43,
   "id": "b9ab5cb6",
   "metadata": {
    "ExecuteTime": {
     "end_time": "2022-03-26T11:37:05.398269Z",
     "start_time": "2022-03-26T11:37:05.384270Z"
    }
   },
   "outputs": [
    {
     "name": "stdout",
     "output_type": "stream",
     "text": [
      "정답률은? 100.0 %\n"
     ]
    }
   ],
   "source": [
    "result = accuracy_score(y_true = y, y_pred= model.predict(X))\n",
    "print(f'정답률은? {result*100} %')"
   ]
  },
  {
   "cell_type": "code",
   "execution_count": 44,
   "id": "402fc625",
   "metadata": {
    "ExecuteTime": {
     "end_time": "2022-03-26T11:37:05.413228Z",
     "start_time": "2022-03-26T11:37:05.399301Z"
    }
   },
   "outputs": [],
   "source": [
    "import sklearn\n",
    "\n",
    "from sklearn.metrics import accuracy_score, mean_squared_error\n",
    "\n",
    "from sklearn.neighbors import KNeighborsClassifier"
   ]
  },
  {
   "cell_type": "markdown",
   "id": "2bd956f0",
   "metadata": {},
   "source": [
    "## kNN\n",
    "\n",
    "- k-최근접 이웃 알고리즘\n",
    "- 새로운 데이터를 입력받았을때 가장 가까이 있는 것은 무엇일까?\n",
    "\n",
    "<img src='https://img1.daumcdn.net/thumb/R720x0.q80/?scode=mtistory2&fname=http%3A%2F%2Fcfile28.uf.tistory.com%2Fimage%2F99631D335A165F182D00A7'>"
   ]
  },
  {
   "cell_type": "markdown",
   "id": "48a33e6e",
   "metadata": {},
   "source": [
    "## 생선 분류 문제\n",
    "\n",
    "- 출처 : https://www.kaggle.com/aungpyaeap/fish-market\n",
    "\n",
    "```\n",
    "1) 데이터 준비 \n",
    "    도미와 방어의 길이와 무게 \n",
    "    X, y \n",
    "2) 모델 생성 : KNeighborsClassifier\n",
    "3) 모델 학습 fit()\n",
    "4) 평가 score()\n",
    "5) 예측 predict()\n",
    "```"
   ]
  },
  {
   "cell_type": "markdown",
   "id": "d85217f6",
   "metadata": {},
   "source": [
    "### 도미 데이터 준비하기"
   ]
  },
  {
   "cell_type": "code",
   "execution_count": 45,
   "id": "92dc6c8c",
   "metadata": {
    "ExecuteTime": {
     "end_time": "2022-03-26T11:37:05.428228Z",
     "start_time": "2022-03-26T11:37:05.414230Z"
    }
   },
   "outputs": [],
   "source": [
    "bream_length = [25.4, 26.3, 26.5, 29.0, 29.0, 29.7, 29.7, 30.0, 30.0, 30.7, 31.0, 31.0, 31.5, 32.0, 32.0, 32.0, 33.0, 33.0, 33.5, 33.5, 34.0, 34.0, 34.5, 35.0, 35.0, 35.0, 35.0, 36.0, 36.0, 37.0, 38.5, 38.5, 39.5, 41.0, 41.0]\n",
    "bream_weight = [242.0, 290.0, 340.0, 363.0, 430.0, 450.0, 500.0, 390.0, 450.0, 500.0, 475.0, 500.0, 500.0, 340.0, 600.0, 600.0, 700.0, 700.0, 610.0, 650.0, 575.0, 685.0, 620.0, 680.0, 700.0, 725.0, 720.0, 714.0, 850.0, 1000.0, 920.0, 955.0, 925.0, 975.0, 950.0]"
   ]
  },
  {
   "cell_type": "code",
   "execution_count": 46,
   "id": "bbb693d4",
   "metadata": {
    "ExecuteTime": {
     "end_time": "2022-03-26T11:37:05.443291Z",
     "start_time": "2022-03-26T11:37:05.429230Z"
    }
   },
   "outputs": [
    {
     "data": {
      "text/plain": [
       "(35, 35)"
      ]
     },
     "execution_count": 46,
     "metadata": {},
     "output_type": "execute_result"
    }
   ],
   "source": [
    "len(bream_length),len(bream_weight)"
   ]
  },
  {
   "cell_type": "code",
   "execution_count": 47,
   "id": "e18460ec",
   "metadata": {
    "ExecuteTime": {
     "end_time": "2022-03-26T11:37:05.563282Z",
     "start_time": "2022-03-26T11:37:05.445239Z"
    }
   },
   "outputs": [
    {
     "data": {
      "image/png": "[encoded data removed]",
      "text/plain": [
       "<Figure size 720x720 with 1 Axes>"
      ]
     },
     "metadata": {},
     "output_type": "display_data"
    }
   ],
   "source": [
    "plt.figure(figsize=(10,10))\n",
    "plt.scatter(bream_length, bream_weight)\n",
    "plt.xlabel('length')\n",
    "plt.ylabel('weight')\n",
    "plt.show()"
   ]
  },
  {
   "cell_type": "markdown",
   "id": "cc243204",
   "metadata": {},
   "source": [
    "### 빙어 데이터 \n",
    "\n"
   ]
  },
  {
   "cell_type": "code",
   "execution_count": 48,
   "id": "227ed831",
   "metadata": {
    "ExecuteTime": {
     "end_time": "2022-03-26T11:37:05.668229Z",
     "start_time": "2022-03-26T11:37:05.564270Z"
    }
   },
   "outputs": [
    {
     "data": {
      "image/png": "[encoded data removed]",
      "text/plain": [
       "<Figure size 720x720 with 1 Axes>"
      ]
     },
     "metadata": {},
     "output_type": "display_data"
    }
   ],
   "source": [
    "smelt_length = [9.8, 10.5, 10.6, 11.0, 11.2, 11.3, 11.8, 11.8, 12.0, 12.2, 12.4, 13.0, 14.3, 15.0]\n",
    "smelt_weight = [6.7, 7.5, 7.0, 9.7, 9.8, 8.7, 10.0, 9.9, 9.8, 12.2, 13.4, 12.2, 19.7, 19.9]\n",
    "plt.figure(figsize=(10,10))\n",
    "plt.scatter(smelt_length, smelt_weight)\n",
    "plt.xlabel('length')\n",
    "plt.ylabel('weight')\n",
    "plt.show()"
   ]
  },
  {
   "cell_type": "code",
   "execution_count": 49,
   "id": "dddabb66",
   "metadata": {
    "ExecuteTime": {
     "end_time": "2022-03-26T11:37:05.788269Z",
     "start_time": "2022-03-26T11:37:05.669229Z"
    }
   },
   "outputs": [
    {
     "data": {
      "image/png": "[encoded data removed]",
      "text/plain": [
       "<Figure size 720x720 with 1 Axes>"
      ]
     },
     "metadata": {},
     "output_type": "display_data"
    }
   ],
   "source": [
    "plt.figure(figsize=(10,10))\n",
    "plt.scatter(bream_length, bream_weight)\n",
    "plt.scatter(smelt_length, smelt_weight)\n",
    "plt.xlabel('length')\n",
    "plt.ylabel('weight')\n",
    "plt.show()"
   ]
  },
  {
   "cell_type": "code",
   "execution_count": 50,
   "id": "38a083fc",
   "metadata": {
    "ExecuteTime": {
     "end_time": "2022-03-26T11:37:05.803229Z",
     "start_time": "2022-03-26T11:37:05.789301Z"
    }
   },
   "outputs": [
    {
     "name": "stdout",
     "output_type": "stream",
     "text": [
      " 49 행 2 열\n"
     ]
    },
    {
     "data": {
      "text/plain": [
       "[[25.4, 242.0],\n",
       " [26.3, 290.0],\n",
       " [26.5, 340.0],\n",
       " [29.0, 363.0],\n",
       " [29.0, 430.0],\n",
       " [29.7, 450.0],\n",
       " [29.7, 500.0],\n",
       " [30.0, 390.0],\n",
       " [30.0, 450.0],\n",
       " [30.7, 500.0],\n",
       " [31.0, 475.0],\n",
       " [31.0, 500.0],\n",
       " [31.5, 500.0],\n",
       " [32.0, 340.0],\n",
       " [32.0, 600.0],\n",
       " [32.0, 600.0],\n",
       " [33.0, 700.0],\n",
       " [33.0, 700.0],\n",
       " [33.5, 610.0],\n",
       " [33.5, 650.0],\n",
       " [34.0, 575.0],\n",
       " [34.0, 685.0],\n",
       " [34.5, 620.0],\n",
       " [35.0, 680.0],\n",
       " [35.0, 700.0],\n",
       " [35.0, 725.0],\n",
       " [35.0, 720.0],\n",
       " [36.0, 714.0],\n",
       " [36.0, 850.0],\n",
       " [37.0, 1000.0],\n",
       " [38.5, 920.0],\n",
       " [38.5, 955.0],\n",
       " [39.5, 925.0],\n",
       " [41.0, 975.0],\n",
       " [41.0, 950.0],\n",
       " [9.8, 6.7],\n",
       " [10.5, 7.5],\n",
       " [10.6, 7.0],\n",
       " [11.0, 9.7],\n",
       " [11.2, 9.8],\n",
       " [11.3, 8.7],\n",
       " [11.8, 10.0],\n",
       " [11.8, 9.9],\n",
       " [12.0, 9.8],\n",
       " [12.2, 12.2],\n",
       " [12.4, 13.4],\n",
       " [13.0, 12.2],\n",
       " [14.3, 19.7],\n",
       " [15.0, 19.9]]"
      ]
     },
     "execution_count": 50,
     "metadata": {},
     "output_type": "execute_result"
    }
   ],
   "source": [
    "# 리스트 버전 \n",
    "# 빙어, 도미의 길이 데이타와 무게를 하나의 리스트로 각각 합치기 \n",
    "\n",
    "length = bream_length+smelt_length\n",
    "weight = bream_weight+smelt_weight\n",
    "\n",
    "# zip() 함수를 이용하여 2차원 리스트로 합치기 \n",
    "fish_data = [[l, w] for l, w in zip(length, weight)]\n",
    "\n",
    "# print(fish_data)\n",
    "print(f' {len(fish_data)} 행 {len(fish_data[0])} 열' )\n",
    "\n",
    "# 생선(도미, 빙어)의 길이와 무게 \n",
    "# for i, j in fish_data:\n",
    "#     print(i, j)\n",
    "fish_data"
   ]
  },
  {
   "cell_type": "code",
   "execution_count": 51,
   "id": "c045cf58",
   "metadata": {
    "ExecuteTime": {
     "end_time": "2022-03-26T11:37:05.818230Z",
     "start_time": "2022-03-26T11:37:05.805231Z"
    }
   },
   "outputs": [
    {
     "name": "stdout",
     "output_type": "stream",
     "text": [
      "(49, 1) (49, 1)\n",
      "(49, 2)\n",
      "25.4 25.4\n",
      "26.3 26.3\n",
      "26.5 26.5\n",
      "29.0 29.0\n",
      "29.0 29.0\n",
      "29.7 29.7\n",
      "29.7 29.7\n",
      "30.0 30.0\n",
      "30.0 30.0\n",
      "30.7 30.7\n",
      "31.0 31.0\n",
      "31.0 31.0\n",
      "31.5 31.5\n",
      "32.0 32.0\n",
      "32.0 32.0\n",
      "32.0 32.0\n",
      "33.0 33.0\n",
      "33.0 33.0\n",
      "33.5 33.5\n",
      "33.5 33.5\n",
      "34.0 34.0\n",
      "34.0 34.0\n",
      "34.5 34.5\n",
      "35.0 35.0\n",
      "35.0 35.0\n",
      "35.0 35.0\n",
      "35.0 35.0\n",
      "36.0 36.0\n",
      "36.0 36.0\n",
      "37.0 37.0\n",
      "38.5 38.5\n",
      "38.5 38.5\n",
      "39.5 39.5\n",
      "41.0 41.0\n",
      "41.0 41.0\n",
      "9.8 9.8\n",
      "10.5 10.5\n",
      "10.6 10.6\n",
      "11.0 11.0\n",
      "11.2 11.2\n",
      "11.3 11.3\n",
      "11.8 11.8\n",
      "11.8 11.8\n",
      "12.0 12.0\n",
      "12.2 12.2\n",
      "12.4 12.4\n",
      "13.0 13.0\n",
      "14.3 14.3\n",
      "15.0 15.0\n"
     ]
    }
   ],
   "source": [
    "# 넘파이 배열 버전 \n",
    "arr_length = np.array(bream_length+smelt_length).reshape(-1,1)\n",
    "arr_weight = np.array(bream_length+smelt_length).reshape(-1,1)\n",
    "print(arr_length.shape, arr_weight.shape)\n",
    "\n",
    "arr_fish = np.hstack((arr_length, arr_weight))\n",
    "print(arr_fish.shape)\n",
    "for i, j in arr_fish:\n",
    "    print(i, j)"
   ]
  },
  {
   "cell_type": "code",
   "execution_count": 52,
   "id": "c2e515df",
   "metadata": {
    "ExecuteTime": {
     "end_time": "2022-03-26T11:37:05.848232Z",
     "start_time": "2022-03-26T11:37:05.823239Z"
    }
   },
   "outputs": [
    {
     "name": "stdout",
     "output_type": "stream",
     "text": [
      "(49, 2)\n"
     ]
    },
    {
     "data": {
      "text/html": [
       "<div>\n",
       "<style scoped>\n",
       "    .dataframe tbody tr th:only-of-type {\n",
       "        vertical-align: middle;\n",
       "    }\n",
       "\n",
       "    .dataframe tbody tr th {\n",
       "        vertical-align: top;\n",
       "    }\n",
       "\n",
       "    .dataframe thead th {\n",
       "        text-align: right;\n",
       "    }\n",
       "</style>\n",
       "<table border=\"1\" class=\"dataframe\">\n",
       "  <thead>\n",
       "    <tr style=\"text-align: right;\">\n",
       "      <th></th>\n",
       "      <th>length</th>\n",
       "      <th>weight</th>\n",
       "    </tr>\n",
       "  </thead>\n",
       "  <tbody>\n",
       "    <tr>\n",
       "      <th>0</th>\n",
       "      <td>25.4</td>\n",
       "      <td>242.0</td>\n",
       "    </tr>\n",
       "    <tr>\n",
       "      <th>1</th>\n",
       "      <td>26.3</td>\n",
       "      <td>290.0</td>\n",
       "    </tr>\n",
       "    <tr>\n",
       "      <th>2</th>\n",
       "      <td>26.5</td>\n",
       "      <td>340.0</td>\n",
       "    </tr>\n",
       "    <tr>\n",
       "      <th>3</th>\n",
       "      <td>29.0</td>\n",
       "      <td>363.0</td>\n",
       "    </tr>\n",
       "    <tr>\n",
       "      <th>4</th>\n",
       "      <td>29.0</td>\n",
       "      <td>430.0</td>\n",
       "    </tr>\n",
       "    <tr>\n",
       "      <th>5</th>\n",
       "      <td>29.7</td>\n",
       "      <td>450.0</td>\n",
       "    </tr>\n",
       "    <tr>\n",
       "      <th>6</th>\n",
       "      <td>29.7</td>\n",
       "      <td>500.0</td>\n",
       "    </tr>\n",
       "    <tr>\n",
       "      <th>7</th>\n",
       "      <td>30.0</td>\n",
       "      <td>390.0</td>\n",
       "    </tr>\n",
       "    <tr>\n",
       "      <th>8</th>\n",
       "      <td>30.0</td>\n",
       "      <td>450.0</td>\n",
       "    </tr>\n",
       "    <tr>\n",
       "      <th>9</th>\n",
       "      <td>30.7</td>\n",
       "      <td>500.0</td>\n",
       "    </tr>\n",
       "    <tr>\n",
       "      <th>10</th>\n",
       "      <td>31.0</td>\n",
       "      <td>475.0</td>\n",
       "    </tr>\n",
       "    <tr>\n",
       "      <th>11</th>\n",
       "      <td>31.0</td>\n",
       "      <td>500.0</td>\n",
       "    </tr>\n",
       "    <tr>\n",
       "      <th>12</th>\n",
       "      <td>31.5</td>\n",
       "      <td>500.0</td>\n",
       "    </tr>\n",
       "    <tr>\n",
       "      <th>13</th>\n",
       "      <td>32.0</td>\n",
       "      <td>340.0</td>\n",
       "    </tr>\n",
       "    <tr>\n",
       "      <th>14</th>\n",
       "      <td>32.0</td>\n",
       "      <td>600.0</td>\n",
       "    </tr>\n",
       "    <tr>\n",
       "      <th>15</th>\n",
       "      <td>32.0</td>\n",
       "      <td>600.0</td>\n",
       "    </tr>\n",
       "    <tr>\n",
       "      <th>16</th>\n",
       "      <td>33.0</td>\n",
       "      <td>700.0</td>\n",
       "    </tr>\n",
       "    <tr>\n",
       "      <th>17</th>\n",
       "      <td>33.0</td>\n",
       "      <td>700.0</td>\n",
       "    </tr>\n",
       "    <tr>\n",
       "      <th>18</th>\n",
       "      <td>33.5</td>\n",
       "      <td>610.0</td>\n",
       "    </tr>\n",
       "    <tr>\n",
       "      <th>19</th>\n",
       "      <td>33.5</td>\n",
       "      <td>650.0</td>\n",
       "    </tr>\n",
       "    <tr>\n",
       "      <th>20</th>\n",
       "      <td>34.0</td>\n",
       "      <td>575.0</td>\n",
       "    </tr>\n",
       "    <tr>\n",
       "      <th>21</th>\n",
       "      <td>34.0</td>\n",
       "      <td>685.0</td>\n",
       "    </tr>\n",
       "    <tr>\n",
       "      <th>22</th>\n",
       "      <td>34.5</td>\n",
       "      <td>620.0</td>\n",
       "    </tr>\n",
       "    <tr>\n",
       "      <th>23</th>\n",
       "      <td>35.0</td>\n",
       "      <td>680.0</td>\n",
       "    </tr>\n",
       "    <tr>\n",
       "      <th>24</th>\n",
       "      <td>35.0</td>\n",
       "      <td>700.0</td>\n",
       "    </tr>\n",
       "    <tr>\n",
       "      <th>25</th>\n",
       "      <td>35.0</td>\n",
       "      <td>725.0</td>\n",
       "    </tr>\n",
       "    <tr>\n",
       "      <th>26</th>\n",
       "      <td>35.0</td>\n",
       "      <td>720.0</td>\n",
       "    </tr>\n",
       "    <tr>\n",
       "      <th>27</th>\n",
       "      <td>36.0</td>\n",
       "      <td>714.0</td>\n",
       "    </tr>\n",
       "    <tr>\n",
       "      <th>28</th>\n",
       "      <td>36.0</td>\n",
       "      <td>850.0</td>\n",
       "    </tr>\n",
       "    <tr>\n",
       "      <th>29</th>\n",
       "      <td>37.0</td>\n",
       "      <td>1000.0</td>\n",
       "    </tr>\n",
       "    <tr>\n",
       "      <th>30</th>\n",
       "      <td>38.5</td>\n",
       "      <td>920.0</td>\n",
       "    </tr>\n",
       "    <tr>\n",
       "      <th>31</th>\n",
       "      <td>38.5</td>\n",
       "      <td>955.0</td>\n",
       "    </tr>\n",
       "    <tr>\n",
       "      <th>32</th>\n",
       "      <td>39.5</td>\n",
       "      <td>925.0</td>\n",
       "    </tr>\n",
       "    <tr>\n",
       "      <th>33</th>\n",
       "      <td>41.0</td>\n",
       "      <td>975.0</td>\n",
       "    </tr>\n",
       "    <tr>\n",
       "      <th>34</th>\n",
       "      <td>41.0</td>\n",
       "      <td>950.0</td>\n",
       "    </tr>\n",
       "    <tr>\n",
       "      <th>35</th>\n",
       "      <td>9.8</td>\n",
       "      <td>6.7</td>\n",
       "    </tr>\n",
       "    <tr>\n",
       "      <th>36</th>\n",
       "      <td>10.5</td>\n",
       "      <td>7.5</td>\n",
       "    </tr>\n",
       "    <tr>\n",
       "      <th>37</th>\n",
       "      <td>10.6</td>\n",
       "      <td>7.0</td>\n",
       "    </tr>\n",
       "    <tr>\n",
       "      <th>38</th>\n",
       "      <td>11.0</td>\n",
       "      <td>9.7</td>\n",
       "    </tr>\n",
       "    <tr>\n",
       "      <th>39</th>\n",
       "      <td>11.2</td>\n",
       "      <td>9.8</td>\n",
       "    </tr>\n",
       "    <tr>\n",
       "      <th>40</th>\n",
       "      <td>11.3</td>\n",
       "      <td>8.7</td>\n",
       "    </tr>\n",
       "    <tr>\n",
       "      <th>41</th>\n",
       "      <td>11.8</td>\n",
       "      <td>10.0</td>\n",
       "    </tr>\n",
       "    <tr>\n",
       "      <th>42</th>\n",
       "      <td>11.8</td>\n",
       "      <td>9.9</td>\n",
       "    </tr>\n",
       "    <tr>\n",
       "      <th>43</th>\n",
       "      <td>12.0</td>\n",
       "      <td>9.8</td>\n",
       "    </tr>\n",
       "    <tr>\n",
       "      <th>44</th>\n",
       "      <td>12.2</td>\n",
       "      <td>12.2</td>\n",
       "    </tr>\n",
       "    <tr>\n",
       "      <th>45</th>\n",
       "      <td>12.4</td>\n",
       "      <td>13.4</td>\n",
       "    </tr>\n",
       "    <tr>\n",
       "      <th>46</th>\n",
       "      <td>13.0</td>\n",
       "      <td>12.2</td>\n",
       "    </tr>\n",
       "    <tr>\n",
       "      <th>47</th>\n",
       "      <td>14.3</td>\n",
       "      <td>19.7</td>\n",
       "    </tr>\n",
       "    <tr>\n",
       "      <th>48</th>\n",
       "      <td>15.0</td>\n",
       "      <td>19.9</td>\n",
       "    </tr>\n",
       "  </tbody>\n",
       "</table>\n",
       "</div>"
      ],
      "text/plain": [
       "    length  weight\n",
       "0     25.4   242.0\n",
       "1     26.3   290.0\n",
       "2     26.5   340.0\n",
       "3     29.0   363.0\n",
       "4     29.0   430.0\n",
       "5     29.7   450.0\n",
       "6     29.7   500.0\n",
       "7     30.0   390.0\n",
       "8     30.0   450.0\n",
       "9     30.7   500.0\n",
       "10    31.0   475.0\n",
       "11    31.0   500.0\n",
       "12    31.5   500.0\n",
       "13    32.0   340.0\n",
       "14    32.0   600.0\n",
       "15    32.0   600.0\n",
       "16    33.0   700.0\n",
       "17    33.0   700.0\n",
       "18    33.5   610.0\n",
       "19    33.5   650.0\n",
       "20    34.0   575.0\n",
       "21    34.0   685.0\n",
       "22    34.5   620.0\n",
       "23    35.0   680.0\n",
       "24    35.0   700.0\n",
       "25    35.0   725.0\n",
       "26    35.0   720.0\n",
       "27    36.0   714.0\n",
       "28    36.0   850.0\n",
       "29    37.0  1000.0\n",
       "30    38.5   920.0\n",
       "31    38.5   955.0\n",
       "32    39.5   925.0\n",
       "33    41.0   975.0\n",
       "34    41.0   950.0\n",
       "35     9.8     6.7\n",
       "36    10.5     7.5\n",
       "37    10.6     7.0\n",
       "38    11.0     9.7\n",
       "39    11.2     9.8\n",
       "40    11.3     8.7\n",
       "41    11.8    10.0\n",
       "42    11.8     9.9\n",
       "43    12.0     9.8\n",
       "44    12.2    12.2\n",
       "45    12.4    13.4\n",
       "46    13.0    12.2\n",
       "47    14.3    19.7\n",
       "48    15.0    19.9"
      ]
     },
     "execution_count": 52,
     "metadata": {},
     "output_type": "execute_result"
    }
   ],
   "source": [
    "df_fish = pd.DataFrame(columns=['length', 'weight'])\n",
    "df_fish['length']=length\n",
    "df_fish['weight']=weight\n",
    "print(df_fish.shape)\n",
    "df_fish "
   ]
  },
  {
   "cell_type": "code",
   "execution_count": 53,
   "id": "3aa303d8",
   "metadata": {
    "ExecuteTime": {
     "end_time": "2022-03-26T11:37:05.863228Z",
     "start_time": "2022-03-26T11:37:05.850230Z"
    }
   },
   "outputs": [
    {
     "ename": "SyntaxError",
     "evalue": "invalid syntax (Temp/ipykernel_12516/2796626931.py, line 3)",
     "output_type": "error",
     "traceback": [
      "\u001b[1;36m  File \u001b[1;32m\"C:\\Users\\TFG507~1\\AppData\\Local\\Temp/ipykernel_12516/2796626931.py\"\u001b[1;36m, line \u001b[1;32m3\u001b[0m\n\u001b[1;33m    - model_kn._fit_X : 학습데이타 X\u001b[0m\n\u001b[1;37m                              ^\u001b[0m\n\u001b[1;31mSyntaxError\u001b[0m\u001b[1;31m:\u001b[0m invalid syntax\n"
     ]
    }
   ],
   "source": [
    "# k-최근접 이웃 알고리즘\n",
    "\n",
    "- model_kn._fit_X : 학습데이타 X\n",
    "- model_kn._y : 정답지, 학습데이타 y"
   ]
  },
  {
   "cell_type": "code",
   "execution_count": null,
   "id": "ca8320f3",
   "metadata": {
    "ExecuteTime": {
     "end_time": "2022-03-26T11:37:05.869229Z",
     "start_time": "2022-03-26T11:37:05.869229Z"
    }
   },
   "outputs": [],
   "source": [
    "from sklearn.neighbors import KNeighborsClassifier\n",
    "model_kn = KNeighborsClassifier()"
   ]
  },
  {
   "cell_type": "code",
   "execution_count": null,
   "id": "99cf8264",
   "metadata": {
    "ExecuteTime": {
     "end_time": "2022-03-26T11:37:05.870229Z",
     "start_time": "2022-03-26T11:37:05.870229Z"
    }
   },
   "outputs": [],
   "source": [
    "y = [1]*35 + [0]*14   # 도미 1    빙어  0\n",
    "print(y)"
   ]
  },
  {
   "cell_type": "code",
   "execution_count": null,
   "id": "3cfb3658",
   "metadata": {
    "ExecuteTime": {
     "end_time": "2022-03-26T11:37:05.871228Z",
     "start_time": "2022-03-26T11:37:05.871228Z"
    }
   },
   "outputs": [],
   "source": [
    "# fish_data = [[l, w] for l, w in zip(length, weight)]\n",
    "model_kn.fit(fish_data, y)"
   ]
  },
  {
   "cell_type": "code",
   "execution_count": null,
   "id": "26d81d99",
   "metadata": {
    "ExecuteTime": {
     "end_time": "2022-03-26T11:37:05.872231Z",
     "start_time": "2022-03-26T11:37:05.872231Z"
    }
   },
   "outputs": [],
   "source": [
    "model_kn.score(fish_data, y)"
   ]
  },
  {
   "cell_type": "code",
   "execution_count": null,
   "id": "51ef57a3",
   "metadata": {
    "ExecuteTime": {
     "end_time": "2022-03-26T11:37:05.873229Z",
     "start_time": "2022-03-26T11:37:05.873229Z"
    }
   },
   "outputs": [],
   "source": [
    "# 38.5길이  920 무게의 데이터는 ? \n",
    "model_kn.predict([[38.5, 920.0]])  # 결과 예측 => 1  도미\n"
   ]
  },
  {
   "cell_type": "code",
   "execution_count": null,
   "id": "ba887c89",
   "metadata": {
    "ExecuteTime": {
     "end_time": "2022-03-26T11:37:05.874233Z",
     "start_time": "2022-03-26T11:37:05.874233Z"
    }
   },
   "outputs": [],
   "source": [
    "plt.scatter(bream_length, bream_weight)\n",
    "plt.scatter(smelt_length, smelt_weight)\n",
    "\n",
    "plt.scatter(30, 600, marker='^')\n",
    "plt.xlabel('length')\n",
    "plt.ylabel('weight')\n",
    "plt.show()"
   ]
  },
  {
   "cell_type": "markdown",
   "id": "599b5b98",
   "metadata": {},
   "source": [
    "##### k-최근접 이웃 알고리즘의 매개변수 하이퍼파라미터를 변경하여 보자 "
   ]
  },
  {
   "cell_type": "code",
   "execution_count": null,
   "id": "78ddd69c",
   "metadata": {
    "ExecuteTime": {
     "end_time": "2022-03-26T11:37:05.875230Z",
     "start_time": "2022-03-26T11:37:05.875230Z"
    }
   },
   "outputs": [],
   "source": [
    "model_kn49 = KNeighborsClassifier(n_neighbors=49)\n",
    "model_kn49.fit(fish_data,y)\n",
    "model_kn49.score(fish_data, y)"
   ]
  },
  {
   "cell_type": "markdown",
   "id": "b57272e2",
   "metadata": {},
   "source": [
    "```\n",
    "\n",
    "k-최근접 이웃 알고리즘에서 이웃의 갯수 kn.n_neighbors\n",
    "\n",
    "\n",
    "파라미터를 5~49까지 변경하여 score() 점수가 1.0 아래로 내려가기 시작하는 이웃의 갯수를 찾아라 \n",
    "```"
   ]
  },
  {
   "cell_type": "code",
   "execution_count": null,
   "id": "53206b82",
   "metadata": {
    "ExecuteTime": {
     "end_time": "2022-03-26T11:37:05.876230Z",
     "start_time": "2022-03-26T11:37:05.876230Z"
    }
   },
   "outputs": [],
   "source": [
    "\n",
    "model_kn = KNeighborsClassifier()\n",
    "model_kn.fit(fish_data, y)\n",
    "\n",
    "for n in range(5, 50):\n",
    "    # 최근접 이웃 개수 설정\n",
    "    # 모델명.파라미터 = 값 \n",
    "    model_kn.n_neighbors = n\n",
    "    # 점수 계산\n",
    "    score = model_kn.score(fish_data, y)\n",
    "    print(f'n={n}, score={score}')\n",
    "    \n",
    "    # 100% 정확도에 미치지 못하는 이웃 개수 출력\n",
    "    if score < 1:\n",
    "        print(f'\\n\\n 100% 정확도에 미치지 못하는 이웃 개수 n={n}, score={score}')\n",
    "        break"
   ]
  },
  {
   "cell_type": "markdown",
   "id": "d8bf7beb",
   "metadata": {},
   "source": [
    "## 훈련 세트와 테스트 세트\n",
    "\n",
    "- 지도학습 Supervied learning : 입력과 타깃이 모두 있음\n",
    "- 비지도학습 Unsupervied learning : 입력만 있음 \n",
    "\n",
    "- 훈련데이타 = 입력 + 타깃 \n",
    "\n",
    "- 머신러닝 알고리즘의 평가를 제대로 평가하려면 훈련 데이터와 평가에 사용할 데이터가 각각 달라야한다. \n",
    "- 평가를 위한 또 다른 데이터를 준비하거나 이미 준비된 데이타중에서 일부를 떼어 내어 활용한다. \n",
    "- 테스트 세트 test set : 평가에 사용하는 데이타.\n",
    "- 훈련 세트 traing set : 훈련에 사용되는 데이타.  "
   ]
  },
  {
   "cell_type": "markdown",
   "id": "f81639e6",
   "metadata": {},
   "source": [
    "###  데이타수집 \n",
    "\n",
    "- http://bit.ly/bream_smelt"
   ]
  },
  {
   "cell_type": "code",
   "execution_count": 55,
   "id": "c6619290",
   "metadata": {
    "ExecuteTime": {
     "end_time": "2022-03-26T11:37:52.260107Z",
     "start_time": "2022-03-26T11:37:52.240109Z"
    }
   },
   "outputs": [
    {
     "data": {
      "text/plain": [
       "(49, 49)"
      ]
     },
     "execution_count": 55,
     "metadata": {},
     "output_type": "execute_result"
    }
   ],
   "source": [
    "fish_length = [25.4, 26.3, 26.5, 29.0, 29.0, 29.7, 29.7, 30.0, 30.0, 30.7, 31.0, 31.0, \n",
    "                31.5, 32.0, 32.0, 32.0, 33.0, 33.0, 33.5, 33.5, 34.0, 34.0, 34.5, 35.0, \n",
    "                35.0, 35.0, 35.0, 36.0, 36.0, 37.0, 38.5, 38.5, 39.5, 41.0, 41.0, 9.8, \n",
    "                10.5, 10.6, 11.0, 11.2, 11.3, 11.8, 11.8, 12.0, 12.2, 12.4, 13.0, 14.3, 15.0]\n",
    "fish_weight = [242.0, 290.0, 340.0, 363.0, 430.0, 450.0, 500.0, 390.0, 450.0, 500.0, 475.0, 500.0, \n",
    "                500.0, 340.0, 600.0, 600.0, 700.0, 700.0, 610.0, 650.0, 575.0, 685.0, 620.0, 680.0, \n",
    "                700.0, 725.0, 720.0, 714.0, 850.0, 1000.0, 920.0, 955.0, 925.0, 975.0, 950.0, 6.7, \n",
    "                7.5, 7.0, 9.7, 9.8, 8.7, 10.0, 9.9, 9.8, 12.2, 13.4, 12.2, 19.7, 19.9]\n",
    "\n",
    "len(fish_length), len(fish_weight) # 물고기 길이, 무게 "
   ]
  },
  {
   "cell_type": "code",
   "execution_count": 56,
   "id": "0094577b",
   "metadata": {
    "ExecuteTime": {
     "end_time": "2022-03-26T11:37:52.517028Z",
     "start_time": "2022-03-26T11:37:52.500031Z"
    }
   },
   "outputs": [],
   "source": [
    "\n",
    "fish_data = [[l, w] for l, w in zip(fish_length, fish_weight)]\n",
    "fish_target = [1]*35 + [0]*14"
   ]
  },
  {
   "cell_type": "markdown",
   "id": "4b8bb0b2",
   "metadata": {},
   "source": [
    "### 훈련데이터, 테스트데이터 분리하여 모델 생성 및 테스트"
   ]
  },
  {
   "cell_type": "code",
   "execution_count": 72,
   "id": "bf1b3222",
   "metadata": {
    "ExecuteTime": {
     "end_time": "2022-03-26T11:42:19.956762Z",
     "start_time": "2022-03-26T11:42:19.940814Z"
    }
   },
   "outputs": [
    {
     "name": "stdout",
     "output_type": "stream",
     "text": [
      "[[25.4, 242.0], [26.3, 290.0], [26.5, 340.0], [29.0, 363.0], [29.0, 430.0]]\n",
      "[[12.2, 12.2], [12.4, 13.4], [13.0, 12.2], [14.3, 19.7], [15.0, 19.9]]\n"
     ]
    }
   ],
   "source": [
    "from sklearn.neighbors import KNeighborsClassifier\n",
    "\n",
    "model_kn = KNeighborsClassifier()\n",
    "model_kn\n",
    "print(fish_data[:5])\n",
    "print(fish_data[44:])"
   ]
  },
  {
   "cell_type": "code",
   "execution_count": 73,
   "id": "7d101c4d",
   "metadata": {
    "ExecuteTime": {
     "end_time": "2022-03-26T11:42:22.837322Z",
     "start_time": "2022-03-26T11:42:22.831337Z"
    }
   },
   "outputs": [],
   "source": [
    "# 학습용 데이터셋 생성  => 35개\n",
    "\n",
    "X_train = fish_data[:35]\n",
    "y_train = fish_target[:35]\n",
    "\n",
    "# 테스트용 데이터셋 생성 => 14개\n",
    "\n",
    "X_test = fish_data[35:]\n",
    "y_test = fish_target[35:]\n"
   ]
  },
  {
   "cell_type": "markdown",
   "id": "90612e91",
   "metadata": {
    "ExecuteTime": {
     "end_time": "2022-03-26T11:42:30.733648Z",
     "start_time": "2022-03-26T11:42:30.725656Z"
    }
   },
   "source": [
    "##### 샘플링 편향(Sampling bias) \n",
    "\n",
    "훈련세트와 테스트 세트에 샘플이 골고루 섞여있지 않고 샘플링이 한쪽에 치워쳤다 "
   ]
  },
  {
   "cell_type": "code",
   "execution_count": 75,
   "id": "736cf184",
   "metadata": {
    "ExecuteTime": {
     "end_time": "2022-03-26T11:44:18.644527Z",
     "start_time": "2022-03-26T11:44:18.637496Z"
    }
   },
   "outputs": [
    {
     "data": {
      "text/plain": [
       "0.0"
      ]
     },
     "execution_count": 75,
     "metadata": {},
     "output_type": "execute_result"
    }
   ],
   "source": [
    "model_kn = model_kn.fit(X_train, y_train)\n",
    "model_kn.score(X_test, y_test)\n",
    "# 도미\n",
    "# X_train\n",
    "\n",
    "# 빙어\n",
    "# y_train"
   ]
  },
  {
   "cell_type": "markdown",
   "id": "cb6ae4ef",
   "metadata": {},
   "source": [
    "# 편향된 자료를 섞기\n",
    "# 넘파이를 이용한 데이타셋 만들기"
   ]
  },
  {
   "cell_type": "code",
   "execution_count": 76,
   "id": "90647e16",
   "metadata": {
    "ExecuteTime": {
     "end_time": "2022-03-26T11:45:14.407351Z",
     "start_time": "2022-03-26T11:45:14.398351Z"
    }
   },
   "outputs": [],
   "source": [
    "# 넘파이 배열화\n",
    "input_arr = np.array(fish_data)\n",
    "target_arr = np.array(fish_target)"
   ]
  },
  {
   "cell_type": "code",
   "execution_count": 77,
   "id": "bd6a615b",
   "metadata": {
    "ExecuteTime": {
     "end_time": "2022-03-26T11:45:17.099466Z",
     "start_time": "2022-03-26T11:45:17.092452Z"
    }
   },
   "outputs": [
    {
     "name": "stdout",
     "output_type": "stream",
     "text": [
      "(49, 2)\n"
     ]
    }
   ],
   "source": [
    "print(input_arr.shape)"
   ]
  },
  {
   "cell_type": "code",
   "execution_count": 78,
   "id": "f2d73ada",
   "metadata": {
    "ExecuteTime": {
     "end_time": "2022-03-26T11:45:19.530607Z",
     "start_time": "2022-03-26T11:45:19.523627Z"
    }
   },
   "outputs": [
    {
     "name": "stdout",
     "output_type": "stream",
     "text": [
      "[ 0  1  2  3  4  5  6  7  8  9 10 11 12 13 14 15 16 17 18 19 20 21 22 23\n",
      " 24 25 26 27 28 29 30 31 32 33 34 35 36 37 38 39 40 41 42 43 44 45 46 47\n",
      " 48]\n",
      "[13 45 47 44 17 27 26 25 31 19 12  4 34  8  3  6 40 41 46 15  9 16 24 33\n",
      " 30  0 43 32  5 29 11 36  1 21  2 37 35 23 39 10 22 18 48 20  7 42 14 28\n",
      " 38]\n"
     ]
    }
   ],
   "source": [
    "# 랜덤한 인덱스\n",
    "# 랜덤한 숫자 고정시키기\n",
    "np.random.seed(42)   \n",
    "\n",
    "index = np.arange(49)\n",
    "print(index)\n",
    "np.random.shuffle(index)\n",
    "print(index)\n"
   ]
  },
  {
   "cell_type": "code",
   "execution_count": 79,
   "id": "93c803a9",
   "metadata": {
    "ExecuteTime": {
     "end_time": "2022-03-26T11:45:23.229928Z",
     "start_time": "2022-03-26T11:45:23.211928Z"
    }
   },
   "outputs": [
    {
     "data": {
      "text/plain": [
       "array([[ 25.4, 242. ],\n",
       "       [ 26.3, 290. ],\n",
       "       [ 26.5, 340. ],\n",
       "       [ 29. , 363. ],\n",
       "       [ 29. , 430. ]])"
      ]
     },
     "execution_count": 79,
     "metadata": {},
     "output_type": "execute_result"
    }
   ],
   "source": [
    "input_arr[:5]"
   ]
  },
  {
   "cell_type": "code",
   "execution_count": 80,
   "id": "3ce927a7",
   "metadata": {
    "ExecuteTime": {
     "end_time": "2022-03-26T11:45:26.778116Z",
     "start_time": "2022-03-26T11:45:26.772116Z"
    }
   },
   "outputs": [
    {
     "data": {
      "text/plain": [
       "array([[ 26.3, 290. ],\n",
       "       [ 29. , 363. ]])"
      ]
     },
     "execution_count": 80,
     "metadata": {},
     "output_type": "execute_result"
    }
   ],
   "source": [
    "input_arr[[1,3]]"
   ]
  },
  {
   "cell_type": "code",
   "execution_count": 81,
   "id": "bdeab474",
   "metadata": {
    "ExecuteTime": {
     "end_time": "2022-03-26T11:45:32.400172Z",
     "start_time": "2022-03-26T11:45:32.389172Z"
    }
   },
   "outputs": [],
   "source": [
    "# 랜덤한 인덱스를 넘파이 배열에 설정\n",
    "# 학습데이터 35개\n",
    "\n",
    "X_train = input_arr[index[:35]]\n",
    "y_train = target_arr[index[:35]]"
   ]
  },
  {
   "cell_type": "code",
   "execution_count": 82,
   "id": "1cb4099f",
   "metadata": {
    "ExecuteTime": {
     "end_time": "2022-03-26T11:45:35.434815Z",
     "start_time": "2022-03-26T11:45:35.414816Z"
    }
   },
   "outputs": [
    {
     "data": {
      "text/plain": [
       "array([[ 10.6,   7. ],\n",
       "       [  9.8,   6.7],\n",
       "       [ 35. , 680. ],\n",
       "       [ 11.2,   9.8],\n",
       "       [ 31. , 475. ],\n",
       "       [ 34.5, 620. ],\n",
       "       [ 33.5, 610. ],\n",
       "       [ 15. ,  19.9],\n",
       "       [ 34. , 575. ],\n",
       "       [ 30. , 390. ],\n",
       "       [ 11.8,   9.9],\n",
       "       [ 32. , 600. ],\n",
       "       [ 36. , 850. ],\n",
       "       [ 11. ,   9.7]])"
      ]
     },
     "execution_count": 82,
     "metadata": {},
     "output_type": "execute_result"
    }
   ],
   "source": [
    "# 랜덤한 인덱스를 넘파이 배열에 설정\n",
    "# 테스트데이터 14개\n",
    "\n",
    "X_test = input_arr[index[35:]]\n",
    "y_test = target_arr[index[35:]]\n",
    "\n",
    "X_test"
   ]
  },
  {
   "cell_type": "code",
   "execution_count": 85,
   "id": "9b36e71e",
   "metadata": {
    "ExecuteTime": {
     "end_time": "2022-03-26T11:46:04.169130Z",
     "start_time": "2022-03-26T11:46:04.038128Z"
    }
   },
   "outputs": [
    {
     "data": {
      "image/png": "[encoded data removed]",
      "text/plain": [
       "<Figure size 720x720 with 1 Axes>"
      ]
     },
     "metadata": {},
     "output_type": "display_data"
    }
   ],
   "source": [
    "import matplotlib.pyplot as plt\n",
    "# 학습데이터\n",
    "plt.figure(figsize=(10,10))\n",
    "plt.scatter(X_train[:, 0], X_train[:, 1])\n",
    "#테스트데이터\n",
    "plt.scatter(X_test[:, 0], X_test[:, 1])\n",
    "plt.xlabel('length')\n",
    "plt.ylabel('weight')\n",
    "plt.show()"
   ]
  },
  {
   "cell_type": "markdown",
   "id": "02d6422b",
   "metadata": {},
   "source": [
    "# 머신러닝 학습 및 평가 "
   ]
  },
  {
   "cell_type": "code",
   "execution_count": 86,
   "id": "a978b84b",
   "metadata": {
    "ExecuteTime": {
     "end_time": "2022-03-26T11:46:13.956519Z",
     "start_time": "2022-03-26T11:46:13.943518Z"
    }
   },
   "outputs": [
    {
     "data": {
      "text/plain": [
       "{'algorithm': 'auto',\n",
       " 'leaf_size': 30,\n",
       " 'metric': 'minkowski',\n",
       " 'metric_params': None,\n",
       " 'n_jobs': None,\n",
       " 'n_neighbors': 5,\n",
       " 'p': 2,\n",
       " 'weights': 'uniform'}"
      ]
     },
     "execution_count": 86,
     "metadata": {},
     "output_type": "execute_result"
    }
   ],
   "source": [
    "model_kn = KNeighborsClassifier()\n",
    "model_kn.fit(X_train, y_train)              # 학습 데이터 사용\n",
    "model_kn.get_params()"
   ]
  },
  {
   "cell_type": "code",
   "execution_count": 87,
   "id": "d2af4a01",
   "metadata": {
    "ExecuteTime": {
     "end_time": "2022-03-26T11:46:14.214108Z",
     "start_time": "2022-03-26T11:46:14.205108Z"
    }
   },
   "outputs": [],
   "source": [
    "from sklearn.metrics import accuracy_score, mean_squared_error"
   ]
  },
  {
   "cell_type": "code",
   "execution_count": 88,
   "id": "af0c0b4d",
   "metadata": {
    "ExecuteTime": {
     "end_time": "2022-03-26T11:46:14.485111Z",
     "start_time": "2022-03-26T11:46:14.481108Z"
    }
   },
   "outputs": [
    {
     "name": "stdout",
     "output_type": "stream",
     "text": [
      "정답률은? 100.0 %\n"
     ]
    }
   ],
   "source": [
    "result = accuracy_score(y_test, model_kn.predict(X_test))\n",
    "print(f'정답률은? {result*100} %')"
   ]
  },
  {
   "cell_type": "code",
   "execution_count": 89,
   "id": "f1a1ba87",
   "metadata": {
    "ExecuteTime": {
     "end_time": "2022-03-26T11:46:14.710713Z",
     "start_time": "2022-03-26T11:46:14.700715Z"
    }
   },
   "outputs": [
    {
     "name": "stdout",
     "output_type": "stream",
     "text": [
      "에러률은? 0.0 %\n"
     ]
    }
   ],
   "source": [
    "# 에러률 \n",
    "result = mean_squared_error(y_test, model_kn.predict(X_test))\n",
    "print(f'에러률은? {result*100} %')"
   ]
  },
  {
   "cell_type": "code",
   "execution_count": 90,
   "id": "196dc18b",
   "metadata": {
    "ExecuteTime": {
     "end_time": "2022-03-26T11:46:49.573192Z",
     "start_time": "2022-03-26T11:46:49.552193Z"
    }
   },
   "outputs": [
    {
     "data": {
      "text/plain": [
       "1.0"
      ]
     },
     "execution_count": 90,
     "metadata": {},
     "output_type": "execute_result"
    }
   ],
   "source": [
    "# kn 모델  train스코어 \n",
    "model_kn.score(X_train, y_train)"
   ]
  },
  {
   "cell_type": "code",
   "execution_count": 91,
   "id": "9a49d920",
   "metadata": {
    "ExecuteTime": {
     "end_time": "2022-03-26T11:46:49.708202Z",
     "start_time": "2022-03-26T11:46:49.692203Z"
    }
   },
   "outputs": [
    {
     "data": {
      "text/plain": [
       "1.0"
      ]
     },
     "execution_count": 91,
     "metadata": {},
     "output_type": "execute_result"
    }
   ],
   "source": [
    "# kn 모델  test 스코어 \n",
    "model_kn.score(X_test, y_test)"
   ]
  },
  {
   "cell_type": "markdown",
   "id": "3d6cd5ec",
   "metadata": {},
   "source": [
    "## ** 학습 데이터와 테스트 데이터 세트 분리 메서드  **\n",
    "```\n",
    "** 학습 데이터와 테스트 데이터 세트로 분리 **\n",
    "\n",
    "X는 feature  \n",
    "y는 target  \n",
    "순서 지킬것!  \n",
    " \n",
    "X_train, X_test, y_train, y_test = train_test_split( data, label, test_size=float, train_size=float,   \n",
    "                                                    random_state=value, shuffle=True/False. stratify = label)\n",
    "                                                   \n",
    "       \n",
    "```"
   ]
  },
  {
   "cell_type": "code",
   "execution_count": 93,
   "id": "60d595bb",
   "metadata": {
    "ExecuteTime": {
     "end_time": "2022-03-26T12:04:57.031352Z",
     "start_time": "2022-03-26T12:04:57.025352Z"
    }
   },
   "outputs": [],
   "source": [
    "from sklearn.model_selection import train_test_split\n",
    "fish_data = [[l, w] for l, w in zip(fish_length, fish_weight)]\n",
    "fish_target = [1]*35 + [0]*14"
   ]
  },
  {
   "cell_type": "code",
   "execution_count": 94,
   "id": "03be7792",
   "metadata": {
    "ExecuteTime": {
     "end_time": "2022-03-26T12:05:08.386612Z",
     "start_time": "2022-03-26T12:05:08.367612Z"
    }
   },
   "outputs": [
    {
     "data": {
      "text/plain": [
       "([[25.4, 242.0],\n",
       "  [26.3, 290.0],\n",
       "  [26.5, 340.0],\n",
       "  [29.0, 363.0],\n",
       "  [29.0, 430.0],\n",
       "  [29.7, 450.0],\n",
       "  [29.7, 500.0],\n",
       "  [30.0, 390.0],\n",
       "  [30.0, 450.0],\n",
       "  [30.7, 500.0],\n",
       "  [31.0, 475.0],\n",
       "  [31.0, 500.0],\n",
       "  [31.5, 500.0],\n",
       "  [32.0, 340.0],\n",
       "  [32.0, 600.0],\n",
       "  [32.0, 600.0],\n",
       "  [33.0, 700.0],\n",
       "  [33.0, 700.0],\n",
       "  [33.5, 610.0],\n",
       "  [33.5, 650.0],\n",
       "  [34.0, 575.0],\n",
       "  [34.0, 685.0],\n",
       "  [34.5, 620.0],\n",
       "  [35.0, 680.0],\n",
       "  [35.0, 700.0],\n",
       "  [35.0, 725.0],\n",
       "  [35.0, 720.0],\n",
       "  [36.0, 714.0],\n",
       "  [36.0, 850.0],\n",
       "  [37.0, 1000.0],\n",
       "  [38.5, 920.0],\n",
       "  [38.5, 955.0],\n",
       "  [39.5, 925.0],\n",
       "  [41.0, 975.0],\n",
       "  [41.0, 950.0],\n",
       "  [9.8, 6.7],\n",
       "  [10.5, 7.5],\n",
       "  [10.6, 7.0],\n",
       "  [11.0, 9.7],\n",
       "  [11.2, 9.8],\n",
       "  [11.3, 8.7],\n",
       "  [11.8, 10.0],\n",
       "  [11.8, 9.9],\n",
       "  [12.0, 9.8],\n",
       "  [12.2, 12.2],\n",
       "  [12.4, 13.4],\n",
       "  [13.0, 12.2],\n",
       "  [14.3, 19.7],\n",
       "  [15.0, 19.9]],\n",
       " [1,\n",
       "  1,\n",
       "  1,\n",
       "  1,\n",
       "  1,\n",
       "  1,\n",
       "  1,\n",
       "  1,\n",
       "  1,\n",
       "  1,\n",
       "  1,\n",
       "  1,\n",
       "  1,\n",
       "  1,\n",
       "  1,\n",
       "  1,\n",
       "  1,\n",
       "  1,\n",
       "  1,\n",
       "  1,\n",
       "  1,\n",
       "  1,\n",
       "  1,\n",
       "  1,\n",
       "  1,\n",
       "  1,\n",
       "  1,\n",
       "  1,\n",
       "  1,\n",
       "  1,\n",
       "  1,\n",
       "  1,\n",
       "  1,\n",
       "  1,\n",
       "  1,\n",
       "  0,\n",
       "  0,\n",
       "  0,\n",
       "  0,\n",
       "  0,\n",
       "  0,\n",
       "  0,\n",
       "  0,\n",
       "  0,\n",
       "  0,\n",
       "  0,\n",
       "  0,\n",
       "  0,\n",
       "  0])"
      ]
     },
     "execution_count": 94,
     "metadata": {},
     "output_type": "execute_result"
    }
   ],
   "source": [
    "fish_data, fish_target"
   ]
  },
  {
   "cell_type": "code",
   "execution_count": 96,
   "id": "08ceb7d6",
   "metadata": {
    "ExecuteTime": {
     "end_time": "2022-03-26T12:05:20.585571Z",
     "start_time": "2022-03-26T12:05:20.575570Z"
    }
   },
   "outputs": [
    {
     "data": {
      "text/plain": [
       "(39, 10, 39, 10)"
      ]
     },
     "execution_count": 96,
     "metadata": {},
     "output_type": "execute_result"
    }
   ],
   "source": [
    "# 학습용 80%,   테스트용 20%  분리\n",
    "X_train, X_test, y_train, y_test = train_test_split( np.array(fish_data), fish_target, test_size=0.2,\n",
    "                                                    random_state=1 )\n",
    "len(X_train), len(X_test),len(y_train),len(y_test)"
   ]
  },
  {
   "cell_type": "code",
   "execution_count": 98,
   "id": "18f7f3d4",
   "metadata": {
    "ExecuteTime": {
     "end_time": "2022-03-26T12:05:37.924117Z",
     "start_time": "2022-03-26T12:05:37.807917Z"
    }
   },
   "outputs": [
    {
     "data": {
      "image/png": "[encoded data removed]",
      "text/plain": [
       "<Figure size 720x720 with 1 Axes>"
      ]
     },
     "metadata": {},
     "output_type": "display_data"
    }
   ],
   "source": [
    "plt.figure(figsize=(10,10))\n",
    "plt.scatter(X_train[:, 0], X_train[:, 1])\n",
    "plt.scatter(X_test[:, 0], X_test[:, 1])\n",
    "plt.xlabel('length')\n",
    "plt.ylabel('weight')\n",
    "plt.show()"
   ]
  },
  {
   "cell_type": "code",
   "execution_count": 99,
   "id": "16949130",
   "metadata": {
    "ExecuteTime": {
     "end_time": "2022-03-26T12:05:48.162429Z",
     "start_time": "2022-03-26T12:05:48.153430Z"
    }
   },
   "outputs": [
    {
     "data": {
      "text/plain": [
       "KNeighborsClassifier()"
      ]
     },
     "execution_count": 99,
     "metadata": {},
     "output_type": "execute_result"
    }
   ],
   "source": [
    "# 학습\n",
    "model_kn = KNeighborsClassifier()\n",
    "model_kn.fit(X_train, y_train)"
   ]
  },
  {
   "cell_type": "code",
   "execution_count": 100,
   "id": "3b2eb2c1",
   "metadata": {
    "ExecuteTime": {
     "end_time": "2022-03-26T12:05:48.282430Z",
     "start_time": "2022-03-26T12:05:48.272430Z"
    }
   },
   "outputs": [
    {
     "data": {
      "text/plain": [
       "array([1, 1, 0, 0, 1, 1, 0, 1, 0, 1])"
      ]
     },
     "execution_count": 100,
     "metadata": {},
     "output_type": "execute_result"
    }
   ],
   "source": [
    "# 예측 \n",
    "model_kn.predict(X_test)"
   ]
  },
  {
   "cell_type": "code",
   "execution_count": 101,
   "id": "489a2809",
   "metadata": {
    "ExecuteTime": {
     "end_time": "2022-03-26T12:05:51.485738Z",
     "start_time": "2022-03-26T12:05:51.473124Z"
    }
   },
   "outputs": [
    {
     "data": {
      "text/plain": [
       "1.0"
      ]
     },
     "execution_count": 101,
     "metadata": {},
     "output_type": "execute_result"
    }
   ],
   "source": [
    "# 예측결과\n",
    "\n",
    "model_kn.score(X_train, y_train)\n",
    "model_kn.score(X_test, y_test)"
   ]
  },
  {
   "cell_type": "markdown",
   "id": "0bf7a47b",
   "metadata": {},
   "source": [
    "# 펭귄 날개 길이와 몸무게를 통해 펭귄의 종류 예측\n",
    "```\n",
    "아래의 데이타는 펭귄의 날개 길이와 몸무게 그리고 그에 따른 펭귄의 종류이다. \n",
    "\n",
    " 펭귄의 날개 길이와 몸무게 => X\n",
    " \n",
    " 펭귄의 종류 => y\n",
    " \n",
    " 사이킷런에서 제공하는 분류기 알고리즘을 이용하여 머신러닝 모델을 생성하고 테스트하여라. \n",
    " \n",
    " Chinstrap 제외하고 할것\n",
    "```"
   ]
  },
  {
   "cell_type": "code",
   "execution_count": 102,
   "id": "72fd4500",
   "metadata": {
    "ExecuteTime": {
     "end_time": "2022-03-26T12:07:04.562413Z",
     "start_time": "2022-03-26T12:07:04.544410Z"
    }
   },
   "outputs": [
    {
     "data": {
      "text/plain": [
       "(344, 7)"
      ]
     },
     "execution_count": 102,
     "metadata": {},
     "output_type": "execute_result"
    }
   ],
   "source": [
    "import seaborn as sns\n",
    "pg = sns.load_dataset('penguins')\n",
    "pg.shape"
   ]
  },
  {
   "cell_type": "code",
   "execution_count": 103,
   "id": "958953f5",
   "metadata": {
    "ExecuteTime": {
     "end_time": "2022-03-26T12:07:05.708178Z",
     "start_time": "2022-03-26T12:07:05.682170Z"
    }
   },
   "outputs": [
    {
     "data": {
      "text/html": [
       "<div>\n",
       "<style scoped>\n",
       "    .dataframe tbody tr th:only-of-type {\n",
       "        vertical-align: middle;\n",
       "    }\n",
       "\n",
       "    .dataframe tbody tr th {\n",
       "        vertical-align: top;\n",
       "    }\n",
       "\n",
       "    .dataframe thead th {\n",
       "        text-align: right;\n",
       "    }\n",
       "</style>\n",
       "<table border=\"1\" class=\"dataframe\">\n",
       "  <thead>\n",
       "    <tr style=\"text-align: right;\">\n",
       "      <th></th>\n",
       "      <th>species</th>\n",
       "      <th>island</th>\n",
       "      <th>bill_length_mm</th>\n",
       "      <th>bill_depth_mm</th>\n",
       "      <th>flipper_length_mm</th>\n",
       "      <th>body_mass_g</th>\n",
       "      <th>sex</th>\n",
       "    </tr>\n",
       "  </thead>\n",
       "  <tbody>\n",
       "    <tr>\n",
       "      <th>0</th>\n",
       "      <td>Adelie</td>\n",
       "      <td>Torgersen</td>\n",
       "      <td>39.1</td>\n",
       "      <td>18.7</td>\n",
       "      <td>181.0</td>\n",
       "      <td>3750.0</td>\n",
       "      <td>Male</td>\n",
       "    </tr>\n",
       "    <tr>\n",
       "      <th>1</th>\n",
       "      <td>Adelie</td>\n",
       "      <td>Torgersen</td>\n",
       "      <td>39.5</td>\n",
       "      <td>17.4</td>\n",
       "      <td>186.0</td>\n",
       "      <td>3800.0</td>\n",
       "      <td>Female</td>\n",
       "    </tr>\n",
       "    <tr>\n",
       "      <th>2</th>\n",
       "      <td>Adelie</td>\n",
       "      <td>Torgersen</td>\n",
       "      <td>40.3</td>\n",
       "      <td>18.0</td>\n",
       "      <td>195.0</td>\n",
       "      <td>3250.0</td>\n",
       "      <td>Female</td>\n",
       "    </tr>\n",
       "    <tr>\n",
       "      <th>3</th>\n",
       "      <td>Adelie</td>\n",
       "      <td>Torgersen</td>\n",
       "      <td>NaN</td>\n",
       "      <td>NaN</td>\n",
       "      <td>NaN</td>\n",
       "      <td>NaN</td>\n",
       "      <td>NaN</td>\n",
       "    </tr>\n",
       "    <tr>\n",
       "      <th>4</th>\n",
       "      <td>Adelie</td>\n",
       "      <td>Torgersen</td>\n",
       "      <td>36.7</td>\n",
       "      <td>19.3</td>\n",
       "      <td>193.0</td>\n",
       "      <td>3450.0</td>\n",
       "      <td>Female</td>\n",
       "    </tr>\n",
       "    <tr>\n",
       "      <th>...</th>\n",
       "      <td>...</td>\n",
       "      <td>...</td>\n",
       "      <td>...</td>\n",
       "      <td>...</td>\n",
       "      <td>...</td>\n",
       "      <td>...</td>\n",
       "      <td>...</td>\n",
       "    </tr>\n",
       "    <tr>\n",
       "      <th>339</th>\n",
       "      <td>Gentoo</td>\n",
       "      <td>Biscoe</td>\n",
       "      <td>NaN</td>\n",
       "      <td>NaN</td>\n",
       "      <td>NaN</td>\n",
       "      <td>NaN</td>\n",
       "      <td>NaN</td>\n",
       "    </tr>\n",
       "    <tr>\n",
       "      <th>340</th>\n",
       "      <td>Gentoo</td>\n",
       "      <td>Biscoe</td>\n",
       "      <td>46.8</td>\n",
       "      <td>14.3</td>\n",
       "      <td>215.0</td>\n",
       "      <td>4850.0</td>\n",
       "      <td>Female</td>\n",
       "    </tr>\n",
       "    <tr>\n",
       "      <th>341</th>\n",
       "      <td>Gentoo</td>\n",
       "      <td>Biscoe</td>\n",
       "      <td>50.4</td>\n",
       "      <td>15.7</td>\n",
       "      <td>222.0</td>\n",
       "      <td>5750.0</td>\n",
       "      <td>Male</td>\n",
       "    </tr>\n",
       "    <tr>\n",
       "      <th>342</th>\n",
       "      <td>Gentoo</td>\n",
       "      <td>Biscoe</td>\n",
       "      <td>45.2</td>\n",
       "      <td>14.8</td>\n",
       "      <td>212.0</td>\n",
       "      <td>5200.0</td>\n",
       "      <td>Female</td>\n",
       "    </tr>\n",
       "    <tr>\n",
       "      <th>343</th>\n",
       "      <td>Gentoo</td>\n",
       "      <td>Biscoe</td>\n",
       "      <td>49.9</td>\n",
       "      <td>16.1</td>\n",
       "      <td>213.0</td>\n",
       "      <td>5400.0</td>\n",
       "      <td>Male</td>\n",
       "    </tr>\n",
       "  </tbody>\n",
       "</table>\n",
       "<p>344 rows × 7 columns</p>\n",
       "</div>"
      ],
      "text/plain": [
       "    species     island  bill_length_mm  bill_depth_mm  flipper_length_mm  \\\n",
       "0    Adelie  Torgersen            39.1           18.7              181.0   \n",
       "1    Adelie  Torgersen            39.5           17.4              186.0   \n",
       "2    Adelie  Torgersen            40.3           18.0              195.0   \n",
       "3    Adelie  Torgersen             NaN            NaN                NaN   \n",
       "4    Adelie  Torgersen            36.7           19.3              193.0   \n",
       "..      ...        ...             ...            ...                ...   \n",
       "339  Gentoo     Biscoe             NaN            NaN                NaN   \n",
       "340  Gentoo     Biscoe            46.8           14.3              215.0   \n",
       "341  Gentoo     Biscoe            50.4           15.7              222.0   \n",
       "342  Gentoo     Biscoe            45.2           14.8              212.0   \n",
       "343  Gentoo     Biscoe            49.9           16.1              213.0   \n",
       "\n",
       "     body_mass_g     sex  \n",
       "0         3750.0    Male  \n",
       "1         3800.0  Female  \n",
       "2         3250.0  Female  \n",
       "3            NaN     NaN  \n",
       "4         3450.0  Female  \n",
       "..           ...     ...  \n",
       "339          NaN     NaN  \n",
       "340       4850.0  Female  \n",
       "341       5750.0    Male  \n",
       "342       5200.0  Female  \n",
       "343       5400.0    Male  \n",
       "\n",
       "[344 rows x 7 columns]"
      ]
     },
     "execution_count": 103,
     "metadata": {},
     "output_type": "execute_result"
    }
   ],
   "source": [
    "pg"
   ]
  },
  {
   "cell_type": "code",
   "execution_count": 104,
   "id": "94dba0c3",
   "metadata": {
    "ExecuteTime": {
     "end_time": "2022-03-26T12:16:25.724354Z",
     "start_time": "2022-03-26T12:16:25.687331Z"
    }
   },
   "outputs": [
    {
     "data": {
      "text/html": [
       "<div>\n",
       "<style scoped>\n",
       "    .dataframe tbody tr th:only-of-type {\n",
       "        vertical-align: middle;\n",
       "    }\n",
       "\n",
       "    .dataframe tbody tr th {\n",
       "        vertical-align: top;\n",
       "    }\n",
       "\n",
       "    .dataframe thead th {\n",
       "        text-align: right;\n",
       "    }\n",
       "</style>\n",
       "<table border=\"1\" class=\"dataframe\">\n",
       "  <thead>\n",
       "    <tr style=\"text-align: right;\">\n",
       "      <th></th>\n",
       "      <th>species</th>\n",
       "      <th>island</th>\n",
       "      <th>bill_length_mm</th>\n",
       "      <th>bill_depth_mm</th>\n",
       "      <th>flipper_length_mm</th>\n",
       "      <th>body_mass_g</th>\n",
       "      <th>sex</th>\n",
       "    </tr>\n",
       "  </thead>\n",
       "  <tbody>\n",
       "    <tr>\n",
       "      <th>0</th>\n",
       "      <td>Adelie</td>\n",
       "      <td>Torgersen</td>\n",
       "      <td>39.1</td>\n",
       "      <td>18.7</td>\n",
       "      <td>181.0</td>\n",
       "      <td>3750.0</td>\n",
       "      <td>Male</td>\n",
       "    </tr>\n",
       "    <tr>\n",
       "      <th>1</th>\n",
       "      <td>Adelie</td>\n",
       "      <td>Torgersen</td>\n",
       "      <td>39.5</td>\n",
       "      <td>17.4</td>\n",
       "      <td>186.0</td>\n",
       "      <td>3800.0</td>\n",
       "      <td>Female</td>\n",
       "    </tr>\n",
       "    <tr>\n",
       "      <th>2</th>\n",
       "      <td>Adelie</td>\n",
       "      <td>Torgersen</td>\n",
       "      <td>40.3</td>\n",
       "      <td>18.0</td>\n",
       "      <td>195.0</td>\n",
       "      <td>3250.0</td>\n",
       "      <td>Female</td>\n",
       "    </tr>\n",
       "    <tr>\n",
       "      <th>4</th>\n",
       "      <td>Adelie</td>\n",
       "      <td>Torgersen</td>\n",
       "      <td>36.7</td>\n",
       "      <td>19.3</td>\n",
       "      <td>193.0</td>\n",
       "      <td>3450.0</td>\n",
       "      <td>Female</td>\n",
       "    </tr>\n",
       "    <tr>\n",
       "      <th>5</th>\n",
       "      <td>Adelie</td>\n",
       "      <td>Torgersen</td>\n",
       "      <td>39.3</td>\n",
       "      <td>20.6</td>\n",
       "      <td>190.0</td>\n",
       "      <td>3650.0</td>\n",
       "      <td>Male</td>\n",
       "    </tr>\n",
       "    <tr>\n",
       "      <th>...</th>\n",
       "      <td>...</td>\n",
       "      <td>...</td>\n",
       "      <td>...</td>\n",
       "      <td>...</td>\n",
       "      <td>...</td>\n",
       "      <td>...</td>\n",
       "      <td>...</td>\n",
       "    </tr>\n",
       "    <tr>\n",
       "      <th>338</th>\n",
       "      <td>Gentoo</td>\n",
       "      <td>Biscoe</td>\n",
       "      <td>47.2</td>\n",
       "      <td>13.7</td>\n",
       "      <td>214.0</td>\n",
       "      <td>4925.0</td>\n",
       "      <td>Female</td>\n",
       "    </tr>\n",
       "    <tr>\n",
       "      <th>340</th>\n",
       "      <td>Gentoo</td>\n",
       "      <td>Biscoe</td>\n",
       "      <td>46.8</td>\n",
       "      <td>14.3</td>\n",
       "      <td>215.0</td>\n",
       "      <td>4850.0</td>\n",
       "      <td>Female</td>\n",
       "    </tr>\n",
       "    <tr>\n",
       "      <th>341</th>\n",
       "      <td>Gentoo</td>\n",
       "      <td>Biscoe</td>\n",
       "      <td>50.4</td>\n",
       "      <td>15.7</td>\n",
       "      <td>222.0</td>\n",
       "      <td>5750.0</td>\n",
       "      <td>Male</td>\n",
       "    </tr>\n",
       "    <tr>\n",
       "      <th>342</th>\n",
       "      <td>Gentoo</td>\n",
       "      <td>Biscoe</td>\n",
       "      <td>45.2</td>\n",
       "      <td>14.8</td>\n",
       "      <td>212.0</td>\n",
       "      <td>5200.0</td>\n",
       "      <td>Female</td>\n",
       "    </tr>\n",
       "    <tr>\n",
       "      <th>343</th>\n",
       "      <td>Gentoo</td>\n",
       "      <td>Biscoe</td>\n",
       "      <td>49.9</td>\n",
       "      <td>16.1</td>\n",
       "      <td>213.0</td>\n",
       "      <td>5400.0</td>\n",
       "      <td>Male</td>\n",
       "    </tr>\n",
       "  </tbody>\n",
       "</table>\n",
       "<p>265 rows × 7 columns</p>\n",
       "</div>"
      ],
      "text/plain": [
       "    species     island  bill_length_mm  bill_depth_mm  flipper_length_mm  \\\n",
       "0    Adelie  Torgersen            39.1           18.7              181.0   \n",
       "1    Adelie  Torgersen            39.5           17.4              186.0   \n",
       "2    Adelie  Torgersen            40.3           18.0              195.0   \n",
       "4    Adelie  Torgersen            36.7           19.3              193.0   \n",
       "5    Adelie  Torgersen            39.3           20.6              190.0   \n",
       "..      ...        ...             ...            ...                ...   \n",
       "338  Gentoo     Biscoe            47.2           13.7              214.0   \n",
       "340  Gentoo     Biscoe            46.8           14.3              215.0   \n",
       "341  Gentoo     Biscoe            50.4           15.7              222.0   \n",
       "342  Gentoo     Biscoe            45.2           14.8              212.0   \n",
       "343  Gentoo     Biscoe            49.9           16.1              213.0   \n",
       "\n",
       "     body_mass_g     sex  \n",
       "0         3750.0    Male  \n",
       "1         3800.0  Female  \n",
       "2         3250.0  Female  \n",
       "4         3450.0  Female  \n",
       "5         3650.0    Male  \n",
       "..           ...     ...  \n",
       "338       4925.0  Female  \n",
       "340       4850.0  Female  \n",
       "341       5750.0    Male  \n",
       "342       5200.0  Female  \n",
       "343       5400.0    Male  \n",
       "\n",
       "[265 rows x 7 columns]"
      ]
     },
     "execution_count": 104,
     "metadata": {},
     "output_type": "execute_result"
    }
   ],
   "source": [
    " # 결측 데이터 제거 \n",
    "pg = pg[pg['species']!='Chinstrap']\n",
    "\n",
    "pg = pg.dropna(axis=0)                    \n",
    "pg.shape\n",
    "pg"
   ]
  },
  {
   "cell_type": "code",
   "execution_count": 105,
   "id": "3ba018ea",
   "metadata": {
    "ExecuteTime": {
     "end_time": "2022-03-26T12:16:29.947831Z",
     "start_time": "2022-03-26T12:16:29.941833Z"
    }
   },
   "outputs": [],
   "source": [
    "flipper_length_mm = list(pg['flipper_length_mm'])\n",
    "body_mass_g = list(pg['body_mass_g'])\n",
    "species = list(pg['species'])"
   ]
  },
  {
   "cell_type": "code",
   "execution_count": 106,
   "id": "faad17f7",
   "metadata": {
    "ExecuteTime": {
     "end_time": "2022-03-26T12:16:34.187407Z",
     "start_time": "2022-03-26T12:16:34.174407Z"
    }
   },
   "outputs": [
    {
     "data": {
      "text/plain": [
       "(265, 2)"
      ]
     },
     "execution_count": 106,
     "metadata": {},
     "output_type": "execute_result"
    }
   ],
   "source": [
    "penguins_data = np.hstack((np.array(flipper_length_mm).reshape(-1,1), np.array(body_mass_g).reshape(-1,1)))\n",
    "penguins_data.shape"
   ]
  },
  {
   "cell_type": "code",
   "execution_count": 107,
   "id": "aeb58c08",
   "metadata": {
    "ExecuteTime": {
     "end_time": "2022-03-26T12:16:39.104151Z",
     "start_time": "2022-03-26T12:16:39.096137Z"
    }
   },
   "outputs": [],
   "source": [
    "# Train, Test 분리\n",
    "X_train, X_test, y_train, y_test = train_test_split( \n",
    "penguins_data, species, random_state=1, stratify=species, test_size=0.3)"
   ]
  },
  {
   "cell_type": "code",
   "execution_count": 108,
   "id": "72e9b753",
   "metadata": {
    "ExecuteTime": {
     "end_time": "2022-03-26T12:16:42.811946Z",
     "start_time": "2022-03-26T12:16:42.805944Z"
    }
   },
   "outputs": [
    {
     "data": {
      "text/plain": [
       "((185, 2), 185)"
      ]
     },
     "execution_count": 108,
     "metadata": {},
     "output_type": "execute_result"
    }
   ],
   "source": [
    "X_train.shape, len(y_train)"
   ]
  },
  {
   "cell_type": "code",
   "execution_count": 110,
   "id": "39ba72b2",
   "metadata": {
    "ExecuteTime": {
     "end_time": "2022-03-26T12:17:12.837319Z",
     "start_time": "2022-03-26T12:17:12.704320Z"
    }
   },
   "outputs": [
    {
     "data": {
      "image/png": "[encoded data removed]",
      "text/plain": [
       "<Figure size 720x720 with 1 Axes>"
      ]
     },
     "metadata": {},
     "output_type": "display_data"
    }
   ],
   "source": [
    "plt.figure(figsize=(10,10))\n",
    "plt.scatter(X_train[:, 0], X_train[:, 1])\n",
    "plt.scatter(X_test[:, 0], X_test[:, 1])\n",
    "plt.xlabel('length')\n",
    "plt.ylabel('weight')\n",
    "plt.show()"
   ]
  },
  {
   "cell_type": "code",
   "execution_count": 111,
   "id": "4e087445",
   "metadata": {
    "ExecuteTime": {
     "end_time": "2022-03-26T12:17:17.325665Z",
     "start_time": "2022-03-26T12:17:17.317655Z"
    }
   },
   "outputs": [
    {
     "data": {
      "text/plain": [
       "KNeighborsClassifier()"
      ]
     },
     "execution_count": 111,
     "metadata": {},
     "output_type": "execute_result"
    }
   ],
   "source": [
    "#KNN분류기\n",
    "model_kn = KNeighborsClassifier()\n",
    "model_kn.fit(X_train, y_train)"
   ]
  },
  {
   "cell_type": "code",
   "execution_count": 112,
   "id": "f917e2f0",
   "metadata": {
    "ExecuteTime": {
     "end_time": "2022-03-26T12:17:46.065283Z",
     "start_time": "2022-03-26T12:17:46.046284Z"
    }
   },
   "outputs": [
    {
     "data": {
      "text/plain": [
       "0.9625"
      ]
     },
     "execution_count": 112,
     "metadata": {},
     "output_type": "execute_result"
    }
   ],
   "source": [
    "# 모델 test 점수\n",
    "model_kn.score(X_test, y_test)"
   ]
  },
  {
   "cell_type": "code",
   "execution_count": 113,
   "id": "b3ec7ae5",
   "metadata": {
    "ExecuteTime": {
     "end_time": "2022-03-26T12:17:46.215532Z",
     "start_time": "2022-03-26T12:17:46.197533Z"
    }
   },
   "outputs": [
    {
     "data": {
      "text/plain": [
       "0.9459459459459459"
      ]
     },
     "execution_count": 113,
     "metadata": {},
     "output_type": "execute_result"
    }
   ],
   "source": [
    "# 모델 train 점수\n",
    "model_kn.score(X_train, y_train)"
   ]
  },
  {
   "cell_type": "code",
   "execution_count": 115,
   "id": "aa7e5192",
   "metadata": {
    "ExecuteTime": {
     "end_time": "2022-03-26T12:18:06.419842Z",
     "start_time": "2022-03-26T12:18:06.230841Z"
    }
   },
   "outputs": [
    {
     "data": {
      "text/plain": [
       "<AxesSubplot:xlabel='flipper_length', ylabel='body_mass'>"
      ]
     },
     "execution_count": 115,
     "metadata": {},
     "output_type": "execute_result"
    },
    {
     "data": {
      "image/png": "[encoded data removed]",
      "text/plain": [
       "<Figure size 720x720 with 1 Axes>"
      ]
     },
     "metadata": {},
     "output_type": "display_data"
    }
   ],
   "source": [
    "import pandas as pd\n",
    "plt.figure(figsize=(10,10))\n",
    "df_p = pd.DataFrame(penguins_data, columns=['flipper_length', 'body_mass'])\n",
    "df_p['species'] = species\n",
    "sns.scatterplot(x='flipper_length', y='body_mass', data=df_p, hue='species')"
   ]
  },
  {
   "cell_type": "code",
   "execution_count": 116,
   "id": "008ed406",
   "metadata": {
    "ExecuteTime": {
     "end_time": "2022-03-26T12:18:13.084465Z",
     "start_time": "2022-03-26T12:18:13.061466Z"
    }
   },
   "outputs": [
    {
     "name": "stdout",
     "output_type": "stream",
     "text": [
      "정답률은? 96.25 %\n"
     ]
    }
   ],
   "source": [
    "from sklearn.metrics import accuracy_score, mean_squared_error\n",
    "\n",
    "result = accuracy_score(y_test, model_kn.predict(X_test))\n",
    "print(f'정답률은? {result*100} %')"
   ]
  },
  {
   "cell_type": "code",
   "execution_count": null,
   "id": "34519586",
   "metadata": {},
   "outputs": [],
   "source": []
  },
  {
   "cell_type": "code",
   "execution_count": null,
   "id": "1d74d9cc",
   "metadata": {},
   "outputs": [],
   "source": []
  },
  {
   "cell_type": "code",
   "execution_count": null,
   "id": "f6bdf482",
   "metadata": {},
   "outputs": [],
   "source": []
  }
 ],
 "metadata": {
  "kernelspec": {
   "display_name": "Python 3 (ipykernel)",
   "language": "python",
   "name": "python3"
  },
  "language_info": {
   "codemirror_mode": {
    "name": "ipython",
    "version": 3
   },
   "file_extension": ".py",
   "mimetype": "text/x-python",
   "name": "python",
   "nbconvert_exporter": "python",
   "pygments_lexer": "ipython3",
   "version": "3.8.8"
  },
  "toc": {
   "base_numbering": 1,
   "nav_menu": {},
   "number_sections": false,
   "sideBar": true,
   "skip_h1_title": false,
   "title_cell": "Table of Contents",
   "title_sidebar": "Contents",
   "toc_cell": false,
   "toc_position": {
    "height": "1031.25px",
    "left": "86px",
    "top": "474.934px",
    "width": "480px"
   },
   "toc_section_display": true,
   "toc_window_display": true
  }
 },
 "nbformat": 4,
 "nbformat_minor": 5
}
