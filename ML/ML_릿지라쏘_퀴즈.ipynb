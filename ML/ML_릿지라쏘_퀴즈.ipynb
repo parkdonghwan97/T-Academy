{
 "cells": [
  {
   "cell_type": "code",
   "execution_count": 11,
   "id": "95c2956a",
   "metadata": {
    "ExecuteTime": {
     "end_time": "2022-03-27T14:52:05.936819Z",
     "start_time": "2022-03-27T14:52:05.927808Z"
    }
   },
   "outputs": [],
   "source": [
    "import numpy as np\n",
    "import pandas as pd\n",
    "import os\n",
    "\n",
    "import matplotlib\n",
    "import matplotlib.pyplot as plt\n",
    "import seaborn as sns\n",
    "\n",
    "%matplotlib inline\n",
    "\n",
    "# 관련 라이브러리 임포트 \n",
    "import matplotlib.font_manager as fm\n",
    "\n",
    "#  한글글꼴로 변경\n",
    "# plt.rcParams['font.family'] = '한글글꼴명'\n",
    "plt.rcParams['font.size'] = 11.0\n",
    "# plt.rcParams['font.family'] = 'batang'\n",
    "plt.rcParams['font.family'] = 'Malgun Gothic'\n",
    "\n",
    "# 그래프에서 마이너스 폰트 깨지는 문제에 대한 대처\n",
    "matplotlib.rcParams['axes.unicode_minus'] = False\n",
    "plt.style.use('ggplot')\n",
    "\n",
    "# 그래프 기본 크기 설정 \n",
    "plt.rcParams['figure.figsize'] = [10, 10]"
   ]
  },
  {
   "cell_type": "code",
   "execution_count": 12,
   "id": "3602f28f",
   "metadata": {
    "ExecuteTime": {
     "end_time": "2022-03-27T14:52:05.952561Z",
     "start_time": "2022-03-27T14:52:05.938788Z"
    }
   },
   "outputs": [],
   "source": [
    "from sklearn.linear_model import LinearRegression, LogisticRegression\n",
    "from sklearn.linear_model import Ridge, Lasso\n",
    "\n",
    "from sklearn.metrics import f1_score, recall_score, precision_score, classification_report\n",
    "from sklearn.metrics import r2_score, mean_squared_error, mean_absolute_error\n",
    "\n",
    "from sklearn.preprocessing import PolynomialFeatures, StandardScaler, MinMaxScaler\n",
    "from sklearn.model_selection import train_test_split, cross_val_score, GridSearchCV\n",
    "\n",
    "from sklearn.pipeline import Pipeline"
   ]
  },
  {
   "cell_type": "markdown",
   "id": "3f479e19",
   "metadata": {},
   "source": [
    "# 퀴즈 \n",
    "\n",
    "- 성별 키와 몸무게(weight-height.csv) 데이타셋을 이용하여 선형, 다항적용, 릿지, 라쏘 모델별로 테스트하고 결과를 확인하여라. \n",
    "\n",
    "- Gender 컬럼은 전처리 => 원핫인코딩, 1이나 0으로 변경 \n",
    "\n",
    "- 스케일링 필요 \n",
    "\n",
    "- 몸무게는 파운드 단위 : 1파운드는 0.453592 킬로그램 \n",
    "- 키는 인치 단위 : 1인치는 2.54 센티미터 "
   ]
  },
  {
   "cell_type": "code",
   "execution_count": 13,
   "id": "286be974",
   "metadata": {
    "ExecuteTime": {
     "end_time": "2022-03-27T14:52:05.968151Z",
     "start_time": "2022-03-27T14:52:05.953530Z"
    }
   },
   "outputs": [
    {
     "data": {
      "text/html": [
       "<div>\n",
       "<style scoped>\n",
       "    .dataframe tbody tr th:only-of-type {\n",
       "        vertical-align: middle;\n",
       "    }\n",
       "\n",
       "    .dataframe tbody tr th {\n",
       "        vertical-align: top;\n",
       "    }\n",
       "\n",
       "    .dataframe thead th {\n",
       "        text-align: right;\n",
       "    }\n",
       "</style>\n",
       "<table border=\"1\" class=\"dataframe\">\n",
       "  <thead>\n",
       "    <tr style=\"text-align: right;\">\n",
       "      <th></th>\n",
       "      <th>Gender</th>\n",
       "      <th>Height</th>\n",
       "      <th>Weight</th>\n",
       "    </tr>\n",
       "  </thead>\n",
       "  <tbody>\n",
       "    <tr>\n",
       "      <th>0</th>\n",
       "      <td>Male</td>\n",
       "      <td>73.847017</td>\n",
       "      <td>241.893563</td>\n",
       "    </tr>\n",
       "    <tr>\n",
       "      <th>1</th>\n",
       "      <td>Male</td>\n",
       "      <td>68.781904</td>\n",
       "      <td>162.310473</td>\n",
       "    </tr>\n",
       "    <tr>\n",
       "      <th>2</th>\n",
       "      <td>Male</td>\n",
       "      <td>74.110105</td>\n",
       "      <td>212.740856</td>\n",
       "    </tr>\n",
       "    <tr>\n",
       "      <th>3</th>\n",
       "      <td>Male</td>\n",
       "      <td>71.730978</td>\n",
       "      <td>220.042470</td>\n",
       "    </tr>\n",
       "    <tr>\n",
       "      <th>4</th>\n",
       "      <td>Male</td>\n",
       "      <td>69.881796</td>\n",
       "      <td>206.349801</td>\n",
       "    </tr>\n",
       "  </tbody>\n",
       "</table>\n",
       "</div>"
      ],
      "text/plain": [
       "  Gender     Height      Weight\n",
       "0   Male  73.847017  241.893563\n",
       "1   Male  68.781904  162.310473\n",
       "2   Male  74.110105  212.740856\n",
       "3   Male  71.730978  220.042470\n",
       "4   Male  69.881796  206.349801"
      ]
     },
     "execution_count": 13,
     "metadata": {},
     "output_type": "execute_result"
    }
   ],
   "source": [
    "df = pd.read_csv('data/weight-height.csv')\n",
    "df.head()"
   ]
  },
  {
   "cell_type": "code",
   "execution_count": 14,
   "id": "83cfe737",
   "metadata": {
    "ExecuteTime": {
     "end_time": "2022-03-27T14:52:05.984152Z",
     "start_time": "2022-03-27T14:52:05.970121Z"
    }
   },
   "outputs": [
    {
     "name": "stdout",
     "output_type": "stream",
     "text": [
      "<class 'pandas.core.frame.DataFrame'>\n",
      "RangeIndex: 10000 entries, 0 to 9999\n",
      "Data columns (total 3 columns):\n",
      " #   Column  Non-Null Count  Dtype  \n",
      "---  ------  --------------  -----  \n",
      " 0   Gender  10000 non-null  object \n",
      " 1   Height  10000 non-null  float64\n",
      " 2   Weight  10000 non-null  float64\n",
      "dtypes: float64(2), object(1)\n",
      "memory usage: 234.5+ KB\n"
     ]
    }
   ],
   "source": [
    "df.info()"
   ]
  },
  {
   "cell_type": "code",
   "execution_count": 15,
   "id": "6f9cc593",
   "metadata": {
    "ExecuteTime": {
     "end_time": "2022-03-27T14:52:06.015665Z",
     "start_time": "2022-03-27T14:52:05.985140Z"
    }
   },
   "outputs": [
    {
     "data": {
      "text/html": [
       "<div>\n",
       "<style scoped>\n",
       "    .dataframe tbody tr th:only-of-type {\n",
       "        vertical-align: middle;\n",
       "    }\n",
       "\n",
       "    .dataframe tbody tr th {\n",
       "        vertical-align: top;\n",
       "    }\n",
       "\n",
       "    .dataframe thead th {\n",
       "        text-align: right;\n",
       "    }\n",
       "</style>\n",
       "<table border=\"1\" class=\"dataframe\">\n",
       "  <thead>\n",
       "    <tr style=\"text-align: right;\">\n",
       "      <th></th>\n",
       "      <th>Height</th>\n",
       "      <th>Weight</th>\n",
       "    </tr>\n",
       "  </thead>\n",
       "  <tbody>\n",
       "    <tr>\n",
       "      <th>count</th>\n",
       "      <td>10000.000000</td>\n",
       "      <td>10000.000000</td>\n",
       "    </tr>\n",
       "    <tr>\n",
       "      <th>mean</th>\n",
       "      <td>66.367560</td>\n",
       "      <td>161.440357</td>\n",
       "    </tr>\n",
       "    <tr>\n",
       "      <th>std</th>\n",
       "      <td>3.847528</td>\n",
       "      <td>32.108439</td>\n",
       "    </tr>\n",
       "    <tr>\n",
       "      <th>min</th>\n",
       "      <td>54.263133</td>\n",
       "      <td>64.700127</td>\n",
       "    </tr>\n",
       "    <tr>\n",
       "      <th>25%</th>\n",
       "      <td>63.505620</td>\n",
       "      <td>135.818051</td>\n",
       "    </tr>\n",
       "    <tr>\n",
       "      <th>50%</th>\n",
       "      <td>66.318070</td>\n",
       "      <td>161.212928</td>\n",
       "    </tr>\n",
       "    <tr>\n",
       "      <th>75%</th>\n",
       "      <td>69.174262</td>\n",
       "      <td>187.169525</td>\n",
       "    </tr>\n",
       "    <tr>\n",
       "      <th>max</th>\n",
       "      <td>78.998742</td>\n",
       "      <td>269.989699</td>\n",
       "    </tr>\n",
       "  </tbody>\n",
       "</table>\n",
       "</div>"
      ],
      "text/plain": [
       "             Height        Weight\n",
       "count  10000.000000  10000.000000\n",
       "mean      66.367560    161.440357\n",
       "std        3.847528     32.108439\n",
       "min       54.263133     64.700127\n",
       "25%       63.505620    135.818051\n",
       "50%       66.318070    161.212928\n",
       "75%       69.174262    187.169525\n",
       "max       78.998742    269.989699"
      ]
     },
     "execution_count": 15,
     "metadata": {},
     "output_type": "execute_result"
    }
   ],
   "source": [
    "df.describe()"
   ]
  },
  {
   "cell_type": "code",
   "execution_count": 16,
   "id": "8a0379de",
   "metadata": {
    "ExecuteTime": {
     "end_time": "2022-03-27T14:52:06.031603Z",
     "start_time": "2022-03-27T14:52:06.016674Z"
    }
   },
   "outputs": [
    {
     "data": {
      "text/html": [
       "<div>\n",
       "<style scoped>\n",
       "    .dataframe tbody tr th:only-of-type {\n",
       "        vertical-align: middle;\n",
       "    }\n",
       "\n",
       "    .dataframe tbody tr th {\n",
       "        vertical-align: top;\n",
       "    }\n",
       "\n",
       "    .dataframe thead th {\n",
       "        text-align: right;\n",
       "    }\n",
       "</style>\n",
       "<table border=\"1\" class=\"dataframe\">\n",
       "  <thead>\n",
       "    <tr style=\"text-align: right;\">\n",
       "      <th></th>\n",
       "      <th>Height</th>\n",
       "      <th>Weight</th>\n",
       "      <th>Gender_Female</th>\n",
       "      <th>Gender_Male</th>\n",
       "    </tr>\n",
       "  </thead>\n",
       "  <tbody>\n",
       "    <tr>\n",
       "      <th>754</th>\n",
       "      <td>66.456899</td>\n",
       "      <td>166.684649</td>\n",
       "      <td>0</td>\n",
       "      <td>1</td>\n",
       "    </tr>\n",
       "    <tr>\n",
       "      <th>950</th>\n",
       "      <td>66.556525</td>\n",
       "      <td>173.386830</td>\n",
       "      <td>0</td>\n",
       "      <td>1</td>\n",
       "    </tr>\n",
       "    <tr>\n",
       "      <th>1681</th>\n",
       "      <td>65.854963</td>\n",
       "      <td>154.965399</td>\n",
       "      <td>0</td>\n",
       "      <td>1</td>\n",
       "    </tr>\n",
       "    <tr>\n",
       "      <th>1091</th>\n",
       "      <td>72.109112</td>\n",
       "      <td>200.701731</td>\n",
       "      <td>0</td>\n",
       "      <td>1</td>\n",
       "    </tr>\n",
       "    <tr>\n",
       "      <th>8962</th>\n",
       "      <td>58.611665</td>\n",
       "      <td>103.309513</td>\n",
       "      <td>1</td>\n",
       "      <td>0</td>\n",
       "    </tr>\n",
       "  </tbody>\n",
       "</table>\n",
       "</div>"
      ],
      "text/plain": [
       "         Height      Weight  Gender_Female  Gender_Male\n",
       "754   66.456899  166.684649              0            1\n",
       "950   66.556525  173.386830              0            1\n",
       "1681  65.854963  154.965399              0            1\n",
       "1091  72.109112  200.701731              0            1\n",
       "8962  58.611665  103.309513              1            0"
      ]
     },
     "execution_count": 16,
     "metadata": {},
     "output_type": "execute_result"
    }
   ],
   "source": [
    "#  원핫인코딩으로 gender 컬럼 변경 \n",
    "df = pd.get_dummies(df)\n",
    "df.sample(5)"
   ]
  },
  {
   "cell_type": "code",
   "execution_count": 17,
   "id": "8c0a1bcd",
   "metadata": {
    "ExecuteTime": {
     "end_time": "2022-03-27T14:52:06.047125Z",
     "start_time": "2022-03-27T14:52:06.032544Z"
    }
   },
   "outputs": [],
   "source": [
    "# X = df[['Height','Gender_Female','Gender_Male']]  \n",
    "# X y 설정\n",
    "X = df[['Height']]\n",
    "y = df['Weight']\n",
    "\n",
    "# X ,y 분리\n",
    "X_train, X_test, y_train, y_test = train_test_split(X, y, random_state=42)\n",
    "\n",
    "poly = PolynomialFeatures(degree=5, include_bias=False)\n",
    "\n",
    "poly.fit(X_train)\n",
    "X_train_poly = poly.transform(X_train)\n",
    "X_test_poly = poly.transform(X_test)\n",
    "\n",
    "# 스케이링\n",
    "scale = StandardScaler()\n",
    "scale.fit(X_train_poly)\n",
    "\n",
    "X_train_scaled = scale.transform(X_train_poly)\n",
    "X_test_scaled = scale.transform(X_test_poly)"
   ]
  },
  {
   "cell_type": "code",
   "execution_count": 18,
   "id": "4d6786bf",
   "metadata": {
    "ExecuteTime": {
     "end_time": "2022-03-27T14:52:06.062683Z",
     "start_time": "2022-03-27T14:52:06.048060Z"
    }
   },
   "outputs": [
    {
     "data": {
      "text/plain": [
       "(7500, 5)"
      ]
     },
     "execution_count": 18,
     "metadata": {},
     "output_type": "execute_result"
    }
   ],
   "source": [
    "X_train_scaled.shape # 스케일 모양 확인"
   ]
  },
  {
   "cell_type": "code",
   "execution_count": 19,
   "id": "ba5f20e2",
   "metadata": {
    "ExecuteTime": {
     "end_time": "2022-03-27T14:52:06.078681Z",
     "start_time": "2022-03-27T14:52:06.063683Z"
    }
   },
   "outputs": [
    {
     "name": "stdout",
     "output_type": "stream",
     "text": [
      "0.8549876275912616 0.8579609539802202\n"
     ]
    }
   ],
   "source": [
    "# model_ridge = Ridge(alpha=100)\n",
    "# 릿지\n",
    "model_ridge = Ridge()\n",
    "model_ridge.fit(X_train_scaled, y_train)\n",
    "print(model_ridge.score(X_train_scaled, y_train), model_ridge.score(X_test_scaled, y_test))"
   ]
  },
  {
   "cell_type": "code",
   "execution_count": 20,
   "id": "0c0901b3",
   "metadata": {
    "ExecuteTime": {
     "end_time": "2022-03-27T14:52:06.112209Z",
     "start_time": "2022-03-27T14:52:06.081681Z"
    }
   },
   "outputs": [
    {
     "data": {
      "text/plain": [
       "([0.8567810142656046,\n",
       "  0.8567601308699224,\n",
       "  0.8562698799552331,\n",
       "  0.8549876275912616,\n",
       "  0.854585632638576,\n",
       "  0.8534063417267418],\n",
       " [0.8600691506792408,\n",
       "  0.860004044215124,\n",
       "  0.8593531003438278,\n",
       "  0.8579609539802202,\n",
       "  0.8574274071938965,\n",
       "  0.8556722919700961])"
      ]
     },
     "execution_count": 20,
     "metadata": {},
     "output_type": "execute_result"
    }
   ],
   "source": [
    "train_score = []\n",
    "test_score = []\n",
    "\n",
    "alpha_list = [0.001, 0.01, 0.1, 1, 10, 100]\n",
    "for a in alpha_list:\n",
    "    model_ridge = Ridge(alpha=a)\n",
    "    model_ridge.fit(X_train_scaled, y_train)\n",
    "    train_score.append(model_ridge.score(X_train_scaled, y_train))\n",
    "    test_score.append(model_ridge.score(X_test_scaled, y_test))\n",
    "                                        \n",
    "train_score, test_score   "
   ]
  },
  {
   "cell_type": "code",
   "execution_count": 21,
   "id": "022cd61b",
   "metadata": {
    "ExecuteTime": {
     "end_time": "2022-03-27T14:52:06.297842Z",
     "start_time": "2022-03-27T14:52:06.116200Z"
    }
   },
   "outputs": [
    {
     "data": {
      "image/png": "[encoded data removed]",
      "text/plain": [
       "<Figure size 720x720 with 1 Axes>"
      ]
     },
     "metadata": {},
     "output_type": "display_data"
    }
   ],
   "source": [
    "# np.set_printoptions(precision=3, suppress=True)\n",
    "plt.plot(np.log10(alpha_list), train_score, label='Train', marker='o')\n",
    "plt.plot(np.log10(alpha_list), test_score, label='Test', marker='o')\n",
    "plt.legend()\n",
    "plt.show()"
   ]
  },
  {
   "cell_type": "code",
   "execution_count": 22,
   "id": "36fea790",
   "metadata": {
    "ExecuteTime": {
     "end_time": "2022-03-27T14:52:06.313841Z",
     "start_time": "2022-03-27T14:52:06.298842Z"
    }
   },
   "outputs": [
    {
     "data": {
      "text/plain": [
       "array([-0.00328814, -0.00324391, -0.00308322, -0.00297333, -0.00284177,\n",
       "       -0.00226595])"
      ]
     },
     "execution_count": 22,
     "metadata": {},
     "output_type": "execute_result"
    }
   ],
   "source": [
    "# 거리 구하기 \n",
    "np.array(train_score) - np.array(test_score)"
   ]
  },
  {
   "cell_type": "code",
   "execution_count": 23,
   "id": "211f8f25",
   "metadata": {
    "ExecuteTime": {
     "end_time": "2022-03-27T14:52:06.329355Z",
     "start_time": "2022-03-27T14:52:06.314842Z"
    }
   },
   "outputs": [
    {
     "data": {
      "text/plain": [
       "array([-0.00328814, -0.00324391, -0.00308322, -0.00297333, -0.00284177,\n",
       "       -0.00226595])"
      ]
     },
     "execution_count": 23,
     "metadata": {},
     "output_type": "execute_result"
    }
   ],
   "source": [
    "np.sort(np.array(train_score) - np.array(test_score))"
   ]
  },
  {
   "cell_type": "code",
   "execution_count": 24,
   "id": "0fd571e5",
   "metadata": {
    "ExecuteTime": {
     "end_time": "2022-03-27T14:52:06.345358Z",
     "start_time": "2022-03-27T14:52:06.330356Z"
    }
   },
   "outputs": [
    {
     "name": "stdout",
     "output_type": "stream",
     "text": [
      "0.8562698799552331 0.8593531003438278\n"
     ]
    }
   ],
   "source": [
    "# model_ridge = Ridge(alpha=100)\n",
    "model_ridge = Ridge(alpha=0.1)\n",
    "model_ridge.fit(X_train_scaled, y_train)\n",
    "print(model_ridge.score(X_train_scaled, y_train), model_ridge.score(X_test_scaled, y_test))"
   ]
  },
  {
   "cell_type": "code",
   "execution_count": 25,
   "id": "6b57a73a",
   "metadata": {
    "ExecuteTime": {
     "end_time": "2022-03-27T14:52:06.361357Z",
     "start_time": "2022-03-27T14:52:06.346356Z"
    }
   },
   "outputs": [],
   "source": [
    "# 라쏘"
   ]
  },
  {
   "cell_type": "code",
   "execution_count": 26,
   "id": "cbc74ee5",
   "metadata": {
    "ExecuteTime": {
     "end_time": "2022-03-27T14:52:06.376876Z",
     "start_time": "2022-03-27T14:52:06.362875Z"
    }
   },
   "outputs": [
    {
     "data": {
      "text/plain": [
       "Lasso()"
      ]
     },
     "execution_count": 26,
     "metadata": {},
     "output_type": "execute_result"
    }
   ],
   "source": [
    "model_lasso = Lasso()\n",
    "model_lasso.fit(X_train_scaled, y_train)"
   ]
  },
  {
   "cell_type": "code",
   "execution_count": 27,
   "id": "1091cc79",
   "metadata": {
    "ExecuteTime": {
     "end_time": "2022-03-27T14:52:06.407914Z",
     "start_time": "2022-03-27T14:52:06.378876Z"
    }
   },
   "outputs": [
    {
     "data": {
      "text/plain": [
       "([0.0, 0.0, 0.0, 0.0, 0.0, 0.0],\n",
       " [-0.0006715087120041652,\n",
       "  -0.0006715087120041652,\n",
       "  -0.0006715087120041652,\n",
       "  -0.0006715087120041652,\n",
       "  -0.0006715087120041652,\n",
       "  -0.0006715087120041652])"
      ]
     },
     "execution_count": 27,
     "metadata": {},
     "output_type": "execute_result"
    }
   ],
   "source": [
    "train_score = []\n",
    "test_score = []\n",
    "\n",
    "alpha_list = [0.001, 0.01, 0.1, 1, 10, 100]\n",
    "for alpha in alpha_list:\n",
    "    model_lasso = Lasso(alpha=a)\n",
    "    model_lasso.fit(X_train_scaled, y_train)\n",
    "    train_score.append(model_lasso.score(X_train_scaled, y_train))\n",
    "    test_score.append(model_lasso.score(X_test_scaled, y_test))\n",
    "                                        \n",
    "train_score, test_score   "
   ]
  },
  {
   "cell_type": "code",
   "execution_count": 28,
   "id": "7e97a175",
   "metadata": {
    "ExecuteTime": {
     "end_time": "2022-03-27T14:52:06.549512Z",
     "start_time": "2022-03-27T14:52:06.408913Z"
    }
   },
   "outputs": [
    {
     "data": {
      "image/png": "[encoded data removed]",
      "text/plain": [
       "<Figure size 720x720 with 1 Axes>"
      ]
     },
     "metadata": {},
     "output_type": "display_data"
    }
   ],
   "source": [
    "# np.set_printoptions(precision=3, suppress=True)\n",
    "plt.plot(np.log10(alpha_list), train_score, label='Train')\n",
    "plt.plot(np.log10(alpha_list), test_score, label='Test')\n",
    "plt.show()"
   ]
  },
  {
   "cell_type": "code",
   "execution_count": 29,
   "id": "de0847a8",
   "metadata": {
    "ExecuteTime": {
     "end_time": "2022-03-27T14:52:06.564579Z",
     "start_time": "2022-03-27T14:52:06.550512Z"
    }
   },
   "outputs": [
    {
     "name": "stdout",
     "output_type": "stream",
     "text": [
      "0.8534309116651282 0.8559474705305526\n"
     ]
    }
   ],
   "source": [
    "model_lasso = Lasso()\n",
    "model_lasso.fit(X_train_scaled, y_train)\n",
    "print(model_lasso.score(X_train_scaled, y_train), model_lasso.score(X_test_scaled, y_test))"
   ]
  },
  {
   "cell_type": "code",
   "execution_count": 30,
   "id": "a11ff0d9",
   "metadata": {
    "ExecuteTime": {
     "end_time": "2022-03-27T14:52:06.580579Z",
     "start_time": "2022-03-27T14:52:06.566589Z"
    }
   },
   "outputs": [
    {
     "data": {
      "text/plain": [
       "array([28.3193012 ,  0.28232856,  0.        ,  0.        ,  0.        ])"
      ]
     },
     "execution_count": 30,
     "metadata": {},
     "output_type": "execute_result"
    }
   ],
   "source": [
    "model_lasso.coef_"
   ]
  },
  {
   "cell_type": "code",
   "execution_count": 31,
   "id": "7ea20202",
   "metadata": {
    "ExecuteTime": {
     "end_time": "2022-03-27T14:52:06.596580Z",
     "start_time": "2022-03-27T14:52:06.582579Z"
    }
   },
   "outputs": [
    {
     "data": {
      "text/plain": [
       "{'alpha': 1.0,\n",
       " 'copy_X': True,\n",
       " 'fit_intercept': True,\n",
       " 'max_iter': 1000,\n",
       " 'normalize': 'deprecated',\n",
       " 'positive': False,\n",
       " 'precompute': False,\n",
       " 'random_state': None,\n",
       " 'selection': 'cyclic',\n",
       " 'tol': 0.0001,\n",
       " 'warm_start': False}"
      ]
     },
     "execution_count": 31,
     "metadata": {},
     "output_type": "execute_result"
    }
   ],
   "source": [
    "model_lasso.get_params()"
   ]
  },
  {
   "cell_type": "code",
   "execution_count": null,
   "id": "8851a45e",
   "metadata": {},
   "outputs": [],
   "source": []
  }
 ],
 "metadata": {
  "kernelspec": {
   "display_name": "Python 3 (ipykernel)",
   "language": "python",
   "name": "python3"
  },
  "language_info": {
   "codemirror_mode": {
    "name": "ipython",
    "version": 3
   },
   "file_extension": ".py",
   "mimetype": "text/x-python",
   "name": "python",
   "nbconvert_exporter": "python",
   "pygments_lexer": "ipython3",
   "version": "3.8.8"
  },
  "toc": {
   "base_numbering": 1,
   "nav_menu": {},
   "number_sections": true,
   "sideBar": true,
   "skip_h1_title": false,
   "title_cell": "Table of Contents",
   "title_sidebar": "Contents",
   "toc_cell": false,
   "toc_position": {},
   "toc_section_display": true,
   "toc_window_display": false
  }
 },
 "nbformat": 4,
 "nbformat_minor": 5
}
