{
 "cells": [
  {
   "cell_type": "code",
   "execution_count": 1,
   "id": "dae20c3f",
   "metadata": {
    "ExecuteTime": {
     "end_time": "2022-03-27T15:04:21.410290Z",
     "start_time": "2022-03-27T15:04:19.861734Z"
    }
   },
   "outputs": [],
   "source": [
    "import numpy as np\n",
    "import pandas as pd\n",
    "import os\n",
    "\n",
    "import matplotlib\n",
    "import matplotlib.pyplot as plt\n",
    "import seaborn as sns\n",
    "\n",
    "%matplotlib inline\n",
    "\n",
    "# 관련 라이브러리 임포트 \n",
    "import matplotlib.font_manager as fm\n",
    "\n",
    "#  한글글꼴로 변경\n",
    "# plt.rcParams['font.family'] = '한글글꼴명'\n",
    "plt.rcParams['font.size'] = 11.0\n",
    "# plt.rcParams['font.family'] = 'batang'\n",
    "plt.rcParams['font.family'] = 'Malgun Gothic'\n",
    "\n",
    "# 그래프에서 마이너스 폰트 깨지는 문제에 대한 대처\n",
    "matplotlib.rcParams['axes.unicode_minus'] = False\n",
    "plt.style.use('ggplot')\n",
    "\n",
    "# 그래프 기본 크기 설정 \n",
    "plt.rcParams['figure.figsize'] = [10, 10]"
   ]
  },
  {
   "cell_type": "code",
   "execution_count": 3,
   "id": "044bd3c1",
   "metadata": {
    "ExecuteTime": {
     "end_time": "2022-03-27T15:05:03.759237Z",
     "start_time": "2022-03-27T15:05:03.684227Z"
    }
   },
   "outputs": [],
   "source": [
    "from sklearn.ensemble import VotingClassifier, VotingRegressor\n",
    "\n",
    "from sklearn.linear_model import LinearRegression, Ridge, Lasso, LogisticRegression\n",
    "from sklearn.neighbors import KNeighborsClassifier\n",
    "from sklearn.tree import DecisionTreeClassifier\n",
    "\n",
    "from sklearn.metrics import f1_score, recall_score, precision_score, classification_report, r2_score\n",
    "\n",
    "from sklearn.preprocessing import PolynomialFeatures, StandardScaler, MinMaxScaler\n",
    "from sklearn.model_selection import train_test_split, cross_val_score, GridSearchCV\n",
    "\n",
    "from sklearn.pipeline import Pipeline"
   ]
  },
  {
   "cell_type": "markdown",
   "id": "7d9b8352",
   "metadata": {},
   "source": [
    "# 앙상블(Ensemble) \n",
    "\n",
    "- Ensemble : 조화라는 사전적인 의미를 지님\n",
    "- Ensemble Learning\n",
    "    - 여러 개의 기본 모델을 활용하여 하나의 새로운 모델을 만들어내는 개념 \n",
    "    - 기본모델(Base Model)을 weak learner, classifier, base \n",
    "\n",
    "###  보팅(Voting) \n",
    "    - 여러개의 분류기가 투표를 통해 최종 예측 결과를 결정하는 방식 \n",
    "    - 하드보팅 : 다수의 classifier 간 다수결의 최종 class 결정 \n",
    "    - 소프트보팅 : 다수의 classfier 들의 class 확률을 평균하여 결정 \n",
    "    - Voting Classifier¶ 활용 \n",
    "\n",
    "    모델=[(키1,예측기1),(키2,예측기2)] , voting='soft/hard' )\n",
    "\n",
    "\n",
    "# Voting Classification => 분류\n",
    "\n",
    "\n",
    "\n",
    "<img src='https://img1.daumcdn.net/thumb/R1280x0/?scode=mtistory2&fname=https%3A%2F%2Fblog.kakaocdn.net%2Fdn%2Fb5UNZc%2FbtrhVZEJkJA%2F1bqKVdovvqY2NY050MWMSK%2Fimg.jpg'>\n",
    "\n",
    "**위스콘신 유방암 데이터 로드**\n",
    "\n",
    "- cancer.data\n",
    "- cancer.feature_names\n",
    "- cancer.target "
   ]
  },
  {
   "cell_type": "code",
   "execution_count": 4,
   "id": "50959914",
   "metadata": {
    "ExecuteTime": {
     "end_time": "2022-03-27T15:05:08.205145Z",
     "start_time": "2022-03-27T15:05:08.138177Z"
    }
   },
   "outputs": [
    {
     "data": {
      "text/plain": [
       "dict_keys(['data', 'target', 'frame', 'target_names', 'DESCR', 'feature_names', 'filename', 'data_module'])"
      ]
     },
     "execution_count": 4,
     "metadata": {},
     "output_type": "execute_result"
    }
   ],
   "source": [
    "from sklearn.datasets import load_breast_cancer\n",
    "\n",
    "cancer = load_breast_cancer()\n",
    "cancer.keys()"
   ]
  },
  {
   "cell_type": "code",
   "execution_count": 6,
   "id": "aaca2698",
   "metadata": {
    "ExecuteTime": {
     "end_time": "2022-03-27T15:05:30.296499Z",
     "start_time": "2022-03-27T15:05:30.281471Z"
    }
   },
   "outputs": [],
   "source": [
    "# X 설정\n",
    "X = cancer.data"
   ]
  },
  {
   "cell_type": "code",
   "execution_count": 7,
   "id": "2afe0917",
   "metadata": {
    "ExecuteTime": {
     "end_time": "2022-03-27T15:05:30.420795Z",
     "start_time": "2022-03-27T15:05:30.404730Z"
    }
   },
   "outputs": [],
   "source": [
    "# y 설정\n",
    "y = cancer.target"
   ]
  },
  {
   "cell_type": "code",
   "execution_count": 8,
   "id": "9f307d19",
   "metadata": {
    "ExecuteTime": {
     "end_time": "2022-03-27T15:05:34.021066Z",
     "start_time": "2022-03-27T15:05:34.012067Z"
    }
   },
   "outputs": [
    {
     "data": {
      "text/plain": [
       "array(['mean radius', 'mean texture', 'mean perimeter', 'mean area',\n",
       "       'mean smoothness', 'mean compactness', 'mean concavity',\n",
       "       'mean concave points', 'mean symmetry', 'mean fractal dimension',\n",
       "       'radius error', 'texture error', 'perimeter error', 'area error',\n",
       "       'smoothness error', 'compactness error', 'concavity error',\n",
       "       'concave points error', 'symmetry error',\n",
       "       'fractal dimension error', 'worst radius', 'worst texture',\n",
       "       'worst perimeter', 'worst area', 'worst smoothness',\n",
       "       'worst compactness', 'worst concavity', 'worst concave points',\n",
       "       'worst symmetry', 'worst fractal dimension'], dtype='<U23')"
      ]
     },
     "execution_count": 8,
     "metadata": {},
     "output_type": "execute_result"
    }
   ],
   "source": [
    "cancer.feature_names"
   ]
  },
  {
   "cell_type": "markdown",
   "id": "68e29067",
   "metadata": {},
   "source": [
    "### VotingClassifier로 개별모델은 로지스틱 회귀와 KNN을 보팅방식으로 결합하고 성능 비교\n",
    "#### soft 방식"
   ]
  },
  {
   "cell_type": "code",
   "execution_count": 9,
   "id": "94f90d3e",
   "metadata": {
    "ExecuteTime": {
     "end_time": "2022-03-27T15:05:48.028148Z",
     "start_time": "2022-03-27T15:05:47.968148Z"
    }
   },
   "outputs": [
    {
     "name": "stderr",
     "output_type": "stream",
     "text": [
      "C:\\Users\\TFG5076XG\\anaconda3\\lib\\site-packages\\sklearn\\linear_model\\_logistic.py:814: ConvergenceWarning: lbfgs failed to converge (status=1):\n",
      "STOP: TOTAL NO. of ITERATIONS REACHED LIMIT.\n",
      "\n",
      "Increase the number of iterations (max_iter) or scale the data as shown in:\n",
      "    https://scikit-learn.org/stable/modules/preprocessing.html\n",
      "Please also refer to the documentation for alternative solver options:\n",
      "    https://scikit-learn.org/stable/modules/linear_model.html#logistic-regression\n",
      "  n_iter_i = _check_optimize_result(\n"
     ]
    },
    {
     "data": {
      "text/plain": [
       "0.9473684210526315"
      ]
     },
     "execution_count": 9,
     "metadata": {},
     "output_type": "execute_result"
    }
   ],
   "source": [
    "# from sklearn.ensemble import VotingClassifier\n",
    "\n",
    "# 모델 2개 생성\n",
    "model_lr = LogisticRegression() \n",
    "model_knn = KNeighborsClassifier(n_neighbors=8)\n",
    "\n",
    "# voting 형식으로 모델 생성\n",
    "# 모델명 = VotingClassifier( estimators = [('측정기변수', 모델생성자)   ])\n",
    "\n",
    "model_vo = VotingClassifier( estimators=[('LR',model_lr),('KNN',model_knn)] , voting='soft' )\n",
    "# model_vo = VotingClassifier( estimators=[('LR',LogisticRegression() ),('KNN',KNeighborsClassifier(n_neighbors=8))] , voting='soft' )\n",
    "\n",
    "\n",
    "# 훈련 검증 분리\n",
    "X_train, X_test, y_train, y_test = train_test_split(cancer.data, cancer.target, \n",
    "                                                    test_size=0.2 , random_state= 156)\n",
    "# 학습\n",
    "model_vo.fit(X_train , y_train)\n",
    "model_vo.score(X_train , y_train)\n",
    "model_vo.score(X_test , y_test)\n",
    "\n"
   ]
  },
  {
   "cell_type": "code",
   "execution_count": 10,
   "id": "d4779733",
   "metadata": {
    "ExecuteTime": {
     "end_time": "2022-03-27T15:05:52.803330Z",
     "start_time": "2022-03-27T15:05:52.754332Z"
    }
   },
   "outputs": [
    {
     "name": "stdout",
     "output_type": "stream",
     "text": [
      "LogisticRegression() 0.9385964912280702\n",
      "              precision    recall  f1-score   support\n",
      "\n",
      "           0       0.94      0.86      0.90        37\n",
      "           1       0.94      0.97      0.96        77\n",
      "\n",
      "    accuracy                           0.94       114\n",
      "   macro avg       0.94      0.92      0.93       114\n",
      "weighted avg       0.94      0.94      0.94       114\n",
      "\n",
      "KNeighborsClassifier(n_neighbors=8) 0.9385964912280702\n",
      "              precision    recall  f1-score   support\n",
      "\n",
      "           0       0.89      0.92      0.91        37\n",
      "           1       0.96      0.95      0.95        77\n",
      "\n",
      "    accuracy                           0.94       114\n",
      "   macro avg       0.93      0.93      0.93       114\n",
      "weighted avg       0.94      0.94      0.94       114\n",
      "\n"
     ]
    },
    {
     "name": "stderr",
     "output_type": "stream",
     "text": [
      "C:\\Users\\TFG5076XG\\anaconda3\\lib\\site-packages\\sklearn\\linear_model\\_logistic.py:814: ConvergenceWarning: lbfgs failed to converge (status=1):\n",
      "STOP: TOTAL NO. of ITERATIONS REACHED LIMIT.\n",
      "\n",
      "Increase the number of iterations (max_iter) or scale the data as shown in:\n",
      "    https://scikit-learn.org/stable/modules/preprocessing.html\n",
      "Please also refer to the documentation for alternative solver options:\n",
      "    https://scikit-learn.org/stable/modules/linear_model.html#logistic-regression\n",
      "  n_iter_i = _check_optimize_result(\n"
     ]
    }
   ],
   "source": [
    "# 앙상블과 상관없음.  \n",
    "\n",
    "\n",
    "# 각 모델을 리스트로 생성해서 반복해서 학습 및 평가 데이터 확인\n",
    "classifiers = [model_lr, model_knn]\n",
    "for clf in classifiers:\n",
    "    clf .fit(X_train , y_train)\n",
    "    print(clf, clf.score(X_test , y_test))\n",
    "    print(classification_report(y_test, clf.predict(X_test)))"
   ]
  },
  {
   "cell_type": "markdown",
   "id": "55343c0e",
   "metadata": {},
   "source": [
    "#### hard 방식"
   ]
  },
  {
   "cell_type": "code",
   "execution_count": 11,
   "id": "e9d5f9c5",
   "metadata": {
    "ExecuteTime": {
     "end_time": "2022-03-27T15:06:02.071972Z",
     "start_time": "2022-03-27T15:06:02.002971Z"
    }
   },
   "outputs": [
    {
     "name": "stderr",
     "output_type": "stream",
     "text": [
      "C:\\Users\\TFG5076XG\\anaconda3\\lib\\site-packages\\sklearn\\linear_model\\_logistic.py:814: ConvergenceWarning: lbfgs failed to converge (status=1):\n",
      "STOP: TOTAL NO. of ITERATIONS REACHED LIMIT.\n",
      "\n",
      "Increase the number of iterations (max_iter) or scale the data as shown in:\n",
      "    https://scikit-learn.org/stable/modules/preprocessing.html\n",
      "Please also refer to the documentation for alternative solver options:\n",
      "    https://scikit-learn.org/stable/modules/linear_model.html#logistic-regression\n",
      "  n_iter_i = _check_optimize_result(\n"
     ]
    },
    {
     "data": {
      "text/plain": [
       "0.9385964912280702"
      ]
     },
     "execution_count": 11,
     "metadata": {},
     "output_type": "execute_result"
    }
   ],
   "source": [
    "# from sklearn.ensemble import VotingClassifier\n",
    "\n",
    "model_lr = LogisticRegression() \n",
    "model_knn = KNeighborsClassifier(n_neighbors=8)\n",
    "\n",
    "model_vo2 = VotingClassifier( estimators=[('LR',model_lr),('KNN',model_knn)] , voting='hard' )\n",
    "\n",
    "\n",
    "X_train, X_test, y_train, y_test = train_test_split(cancer.data, cancer.target, \n",
    "                                                    test_size=0.2 , random_state= 156)\n",
    "\n",
    "model_vo2.fit(X_train , y_train)\n",
    "model_vo2.score(X_train , y_train)\n",
    "model_vo2.score(X_test , y_test)"
   ]
  },
  {
   "cell_type": "code",
   "execution_count": 12,
   "id": "003ce071",
   "metadata": {
    "ExecuteTime": {
     "end_time": "2022-03-27T15:06:06.248836Z",
     "start_time": "2022-03-27T15:06:06.205325Z"
    }
   },
   "outputs": [
    {
     "name": "stdout",
     "output_type": "stream",
     "text": [
      "LogisticRegression() 0.9385964912280702\n",
      "              precision    recall  f1-score   support\n",
      "\n",
      "           0       0.94      0.86      0.90        37\n",
      "           1       0.94      0.97      0.96        77\n",
      "\n",
      "    accuracy                           0.94       114\n",
      "   macro avg       0.94      0.92      0.93       114\n",
      "weighted avg       0.94      0.94      0.94       114\n",
      "\n",
      "KNeighborsClassifier(n_neighbors=8) 0.9385964912280702\n",
      "              precision    recall  f1-score   support\n",
      "\n",
      "           0       0.89      0.92      0.91        37\n",
      "           1       0.96      0.95      0.95        77\n",
      "\n",
      "    accuracy                           0.94       114\n",
      "   macro avg       0.93      0.93      0.93       114\n",
      "weighted avg       0.94      0.94      0.94       114\n",
      "\n"
     ]
    },
    {
     "name": "stderr",
     "output_type": "stream",
     "text": [
      "C:\\Users\\TFG5076XG\\anaconda3\\lib\\site-packages\\sklearn\\linear_model\\_logistic.py:814: ConvergenceWarning: lbfgs failed to converge (status=1):\n",
      "STOP: TOTAL NO. of ITERATIONS REACHED LIMIT.\n",
      "\n",
      "Increase the number of iterations (max_iter) or scale the data as shown in:\n",
      "    https://scikit-learn.org/stable/modules/preprocessing.html\n",
      "Please also refer to the documentation for alternative solver options:\n",
      "    https://scikit-learn.org/stable/modules/linear_model.html#logistic-regression\n",
      "  n_iter_i = _check_optimize_result(\n"
     ]
    }
   ],
   "source": [
    "# 앙상블과 상관없음.  \n",
    "\n",
    "\n",
    "# 각 모델을 리스트로 생성해서 반복해서 학습 및 평가 데이터 확인\n",
    "classifiers = [model_lr, model_knn]\n",
    "for clf in classifiers:\n",
    "    clf .fit(X_train , y_train)\n",
    "    print(clf, clf.score(X_test , y_test))\n",
    "    print(classification_report(y_test, clf.predict(X_test)))"
   ]
  },
  {
   "cell_type": "markdown",
   "id": "531d3b88",
   "metadata": {
    "ExecuteTime": {
     "end_time": "2022-03-27T15:06:14.063004Z",
     "start_time": "2022-03-27T15:06:14.046412Z"
    }
   },
   "source": [
    "## voting = hard 에서 proba 사용 불가"
   ]
  },
  {
   "cell_type": "code",
   "execution_count": 13,
   "id": "81354286",
   "metadata": {
    "ExecuteTime": {
     "end_time": "2022-03-27T15:06:14.063004Z",
     "start_time": "2022-03-27T15:06:14.046412Z"
    }
   },
   "outputs": [],
   "source": [
    "# model_vo2.predict_proba(X_test[0])  => 오류"
   ]
  },
  {
   "cell_type": "markdown",
   "id": "8edbcbd7",
   "metadata": {},
   "source": [
    "# Voting Regressor     => 회귀\n",
    "- boston 데이터\n"
   ]
  },
  {
   "cell_type": "code",
   "execution_count": 14,
   "id": "718c9178",
   "metadata": {
    "ExecuteTime": {
     "end_time": "2022-03-27T15:06:59.396442Z",
     "start_time": "2022-03-27T15:06:59.370441Z"
    }
   },
   "outputs": [
    {
     "name": "stderr",
     "output_type": "stream",
     "text": [
      "C:\\Users\\TFG5076XG\\anaconda3\\lib\\site-packages\\sklearn\\utils\\deprecation.py:87: FutureWarning: Function load_boston is deprecated; `load_boston` is deprecated in 1.0 and will be removed in 1.2.\n",
      "\n",
      "    The Boston housing prices dataset has an ethical problem. You can refer to\n",
      "    the documentation of this function for further details.\n",
      "\n",
      "    The scikit-learn maintainers therefore strongly discourage the use of this\n",
      "    dataset unless the purpose of the code is to study and educate about\n",
      "    ethical issues in data science and machine learning.\n",
      "\n",
      "    In this special case, you can fetch the dataset from the original\n",
      "    source::\n",
      "\n",
      "        import pandas as pd\n",
      "        import numpy as np\n",
      "\n",
      "\n",
      "        data_url = \"http://lib.stat.cmu.edu/datasets/boston\"\n",
      "        raw_df = pd.read_csv(data_url, sep=\"\\s+\", skiprows=22, header=None)\n",
      "        data = np.hstack([raw_df.values[::2, :], raw_df.values[1::2, :2]])\n",
      "        target = raw_df.values[1::2, 2]\n",
      "\n",
      "    Alternative datasets include the California housing dataset (i.e.\n",
      "    :func:`~sklearn.datasets.fetch_california_housing`) and the Ames housing\n",
      "    dataset. You can load the datasets as follows::\n",
      "\n",
      "        from sklearn.datasets import fetch_california_housing\n",
      "        housing = fetch_california_housing()\n",
      "\n",
      "    for the California housing dataset and::\n",
      "\n",
      "        from sklearn.datasets import fetch_openml\n",
      "        housing = fetch_openml(name=\"house_prices\", as_frame=True)\n",
      "\n",
      "    for the Ames housing dataset.\n",
      "    \n",
      "  warnings.warn(msg, category=FutureWarning)\n"
     ]
    }
   ],
   "source": [
    "from sklearn.datasets import load_boston\n",
    "\n",
    "boston = load_boston()\n",
    "\n",
    "boston_df = pd.DataFrame(boston.data , columns = boston.feature_names)\n",
    " \n",
    "boston_df['PRICE'] = boston.target # y 값"
   ]
  },
  {
   "cell_type": "code",
   "execution_count": 15,
   "id": "ef9ffce7",
   "metadata": {
    "ExecuteTime": {
     "end_time": "2022-03-27T15:07:15.512491Z",
     "start_time": "2022-03-27T15:07:15.500490Z"
    }
   },
   "outputs": [],
   "source": [
    "y_target = boston_df['PRICE']\n",
    "X_data = boston_df.drop(['PRICE'], axis=1, inplace=False)\n",
    "\n",
    "X_train , X_test , y_train , y_test = train_test_split( X_data , y_target , \\\n",
    "                                                       test_size=0.3, random_state=156)"
   ]
  },
  {
   "cell_type": "code",
   "execution_count": 16,
   "id": "dbc02260",
   "metadata": {
    "ExecuteTime": {
     "end_time": "2022-03-27T15:07:15.774021Z",
     "start_time": "2022-03-27T15:07:15.739499Z"
    }
   },
   "outputs": [
    {
     "name": "stdout",
     "output_type": "stream",
     "text": [
      "0.6995242609530394 0.7382950882399059\n"
     ]
    }
   ],
   "source": [
    "# from sklearn.ensemble import VotingRegressor\n",
    "\n",
    "# Voting  => sotf or hard\n",
    "\n",
    "\n",
    "\n",
    "model_linear = LinearRegression()\n",
    "model_lasso = Lasso(alpha=10)   # 알파값 10 줘서 낮아짐.\n",
    "model_ridge = Ridge(alpha=10)\n",
    "\n",
    "model_vo_r = VotingRegressor( estimators=[('LINEAR', model_linear),('LASSO', model_lasso), ('RIDGE', model_ridge)] )\n",
    "# voting = 'soft' or 'hard'   => 오류\n",
    "\n",
    "\n",
    "model_vo_r.fit(X_train , y_train)\n",
    "print(model_vo_r.score(X_train , y_train) , model_vo_r.score(X_test , y_test))\n",
    "\n"
   ]
  },
  {
   "cell_type": "code",
   "execution_count": 17,
   "id": "9bf9459b",
   "metadata": {
    "ExecuteTime": {
     "end_time": "2022-03-27T15:07:19.247423Z",
     "start_time": "2022-03-27T15:07:19.238426Z"
    }
   },
   "outputs": [
    {
     "data": {
      "text/plain": [
       "[LinearRegression(), Lasso(alpha=10), Ridge(alpha=10)]"
      ]
     },
     "execution_count": 17,
     "metadata": {},
     "output_type": "execute_result"
    }
   ],
   "source": [
    "# 사용한 알고리즘 \n",
    "model_vo_r.estimators_"
   ]
  },
  {
   "cell_type": "code",
   "execution_count": 18,
   "id": "c429d078",
   "metadata": {
    "ExecuteTime": {
     "end_time": "2022-03-27T15:07:27.099860Z",
     "start_time": "2022-03-27T15:07:27.090854Z"
    }
   },
   "outputs": [
    {
     "data": {
      "text/plain": [
       "{'LINEAR': LinearRegression(),\n",
       " 'LASSO': Lasso(alpha=10),\n",
       " 'RIDGE': Ridge(alpha=10)}"
      ]
     },
     "execution_count": 18,
     "metadata": {},
     "output_type": "execute_result"
    }
   ],
   "source": [
    "# VotingRegressor의 파라미터 \n",
    "model_vo_r.named_estimators_"
   ]
  },
  {
   "cell_type": "code",
   "execution_count": 20,
   "id": "f4a5968b",
   "metadata": {
    "ExecuteTime": {
     "end_time": "2022-03-27T15:07:37.274481Z",
     "start_time": "2022-03-27T15:07:37.250482Z"
    }
   },
   "outputs": [
    {
     "data": {
      "text/plain": [
       "(0.7382950882399059, 0.7382950882399059)"
      ]
     },
     "execution_count": 20,
     "metadata": {},
     "output_type": "execute_result"
    }
   ],
   "source": [
    "model_vo_r.score(X_test , y_test), r2_score(y_test, model_vo_r.predict(X_test))"
   ]
  },
  {
   "cell_type": "code",
   "execution_count": 21,
   "id": "cab57bef",
   "metadata": {
    "ExecuteTime": {
     "end_time": "2022-03-27T15:07:44.579087Z",
     "start_time": "2022-03-27T15:07:44.557040Z"
    }
   },
   "outputs": [
    {
     "name": "stderr",
     "output_type": "stream",
     "text": [
      "C:\\Users\\TFG5076XG\\anaconda3\\lib\\site-packages\\sklearn\\base.py:450: UserWarning: X does not have valid feature names, but LinearRegression was fitted with feature names\n",
      "  warnings.warn(\n",
      "C:\\Users\\TFG5076XG\\anaconda3\\lib\\site-packages\\sklearn\\base.py:450: UserWarning: X does not have valid feature names, but Lasso was fitted with feature names\n",
      "  warnings.warn(\n",
      "C:\\Users\\TFG5076XG\\anaconda3\\lib\\site-packages\\sklearn\\base.py:450: UserWarning: X does not have valid feature names, but Ridge was fitted with feature names\n",
      "  warnings.warn(\n"
     ]
    },
    {
     "data": {
      "text/plain": [
       "array([22.21449831])"
      ]
     },
     "execution_count": 21,
     "metadata": {},
     "output_type": "execute_result"
    }
   ],
   "source": [
    "# 샘플데이터 예측가격\n",
    "model_vo_r.predict([X_test.loc[15]])"
   ]
  },
  {
   "cell_type": "code",
   "execution_count": null,
   "id": "1330f8fb",
   "metadata": {},
   "outputs": [],
   "source": [
    "|"
   ]
  }
 ],
 "metadata": {
  "kernelspec": {
   "display_name": "Python 3 (ipykernel)",
   "language": "python",
   "name": "python3"
  },
  "language_info": {
   "codemirror_mode": {
    "name": "ipython",
    "version": 3
   },
   "file_extension": ".py",
   "mimetype": "text/x-python",
   "name": "python",
   "nbconvert_exporter": "python",
   "pygments_lexer": "ipython3",
   "version": "3.8.8"
  },
  "toc": {
   "base_numbering": 1,
   "nav_menu": {},
   "number_sections": true,
   "sideBar": true,
   "skip_h1_title": false,
   "title_cell": "Table of Contents",
   "title_sidebar": "Contents",
   "toc_cell": false,
   "toc_position": {},
   "toc_section_display": true,
   "toc_window_display": false
  }
 },
 "nbformat": 4,
 "nbformat_minor": 5
}
