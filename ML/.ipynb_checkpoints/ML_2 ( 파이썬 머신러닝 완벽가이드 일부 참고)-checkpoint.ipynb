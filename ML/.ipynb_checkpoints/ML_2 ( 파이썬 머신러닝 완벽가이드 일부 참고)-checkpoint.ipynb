{
 "cells": [
  {
   "cell_type": "code",
   "execution_count": 74,
   "id": "0b45c85e",
   "metadata": {
    "ExecuteTime": {
     "end_time": "2022-03-26T13:04:10.985030Z",
     "start_time": "2022-03-26T13:04:10.965030Z"
    }
   },
   "outputs": [],
   "source": [
    "# 자주쓰는 메서드\n",
    "\n",
    "import numpy as np\n",
    "import pandas as pd\n",
    "import os\n",
    "\n",
    "import matplotlib\n",
    "import matplotlib.pyplot as plt\n",
    "import seaborn as sns\n",
    "\n",
    "%matplotlib inline\n",
    "\n",
    "# 관련 라이브러리 임포트 \n",
    "import matplotlib.font_manager as fm\n",
    "\n",
    "#  한글글꼴로 변경\n",
    "# plt.rcParams['font.family'] = '한글글꼴명'\n",
    "plt.rcParams['font.size'] = 11.0\n",
    "# plt.rcParams['font.family'] = 'batang'\n",
    "plt.rcParams['font.family'] = 'Malgun Gothic'\n",
    "\n",
    "# 그래프에서 마이너스 폰트 깨지는 문제에 대한 대처\n",
    "matplotlib.rcParams['axes.unicode_minus'] = False\n",
    "plt.style.use('ggplot')\n"
   ]
  },
  {
   "cell_type": "markdown",
   "id": "2e9f7de4",
   "metadata": {},
   "source": [
    "# 머신러닝 과정 \n",
    "\n",
    "\n",
    "- 모듈 임포트 \n",
    "- 데이타 준비 (학습데이타)\n",
    "- 데이타 전처리 \n",
    "- 데이터 학습 (모델 클래스 선택 => 모델화)\n",
    "- 학습 데이타(특징 행렬), 테스트 데이타(대상 벡터) 준비 \n",
    "- 모델을 데이타에 적합(Model Fit)\n",
    "- 데이터 예측 (테스트데이타 또는 새로운 데이타)\n",
    "- 모델 평가 : 정답률. 에러률 "
   ]
  },
  {
   "cell_type": "markdown",
   "id": "c0135d27",
   "metadata": {},
   "source": [
    "# 피처 스케일링\n",
    "\n",
    "- 두 특성(길이와 무게)의 값이 놓인 범위가 다르다. => 스케일(Scale)이 다르다 라고 한다. \n",
    "- 방의 넓이를 재는데 한사람은 cm, 다른사람은 incn로 재는것과 같다. \n",
    "- k-최근접 이웃 알고리즘은 샘플간의 거리에 영향을 많이 받는다. 반면 결정트리와 같은 알고리즘의 경우에는 스케일링에 그다지 많은 영향을 받지는 않는다\n",
    "- 표준점수(Standard Score) \n",
    "    - z 점수는 각 특성값이 0에서 표준편차의 몇배만큼 떨어져 있는지 표시한다. \n",
    "    - 실제 특성값의 크기와 상관없이 동일한 조건으로 비교할 수 있다. \n",
    "    - 각 데이터가 원점에서 몇 표준편차만큼 떨어져 있는지 나타낸다.\n",
    "- 분산 : 데이터에서 평균을 뺀 값을 모두 제곱한 다음 평균을 내어 구한다. \n",
    "- 표준편차 : 분산의 제곱근으로 데이터가 분산된 정도를 나타낸다. \n",
    "\n",
    "### 표준화와 정규화 \n",
    "- 표준화는 데이타의 피처 각각이 평균이 0이고 분산이 1인 가우시안 정규 분포를 가진 값으로 변환하는 것을 의미한다. \n",
    "- 정규화란 서로 다른 피처의 크기를 통일하기 위해 크기를 변환해주는 개념이다. "
   ]
  },
  {
   "cell_type": "markdown",
   "id": "af466d67",
   "metadata": {
    "ExecuteTime": {
     "end_time": "2022-03-26T13:00:20.483839Z",
     "start_time": "2022-03-26T13:00:20.477839Z"
    }
   },
   "source": [
    "# 사이킷런 (Scikit-learn)\n",
    "\n",
    "- 머신러닝 교육을 위한 파이썬 패키지\n",
    "- https://scikit-learn.org/stable/\n",
    "- 데이터 전처리(preprocessing)\n",
    "- 지도 학습(Supervised learning)\n",
    "    - : KNN, Naive Bayes, Decision Trees, Support Vector Machine\n",
    "- 비지도 학습(Unsupervised learning)\n",
    "    - : Clustering, Gaussian mixture models\n",
    "- 모형 평가 및 선택 (evaluation and selection)\n",
    "    - : Cross validation, Model evaluation\n"
   ]
  },
  {
   "cell_type": "markdown",
   "id": "ed90e65b",
   "metadata": {},
   "source": [
    "# 사이킷런으로 수행하는 타이타닉 생존자 예측"
   ]
  },
  {
   "cell_type": "code",
   "execution_count": 4,
   "id": "a708b64e",
   "metadata": {
    "ExecuteTime": {
     "end_time": "2022-03-26T12:41:43.136888Z",
     "start_time": "2022-03-26T12:41:43.102841Z"
    }
   },
   "outputs": [
    {
     "data": {
      "text/html": [
       "<div>\n",
       "<style scoped>\n",
       "    .dataframe tbody tr th:only-of-type {\n",
       "        vertical-align: middle;\n",
       "    }\n",
       "\n",
       "    .dataframe tbody tr th {\n",
       "        vertical-align: top;\n",
       "    }\n",
       "\n",
       "    .dataframe thead th {\n",
       "        text-align: right;\n",
       "    }\n",
       "</style>\n",
       "<table border=\"1\" class=\"dataframe\">\n",
       "  <thead>\n",
       "    <tr style=\"text-align: right;\">\n",
       "      <th></th>\n",
       "      <th>PassengerId</th>\n",
       "      <th>Survived</th>\n",
       "      <th>Pclass</th>\n",
       "      <th>Name</th>\n",
       "      <th>Sex</th>\n",
       "      <th>Age</th>\n",
       "      <th>SibSp</th>\n",
       "      <th>Parch</th>\n",
       "      <th>Ticket</th>\n",
       "      <th>Fare</th>\n",
       "      <th>Cabin</th>\n",
       "      <th>Embarked</th>\n",
       "    </tr>\n",
       "  </thead>\n",
       "  <tbody>\n",
       "    <tr>\n",
       "      <th>0</th>\n",
       "      <td>1</td>\n",
       "      <td>0</td>\n",
       "      <td>3</td>\n",
       "      <td>Braund, Mr. Owen Harris</td>\n",
       "      <td>male</td>\n",
       "      <td>22.0</td>\n",
       "      <td>1</td>\n",
       "      <td>0</td>\n",
       "      <td>A/5 21171</td>\n",
       "      <td>7.2500</td>\n",
       "      <td>NaN</td>\n",
       "      <td>S</td>\n",
       "    </tr>\n",
       "    <tr>\n",
       "      <th>1</th>\n",
       "      <td>2</td>\n",
       "      <td>1</td>\n",
       "      <td>1</td>\n",
       "      <td>Cumings, Mrs. John Bradley (Florence Briggs Th...</td>\n",
       "      <td>female</td>\n",
       "      <td>38.0</td>\n",
       "      <td>1</td>\n",
       "      <td>0</td>\n",
       "      <td>PC 17599</td>\n",
       "      <td>71.2833</td>\n",
       "      <td>C85</td>\n",
       "      <td>C</td>\n",
       "    </tr>\n",
       "    <tr>\n",
       "      <th>2</th>\n",
       "      <td>3</td>\n",
       "      <td>1</td>\n",
       "      <td>3</td>\n",
       "      <td>Heikkinen, Miss. Laina</td>\n",
       "      <td>female</td>\n",
       "      <td>26.0</td>\n",
       "      <td>0</td>\n",
       "      <td>0</td>\n",
       "      <td>STON/O2. 3101282</td>\n",
       "      <td>7.9250</td>\n",
       "      <td>NaN</td>\n",
       "      <td>S</td>\n",
       "    </tr>\n",
       "  </tbody>\n",
       "</table>\n",
       "</div>"
      ],
      "text/plain": [
       "   PassengerId  Survived  Pclass  \\\n",
       "0            1         0       3   \n",
       "1            2         1       1   \n",
       "2            3         1       3   \n",
       "\n",
       "                                                Name     Sex   Age  SibSp  \\\n",
       "0                            Braund, Mr. Owen Harris    male  22.0      1   \n",
       "1  Cumings, Mrs. John Bradley (Florence Briggs Th...  female  38.0      1   \n",
       "2                             Heikkinen, Miss. Laina  female  26.0      0   \n",
       "\n",
       "   Parch            Ticket     Fare Cabin Embarked  \n",
       "0      0         A/5 21171   7.2500   NaN        S  \n",
       "1      0          PC 17599  71.2833   C85        C  \n",
       "2      0  STON/O2. 3101282   7.9250   NaN        S  "
      ]
     },
     "execution_count": 4,
     "metadata": {},
     "output_type": "execute_result"
    }
   ],
   "source": [
    "from sklearn.preprocessing import LabelEncoder\n",
    "%matplotlib inline\n",
    "\n",
    "titanic_df =pd.read_csv('data/titanic_train.csv')\n",
    "titanic_df.head(3)"
   ]
  },
  {
   "cell_type": "code",
   "execution_count": 5,
   "id": "701259cd",
   "metadata": {
    "ExecuteTime": {
     "end_time": "2022-03-26T12:41:48.881471Z",
     "start_time": "2022-03-26T12:41:48.855941Z"
    }
   },
   "outputs": [
    {
     "name": "stdout",
     "output_type": "stream",
     "text": [
      "<class 'pandas.core.frame.DataFrame'>\n",
      "RangeIndex: 891 entries, 0 to 890\n",
      "Data columns (total 12 columns):\n",
      " #   Column       Non-Null Count  Dtype  \n",
      "---  ------       --------------  -----  \n",
      " 0   PassengerId  891 non-null    int64  \n",
      " 1   Survived     891 non-null    int64  \n",
      " 2   Pclass       891 non-null    int64  \n",
      " 3   Name         891 non-null    object \n",
      " 4   Sex          891 non-null    object \n",
      " 5   Age          714 non-null    float64\n",
      " 6   SibSp        891 non-null    int64  \n",
      " 7   Parch        891 non-null    int64  \n",
      " 8   Ticket       891 non-null    object \n",
      " 9   Fare         891 non-null    float64\n",
      " 10  Cabin        204 non-null    object \n",
      " 11  Embarked     889 non-null    object \n",
      "dtypes: float64(2), int64(5), object(5)\n",
      "memory usage: 83.7+ KB\n"
     ]
    }
   ],
   "source": [
    "# 기본 정보\n",
    "titanic_df.info()"
   ]
  },
  {
   "cell_type": "code",
   "execution_count": 6,
   "id": "edd665a5",
   "metadata": {
    "ExecuteTime": {
     "end_time": "2022-03-26T12:42:00.093947Z",
     "start_time": "2022-03-26T12:42:00.076434Z"
    }
   },
   "outputs": [
    {
     "name": "stdout",
     "output_type": "stream",
     "text": [
      "데이터 세트 null 값 개수 0\n"
     ]
    }
   ],
   "source": [
    "# Null값을 허용하지 않으므로 fillna()함수 사용해 평균 or 고정값으로 변경\n",
    "titanic_df['Age'].fillna(titanic_df['Age'].mean(),inplace=True)\n",
    "titanic_df['Cabin'].fillna('N',inplace=True)\n",
    "titanic_df['Embarked'].fillna('N',inplace=True)\n",
    "\n",
    "print('데이터 세트 null 값 개수', titanic_df.isnull().sum().sum())\n"
   ]
  },
  {
   "cell_type": "code",
   "execution_count": 7,
   "id": "c56ddd24",
   "metadata": {
    "ExecuteTime": {
     "end_time": "2022-03-26T12:42:03.039616Z",
     "start_time": "2022-03-26T12:42:03.020603Z"
    }
   },
   "outputs": [
    {
     "name": "stdout",
     "output_type": "stream",
     "text": [
      "Sex값분포 : \n",
      " male      577\n",
      "female    314\n",
      "Name: Sex, dtype: int64\n",
      "\n",
      " Cabin 값 분포 :\n",
      " N              687\n",
      "B96 B98          4\n",
      "C23 C25 C27      4\n",
      "G6               4\n",
      "F33              3\n",
      "              ... \n",
      "C101             1\n",
      "C54              1\n",
      "B71              1\n",
      "B94              1\n",
      "A6               1\n",
      "Name: Cabin, Length: 148, dtype: int64\n",
      "\n",
      " Embarked 값 분포 :\n",
      " S    644\n",
      "C    168\n",
      "Q     77\n",
      "N      2\n",
      "Name: Embarked, dtype: int64\n"
     ]
    }
   ],
   "source": [
    "print('Sex값분포 : \\n',titanic_df['Sex'].value_counts())\n",
    "print('\\n Cabin 값 분포 :\\n',titanic_df['Cabin'].value_counts())\n",
    "print('\\n Embarked 값 분포 :\\n',titanic_df['Embarked'].value_counts())"
   ]
  },
  {
   "cell_type": "code",
   "execution_count": 8,
   "id": "44db0c20",
   "metadata": {
    "ExecuteTime": {
     "end_time": "2022-03-26T12:42:07.721592Z",
     "start_time": "2022-03-26T12:42:07.706061Z"
    }
   },
   "outputs": [
    {
     "data": {
      "text/plain": [
       "0    N\n",
       "1    C\n",
       "2    N\n",
       "Name: Cabin, dtype: object"
      ]
     },
     "execution_count": 8,
     "metadata": {},
     "output_type": "execute_result"
    }
   ],
   "source": [
    "titanic_df['Cabin'] = titanic_df['Cabin'].str[:1]\n",
    "titanic_df['Cabin'].head(3)"
   ]
  },
  {
   "cell_type": "code",
   "execution_count": 9,
   "id": "e1e817c3",
   "metadata": {
    "ExecuteTime": {
     "end_time": "2022-03-26T12:42:13.866584Z",
     "start_time": "2022-03-26T12:42:13.847585Z"
    }
   },
   "outputs": [
    {
     "data": {
      "text/plain": [
       "Sex     Survived\n",
       "female  0            81\n",
       "        1           233\n",
       "male    0           468\n",
       "        1           109\n",
       "Name: Survived, dtype: int64"
      ]
     },
     "execution_count": 9,
     "metadata": {},
     "output_type": "execute_result"
    }
   ],
   "source": [
    "titanic_df.groupby(['Sex','Survived'])['Survived'].count()"
   ]
  },
  {
   "cell_type": "code",
   "execution_count": 13,
   "id": "ea0a6b6c",
   "metadata": {
    "ExecuteTime": {
     "end_time": "2022-03-26T12:42:48.276355Z",
     "start_time": "2022-03-26T12:42:48.129357Z"
    }
   },
   "outputs": [
    {
     "data": {
      "image/png": "[encoded data removed]",
      "text/plain": [
       "<Figure size 720x720 with 1 Axes>"
      ]
     },
     "metadata": {},
     "output_type": "display_data"
    }
   ],
   "source": [
    "# 막대그래프 \n",
    "plt.figure(figsize=(10,10))\n",
    "sns.barplot(x='Sex',y='Survived',data=titanic_df) \n",
    "plt.show()"
   ]
  },
  {
   "cell_type": "code",
   "execution_count": 14,
   "id": "c29d4941",
   "metadata": {
    "ExecuteTime": {
     "end_time": "2022-03-26T12:42:59.006372Z",
     "start_time": "2022-03-26T12:42:58.727874Z"
    }
   },
   "outputs": [
    {
     "data": {
      "image/png": "[encoded data removed]",
      "text/plain": [
       "<Figure size 720x720 with 1 Axes>"
      ]
     },
     "metadata": {},
     "output_type": "display_data"
    }
   ],
   "source": [
    "plt.figure(figsize=(10,10))\n",
    "sns.barplot(x='Pclass',y='Survived', hue='Sex',  data=titanic_df)\n",
    "plt.show()"
   ]
  },
  {
   "cell_type": "markdown",
   "id": "824eba39",
   "metadata": {},
   "source": [
    "## 입력 age에 다라 구분 값을 반환하는 함수 설정. DataFrame의 apply lambda식에 사용"
   ]
  },
  {
   "cell_type": "code",
   "execution_count": 18,
   "id": "caf3ae3a",
   "metadata": {
    "ExecuteTime": {
     "end_time": "2022-03-26T12:44:05.719270Z",
     "start_time": "2022-03-26T12:44:05.689710Z"
    }
   },
   "outputs": [
    {
     "data": {
      "text/html": [
       "<div>\n",
       "<style scoped>\n",
       "    .dataframe tbody tr th:only-of-type {\n",
       "        vertical-align: middle;\n",
       "    }\n",
       "\n",
       "    .dataframe tbody tr th {\n",
       "        vertical-align: top;\n",
       "    }\n",
       "\n",
       "    .dataframe thead th {\n",
       "        text-align: right;\n",
       "    }\n",
       "</style>\n",
       "<table border=\"1\" class=\"dataframe\">\n",
       "  <thead>\n",
       "    <tr style=\"text-align: right;\">\n",
       "      <th></th>\n",
       "      <th>PassengerId</th>\n",
       "      <th>Survived</th>\n",
       "      <th>Pclass</th>\n",
       "      <th>Name</th>\n",
       "      <th>Sex</th>\n",
       "      <th>Age</th>\n",
       "      <th>SibSp</th>\n",
       "      <th>Parch</th>\n",
       "      <th>Ticket</th>\n",
       "      <th>Fare</th>\n",
       "      <th>Cabin</th>\n",
       "      <th>Embarked</th>\n",
       "      <th>Age_cat</th>\n",
       "    </tr>\n",
       "  </thead>\n",
       "  <tbody>\n",
       "    <tr>\n",
       "      <th>24</th>\n",
       "      <td>25</td>\n",
       "      <td>0</td>\n",
       "      <td>3</td>\n",
       "      <td>Palsson, Miss. Torborg Danira</td>\n",
       "      <td>female</td>\n",
       "      <td>8.0</td>\n",
       "      <td>3</td>\n",
       "      <td>1</td>\n",
       "      <td>349909</td>\n",
       "      <td>21.0750</td>\n",
       "      <td>N</td>\n",
       "      <td>S</td>\n",
       "      <td>Child</td>\n",
       "    </tr>\n",
       "    <tr>\n",
       "      <th>50</th>\n",
       "      <td>51</td>\n",
       "      <td>0</td>\n",
       "      <td>3</td>\n",
       "      <td>Panula, Master. Juha Niilo</td>\n",
       "      <td>male</td>\n",
       "      <td>7.0</td>\n",
       "      <td>4</td>\n",
       "      <td>1</td>\n",
       "      <td>3101295</td>\n",
       "      <td>39.6875</td>\n",
       "      <td>N</td>\n",
       "      <td>S</td>\n",
       "      <td>Child</td>\n",
       "    </tr>\n",
       "    <tr>\n",
       "      <th>58</th>\n",
       "      <td>59</td>\n",
       "      <td>1</td>\n",
       "      <td>2</td>\n",
       "      <td>West, Miss. Constance Mirium</td>\n",
       "      <td>female</td>\n",
       "      <td>5.0</td>\n",
       "      <td>1</td>\n",
       "      <td>2</td>\n",
       "      <td>C.A. 34651</td>\n",
       "      <td>27.7500</td>\n",
       "      <td>N</td>\n",
       "      <td>S</td>\n",
       "      <td>Baby</td>\n",
       "    </tr>\n",
       "    <tr>\n",
       "      <th>59</th>\n",
       "      <td>60</td>\n",
       "      <td>0</td>\n",
       "      <td>3</td>\n",
       "      <td>Goodwin, Master. William Frederick</td>\n",
       "      <td>male</td>\n",
       "      <td>11.0</td>\n",
       "      <td>5</td>\n",
       "      <td>2</td>\n",
       "      <td>CA 2144</td>\n",
       "      <td>46.9000</td>\n",
       "      <td>N</td>\n",
       "      <td>S</td>\n",
       "      <td>Child</td>\n",
       "    </tr>\n",
       "    <tr>\n",
       "      <th>125</th>\n",
       "      <td>126</td>\n",
       "      <td>1</td>\n",
       "      <td>3</td>\n",
       "      <td>Nicola-Yarred, Master. Elias</td>\n",
       "      <td>male</td>\n",
       "      <td>12.0</td>\n",
       "      <td>1</td>\n",
       "      <td>0</td>\n",
       "      <td>2651</td>\n",
       "      <td>11.2417</td>\n",
       "      <td>N</td>\n",
       "      <td>C</td>\n",
       "      <td>Child</td>\n",
       "    </tr>\n",
       "    <tr>\n",
       "      <th>147</th>\n",
       "      <td>148</td>\n",
       "      <td>0</td>\n",
       "      <td>3</td>\n",
       "      <td>Ford, Miss. Robina Maggie \"Ruby\"</td>\n",
       "      <td>female</td>\n",
       "      <td>9.0</td>\n",
       "      <td>2</td>\n",
       "      <td>2</td>\n",
       "      <td>W./C. 6608</td>\n",
       "      <td>34.3750</td>\n",
       "      <td>N</td>\n",
       "      <td>S</td>\n",
       "      <td>Child</td>\n",
       "    </tr>\n",
       "    <tr>\n",
       "      <th>165</th>\n",
       "      <td>166</td>\n",
       "      <td>1</td>\n",
       "      <td>3</td>\n",
       "      <td>Goldsmith, Master. Frank John William \"Frankie\"</td>\n",
       "      <td>male</td>\n",
       "      <td>9.0</td>\n",
       "      <td>0</td>\n",
       "      <td>2</td>\n",
       "      <td>363291</td>\n",
       "      <td>20.5250</td>\n",
       "      <td>N</td>\n",
       "      <td>S</td>\n",
       "      <td>Child</td>\n",
       "    </tr>\n",
       "    <tr>\n",
       "      <th>182</th>\n",
       "      <td>183</td>\n",
       "      <td>0</td>\n",
       "      <td>3</td>\n",
       "      <td>Asplund, Master. Clarence Gustaf Hugo</td>\n",
       "      <td>male</td>\n",
       "      <td>9.0</td>\n",
       "      <td>4</td>\n",
       "      <td>2</td>\n",
       "      <td>347077</td>\n",
       "      <td>31.3875</td>\n",
       "      <td>N</td>\n",
       "      <td>S</td>\n",
       "      <td>Child</td>\n",
       "    </tr>\n",
       "    <tr>\n",
       "      <th>233</th>\n",
       "      <td>234</td>\n",
       "      <td>1</td>\n",
       "      <td>3</td>\n",
       "      <td>Asplund, Miss. Lillian Gertrud</td>\n",
       "      <td>female</td>\n",
       "      <td>5.0</td>\n",
       "      <td>4</td>\n",
       "      <td>2</td>\n",
       "      <td>347077</td>\n",
       "      <td>31.3875</td>\n",
       "      <td>N</td>\n",
       "      <td>S</td>\n",
       "      <td>Baby</td>\n",
       "    </tr>\n",
       "    <tr>\n",
       "      <th>237</th>\n",
       "      <td>238</td>\n",
       "      <td>1</td>\n",
       "      <td>2</td>\n",
       "      <td>Collyer, Miss. Marjorie \"Lottie\"</td>\n",
       "      <td>female</td>\n",
       "      <td>8.0</td>\n",
       "      <td>0</td>\n",
       "      <td>2</td>\n",
       "      <td>C.A. 31921</td>\n",
       "      <td>26.2500</td>\n",
       "      <td>N</td>\n",
       "      <td>S</td>\n",
       "      <td>Child</td>\n",
       "    </tr>\n",
       "    <tr>\n",
       "      <th>278</th>\n",
       "      <td>279</td>\n",
       "      <td>0</td>\n",
       "      <td>3</td>\n",
       "      <td>Rice, Master. Eric</td>\n",
       "      <td>male</td>\n",
       "      <td>7.0</td>\n",
       "      <td>4</td>\n",
       "      <td>1</td>\n",
       "      <td>382652</td>\n",
       "      <td>29.1250</td>\n",
       "      <td>N</td>\n",
       "      <td>Q</td>\n",
       "      <td>Child</td>\n",
       "    </tr>\n",
       "    <tr>\n",
       "      <th>419</th>\n",
       "      <td>420</td>\n",
       "      <td>0</td>\n",
       "      <td>3</td>\n",
       "      <td>Van Impe, Miss. Catharina</td>\n",
       "      <td>female</td>\n",
       "      <td>10.0</td>\n",
       "      <td>0</td>\n",
       "      <td>2</td>\n",
       "      <td>345773</td>\n",
       "      <td>24.1500</td>\n",
       "      <td>N</td>\n",
       "      <td>S</td>\n",
       "      <td>Child</td>\n",
       "    </tr>\n",
       "    <tr>\n",
       "      <th>448</th>\n",
       "      <td>449</td>\n",
       "      <td>1</td>\n",
       "      <td>3</td>\n",
       "      <td>Baclini, Miss. Marie Catherine</td>\n",
       "      <td>female</td>\n",
       "      <td>5.0</td>\n",
       "      <td>2</td>\n",
       "      <td>1</td>\n",
       "      <td>2666</td>\n",
       "      <td>19.2583</td>\n",
       "      <td>N</td>\n",
       "      <td>C</td>\n",
       "      <td>Baby</td>\n",
       "    </tr>\n",
       "    <tr>\n",
       "      <th>480</th>\n",
       "      <td>481</td>\n",
       "      <td>0</td>\n",
       "      <td>3</td>\n",
       "      <td>Goodwin, Master. Harold Victor</td>\n",
       "      <td>male</td>\n",
       "      <td>9.0</td>\n",
       "      <td>5</td>\n",
       "      <td>2</td>\n",
       "      <td>CA 2144</td>\n",
       "      <td>46.9000</td>\n",
       "      <td>N</td>\n",
       "      <td>S</td>\n",
       "      <td>Child</td>\n",
       "    </tr>\n",
       "    <tr>\n",
       "      <th>489</th>\n",
       "      <td>490</td>\n",
       "      <td>1</td>\n",
       "      <td>3</td>\n",
       "      <td>Coutts, Master. Eden Leslie \"Neville\"</td>\n",
       "      <td>male</td>\n",
       "      <td>9.0</td>\n",
       "      <td>1</td>\n",
       "      <td>1</td>\n",
       "      <td>C.A. 37671</td>\n",
       "      <td>15.9000</td>\n",
       "      <td>N</td>\n",
       "      <td>S</td>\n",
       "      <td>Child</td>\n",
       "    </tr>\n",
       "    <tr>\n",
       "      <th>535</th>\n",
       "      <td>536</td>\n",
       "      <td>1</td>\n",
       "      <td>2</td>\n",
       "      <td>Hart, Miss. Eva Miriam</td>\n",
       "      <td>female</td>\n",
       "      <td>7.0</td>\n",
       "      <td>0</td>\n",
       "      <td>2</td>\n",
       "      <td>F.C.C. 13529</td>\n",
       "      <td>26.2500</td>\n",
       "      <td>N</td>\n",
       "      <td>S</td>\n",
       "      <td>Child</td>\n",
       "    </tr>\n",
       "    <tr>\n",
       "      <th>541</th>\n",
       "      <td>542</td>\n",
       "      <td>0</td>\n",
       "      <td>3</td>\n",
       "      <td>Andersson, Miss. Ingeborg Constanzia</td>\n",
       "      <td>female</td>\n",
       "      <td>9.0</td>\n",
       "      <td>4</td>\n",
       "      <td>2</td>\n",
       "      <td>347082</td>\n",
       "      <td>31.2750</td>\n",
       "      <td>N</td>\n",
       "      <td>S</td>\n",
       "      <td>Child</td>\n",
       "    </tr>\n",
       "    <tr>\n",
       "      <th>542</th>\n",
       "      <td>543</td>\n",
       "      <td>0</td>\n",
       "      <td>3</td>\n",
       "      <td>Andersson, Miss. Sigrid Elisabeth</td>\n",
       "      <td>female</td>\n",
       "      <td>11.0</td>\n",
       "      <td>4</td>\n",
       "      <td>2</td>\n",
       "      <td>347082</td>\n",
       "      <td>31.2750</td>\n",
       "      <td>N</td>\n",
       "      <td>S</td>\n",
       "      <td>Child</td>\n",
       "    </tr>\n",
       "    <tr>\n",
       "      <th>549</th>\n",
       "      <td>550</td>\n",
       "      <td>1</td>\n",
       "      <td>2</td>\n",
       "      <td>Davies, Master. John Morgan Jr</td>\n",
       "      <td>male</td>\n",
       "      <td>8.0</td>\n",
       "      <td>1</td>\n",
       "      <td>1</td>\n",
       "      <td>C.A. 33112</td>\n",
       "      <td>36.7500</td>\n",
       "      <td>N</td>\n",
       "      <td>S</td>\n",
       "      <td>Child</td>\n",
       "    </tr>\n",
       "    <tr>\n",
       "      <th>634</th>\n",
       "      <td>635</td>\n",
       "      <td>0</td>\n",
       "      <td>3</td>\n",
       "      <td>Skoog, Miss. Mabel</td>\n",
       "      <td>female</td>\n",
       "      <td>9.0</td>\n",
       "      <td>3</td>\n",
       "      <td>2</td>\n",
       "      <td>347088</td>\n",
       "      <td>27.9000</td>\n",
       "      <td>N</td>\n",
       "      <td>S</td>\n",
       "      <td>Child</td>\n",
       "    </tr>\n",
       "    <tr>\n",
       "      <th>720</th>\n",
       "      <td>721</td>\n",
       "      <td>1</td>\n",
       "      <td>2</td>\n",
       "      <td>Harper, Miss. Annie Jessie \"Nina\"</td>\n",
       "      <td>female</td>\n",
       "      <td>6.0</td>\n",
       "      <td>0</td>\n",
       "      <td>1</td>\n",
       "      <td>248727</td>\n",
       "      <td>33.0000</td>\n",
       "      <td>N</td>\n",
       "      <td>S</td>\n",
       "      <td>Child</td>\n",
       "    </tr>\n",
       "    <tr>\n",
       "      <th>731</th>\n",
       "      <td>732</td>\n",
       "      <td>0</td>\n",
       "      <td>3</td>\n",
       "      <td>Hassan, Mr. Houssein G N</td>\n",
       "      <td>male</td>\n",
       "      <td>11.0</td>\n",
       "      <td>0</td>\n",
       "      <td>0</td>\n",
       "      <td>2699</td>\n",
       "      <td>18.7875</td>\n",
       "      <td>N</td>\n",
       "      <td>C</td>\n",
       "      <td>Child</td>\n",
       "    </tr>\n",
       "    <tr>\n",
       "      <th>751</th>\n",
       "      <td>752</td>\n",
       "      <td>1</td>\n",
       "      <td>3</td>\n",
       "      <td>Moor, Master. Meier</td>\n",
       "      <td>male</td>\n",
       "      <td>6.0</td>\n",
       "      <td>0</td>\n",
       "      <td>1</td>\n",
       "      <td>392096</td>\n",
       "      <td>12.4750</td>\n",
       "      <td>E</td>\n",
       "      <td>S</td>\n",
       "      <td>Child</td>\n",
       "    </tr>\n",
       "    <tr>\n",
       "      <th>777</th>\n",
       "      <td>778</td>\n",
       "      <td>1</td>\n",
       "      <td>3</td>\n",
       "      <td>Emanuel, Miss. Virginia Ethel</td>\n",
       "      <td>female</td>\n",
       "      <td>5.0</td>\n",
       "      <td>0</td>\n",
       "      <td>0</td>\n",
       "      <td>364516</td>\n",
       "      <td>12.4750</td>\n",
       "      <td>N</td>\n",
       "      <td>S</td>\n",
       "      <td>Baby</td>\n",
       "    </tr>\n",
       "    <tr>\n",
       "      <th>787</th>\n",
       "      <td>788</td>\n",
       "      <td>0</td>\n",
       "      <td>3</td>\n",
       "      <td>Rice, Master. George Hugh</td>\n",
       "      <td>male</td>\n",
       "      <td>8.0</td>\n",
       "      <td>4</td>\n",
       "      <td>1</td>\n",
       "      <td>382652</td>\n",
       "      <td>29.1250</td>\n",
       "      <td>N</td>\n",
       "      <td>Q</td>\n",
       "      <td>Child</td>\n",
       "    </tr>\n",
       "    <tr>\n",
       "      <th>802</th>\n",
       "      <td>803</td>\n",
       "      <td>1</td>\n",
       "      <td>1</td>\n",
       "      <td>Carter, Master. William Thornton II</td>\n",
       "      <td>male</td>\n",
       "      <td>11.0</td>\n",
       "      <td>1</td>\n",
       "      <td>2</td>\n",
       "      <td>113760</td>\n",
       "      <td>120.0000</td>\n",
       "      <td>B</td>\n",
       "      <td>S</td>\n",
       "      <td>Child</td>\n",
       "    </tr>\n",
       "    <tr>\n",
       "      <th>813</th>\n",
       "      <td>814</td>\n",
       "      <td>0</td>\n",
       "      <td>3</td>\n",
       "      <td>Andersson, Miss. Ebba Iris Alfrida</td>\n",
       "      <td>female</td>\n",
       "      <td>6.0</td>\n",
       "      <td>4</td>\n",
       "      <td>2</td>\n",
       "      <td>347082</td>\n",
       "      <td>31.2750</td>\n",
       "      <td>N</td>\n",
       "      <td>S</td>\n",
       "      <td>Child</td>\n",
       "    </tr>\n",
       "    <tr>\n",
       "      <th>819</th>\n",
       "      <td>820</td>\n",
       "      <td>0</td>\n",
       "      <td>3</td>\n",
       "      <td>Skoog, Master. Karl Thorsten</td>\n",
       "      <td>male</td>\n",
       "      <td>10.0</td>\n",
       "      <td>3</td>\n",
       "      <td>2</td>\n",
       "      <td>347088</td>\n",
       "      <td>27.9000</td>\n",
       "      <td>N</td>\n",
       "      <td>S</td>\n",
       "      <td>Child</td>\n",
       "    </tr>\n",
       "    <tr>\n",
       "      <th>852</th>\n",
       "      <td>853</td>\n",
       "      <td>0</td>\n",
       "      <td>3</td>\n",
       "      <td>Boulos, Miss. Nourelain</td>\n",
       "      <td>female</td>\n",
       "      <td>9.0</td>\n",
       "      <td>1</td>\n",
       "      <td>1</td>\n",
       "      <td>2678</td>\n",
       "      <td>15.2458</td>\n",
       "      <td>N</td>\n",
       "      <td>C</td>\n",
       "      <td>Child</td>\n",
       "    </tr>\n",
       "  </tbody>\n",
       "</table>\n",
       "</div>"
      ],
      "text/plain": [
       "     PassengerId  Survived  Pclass  \\\n",
       "24            25         0       3   \n",
       "50            51         0       3   \n",
       "58            59         1       2   \n",
       "59            60         0       3   \n",
       "125          126         1       3   \n",
       "147          148         0       3   \n",
       "165          166         1       3   \n",
       "182          183         0       3   \n",
       "233          234         1       3   \n",
       "237          238         1       2   \n",
       "278          279         0       3   \n",
       "419          420         0       3   \n",
       "448          449         1       3   \n",
       "480          481         0       3   \n",
       "489          490         1       3   \n",
       "535          536         1       2   \n",
       "541          542         0       3   \n",
       "542          543         0       3   \n",
       "549          550         1       2   \n",
       "634          635         0       3   \n",
       "720          721         1       2   \n",
       "731          732         0       3   \n",
       "751          752         1       3   \n",
       "777          778         1       3   \n",
       "787          788         0       3   \n",
       "802          803         1       1   \n",
       "813          814         0       3   \n",
       "819          820         0       3   \n",
       "852          853         0       3   \n",
       "\n",
       "                                                Name     Sex   Age  SibSp  \\\n",
       "24                     Palsson, Miss. Torborg Danira  female   8.0      3   \n",
       "50                        Panula, Master. Juha Niilo    male   7.0      4   \n",
       "58                      West, Miss. Constance Mirium  female   5.0      1   \n",
       "59                Goodwin, Master. William Frederick    male  11.0      5   \n",
       "125                     Nicola-Yarred, Master. Elias    male  12.0      1   \n",
       "147                 Ford, Miss. Robina Maggie \"Ruby\"  female   9.0      2   \n",
       "165  Goldsmith, Master. Frank John William \"Frankie\"    male   9.0      0   \n",
       "182            Asplund, Master. Clarence Gustaf Hugo    male   9.0      4   \n",
       "233                   Asplund, Miss. Lillian Gertrud  female   5.0      4   \n",
       "237                 Collyer, Miss. Marjorie \"Lottie\"  female   8.0      0   \n",
       "278                               Rice, Master. Eric    male   7.0      4   \n",
       "419                        Van Impe, Miss. Catharina  female  10.0      0   \n",
       "448                   Baclini, Miss. Marie Catherine  female   5.0      2   \n",
       "480                   Goodwin, Master. Harold Victor    male   9.0      5   \n",
       "489            Coutts, Master. Eden Leslie \"Neville\"    male   9.0      1   \n",
       "535                           Hart, Miss. Eva Miriam  female   7.0      0   \n",
       "541             Andersson, Miss. Ingeborg Constanzia  female   9.0      4   \n",
       "542                Andersson, Miss. Sigrid Elisabeth  female  11.0      4   \n",
       "549                   Davies, Master. John Morgan Jr    male   8.0      1   \n",
       "634                               Skoog, Miss. Mabel  female   9.0      3   \n",
       "720                Harper, Miss. Annie Jessie \"Nina\"  female   6.0      0   \n",
       "731                         Hassan, Mr. Houssein G N    male  11.0      0   \n",
       "751                              Moor, Master. Meier    male   6.0      0   \n",
       "777                    Emanuel, Miss. Virginia Ethel  female   5.0      0   \n",
       "787                        Rice, Master. George Hugh    male   8.0      4   \n",
       "802              Carter, Master. William Thornton II    male  11.0      1   \n",
       "813               Andersson, Miss. Ebba Iris Alfrida  female   6.0      4   \n",
       "819                     Skoog, Master. Karl Thorsten    male  10.0      3   \n",
       "852                          Boulos, Miss. Nourelain  female   9.0      1   \n",
       "\n",
       "     Parch        Ticket      Fare Cabin Embarked Age_cat  \n",
       "24       1        349909   21.0750     N        S   Child  \n",
       "50       1       3101295   39.6875     N        S   Child  \n",
       "58       2    C.A. 34651   27.7500     N        S    Baby  \n",
       "59       2       CA 2144   46.9000     N        S   Child  \n",
       "125      0          2651   11.2417     N        C   Child  \n",
       "147      2    W./C. 6608   34.3750     N        S   Child  \n",
       "165      2        363291   20.5250     N        S   Child  \n",
       "182      2        347077   31.3875     N        S   Child  \n",
       "233      2        347077   31.3875     N        S    Baby  \n",
       "237      2    C.A. 31921   26.2500     N        S   Child  \n",
       "278      1        382652   29.1250     N        Q   Child  \n",
       "419      2        345773   24.1500     N        S   Child  \n",
       "448      1          2666   19.2583     N        C    Baby  \n",
       "480      2       CA 2144   46.9000     N        S   Child  \n",
       "489      1    C.A. 37671   15.9000     N        S   Child  \n",
       "535      2  F.C.C. 13529   26.2500     N        S   Child  \n",
       "541      2        347082   31.2750     N        S   Child  \n",
       "542      2        347082   31.2750     N        S   Child  \n",
       "549      1    C.A. 33112   36.7500     N        S   Child  \n",
       "634      2        347088   27.9000     N        S   Child  \n",
       "720      1        248727   33.0000     N        S   Child  \n",
       "731      0          2699   18.7875     N        C   Child  \n",
       "751      1        392096   12.4750     E        S   Child  \n",
       "777      0        364516   12.4750     N        S    Baby  \n",
       "787      1        382652   29.1250     N        Q   Child  \n",
       "802      2        113760  120.0000     B        S   Child  \n",
       "813      2        347082   31.2750     N        S   Child  \n",
       "819      2        347088   27.9000     N        S   Child  \n",
       "852      1          2678   15.2458     N        C   Child  "
      ]
     },
     "execution_count": 18,
     "metadata": {},
     "output_type": "execute_result"
    }
   ],
   "source": [
    "# 나이가 5이상, 12 이하인 데이터\n",
    "titanic_df[(titanic_df['Age']>=5) & (titanic_df['Age']<=12)]"
   ]
  },
  {
   "cell_type": "code",
   "execution_count": 20,
   "id": "503040a3",
   "metadata": {
    "ExecuteTime": {
     "end_time": "2022-03-26T12:44:43.375966Z",
     "start_time": "2022-03-26T12:44:42.903234Z"
    },
    "scrolled": false
   },
   "outputs": [
    {
     "data": {
      "text/plain": [
       "<AxesSubplot:xlabel='Age_cat', ylabel='Survived'>"
      ]
     },
     "execution_count": 20,
     "metadata": {},
     "output_type": "execute_result"
    },
    {
     "data": {
      "text/plain": [
       "<Figure size 720x432 with 0 Axes>"
      ]
     },
     "metadata": {},
     "output_type": "display_data"
    },
    {
     "data": {
      "image/png": "[encoded data removed]",
      "text/plain": [
       "<Figure size 720x720 with 1 Axes>"
      ]
     },
     "metadata": {},
     "output_type": "display_data"
    }
   ],
   "source": [
    "# 나이를 기준으로 카테고리 나누는 함수\n",
    "def get_category(age):\n",
    "    cat = ''\n",
    "    if age<= -1 :cat = 'Unknown'\n",
    "    elif age<=5 : cat ='Baby'\n",
    "    elif age<=12: cat = 'Child'\n",
    "    elif age<=18: cat='Teenager'\n",
    "    elif age<=25: cat ='Student'\n",
    "    elif age <=35 : cat = 'Young Adult'\n",
    "    elif age <=60: cat = 'Adult'\n",
    "    else: cat = 'Elderly'\n",
    "    return cat\n",
    "# 막대 그래프 크기 figure를 더 크게 설정\n",
    "plt.figure(figsize=(10,6))\n",
    "\n",
    "# X축 값을 순차적으로 표시하기 위한 설정\n",
    "group_names=['Unknown','Baby','Child','Teenager','Student','Young Adult','Adult','Elderly']\n",
    "\n",
    "# lambda 식 위에서 생성한 get_category() 함수 바노한값으로 지정\n",
    "# get_category(X)는 입력값으로 'Age' 칼럼 값을 받아 해당하는 cat 반환\n",
    "plt.figure(figsize=(10,10))\n",
    "titanic_df['Age_cat']=titanic_df['Age'].apply(lambda x : get_category(x))\n",
    "sns.barplot(x='Age_cat',y='Survived',hue='Sex',data=titanic_df,order=group_names)\n",
    "# titanic_df.drop('Age_cat',axis=1,inplace=True)"
   ]
  },
  {
   "cell_type": "markdown",
   "id": "08942cfc",
   "metadata": {},
   "source": [
    "## 남아있는 문자열 카테고리 피처를 숫자형 카테고리 피처로 변환"
   ]
  },
  {
   "cell_type": "code",
   "execution_count": 21,
   "id": "928d0ad3",
   "metadata": {
    "ExecuteTime": {
     "end_time": "2022-03-26T12:44:54.766376Z",
     "start_time": "2022-03-26T12:44:54.752424Z"
    }
   },
   "outputs": [
    {
     "data": {
      "text/html": [
       "<div>\n",
       "<style scoped>\n",
       "    .dataframe tbody tr th:only-of-type {\n",
       "        vertical-align: middle;\n",
       "    }\n",
       "\n",
       "    .dataframe tbody tr th {\n",
       "        vertical-align: top;\n",
       "    }\n",
       "\n",
       "    .dataframe thead th {\n",
       "        text-align: right;\n",
       "    }\n",
       "</style>\n",
       "<table border=\"1\" class=\"dataframe\">\n",
       "  <thead>\n",
       "    <tr style=\"text-align: right;\">\n",
       "      <th></th>\n",
       "      <th>PassengerId</th>\n",
       "      <th>Survived</th>\n",
       "      <th>Pclass</th>\n",
       "      <th>Name</th>\n",
       "      <th>Sex</th>\n",
       "      <th>Age</th>\n",
       "      <th>SibSp</th>\n",
       "      <th>Parch</th>\n",
       "      <th>Ticket</th>\n",
       "      <th>Fare</th>\n",
       "      <th>Cabin</th>\n",
       "      <th>Embarked</th>\n",
       "      <th>Age_cat</th>\n",
       "    </tr>\n",
       "  </thead>\n",
       "  <tbody>\n",
       "    <tr>\n",
       "      <th>0</th>\n",
       "      <td>1</td>\n",
       "      <td>0</td>\n",
       "      <td>3</td>\n",
       "      <td>Braund, Mr. Owen Harris</td>\n",
       "      <td>1</td>\n",
       "      <td>22.0</td>\n",
       "      <td>1</td>\n",
       "      <td>0</td>\n",
       "      <td>A/5 21171</td>\n",
       "      <td>7.2500</td>\n",
       "      <td>7</td>\n",
       "      <td>3</td>\n",
       "      <td>Student</td>\n",
       "    </tr>\n",
       "    <tr>\n",
       "      <th>1</th>\n",
       "      <td>2</td>\n",
       "      <td>1</td>\n",
       "      <td>1</td>\n",
       "      <td>Cumings, Mrs. John Bradley (Florence Briggs Th...</td>\n",
       "      <td>0</td>\n",
       "      <td>38.0</td>\n",
       "      <td>1</td>\n",
       "      <td>0</td>\n",
       "      <td>PC 17599</td>\n",
       "      <td>71.2833</td>\n",
       "      <td>2</td>\n",
       "      <td>0</td>\n",
       "      <td>Adult</td>\n",
       "    </tr>\n",
       "    <tr>\n",
       "      <th>2</th>\n",
       "      <td>3</td>\n",
       "      <td>1</td>\n",
       "      <td>3</td>\n",
       "      <td>Heikkinen, Miss. Laina</td>\n",
       "      <td>0</td>\n",
       "      <td>26.0</td>\n",
       "      <td>0</td>\n",
       "      <td>0</td>\n",
       "      <td>STON/O2. 3101282</td>\n",
       "      <td>7.9250</td>\n",
       "      <td>7</td>\n",
       "      <td>3</td>\n",
       "      <td>Young Adult</td>\n",
       "    </tr>\n",
       "    <tr>\n",
       "      <th>3</th>\n",
       "      <td>4</td>\n",
       "      <td>1</td>\n",
       "      <td>1</td>\n",
       "      <td>Futrelle, Mrs. Jacques Heath (Lily May Peel)</td>\n",
       "      <td>0</td>\n",
       "      <td>35.0</td>\n",
       "      <td>1</td>\n",
       "      <td>0</td>\n",
       "      <td>113803</td>\n",
       "      <td>53.1000</td>\n",
       "      <td>2</td>\n",
       "      <td>3</td>\n",
       "      <td>Young Adult</td>\n",
       "    </tr>\n",
       "    <tr>\n",
       "      <th>4</th>\n",
       "      <td>5</td>\n",
       "      <td>0</td>\n",
       "      <td>3</td>\n",
       "      <td>Allen, Mr. William Henry</td>\n",
       "      <td>1</td>\n",
       "      <td>35.0</td>\n",
       "      <td>0</td>\n",
       "      <td>0</td>\n",
       "      <td>373450</td>\n",
       "      <td>8.0500</td>\n",
       "      <td>7</td>\n",
       "      <td>3</td>\n",
       "      <td>Young Adult</td>\n",
       "    </tr>\n",
       "  </tbody>\n",
       "</table>\n",
       "</div>"
      ],
      "text/plain": [
       "   PassengerId  Survived  Pclass  \\\n",
       "0            1         0       3   \n",
       "1            2         1       1   \n",
       "2            3         1       3   \n",
       "3            4         1       1   \n",
       "4            5         0       3   \n",
       "\n",
       "                                                Name  Sex   Age  SibSp  Parch  \\\n",
       "0                            Braund, Mr. Owen Harris    1  22.0      1      0   \n",
       "1  Cumings, Mrs. John Bradley (Florence Briggs Th...    0  38.0      1      0   \n",
       "2                             Heikkinen, Miss. Laina    0  26.0      0      0   \n",
       "3       Futrelle, Mrs. Jacques Heath (Lily May Peel)    0  35.0      1      0   \n",
       "4                           Allen, Mr. William Henry    1  35.0      0      0   \n",
       "\n",
       "             Ticket     Fare  Cabin  Embarked      Age_cat  \n",
       "0         A/5 21171   7.2500      7         3      Student  \n",
       "1          PC 17599  71.2833      2         0        Adult  \n",
       "2  STON/O2. 3101282   7.9250      7         3  Young Adult  \n",
       "3            113803  53.1000      2         3  Young Adult  \n",
       "4            373450   8.0500      7         3  Young Adult  "
      ]
     },
     "execution_count": 21,
     "metadata": {},
     "output_type": "execute_result"
    }
   ],
   "source": [
    "from sklearn import preprocessing\n",
    "\n",
    "#  피처 인코딩\n",
    "def encode_features(dataDF):\n",
    "    features= ['Cabin','Sex','Embarked']\n",
    "    for feature in features:\n",
    "        le = preprocessing.LabelEncoder()\n",
    "        le= le.fit(dataDF[feature])\n",
    "        dataDF[feature] = le.transform(dataDF[feature])\n",
    "    return dataDF\n",
    "titanic_df = encode_features(titanic_df)\n",
    "titanic_df.head()"
   ]
  },
  {
   "cell_type": "markdown",
   "id": "8a0e1ab5",
   "metadata": {},
   "source": [
    "데이터 전처리를 전체적으로 호출하는 함수는 transform_features()\n",
    "\n",
    "ㄴ> Null처리, 포매팅, 인코딩 수행하는 내부 함수"
   ]
  },
  {
   "cell_type": "code",
   "execution_count": 22,
   "id": "7e7b484a",
   "metadata": {
    "ExecuteTime": {
     "end_time": "2022-03-26T12:45:08.262062Z",
     "start_time": "2022-03-26T12:45:08.249062Z"
    }
   },
   "outputs": [],
   "source": [
    "#NULL 처리 함수\n",
    "\n",
    "def fillna(df):\n",
    "    df['Age'].fillna(df['Age'].mean(),inplace=True)\n",
    "    df['Cabin'].fillna('N',inplace=True)\n",
    "    df['Embarked'].fillna('N',inplace=True)\n",
    "    df['Fare'].fillna(0,inplace=True)\n",
    "    return df\n",
    "\n",
    "# 머신러닝 알고리즘에 불필요한 속성 제거\n",
    "def drop_features(df):\n",
    "    \n",
    "    df.drop(['PassengerId','Name','Ticket'],axis=1,inplace=True   )\n",
    "    return df\n",
    "\n",
    "# 레이블 인코딩 수행\n",
    "\n",
    "def format_features(df):\n",
    "    df['Cabin'] = df['Cabin'].str[:1]\n",
    "    features = ['Cabin','Sex','Embarked']\n",
    "    for feature in features:\n",
    "        le = LabelEncoder()\n",
    "        le = le.fit(df[feature])\n",
    "        df[feature] = le.transform(df[feature])\n",
    "    return df\n",
    "\n",
    "\n",
    "# 앞에서 설정한 데이터 전처리 함수 호출\n",
    "\n",
    "def transform_features(df):\n",
    "    df = fillna(df)\n",
    "    df = drop_features(df)\n",
    "    df = format_features(df)\n",
    "    return df   "
   ]
  },
  {
   "cell_type": "code",
   "execution_count": 24,
   "id": "9d6ca2c8",
   "metadata": {
    "ExecuteTime": {
     "end_time": "2022-03-26T12:45:19.659945Z",
     "start_time": "2022-03-26T12:45:19.647940Z"
    }
   },
   "outputs": [],
   "source": [
    "#  원본 데이터를 재로딩하고, 피처 데이터 세트와 레이블 데이터 세트 추출\n",
    "titanic_df = pd.read_csv('data/titanic_train.csv')\n",
    "y = titanic_df['Survived']  # y 선정"
   ]
  },
  {
   "cell_type": "code",
   "execution_count": 25,
   "id": "af14e695",
   "metadata": {
    "ExecuteTime": {
     "end_time": "2022-03-26T12:45:30.164881Z",
     "start_time": "2022-03-26T12:45:30.143862Z"
    }
   },
   "outputs": [],
   "source": [
    "X = titanic_df.drop(['Survived'],axis=1) # x 선정\n",
    "X = transform_features(X)"
   ]
  },
  {
   "cell_type": "code",
   "execution_count": 27,
   "id": "3ab50aa2",
   "metadata": {
    "ExecuteTime": {
     "end_time": "2022-03-26T12:45:50.220785Z",
     "start_time": "2022-03-26T12:45:50.207868Z"
    }
   },
   "outputs": [],
   "source": [
    "# 학습 데이터 테스트 데이터 분리\n",
    "from sklearn.model_selection import train_test_split\n",
    "X_train,X_test,y_train,y_test = train_test_split(X,y,test_size=0.2,random_state=11)"
   ]
  },
  {
   "cell_type": "code",
   "execution_count": 28,
   "id": "54679761",
   "metadata": {
    "ExecuteTime": {
     "end_time": "2022-03-26T12:45:51.291860Z",
     "start_time": "2022-03-26T12:45:50.360770Z"
    }
   },
   "outputs": [],
   "source": [
    "# 모델 \n",
    "from sklearn.tree import DecisionTreeClassifier\n",
    "from sklearn.ensemble import RandomForestClassifier\n",
    "from sklearn.linear_model import LogisticRegression\n",
    "from sklearn.metrics import accuracy_score"
   ]
  },
  {
   "cell_type": "code",
   "execution_count": 29,
   "id": "eaa377cb",
   "metadata": {
    "ExecuteTime": {
     "end_time": "2022-03-26T12:45:51.472754Z",
     "start_time": "2022-03-26T12:45:51.293860Z"
    }
   },
   "outputs": [
    {
     "name": "stdout",
     "output_type": "stream",
     "text": [
      "의사결정나무 정확도 0.7877\n",
      "랜덤포레스트 정확도 0.7877\n",
      "로지스틱 회귀 정확도 0.7877\n"
     ]
    },
    {
     "name": "stderr",
     "output_type": "stream",
     "text": [
      "C:\\Users\\TFG5076XG\\anaconda3\\lib\\site-packages\\sklearn\\linear_model\\_logistic.py:814: ConvergenceWarning: lbfgs failed to converge (status=1):\n",
      "STOP: TOTAL NO. of ITERATIONS REACHED LIMIT.\n",
      "\n",
      "Increase the number of iterations (max_iter) or scale the data as shown in:\n",
      "    https://scikit-learn.org/stable/modules/preprocessing.html\n",
      "Please also refer to the documentation for alternative solver options:\n",
      "    https://scikit-learn.org/stable/modules/linear_model.html#logistic-regression\n",
      "  n_iter_i = _check_optimize_result(\n"
     ]
    }
   ],
   "source": [
    "# 결정트리, 랜덤포레스트, 로지스틱 회귀를 위한 사이킷런 분류 클래스 생성\n",
    "dt_clf =DecisionTreeClassifier(random_state=11)\n",
    "rf_clf=RandomForestClassifier(random_state=11)\n",
    "lr_clf =LogisticRegression()\n",
    "\n",
    "#  의사결정나무 학습 예측 평가\n",
    "dt_clf.fit(X_train,y_train)\n",
    "dt_pred= dt_clf.predict(X_test)\n",
    "print('의사결정나무 정확도 {0:.4f}'.format(accuracy_score(y_test,dt_pred)))\n",
    "\n",
    "# 랜덤포레스트 학습 예측 평가\n",
    "rf_clf.fit(X_train,y_train)\n",
    "rf_pred = rf_clf.predict(X_test)\n",
    "print('랜덤포레스트 정확도 {0:.4f}'.format(accuracy_score(y_test,dt_pred)))\n",
    "\n",
    "\n",
    "# 로지스틱회귀 학습 예측 평가\n",
    "lr_clf.fit(X_train,y_train)\n",
    "lr_pred = lr_clf.predict(X_test)\n",
    "print('로지스틱 회귀 정확도 {0:.4f}'.format(accuracy_score(y_test,dt_pred)))\n",
    "\n"
   ]
  },
  {
   "cell_type": "markdown",
   "id": "e89f9739",
   "metadata": {},
   "source": [
    "## 교차검증으로 결정트리 모델 평가"
   ]
  },
  {
   "cell_type": "markdown",
   "id": "d172d496",
   "metadata": {},
   "source": [
    "### kfold"
   ]
  },
  {
   "cell_type": "code",
   "execution_count": 30,
   "id": "6e5186ae",
   "metadata": {
    "ExecuteTime": {
     "end_time": "2022-03-26T12:46:04.398599Z",
     "start_time": "2022-03-26T12:46:04.377584Z"
    }
   },
   "outputs": [
    {
     "name": "stdout",
     "output_type": "stream",
     "text": [
      "교차검증0 정확도 : 0.7542\n",
      "교차검증1 정확도 : 0.7809\n",
      "교차검증2 정확도 : 0.7865\n",
      "교차검증3 정확도 : 0.7697\n",
      "교차검증4 정확도 : 0.8202\n",
      "평균 정확도: 0.7823\n"
     ]
    }
   ],
   "source": [
    "from sklearn.model_selection import KFold\n",
    "\n",
    "def exec_kfold(clf, folds = 5):\n",
    "    # 폴드 세트를 5개인 KFold객체 생성, 폴드 수만큼예측 결과 저장을 위한 리스트 객체 생성\n",
    "    kfold = KFold(n_splits=folds)\n",
    "    scores = []\n",
    "    \n",
    "    # KFold교차검증수행\n",
    "    for iter_count,(train_index,test_index) in enumerate(kfold.split(X)):\n",
    "        X_train,X_test = X.values[train_index],X.values[test_index]\n",
    "        y_train,y_test = y.values[train_index],y.values[test_index]\n",
    "        \n",
    "        #Classifier 학습, 예측, 정확도 계산\n",
    "        \n",
    "        clf.fit(X_train,y_train)\n",
    "        predictions = clf.predict(X_test)\n",
    "        accuracy = accuracy_score(y_test, predictions)\n",
    "        scores.append(accuracy)\n",
    "        print(\"교차검증{0} 정확도 : {1:.4f}\".format(iter_count,accuracy))\n",
    "\n",
    "    # 5개 fold에서 평균 정확도 계산\n",
    "    mean_score = np.mean(scores)\n",
    "    print('평균 정확도: {0:.4f}'.format(mean_score))\n",
    "# exe_kfold 호출\n",
    "\n",
    "exec_kfold(dt_clf)"
   ]
  },
  {
   "cell_type": "markdown",
   "id": "55c5d203",
   "metadata": {},
   "source": [
    "### cross_val_score()\n",
    "\n",
    "- 요건 StratifiedKfold 사용하기땜에 결과값이 다를 수 있음."
   ]
  },
  {
   "cell_type": "code",
   "execution_count": 33,
   "id": "3dffc464",
   "metadata": {
    "ExecuteTime": {
     "end_time": "2022-03-26T12:46:34.129817Z",
     "start_time": "2022-03-26T12:46:34.096735Z"
    }
   },
   "outputs": [
    {
     "name": "stdout",
     "output_type": "stream",
     "text": [
      "교차검증0 정확도 : 0.7430\n",
      "교차검증1 정확도 : 0.7753\n",
      "교차검증2 정확도 : 0.7921\n",
      "교차검증3 정확도 : 0.7865\n",
      "교차검증4 정확도 : 0.8427\n",
      "평균 정확도: 0.7879\n"
     ]
    }
   ],
   "source": [
    "from sklearn.model_selection import cross_val_score\n",
    "\n",
    "scores = cross_val_score(dt_clf, X, y, cv = 5)\n",
    "\n",
    "for iter_count,accuracy in enumerate(scores):\n",
    "    print(\"교차검증{0} 정확도 : {1:.4f}\".format(iter_count,accuracy))\n",
    "print('평균 정확도: {0:.4f}'.format(np.mean(scores)))\n"
   ]
  },
  {
   "cell_type": "markdown",
   "id": "30773de2",
   "metadata": {},
   "source": [
    "### cross_val_score()\n",
    "\n",
    "- 요건 StratifiedKfold 사용하기땜에 결과값이 다를 수 있음."
   ]
  },
  {
   "cell_type": "code",
   "execution_count": 34,
   "id": "124fe528",
   "metadata": {
    "ExecuteTime": {
     "end_time": "2022-03-26T12:46:42.041451Z",
     "start_time": "2022-03-26T12:46:41.999460Z"
    },
    "scrolled": true
   },
   "outputs": [
    {
     "name": "stdout",
     "output_type": "stream",
     "text": [
      "교차검증0 정확도 : 0.7430\n",
      "교차검증1 정확도 : 0.7753\n",
      "교차검증2 정확도 : 0.7921\n",
      "교차검증3 정확도 : 0.7865\n",
      "교차검증4 정확도 : 0.8427\n",
      "평균 정확도: 0.7879\n"
     ]
    }
   ],
   "source": [
    "from sklearn.model_selection import cross_val_score\n",
    "\n",
    "scores = cross_val_score(dt_clf, X, y, cv = 5)\n",
    "\n",
    "for iter_count,accuracy in enumerate(scores):\n",
    "    print(\"교차검증{0} 정확도 : {1:.4f}\".format(iter_count,accuracy))\n",
    "print('평균 정확도: {0:.4f}'.format(np.mean(scores)))\n"
   ]
  },
  {
   "cell_type": "markdown",
   "id": "33091e8a",
   "metadata": {},
   "source": [
    "### 그리드 서치"
   ]
  },
  {
   "cell_type": "code",
   "execution_count": 35,
   "id": "6419c79a",
   "metadata": {
    "ExecuteTime": {
     "end_time": "2022-03-26T12:46:51.512822Z",
     "start_time": "2022-03-26T12:46:50.783102Z"
    }
   },
   "outputs": [
    {
     "name": "stdout",
     "output_type": "stream",
     "text": [
      "그리드 서치 최적 하이퍼 파라미터:  {'max_depth': 3, 'min_samples_leaf': 5, 'min_samples_split': 2}\n",
      "그리드 서치 최적 최고 정확도:  0.7991825076332119\n",
      "테스트 세트에서 의사결정나무 정확도:  0.8715083798882681\n"
     ]
    }
   ],
   "source": [
    "from sklearn.model_selection import GridSearchCV\n",
    "param = {'max_depth':[2,3,5,10],\n",
    "        'min_samples_split':[2,3,5],\n",
    "         'min_samples_leaf':[1,5,8]       \n",
    "        }\n",
    "grid_dclf = GridSearchCV(dt_clf,param_grid=param,scoring='accuracy',cv=5)\n",
    "grid_dclf.fit(X_train,y_train)\n",
    "\n",
    "print('그리드 서치 최적 하이퍼 파라미터: ',grid_dclf.best_params_)\n",
    "print('그리드 서치 최적 최고 정확도: ',grid_dclf.best_score_)\n",
    "best_dclf = grid_dclf.best_estimator_ \n",
    "\n",
    "\n",
    "# 그리드서치 최적 하이퍼 파라미터로 학습된 Estimator로 예측 및 평가 수행\n",
    "dpredictions = best_dclf.predict(X_test)\n",
    "accuracy = accuracy_score(y_test,dpredictions)\n",
    "print('테스트 세트에서 의사결정나무 정확도: ',accuracy)\n",
    "\n"
   ]
  },
  {
   "cell_type": "markdown",
   "id": "6fb0ed8b",
   "metadata": {
    "ExecuteTime": {
     "end_time": "2022-03-26T12:47:16.889860Z",
     "start_time": "2022-03-26T12:47:16.880858Z"
    }
   },
   "source": [
    "```\n",
    "정확도는 직관적으로 모델 예측 성능을 평가하는 지표.\n",
    "\n",
    "이진 분류의 경우 데이터의 구성에 따라 ML 모델의 성능을 왜곡할 수있기 때문에 정확도 수치 하나만 가지고 성능 평가하지 않는다.\n",
    "\n",
    "불균형한 데이터 세트에 모든 데이터를 0으로 예측하는 clasifier을 이용하면 높은 예측 정확도를나타냄.\n",
    "\n",
    "파무것도 하지 않고 무조건 특정한 결과로 찍어도   \n",
    "데이터 분포도가 균일하지 않은 경우 높은 수치가 나타날 수 있는 것이 정확도 평가 지표의 맹점\n",
    "```"
   ]
  },
  {
   "cell_type": "markdown",
   "id": "b82c51c2",
   "metadata": {},
   "source": [
    "# 정확도 평가 지표는 불균형한 레이블 데이터 세트에서는 성능 수치로 사용되어서는 안된다.\n",
    "\n",
    "- 이러한 한계점을 극복하기 위해 다양한 분류지표와 함께 적용"
   ]
  },
  {
   "cell_type": "markdown",
   "id": "f257b71e",
   "metadata": {},
   "source": [
    "# 분류(Classification) 성능 평가 지표 \n",
    "\n",
    "###  정확도(Accuracy)\n",
    "\n",
    "- 예측결과가동일한 데이터건수/전체예측데이터건수 \n",
    "- 직관적으로 모델 예측 성능을 나타내는 평가지표이다. \n",
    "\n",
    "### 오차 행렬(Confusion Matrix)\n",
    "\n",
    "- 예측 오류가 얼마인지와 더블어 어떠한 유형의 예측 오류가 발생하고 있는지를 함께 나타낸다.\n",
    "- True Negative: 예측값을 Negative 값 0으로 예측했고, 실제 값도 Negative 값 0\n",
    "- False Positive: 예측값을 Positive 값 1로 예측했는데, 실제 값은 Negative 값 0\n",
    "- False Negative: 예측값을 Negative 값 0으로 예측했는데, 실제 값은 Positive 값 1\n",
    "- True Positive: 예측값을 Positive 값 1로 예측했고, 실제 값도 Positive 값 1\n",
    "\n",
    "###  정밀도(Precision)와 재현율(Recall)\n",
    "- 정밀도 = TP / (FP + TP)\n",
    "- 재현율 = TP / (FN + TP)\n",
    "\n",
    "\n",
    "###  F1 Score(F-measure)\n",
    "- 정밀도와 재현율을 결합한 지표\n",
    "- 정밀도와 재현율이 어느 한쪽으로 치우치지 않을 때 높은 값을 가짐\n",
    "\n",
    "\n",
    "###   ROC(Receiver operation characteristric curve) 곡선과 AUC(Area Under Curve)\n",
    "- ROC 곡선은 FPR(False Positive Rate)이 변할 때 TPR(True Positive Rate)이 어떻게 변하는지 나타내는 곡선\n",
    "- AUC(Area Under Curve) 값은 ROC 곡선 밑에 면적을 구한 값 (1이 가까울수록 좋은 값)\n"
   ]
  },
  {
   "cell_type": "markdown",
   "id": "8259f61b",
   "metadata": {},
   "source": [
    "\n",
    "## 오차행렬\n",
    "```\n",
    "- TN : 예측이 0 인데 실제값은 0  FP : 예측이 1 인데 실제값은 0\n",
    "- FN : 예측이 1 인데 실제값은 1  TP : 예측이 0 인데 실제값은 1\n",
    "\n",
    "정확도 = 예측 결과와 실제 값이 동일한 건수 / 전체 데이터 수  \n",
    "(TN + TP) / (TN + FP + FN + TP)\n",
    "\n",
    "정밀도 = TP / (FP + TP)  \n",
    "\n",
    "- 스펨메일 여부 판단하는 모델\n",
    "- 실제 positive인 스펨 메일을 Negative인 일반 메일로 분류하더라고 불편함을 느끼는 정도지만\n",
    "실제 Neagetive인 일반 메일을 Positive 스팸 메일로 분류할 경우 메일을 아예 받지 못함.\n",
    "\n",
    "재현율 = TP / (FN + TP)\n",
    "- 보험 사기, 금융사기, 암 환자 진단.\n",
    "- 실제Positive인 암 환자를 Neagative로 잘못 판단하면 오류의 대가가 심각함\n",
    "```"
   ]
  },
  {
   "cell_type": "markdown",
   "id": "cc97ced4",
   "metadata": {},
   "source": [
    "### 이진분류 - titanic 인 경우 테스트 "
   ]
  },
  {
   "cell_type": "code",
   "execution_count": 60,
   "id": "fac50d4f",
   "metadata": {
    "ExecuteTime": {
     "end_time": "2022-03-26T13:02:01.121399Z",
     "start_time": "2022-03-26T13:02:01.113399Z"
    }
   },
   "outputs": [],
   "source": [
    "from sklearn.neighbors import KNeighborsClassifier\n",
    "from sklearn.tree import DecisionTreeClassifier\n",
    "from sklearn.ensemble import RandomForestClassifier\n",
    "from sklearn.linear_model import LogisticRegression\n",
    "from sklearn.metrics import accuracy_score"
   ]
  },
  {
   "cell_type": "code",
   "execution_count": 63,
   "id": "5367b12b",
   "metadata": {
    "ExecuteTime": {
     "end_time": "2022-03-26T13:02:26.829378Z",
     "start_time": "2022-03-26T13:02:26.798379Z"
    }
   },
   "outputs": [
    {
     "name": "stdout",
     "output_type": "stream",
     "text": [
      "    PassengerId  Survived  Pclass                   Name   Sex   Age  SibSp  \\\n",
      "33           34         0       2  Wheadon, Mr. Edward H  male  66.0      0   \n",
      "\n",
      "    Parch      Ticket  Fare Cabin Embarked  \n",
      "33      0  C.A. 24579  10.5   NaN        S  \n",
      "============================================================\n"
     ]
    }
   ],
   "source": [
    "from sklearn.preprocessing import LabelEncoder\n",
    "from sklearn.model_selection import train_test_split\n",
    "\n",
    "titanic_df = pd.read_csv('data/titanic_book.csv')\n",
    "print(titanic_df.sample())\n",
    "\n",
    "print('='*60)\n",
    "titanic_df['Age'].fillna(titanic_df['Age'].mean(),inplace=True)\n",
    "titanic_df['Cabin'].fillna('N', inplace=True)\n",
    "titanic_df['Embarked'].fillna('N', inplace=True)\n",
    "\n",
    "\n",
    "encoder = LabelEncoder()\n",
    "encoder.fit(titanic_df['Sex'])\n",
    "temp = encoder.transform(titanic_df['Sex'])\n",
    "titanic_df['Sex'] = temp.reshape(-1, 1)\n",
    "\n",
    "encoder.fit(titanic_df['Embarked'])\n",
    "temp = encoder.transform(titanic_df['Embarked'])\n",
    "titanic_df['Embarked'] = temp.reshape(-1, 1)\n",
    "\n",
    "titanic_df['Cabin'] = titanic_df['Cabin'].str[:1]\n",
    "encoder.fit(titanic_df['Cabin'])\n",
    "temp = encoder.transform(titanic_df['Cabin'])\n",
    "titanic_df['Cabin'] = temp.reshape(-1, 1)\n",
    "\n",
    "\n",
    "titanic_df.drop(['PassengerId','Name','Ticket'], axis=1, inplace=True)"
   ]
  },
  {
   "cell_type": "code",
   "execution_count": 64,
   "id": "162aaa01",
   "metadata": {
    "ExecuteTime": {
     "end_time": "2022-03-26T13:02:33.688084Z",
     "start_time": "2022-03-26T13:02:33.676099Z"
    }
   },
   "outputs": [
    {
     "data": {
      "text/plain": [
       "KNeighborsClassifier(n_neighbors=3)"
      ]
     },
     "execution_count": 64,
     "metadata": {},
     "output_type": "execute_result"
    }
   ],
   "source": [
    "# X, y 선정\n",
    "X_titanic_df = titanic_df.loc[:, 'Pclass':]\n",
    "y_titanic_df = titanic_df['Survived']\n",
    "X_train, X_test, y_train, y_test = train_test_split(X_titanic_df, y_titanic_df, \n",
    "                                                    test_size=0.2, random_state=11)\n",
    "\n",
    "model_kn = KNeighborsClassifier(n_neighbors=3)\n",
    "model_kn.fit(X_train , y_train)"
   ]
  },
  {
   "cell_type": "markdown",
   "id": "a3a001c7",
   "metadata": {},
   "source": [
    "### 정확도 평가지표 테스트  :  titanic\n",
    "\n",
    "- from sklearn.metrics import accuracy_score\n",
    "- accuracy_score(y_test, 모델명.predict(X_test))"
   ]
  },
  {
   "cell_type": "code",
   "execution_count": null,
   "id": "a6755c1b",
   "metadata": {},
   "outputs": [],
   "source": [
    "import sklearn\n",
    "from sklearn.metrics import accuracy_score"
   ]
  },
  {
   "cell_type": "code",
   "execution_count": 65,
   "id": "ace61f63",
   "metadata": {
    "ExecuteTime": {
     "end_time": "2022-03-26T13:03:07.919266Z",
     "start_time": "2022-03-26T13:03:07.893266Z"
    }
   },
   "outputs": [
    {
     "data": {
      "text/plain": [
       "0.8412921348314607"
      ]
     },
     "execution_count": 65,
     "metadata": {},
     "output_type": "execute_result"
    }
   ],
   "source": [
    "# X train 정확도\n",
    "accuracy_score(y_train, model_kn.predict(X_train))"
   ]
  },
  {
   "cell_type": "code",
   "execution_count": 66,
   "id": "0cd7bd7b",
   "metadata": {
    "ExecuteTime": {
     "end_time": "2022-03-26T13:03:08.204317Z",
     "start_time": "2022-03-26T13:03:08.188317Z"
    }
   },
   "outputs": [
    {
     "data": {
      "text/plain": [
       "0.7150837988826816"
      ]
     },
     "execution_count": 66,
     "metadata": {},
     "output_type": "execute_result"
    }
   ],
   "source": [
    "# X test 정확도\n",
    "accuracy_score(y_test, model_kn.predict(X_test))"
   ]
  },
  {
   "cell_type": "code",
   "execution_count": 68,
   "id": "79f8c931",
   "metadata": {
    "ExecuteTime": {
     "end_time": "2022-03-26T13:03:27.489350Z",
     "start_time": "2022-03-26T13:03:27.473351Z"
    }
   },
   "outputs": [
    {
     "data": {
      "text/plain": [
       "0.7150837988826816"
      ]
     },
     "execution_count": 68,
     "metadata": {},
     "output_type": "execute_result"
    }
   ],
   "source": [
    "# 모델 정확도 \n",
    "model_kn.score(X_test,y_test)"
   ]
  },
  {
   "cell_type": "markdown",
   "id": "fb5eafe1",
   "metadata": {},
   "source": [
    "## 오차행렬(Confusion Matrix)\n",
    "\n",
    "- 오차행렬은 이진 분류의 예측 오류가 얼마인지와 더블어 어떠한 유형의 예측 오류가 발생하고 있는지를 함께 나타낸다.\n",
    "- 사이킷런의 confusion_matrix 모듈 이용 \n",
    "\n",
    "```\n",
    "from sklearn.metrics import confusion_matrix\n",
    "\n",
    "confusion_matrix(y_test, model_kn.predict(X_test))\n",
    "\n",
    "\n",
    "TN (True Negative) : 예측값을 Negative 값 0으로 예측했고, 실제 값도 Negative 값 0\n",
    "FP (False Positive) : 예측값을 Positive 값 1로 예측했는데, 실제 값은 Negative 값 0\n",
    "FN (False Negative) : 예측값을 Negative 값 0으로 예측했는데, 실제 값은 Positive 값 1\n",
    "TP (True Positive): 예측값을 Positive 값 1로 예측했고, 실제 값도 Positive 값 1\n",
    "```\n",
    "- 정밀도와 재현율에 사용\n",
    "\n",
    "<br>\n",
    "<img src='https://static.packt-cdn.com/products/9781838555078/graphics/C13314_06_05.jpg' width='60%'>"
   ]
  },
  {
   "cell_type": "code",
   "execution_count": 69,
   "id": "85710c31",
   "metadata": {
    "ExecuteTime": {
     "end_time": "2022-03-26T13:03:36.132107Z",
     "start_time": "2022-03-26T13:03:36.116580Z"
    }
   },
   "outputs": [
    {
     "data": {
      "text/plain": [
       "array([[99, 19],\n",
       "       [32, 29]], dtype=int64)"
      ]
     },
     "execution_count": 69,
     "metadata": {},
     "output_type": "execute_result"
    }
   ],
   "source": [
    "from sklearn.metrics import confusion_matrix, accuracy_score,mean_squared_error\n",
    "confusion_matrix(y_test,model_kn.predict(X_test))"
   ]
  },
  {
   "cell_type": "code",
   "execution_count": 71,
   "id": "16f32dc0",
   "metadata": {
    "ExecuteTime": {
     "end_time": "2022-03-26T13:03:51.076209Z",
     "start_time": "2022-03-26T13:03:51.052699Z"
    }
   },
   "outputs": [
    {
     "name": "stdout",
     "output_type": "stream",
     "text": [
      "0.7150837988826816\n"
     ]
    },
    {
     "data": {
      "text/plain": [
       "0.7150837988826816"
      ]
     },
     "execution_count": 71,
     "metadata": {},
     "output_type": "execute_result"
    }
   ],
   "source": [
    "# 정확도 = (TN + TP) / (TN + FP + FN + TP)\n",
    "confmat = confusion_matrix(y_test, model_kn.predict(X_test))\n",
    "print(accuracy_score(y_test, model_kn.predict(X_test)))\n",
    "(confmat[0,0] + confmat[1,1])    /       (confmat[0,0] + confmat[0,1] + confmat[1,0] + confmat[1,1])"
   ]
  },
  {
   "cell_type": "code",
   "execution_count": 72,
   "id": "6ffce177",
   "metadata": {
    "ExecuteTime": {
     "end_time": "2022-03-26T13:03:51.943293Z",
     "start_time": "2022-03-26T13:03:51.932294Z"
    }
   },
   "outputs": [
    {
     "data": {
      "text/plain": [
       "array([[99, 19],\n",
       "       [32, 29]], dtype=int64)"
      ]
     },
     "execution_count": 72,
     "metadata": {},
     "output_type": "execute_result"
    }
   ],
   "source": [
    "confmat"
   ]
  },
  {
   "cell_type": "code",
   "execution_count": 76,
   "id": "bc97f629",
   "metadata": {
    "ExecuteTime": {
     "end_time": "2022-03-26T13:04:23.546590Z",
     "start_time": "2022-03-26T13:04:23.470585Z"
    }
   },
   "outputs": [
    {
     "data": {
      "text/plain": [
       "Text(70.0, 0.5, 'Actual')"
      ]
     },
     "execution_count": 76,
     "metadata": {},
     "output_type": "execute_result"
    },
    {
     "data": {
      "image/png": "[encoded data removed]",
      "text/plain": [
       "<Figure size 720x720 with 1 Axes>"
      ]
     },
     "metadata": {},
     "output_type": "display_data"
    }
   ],
   "source": [
    "plt.figure(figsize=(10,10))\n",
    "sns.heatmap(confusion_matrix(y_test, model_kn.predict(X_test)), \\\n",
    "            annot=True, cmap='GnBu', cbar=False);\n",
    "plt.xlabel('Predict')\n",
    "plt.ylabel('Actual')"
   ]
  },
  {
   "cell_type": "code",
   "execution_count": 77,
   "id": "a1b32201",
   "metadata": {
    "ExecuteTime": {
     "end_time": "2022-03-26T13:04:29.710986Z",
     "start_time": "2022-03-26T13:04:29.690986Z"
    }
   },
   "outputs": [
    {
     "name": "stdout",
     "output_type": "stream",
     "text": [
      "0.2849162011173184\n"
     ]
    },
    {
     "data": {
      "text/plain": [
       "0.2849162011173184"
      ]
     },
     "execution_count": 77,
     "metadata": {},
     "output_type": "execute_result"
    }
   ],
   "source": [
    "# 오류율 = (FN + FP) / (TN + FP + FN + TP)\n",
    "print(mean_squared_error(y_test, model_kn.predict(X_test)))\n",
    "\n",
    "(confmat[0,1] + confmat[1,0]) / (confmat[0,0] + confmat[0,1] + confmat[1,0] + confmat[1,1])"
   ]
  },
  {
   "cell_type": "markdown",
   "id": "8013dd81",
   "metadata": {},
   "source": [
    "##  정밀도/재현율 트레이드오프 (Precision/Recall Trade-off)\n",
    "\n",
    "- 정밀도와 재현율은 상호보완적인 평가 지표이기 때문에 어느 한쪽을 강제로 높이면 다른 하나의 수치는 떨어지기쉽다. \n",
    "<br> 이를 정밀도/재현율의 트레이드(Trade Off) 라고 한다. \n",
    "\n",
    "가장 좋은 성능 평가는 재현율과 정밀도 모두 높은 수치를 얻는 것이다. \n",
    "\n",
    "재현율이 중요 지표인 경우는 실제 Positive 양성 데이터를 Negative로 잘못 판단하게 되면   \n",
    "업무상 큰 영향이 발생하는 경우이다.   \n",
    "예) 암진단, 금융사기 판별  \n",
    "\n",
    "\n",
    "정밀도가 중요 지표인 경우의 예는 스팸메일 여부를 판단하는 모델의 경우   \n",
    "실제 Positive인 스팸 메일을 Negative인 일반 메일로 분류하여   \n",
    "사용자가 불편함을 느끼는 정도이지만   \n",
    "실제 Negative 인 일반 메일을 Positive인 스팸 메일로 분류하여 메일을 아예받지 못하는 경우가 있다   \n",
    "예) 스팸메일  \n"
   ]
  },
  {
   "cell_type": "markdown",
   "id": "ae03cf5c",
   "metadata": {},
   "source": [
    "##### titanic 에 적용"
   ]
  },
  {
   "cell_type": "code",
   "execution_count": 78,
   "id": "2af2a20a",
   "metadata": {
    "ExecuteTime": {
     "end_time": "2022-03-26T13:05:07.805083Z",
     "start_time": "2022-03-26T13:05:07.774085Z"
    }
   },
   "outputs": [
    {
     "name": "stdout",
     "output_type": "stream",
     "text": [
      "정밀도: 0.6041666666666666\n",
      "재현율: 0.47540983606557374\n",
      "\n",
      "\n",
      "정밀도: 0.6041666666666666\n",
      "재현율: 0.47540983606557374\n"
     ]
    }
   ],
   "source": [
    "from sklearn.metrics import accuracy_score, confusion_matrix, precision_score , recall_score\n",
    "\n",
    "print(\"정밀도:\", precision_score(y_test, model_kn.predict(X_test)))\n",
    "print(\"재현율:\", recall_score(y_test, model_kn.predict(X_test)))\n",
    "\n",
    "# Confusion Matrix에 적용 : TP / (FP + TP)\n",
    "print(\"\\n\\n정밀도:\", (confmat[1,1] / (confmat[0,1] + confmat[1,1])))\n",
    "\n",
    "# Confusion Matrix에 적용 : FN / (FP + TP)\n",
    "print(\"재현율:\", (confmat[1,1] / (confmat[1,0] + confmat[1,1])))"
   ]
  }
 ],
 "metadata": {
  "kernelspec": {
   "display_name": "Python 3 (ipykernel)",
   "language": "python",
   "name": "python3"
  },
  "language_info": {
   "codemirror_mode": {
    "name": "ipython",
    "version": 3
   },
   "file_extension": ".py",
   "mimetype": "text/x-python",
   "name": "python",
   "nbconvert_exporter": "python",
   "pygments_lexer": "ipython3",
   "version": "3.8.8"
  },
  "toc": {
   "base_numbering": 1,
   "nav_menu": {},
   "number_sections": false,
   "sideBar": true,
   "skip_h1_title": false,
   "title_cell": "Table of Contents",
   "title_sidebar": "Contents",
   "toc_cell": false,
   "toc_position": {
    "height": "789px",
    "left": "38px",
    "top": "92px",
    "width": "384px"
   },
   "toc_section_display": true,
   "toc_window_display": true
  }
 },
 "nbformat": 4,
 "nbformat_minor": 5
}
