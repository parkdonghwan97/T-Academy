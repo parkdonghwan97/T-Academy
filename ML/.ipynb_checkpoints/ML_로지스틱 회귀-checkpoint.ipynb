{
 "cells": [
  {
   "cell_type": "code",
   "execution_count": 34,
   "id": "9c859c90",
   "metadata": {
    "ExecuteTime": {
     "end_time": "2022-03-27T14:59:00.351162Z",
     "start_time": "2022-03-27T14:59:00.335136Z"
    }
   },
   "outputs": [],
   "source": [
    "import numpy as np\n",
    "import pandas as pd\n",
    "import os\n",
    "\n",
    "import matplotlib\n",
    "import matplotlib.pyplot as plt\n",
    "import seaborn as sns\n",
    "\n",
    "%matplotlib inline\n",
    "\n",
    "# 관련 라이브러리 임포트 \n",
    "import matplotlib.font_manager as fm\n",
    "\n",
    "#  한글글꼴로 변경\n",
    "# plt.rcParams['font.family'] = '한글글꼴명'\n",
    "plt.rcParams['font.size'] = 11.0\n",
    "# plt.rcParams['font.family'] = 'batang'\n",
    "plt.rcParams['font.family'] = 'Malgun Gothic'\n",
    "\n",
    "# 그래프에서 마이너스 폰트 깨지는 문제에 대한 대처\n",
    "matplotlib.rcParams['axes.unicode_minus'] = False\n",
    "plt.style.use('ggplot')\n",
    "\n",
    "# 그래프 기본 크기 설정 \n",
    "plt.rcParams['figure.figsize'] = [10, 10]"
   ]
  },
  {
   "cell_type": "code",
   "execution_count": 35,
   "id": "d4296fe0",
   "metadata": {
    "ExecuteTime": {
     "end_time": "2022-03-27T14:59:00.366732Z",
     "start_time": "2022-03-27T14:59:00.353680Z"
    }
   },
   "outputs": [],
   "source": [
    "from sklearn.linear_model import LinearRegression, Ridge, Lasso, LogisticRegression\n",
    "from sklearn.neighbors import KNeighborsClassifier\n",
    "from sklearn.tree import DecisionTreeClassifier\n",
    "\n",
    "from sklearn.metrics import f1_score, recall_score, precision_score, classification_report\n",
    "\n",
    "from sklearn.preprocessing import PolynomialFeatures, StandardScaler, MinMaxScaler\n",
    "from sklearn.model_selection import train_test_split, cross_val_score, GridSearchCV\n",
    "\n",
    "from sklearn.pipeline import Pipeline"
   ]
  },
  {
   "cell_type": "markdown",
   "id": "b4b34c18",
   "metadata": {},
   "source": [
    "# 로지스틱 회귀\n",
    "\n",
    "- 시그모이드 함수 => 이진분류 \n",
    "- 소프트맥스 함수 => 다중분류"
   ]
  },
  {
   "cell_type": "markdown",
   "id": "37c3c700",
   "metadata": {},
   "source": [
    "### 시그모이드(sigmoid) 함수의 특징 \n",
    "```\n",
    "z 입력에 무엇이 들어가든 함수값이 (0,1)로 제한된다. \n",
    "중간 값은 0.5 이다.\n",
    "매우 큰 값을 가지면 거의 1이며, 매우 작은 값을 가지면 거의 0이다.  \n",
    "Binary classification에 적절한 함수이다. \n",
    "```\n",
    "\n",
    "z = (회귀계수1*피처값1) + (회귀계수2*피처값2) + .... + 절편\n",
    "\n",
    "- z를 확률로 변경하여 주는 함수가 시그모이드 함수\n",
    "\n",
    "<img src=\"https://wikimedia.org/api/rest_v1/media/math/render/svg/faaa0c014ae28ac67db5c49b3f3e8b08415a3f2b\">\n",
    "\n",
    "- z가 0이면 0.5. z가 어떤값이 되더라도 0~1사이의 범위가 된다. \n",
    "\n",
    "- 0.5를 기준으로 작으면 0 음성클래스, 크면 1 양성클래스 \n",
    "\n",
    "- 시그모이드 그래프 \n",
    "<img src=\"https://mblogthumb-phinf.pstatic.net/MjAyMDA3MDdfMTgx/MDAxNTk0MTMwODg2NzAw.Bgt42rm3pV0xTPfuVjN1UbXw9HchDcAdLdvnsrAQvJ0g.ILAv2yJkoMXNiWHKAUe0QswJWyr84GwwlRbXwxCogKUg.PNG.zzoyou_/sigmoid.png?type=w800\" width=\"50%\">"
   ]
  },
  {
   "cell_type": "code",
   "execution_count": 36,
   "id": "0d65fa30",
   "metadata": {
    "ExecuteTime": {
     "end_time": "2022-03-27T14:59:00.381732Z",
     "start_time": "2022-03-27T14:59:00.367780Z"
    }
   },
   "outputs": [],
   "source": [
    "# 시그모이드 함수 구현 \n",
    "x = np.arange(-5, 5, 0.1)\n",
    "y = 1 / (1 + np.exp(-x))"
   ]
  },
  {
   "cell_type": "code",
   "execution_count": 37,
   "id": "507520b0",
   "metadata": {
    "ExecuteTime": {
     "end_time": "2022-03-27T14:59:00.507264Z",
     "start_time": "2022-03-27T14:59:00.383734Z"
    }
   },
   "outputs": [
    {
     "data": {
      "image/png": "[encoded data removed]",
      "text/plain": [
       "<Figure size 720x720 with 1 Axes>"
      ]
     },
     "metadata": {},
     "output_type": "display_data"
    }
   ],
   "source": [
    "# 시그모이드 시각화 \n",
    "plt.plot(x, y)\n",
    "plt.yticks(np.arange(0, 1.1, step=0.1)) #  y 눈금 설정 \n",
    "plt.xticks(np.arange(-5, 6)) # x눈금 설정  \n",
    "plt.grid()\n",
    "plt.show()"
   ]
  },
  {
   "cell_type": "markdown",
   "id": "f70c2d6e",
   "metadata": {},
   "source": [
    "### 데이터 준비하기 - 이진분류용  \n",
    "- RedWine"
   ]
  },
  {
   "cell_type": "code",
   "execution_count": 38,
   "id": "eb04963a",
   "metadata": {
    "ExecuteTime": {
     "end_time": "2022-03-27T14:59:00.523313Z",
     "start_time": "2022-03-27T14:59:00.508265Z"
    }
   },
   "outputs": [
    {
     "data": {
      "text/html": [
       "<div>\n",
       "<style scoped>\n",
       "    .dataframe tbody tr th:only-of-type {\n",
       "        vertical-align: middle;\n",
       "    }\n",
       "\n",
       "    .dataframe tbody tr th {\n",
       "        vertical-align: top;\n",
       "    }\n",
       "\n",
       "    .dataframe thead th {\n",
       "        text-align: right;\n",
       "    }\n",
       "</style>\n",
       "<table border=\"1\" class=\"dataframe\">\n",
       "  <thead>\n",
       "    <tr style=\"text-align: right;\">\n",
       "      <th></th>\n",
       "      <th>alcohol</th>\n",
       "      <th>sugar</th>\n",
       "      <th>pH</th>\n",
       "      <th>class</th>\n",
       "    </tr>\n",
       "  </thead>\n",
       "  <tbody>\n",
       "    <tr>\n",
       "      <th>0</th>\n",
       "      <td>9.4</td>\n",
       "      <td>1.9</td>\n",
       "      <td>3.51</td>\n",
       "      <td>0.0</td>\n",
       "    </tr>\n",
       "    <tr>\n",
       "      <th>1</th>\n",
       "      <td>9.8</td>\n",
       "      <td>2.6</td>\n",
       "      <td>3.20</td>\n",
       "      <td>0.0</td>\n",
       "    </tr>\n",
       "    <tr>\n",
       "      <th>2</th>\n",
       "      <td>9.8</td>\n",
       "      <td>2.3</td>\n",
       "      <td>3.26</td>\n",
       "      <td>0.0</td>\n",
       "    </tr>\n",
       "    <tr>\n",
       "      <th>3</th>\n",
       "      <td>9.8</td>\n",
       "      <td>1.9</td>\n",
       "      <td>3.16</td>\n",
       "      <td>0.0</td>\n",
       "    </tr>\n",
       "    <tr>\n",
       "      <th>4</th>\n",
       "      <td>9.4</td>\n",
       "      <td>1.9</td>\n",
       "      <td>3.51</td>\n",
       "      <td>0.0</td>\n",
       "    </tr>\n",
       "  </tbody>\n",
       "</table>\n",
       "</div>"
      ],
      "text/plain": [
       "   alcohol  sugar    pH  class\n",
       "0      9.4    1.9  3.51    0.0\n",
       "1      9.8    2.6  3.20    0.0\n",
       "2      9.8    2.3  3.26    0.0\n",
       "3      9.8    1.9  3.16    0.0\n",
       "4      9.4    1.9  3.51    0.0"
      ]
     },
     "execution_count": 38,
     "metadata": {},
     "output_type": "execute_result"
    }
   ],
   "source": [
    "wine_df = pd.read_csv('data/redwine.csv')\n",
    "wine_df.head()"
   ]
  },
  {
   "cell_type": "code",
   "execution_count": 39,
   "id": "fd912a3d",
   "metadata": {
    "ExecuteTime": {
     "end_time": "2022-03-27T14:59:00.538890Z",
     "start_time": "2022-03-27T14:59:00.524306Z"
    }
   },
   "outputs": [],
   "source": [
    "# 데이타 분리 \n",
    "X = wine_df[['alcohol','sugar','pH']]\n",
    "y = wine_df['class']\n",
    "\n",
    "X_train, X_test, y_train, y_test = train_test_split(X, y, random_state=42, stratify=y)\n",
    "\n",
    "# 데이터 스케일링\n",
    "scale = StandardScaler()\n",
    "scale.fit(X_train)\n",
    "\n",
    "X_train_scaled = scale.transform(X_train)\n",
    "X_test_scaled = scale.transform(X_test)"
   ]
  },
  {
   "cell_type": "code",
   "execution_count": 40,
   "id": "ae499516",
   "metadata": {
    "ExecuteTime": {
     "end_time": "2022-03-27T14:59:00.554920Z",
     "start_time": "2022-03-27T14:59:00.539890Z"
    }
   },
   "outputs": [
    {
     "data": {
      "text/plain": [
       "LogisticRegression()"
      ]
     },
     "execution_count": 40,
     "metadata": {},
     "output_type": "execute_result"
    }
   ],
   "source": [
    "# 로지스틱 모델 생성 \n",
    "model_lr = LogisticRegression()\n",
    "model_lr.fit(X_train_scaled, y_train)"
   ]
  },
  {
   "cell_type": "code",
   "execution_count": 41,
   "id": "6396e5ff",
   "metadata": {
    "ExecuteTime": {
     "end_time": "2022-03-27T14:59:00.570931Z",
     "start_time": "2022-03-27T14:59:00.555890Z"
    }
   },
   "outputs": [
    {
     "data": {
      "text/plain": [
       "array([[-1.16264222,  1.59213805, -1.73132902],\n",
       "       [-0.49628519, -0.71713049, -0.04729092],\n",
       "       [ 0.64207473, -0.24044662,  0.26456799],\n",
       "       [-1.24593685,  2.38661116,  0.13982442],\n",
       "       [-0.32969594,  0.4692827 , -0.73338052]])"
      ]
     },
     "execution_count": 41,
     "metadata": {},
     "output_type": "execute_result"
    }
   ],
   "source": [
    "# 학습 데이타 5개 \n",
    "X_train_scaled[:5]"
   ]
  },
  {
   "cell_type": "code",
   "execution_count": 42,
   "id": "06db9177",
   "metadata": {
    "ExecuteTime": {
     "end_time": "2022-03-27T14:59:00.586446Z",
     "start_time": "2022-03-27T14:59:00.571932Z"
    }
   },
   "outputs": [
    {
     "data": {
      "text/plain": [
       "5797    1.0\n",
       "1532    0.0\n",
       "6214    1.0\n",
       "5150    1.0\n",
       "4084    1.0\n",
       "Name: class, dtype: float64"
      ]
     },
     "execution_count": 42,
     "metadata": {},
     "output_type": "execute_result"
    }
   ],
   "source": [
    "# 학습 데이타 라벨 5개 \n",
    "y_train[:5]"
   ]
  },
  {
   "cell_type": "code",
   "execution_count": 43,
   "id": "52c3ef17",
   "metadata": {
    "ExecuteTime": {
     "end_time": "2022-03-27T14:59:00.602118Z",
     "start_time": "2022-03-27T14:59:00.591116Z"
    }
   },
   "outputs": [
    {
     "data": {
      "text/plain": [
       "array([1., 1., 1., 1., 1.])"
      ]
     },
     "execution_count": 43,
     "metadata": {},
     "output_type": "execute_result"
    }
   ],
   "source": [
    "# 실제 라벨 \n",
    "model_lr.predict(X_train_scaled[:5])"
   ]
  },
  {
   "cell_type": "code",
   "execution_count": 44,
   "id": "68431c18",
   "metadata": {
    "ExecuteTime": {
     "end_time": "2022-03-27T14:59:00.617839Z",
     "start_time": "2022-03-27T14:59:00.604116Z"
    }
   },
   "outputs": [
    {
     "data": {
      "text/plain": [
       "array([[0.00644789, 0.99355211],\n",
       "       [0.41499677, 0.58500323],\n",
       "       [0.17226491, 0.82773509],\n",
       "       [0.00672176, 0.99327824],\n",
       "       [0.05130558, 0.94869442]])"
      ]
     },
     "execution_count": 44,
     "metadata": {},
     "output_type": "execute_result"
    }
   ],
   "source": [
    "# 라벨 별 확율 \n",
    "model_lr.predict_proba(X_train_scaled[:5])"
   ]
  },
  {
   "cell_type": "code",
   "execution_count": 45,
   "id": "cb457df8",
   "metadata": {
    "ExecuteTime": {
     "end_time": "2022-03-27T14:59:00.633836Z",
     "start_time": "2022-03-27T14:59:00.618843Z"
    }
   },
   "outputs": [
    {
     "data": {
      "text/plain": [
       "(array([[ 0.5686556 ,  1.67908873, -0.70998832]]), array([1.79611169]))"
      ]
     },
     "execution_count": 45,
     "metadata": {},
     "output_type": "execute_result"
    }
   ],
   "source": [
    "# 기울기(각 피처) , 절편\n",
    "model_lr.coef_, model_lr.intercept_"
   ]
  },
  {
   "cell_type": "code",
   "execution_count": 46,
   "id": "a0041d30",
   "metadata": {
    "ExecuteTime": {
     "end_time": "2022-03-27T14:59:00.649365Z",
     "start_time": "2022-03-27T14:59:00.636838Z"
    }
   },
   "outputs": [
    {
     "data": {
      "text/plain": [
       "array([-1.16264222,  1.59213805, -1.73132902])"
      ]
     },
     "execution_count": 46,
     "metadata": {},
     "output_type": "execute_result"
    }
   ],
   "source": [
    "X_train_scaled[0]"
   ]
  },
  {
   "cell_type": "code",
   "execution_count": 47,
   "id": "789f64ed",
   "metadata": {
    "ExecuteTime": {
     "end_time": "2022-03-27T14:59:00.664955Z",
     "start_time": "2022-03-27T14:59:00.651370Z"
    }
   },
   "outputs": [
    {
     "data": {
      "text/plain": [
       "array([5.03753311])"
      ]
     },
     "execution_count": 47,
     "metadata": {},
     "output_type": "execute_result"
    }
   ],
   "source": [
    "# z 값 구하기 1\n",
    "# 각기울기*각피처  => z 값 \n",
    "# ax + b \n",
    "np.sum(model_lr.coef_*X_train_scaled[0]) + model_lr.intercept_"
   ]
  },
  {
   "cell_type": "code",
   "execution_count": 48,
   "id": "c10c6bd0",
   "metadata": {
    "ExecuteTime": {
     "end_time": "2022-03-27T14:59:00.680953Z",
     "start_time": "2022-03-27T14:59:00.665975Z"
    }
   },
   "outputs": [
    {
     "data": {
      "text/plain": [
       "array([5.03753311])"
      ]
     },
     "execution_count": 48,
     "metadata": {},
     "output_type": "execute_result"
    }
   ],
   "source": [
    "# z 값 구하기 2 - 사이킷런에서 제공 \n",
    "# decision_function([X_train_scaled[0]])\n",
    "decisions = model_lr.decision_function([X_train_scaled[0]])\n",
    "decisions"
   ]
  },
  {
   "cell_type": "code",
   "execution_count": 49,
   "id": "f12f5300",
   "metadata": {
    "ExecuteTime": {
     "end_time": "2022-03-27T14:59:00.696952Z",
     "start_time": "2022-03-27T14:59:00.682953Z"
    }
   },
   "outputs": [
    {
     "data": {
      "text/plain": [
       "array([-1.16264222,  1.59213805, -1.73132902])"
      ]
     },
     "execution_count": 49,
     "metadata": {},
     "output_type": "execute_result"
    }
   ],
   "source": [
    "X_train_scaled[0]"
   ]
  },
  {
   "cell_type": "code",
   "execution_count": 50,
   "id": "90bba9bb",
   "metadata": {
    "ExecuteTime": {
     "end_time": "2022-03-27T14:59:00.712810Z",
     "start_time": "2022-03-27T14:59:00.698952Z"
    }
   },
   "outputs": [
    {
     "data": {
      "text/plain": [
       "array([[0.00644789, 0.99355211]])"
      ]
     },
     "execution_count": 50,
     "metadata": {},
     "output_type": "execute_result"
    }
   ],
   "source": [
    "# predict_proba() 라벨의 확률 \n",
    "model_lr.predict_proba([X_train_scaled[0]])"
   ]
  },
  {
   "cell_type": "code",
   "execution_count": 51,
   "id": "708b7c7a",
   "metadata": {
    "ExecuteTime": {
     "end_time": "2022-03-27T14:59:00.728334Z",
     "start_time": "2022-03-27T14:59:00.713810Z"
    }
   },
   "outputs": [
    {
     "data": {
      "text/plain": [
       "array([0.99355211])"
      ]
     },
     "execution_count": 51,
     "metadata": {},
     "output_type": "execute_result"
    }
   ],
   "source": [
    "# 시그모이드함수 적용 \n",
    "# 양성클래스의 확률값 \n",
    "z = model_lr.decision_function([X_train_scaled[0]])\n",
    "1 / (1 + np.exp(-z))"
   ]
  },
  {
   "cell_type": "code",
   "execution_count": 52,
   "id": "37536fe4",
   "metadata": {
    "ExecuteTime": {
     "end_time": "2022-03-27T14:59:00.743364Z",
     "start_time": "2022-03-27T14:59:00.730335Z"
    }
   },
   "outputs": [
    {
     "data": {
      "text/plain": [
       "array([[0.00644789, 0.99355211]])"
      ]
     },
     "execution_count": 52,
     "metadata": {},
     "output_type": "execute_result"
    }
   ],
   "source": [
    "model_lr.predict_proba([X_train_scaled[0]])"
   ]
  },
  {
   "cell_type": "code",
   "execution_count": 53,
   "id": "b86f787d",
   "metadata": {
    "ExecuteTime": {
     "end_time": "2022-03-27T14:59:00.758335Z",
     "start_time": "2022-03-27T14:59:00.744336Z"
    }
   },
   "outputs": [
    {
     "data": {
      "text/plain": [
       "array([1.])"
      ]
     },
     "execution_count": 53,
     "metadata": {},
     "output_type": "execute_result"
    }
   ],
   "source": [
    "model_lr.predict([X_train_scaled[0]])"
   ]
  },
  {
   "cell_type": "markdown",
   "id": "8043af60",
   "metadata": {},
   "source": [
    "1) 각 피처값, 각 피처값 기울기, 절편  => z   \n",
    "2) z => 시그모이드 함수 => 1이될 확률(p)   \n",
    "3) p 값이 0.5보다 크면 1을 반환, 반대면 0반환   "
   ]
  },
  {
   "cell_type": "markdown",
   "id": "cdb2a0a1",
   "metadata": {},
   "source": [
    "## 로지스틱 회귀로 다중 분류 수행하기\n",
    "\n",
    "#### 소프트맥스 함수\n",
    "- 0~1 사이의 확률값 (단, 결과 총합이 1이 된다)\n",
    "- multinomial classification\n",
    "- 라벨 분류값이 하나일 때 사용되는 시그모이드 함수를 라벨 분류값이 여러개일 때도 사용할 수 있도록 일반화 한 것이다\n",
    "\n",
    "<img src='https://ichi.pro/assets/images/max/724/1*jf_Qr_etCPtIKq7NYa6F_w.png' width=\"50%\">"
   ]
  },
  {
   "cell_type": "code",
   "execution_count": 54,
   "id": "79f715f8",
   "metadata": {
    "ExecuteTime": {
     "end_time": "2022-03-27T14:59:00.774363Z",
     "start_time": "2022-03-27T14:59:00.759334Z"
    }
   },
   "outputs": [
    {
     "data": {
      "text/plain": [
       "dict_keys(['data', 'target', 'frame', 'target_names', 'DESCR', 'feature_names'])"
      ]
     },
     "execution_count": 54,
     "metadata": {},
     "output_type": "execute_result"
    }
   ],
   "source": [
    "# 데이터 준비\n",
    "from sklearn.datasets import load_wine\n",
    "wine_data = load_wine()\n",
    "wine_data.keys()"
   ]
  },
  {
   "cell_type": "code",
   "execution_count": 55,
   "id": "23a3a87e",
   "metadata": {
    "ExecuteTime": {
     "end_time": "2022-03-27T14:59:00.806364Z",
     "start_time": "2022-03-27T14:59:00.775379Z"
    }
   },
   "outputs": [
    {
     "data": {
      "text/html": [
       "<div>\n",
       "<style scoped>\n",
       "    .dataframe tbody tr th:only-of-type {\n",
       "        vertical-align: middle;\n",
       "    }\n",
       "\n",
       "    .dataframe tbody tr th {\n",
       "        vertical-align: top;\n",
       "    }\n",
       "\n",
       "    .dataframe thead th {\n",
       "        text-align: right;\n",
       "    }\n",
       "</style>\n",
       "<table border=\"1\" class=\"dataframe\">\n",
       "  <thead>\n",
       "    <tr style=\"text-align: right;\">\n",
       "      <th></th>\n",
       "      <th>alcohol</th>\n",
       "      <th>malic_acid</th>\n",
       "      <th>ash</th>\n",
       "      <th>alcalinity_of_ash</th>\n",
       "      <th>magnesium</th>\n",
       "      <th>total_phenols</th>\n",
       "      <th>flavanoids</th>\n",
       "      <th>nonflavanoid_phenols</th>\n",
       "      <th>proanthocyanins</th>\n",
       "      <th>color_intensity</th>\n",
       "      <th>hue</th>\n",
       "      <th>od280/od315_of_diluted_wines</th>\n",
       "      <th>proline</th>\n",
       "      <th>target</th>\n",
       "    </tr>\n",
       "  </thead>\n",
       "  <tbody>\n",
       "    <tr>\n",
       "      <th>0</th>\n",
       "      <td>14.23</td>\n",
       "      <td>1.71</td>\n",
       "      <td>2.43</td>\n",
       "      <td>15.6</td>\n",
       "      <td>127.0</td>\n",
       "      <td>2.80</td>\n",
       "      <td>3.06</td>\n",
       "      <td>0.28</td>\n",
       "      <td>2.29</td>\n",
       "      <td>5.64</td>\n",
       "      <td>1.04</td>\n",
       "      <td>3.92</td>\n",
       "      <td>1065.0</td>\n",
       "      <td>0</td>\n",
       "    </tr>\n",
       "    <tr>\n",
       "      <th>1</th>\n",
       "      <td>13.20</td>\n",
       "      <td>1.78</td>\n",
       "      <td>2.14</td>\n",
       "      <td>11.2</td>\n",
       "      <td>100.0</td>\n",
       "      <td>2.65</td>\n",
       "      <td>2.76</td>\n",
       "      <td>0.26</td>\n",
       "      <td>1.28</td>\n",
       "      <td>4.38</td>\n",
       "      <td>1.05</td>\n",
       "      <td>3.40</td>\n",
       "      <td>1050.0</td>\n",
       "      <td>0</td>\n",
       "    </tr>\n",
       "    <tr>\n",
       "      <th>2</th>\n",
       "      <td>13.16</td>\n",
       "      <td>2.36</td>\n",
       "      <td>2.67</td>\n",
       "      <td>18.6</td>\n",
       "      <td>101.0</td>\n",
       "      <td>2.80</td>\n",
       "      <td>3.24</td>\n",
       "      <td>0.30</td>\n",
       "      <td>2.81</td>\n",
       "      <td>5.68</td>\n",
       "      <td>1.03</td>\n",
       "      <td>3.17</td>\n",
       "      <td>1185.0</td>\n",
       "      <td>0</td>\n",
       "    </tr>\n",
       "    <tr>\n",
       "      <th>3</th>\n",
       "      <td>14.37</td>\n",
       "      <td>1.95</td>\n",
       "      <td>2.50</td>\n",
       "      <td>16.8</td>\n",
       "      <td>113.0</td>\n",
       "      <td>3.85</td>\n",
       "      <td>3.49</td>\n",
       "      <td>0.24</td>\n",
       "      <td>2.18</td>\n",
       "      <td>7.80</td>\n",
       "      <td>0.86</td>\n",
       "      <td>3.45</td>\n",
       "      <td>1480.0</td>\n",
       "      <td>0</td>\n",
       "    </tr>\n",
       "    <tr>\n",
       "      <th>4</th>\n",
       "      <td>13.24</td>\n",
       "      <td>2.59</td>\n",
       "      <td>2.87</td>\n",
       "      <td>21.0</td>\n",
       "      <td>118.0</td>\n",
       "      <td>2.80</td>\n",
       "      <td>2.69</td>\n",
       "      <td>0.39</td>\n",
       "      <td>1.82</td>\n",
       "      <td>4.32</td>\n",
       "      <td>1.04</td>\n",
       "      <td>2.93</td>\n",
       "      <td>735.0</td>\n",
       "      <td>0</td>\n",
       "    </tr>\n",
       "  </tbody>\n",
       "</table>\n",
       "</div>"
      ],
      "text/plain": [
       "   alcohol  malic_acid   ash  alcalinity_of_ash  magnesium  total_phenols  \\\n",
       "0    14.23        1.71  2.43               15.6      127.0           2.80   \n",
       "1    13.20        1.78  2.14               11.2      100.0           2.65   \n",
       "2    13.16        2.36  2.67               18.6      101.0           2.80   \n",
       "3    14.37        1.95  2.50               16.8      113.0           3.85   \n",
       "4    13.24        2.59  2.87               21.0      118.0           2.80   \n",
       "\n",
       "   flavanoids  nonflavanoid_phenols  proanthocyanins  color_intensity   hue  \\\n",
       "0        3.06                  0.28             2.29             5.64  1.04   \n",
       "1        2.76                  0.26             1.28             4.38  1.05   \n",
       "2        3.24                  0.30             2.81             5.68  1.03   \n",
       "3        3.49                  0.24             2.18             7.80  0.86   \n",
       "4        2.69                  0.39             1.82             4.32  1.04   \n",
       "\n",
       "   od280/od315_of_diluted_wines  proline  target  \n",
       "0                          3.92   1065.0       0  \n",
       "1                          3.40   1050.0       0  \n",
       "2                          3.17   1185.0       0  \n",
       "3                          3.45   1480.0       0  \n",
       "4                          2.93    735.0       0  "
      ]
     },
     "execution_count": 55,
     "metadata": {},
     "output_type": "execute_result"
    }
   ],
   "source": [
    "# 데이타 프레임화 \n",
    "wine_df2 = pd.DataFrame(wine_data.data, columns=wine_data.feature_names)\n",
    "# y 라벨 컬럼 추가 \n",
    "wine_df2['target'] = wine_data.target\n",
    "wine_df2.head()"
   ]
  },
  {
   "cell_type": "code",
   "execution_count": 56,
   "id": "92797346",
   "metadata": {
    "ExecuteTime": {
     "end_time": "2022-03-27T14:59:00.822394Z",
     "start_time": "2022-03-27T14:59:00.807364Z"
    }
   },
   "outputs": [
    {
     "data": {
      "text/plain": [
       "array([0, 1, 2])"
      ]
     },
     "execution_count": 56,
     "metadata": {},
     "output_type": "execute_result"
    }
   ],
   "source": [
    "wine_df2['target'].unique()"
   ]
  },
  {
   "cell_type": "code",
   "execution_count": 57,
   "id": "7fec83e8",
   "metadata": {
    "ExecuteTime": {
     "end_time": "2022-03-27T14:59:00.837839Z",
     "start_time": "2022-03-27T14:59:00.823394Z"
    }
   },
   "outputs": [
    {
     "data": {
      "text/plain": [
       "1    71\n",
       "0    59\n",
       "2    48\n",
       "Name: target, dtype: int64"
      ]
     },
     "execution_count": 57,
     "metadata": {},
     "output_type": "execute_result"
    }
   ],
   "source": [
    "wine_df2['target'].value_counts()"
   ]
  },
  {
   "cell_type": "code",
   "execution_count": 58,
   "id": "bb001254",
   "metadata": {
    "ExecuteTime": {
     "end_time": "2022-03-27T14:59:00.884547Z",
     "start_time": "2022-03-27T14:59:00.839796Z"
    }
   },
   "outputs": [
    {
     "data": {
      "text/html": [
       "<div>\n",
       "<style scoped>\n",
       "    .dataframe tbody tr th:only-of-type {\n",
       "        vertical-align: middle;\n",
       "    }\n",
       "\n",
       "    .dataframe tbody tr th {\n",
       "        vertical-align: top;\n",
       "    }\n",
       "\n",
       "    .dataframe thead th {\n",
       "        text-align: right;\n",
       "    }\n",
       "</style>\n",
       "<table border=\"1\" class=\"dataframe\">\n",
       "  <thead>\n",
       "    <tr style=\"text-align: right;\">\n",
       "      <th></th>\n",
       "      <th>alcohol</th>\n",
       "      <th>malic_acid</th>\n",
       "      <th>ash</th>\n",
       "      <th>alcalinity_of_ash</th>\n",
       "      <th>magnesium</th>\n",
       "      <th>total_phenols</th>\n",
       "      <th>flavanoids</th>\n",
       "      <th>nonflavanoid_phenols</th>\n",
       "      <th>proanthocyanins</th>\n",
       "      <th>color_intensity</th>\n",
       "      <th>hue</th>\n",
       "      <th>od280/od315_of_diluted_wines</th>\n",
       "      <th>proline</th>\n",
       "      <th>target</th>\n",
       "    </tr>\n",
       "  </thead>\n",
       "  <tbody>\n",
       "    <tr>\n",
       "      <th>count</th>\n",
       "      <td>178.000000</td>\n",
       "      <td>178.000000</td>\n",
       "      <td>178.000000</td>\n",
       "      <td>178.000000</td>\n",
       "      <td>178.000000</td>\n",
       "      <td>178.000000</td>\n",
       "      <td>178.000000</td>\n",
       "      <td>178.000000</td>\n",
       "      <td>178.000000</td>\n",
       "      <td>178.000000</td>\n",
       "      <td>178.000000</td>\n",
       "      <td>178.000000</td>\n",
       "      <td>178.000000</td>\n",
       "      <td>178.000000</td>\n",
       "    </tr>\n",
       "    <tr>\n",
       "      <th>mean</th>\n",
       "      <td>13.000618</td>\n",
       "      <td>2.336348</td>\n",
       "      <td>2.366517</td>\n",
       "      <td>19.494944</td>\n",
       "      <td>99.741573</td>\n",
       "      <td>2.295112</td>\n",
       "      <td>2.029270</td>\n",
       "      <td>0.361854</td>\n",
       "      <td>1.590899</td>\n",
       "      <td>5.058090</td>\n",
       "      <td>0.957449</td>\n",
       "      <td>2.611685</td>\n",
       "      <td>746.893258</td>\n",
       "      <td>0.938202</td>\n",
       "    </tr>\n",
       "    <tr>\n",
       "      <th>std</th>\n",
       "      <td>0.811827</td>\n",
       "      <td>1.117146</td>\n",
       "      <td>0.274344</td>\n",
       "      <td>3.339564</td>\n",
       "      <td>14.282484</td>\n",
       "      <td>0.625851</td>\n",
       "      <td>0.998859</td>\n",
       "      <td>0.124453</td>\n",
       "      <td>0.572359</td>\n",
       "      <td>2.318286</td>\n",
       "      <td>0.228572</td>\n",
       "      <td>0.709990</td>\n",
       "      <td>314.907474</td>\n",
       "      <td>0.775035</td>\n",
       "    </tr>\n",
       "    <tr>\n",
       "      <th>min</th>\n",
       "      <td>11.030000</td>\n",
       "      <td>0.740000</td>\n",
       "      <td>1.360000</td>\n",
       "      <td>10.600000</td>\n",
       "      <td>70.000000</td>\n",
       "      <td>0.980000</td>\n",
       "      <td>0.340000</td>\n",
       "      <td>0.130000</td>\n",
       "      <td>0.410000</td>\n",
       "      <td>1.280000</td>\n",
       "      <td>0.480000</td>\n",
       "      <td>1.270000</td>\n",
       "      <td>278.000000</td>\n",
       "      <td>0.000000</td>\n",
       "    </tr>\n",
       "    <tr>\n",
       "      <th>25%</th>\n",
       "      <td>12.362500</td>\n",
       "      <td>1.602500</td>\n",
       "      <td>2.210000</td>\n",
       "      <td>17.200000</td>\n",
       "      <td>88.000000</td>\n",
       "      <td>1.742500</td>\n",
       "      <td>1.205000</td>\n",
       "      <td>0.270000</td>\n",
       "      <td>1.250000</td>\n",
       "      <td>3.220000</td>\n",
       "      <td>0.782500</td>\n",
       "      <td>1.937500</td>\n",
       "      <td>500.500000</td>\n",
       "      <td>0.000000</td>\n",
       "    </tr>\n",
       "    <tr>\n",
       "      <th>50%</th>\n",
       "      <td>13.050000</td>\n",
       "      <td>1.865000</td>\n",
       "      <td>2.360000</td>\n",
       "      <td>19.500000</td>\n",
       "      <td>98.000000</td>\n",
       "      <td>2.355000</td>\n",
       "      <td>2.135000</td>\n",
       "      <td>0.340000</td>\n",
       "      <td>1.555000</td>\n",
       "      <td>4.690000</td>\n",
       "      <td>0.965000</td>\n",
       "      <td>2.780000</td>\n",
       "      <td>673.500000</td>\n",
       "      <td>1.000000</td>\n",
       "    </tr>\n",
       "    <tr>\n",
       "      <th>75%</th>\n",
       "      <td>13.677500</td>\n",
       "      <td>3.082500</td>\n",
       "      <td>2.557500</td>\n",
       "      <td>21.500000</td>\n",
       "      <td>107.000000</td>\n",
       "      <td>2.800000</td>\n",
       "      <td>2.875000</td>\n",
       "      <td>0.437500</td>\n",
       "      <td>1.950000</td>\n",
       "      <td>6.200000</td>\n",
       "      <td>1.120000</td>\n",
       "      <td>3.170000</td>\n",
       "      <td>985.000000</td>\n",
       "      <td>2.000000</td>\n",
       "    </tr>\n",
       "    <tr>\n",
       "      <th>max</th>\n",
       "      <td>14.830000</td>\n",
       "      <td>5.800000</td>\n",
       "      <td>3.230000</td>\n",
       "      <td>30.000000</td>\n",
       "      <td>162.000000</td>\n",
       "      <td>3.880000</td>\n",
       "      <td>5.080000</td>\n",
       "      <td>0.660000</td>\n",
       "      <td>3.580000</td>\n",
       "      <td>13.000000</td>\n",
       "      <td>1.710000</td>\n",
       "      <td>4.000000</td>\n",
       "      <td>1680.000000</td>\n",
       "      <td>2.000000</td>\n",
       "    </tr>\n",
       "  </tbody>\n",
       "</table>\n",
       "</div>"
      ],
      "text/plain": [
       "          alcohol  malic_acid         ash  alcalinity_of_ash   magnesium  \\\n",
       "count  178.000000  178.000000  178.000000         178.000000  178.000000   \n",
       "mean    13.000618    2.336348    2.366517          19.494944   99.741573   \n",
       "std      0.811827    1.117146    0.274344           3.339564   14.282484   \n",
       "min     11.030000    0.740000    1.360000          10.600000   70.000000   \n",
       "25%     12.362500    1.602500    2.210000          17.200000   88.000000   \n",
       "50%     13.050000    1.865000    2.360000          19.500000   98.000000   \n",
       "75%     13.677500    3.082500    2.557500          21.500000  107.000000   \n",
       "max     14.830000    5.800000    3.230000          30.000000  162.000000   \n",
       "\n",
       "       total_phenols  flavanoids  nonflavanoid_phenols  proanthocyanins  \\\n",
       "count     178.000000  178.000000            178.000000       178.000000   \n",
       "mean        2.295112    2.029270              0.361854         1.590899   \n",
       "std         0.625851    0.998859              0.124453         0.572359   \n",
       "min         0.980000    0.340000              0.130000         0.410000   \n",
       "25%         1.742500    1.205000              0.270000         1.250000   \n",
       "50%         2.355000    2.135000              0.340000         1.555000   \n",
       "75%         2.800000    2.875000              0.437500         1.950000   \n",
       "max         3.880000    5.080000              0.660000         3.580000   \n",
       "\n",
       "       color_intensity         hue  od280/od315_of_diluted_wines      proline  \\\n",
       "count       178.000000  178.000000                    178.000000   178.000000   \n",
       "mean          5.058090    0.957449                      2.611685   746.893258   \n",
       "std           2.318286    0.228572                      0.709990   314.907474   \n",
       "min           1.280000    0.480000                      1.270000   278.000000   \n",
       "25%           3.220000    0.782500                      1.937500   500.500000   \n",
       "50%           4.690000    0.965000                      2.780000   673.500000   \n",
       "75%           6.200000    1.120000                      3.170000   985.000000   \n",
       "max          13.000000    1.710000                      4.000000  1680.000000   \n",
       "\n",
       "           target  \n",
       "count  178.000000  \n",
       "mean     0.938202  \n",
       "std      0.775035  \n",
       "min      0.000000  \n",
       "25%      0.000000  \n",
       "50%      1.000000  \n",
       "75%      2.000000  \n",
       "max      2.000000  "
      ]
     },
     "execution_count": 58,
     "metadata": {},
     "output_type": "execute_result"
    }
   ],
   "source": [
    "wine_df2.describe()"
   ]
  },
  {
   "cell_type": "code",
   "execution_count": 59,
   "id": "534c7d60",
   "metadata": {
    "ExecuteTime": {
     "end_time": "2022-03-27T14:59:00.900671Z",
     "start_time": "2022-03-27T14:59:00.885545Z"
    }
   },
   "outputs": [
    {
     "data": {
      "text/plain": [
       "((178, 14),\n",
       " Index(['alcohol', 'malic_acid', 'ash', 'alcalinity_of_ash', 'magnesium',\n",
       "        'total_phenols', 'flavanoids', 'nonflavanoid_phenols',\n",
       "        'proanthocyanins', 'color_intensity', 'hue',\n",
       "        'od280/od315_of_diluted_wines', 'proline', 'target'],\n",
       "       dtype='object'))"
      ]
     },
     "execution_count": 59,
     "metadata": {},
     "output_type": "execute_result"
    }
   ],
   "source": [
    "wine_df2.shape ,wine_df2.columns"
   ]
  },
  {
   "cell_type": "code",
   "execution_count": 60,
   "id": "48b38651",
   "metadata": {
    "ExecuteTime": {
     "end_time": "2022-03-27T14:59:00.916657Z",
     "start_time": "2022-03-27T14:59:00.901658Z"
    }
   },
   "outputs": [],
   "source": [
    "# 데이타 분리 \n",
    "X = wine_df2.loc[:, :'proline']\n",
    "y = wine_df2['target']\n",
    "X_train, X_test, y_train, y_test = train_test_split(X, y, random_state=42, stratify=y)\n",
    "\n",
    "# 스케일링 적용\n",
    "scale = StandardScaler()\n",
    "scale.fit(X_train)\n",
    "X_train_scaled = scale.transform(X_train)\n",
    "X_test_scaled = scale.transform(X_test)"
   ]
  },
  {
   "cell_type": "code",
   "execution_count": 61,
   "id": "981a3a47",
   "metadata": {
    "ExecuteTime": {
     "end_time": "2022-03-27T14:59:00.947666Z",
     "start_time": "2022-03-27T14:59:00.919669Z"
    }
   },
   "outputs": [
    {
     "name": "stdout",
     "output_type": "stream",
     "text": [
      "0.9774436090225563\n",
      "0.9555555555555556\n"
     ]
    }
   ],
   "source": [
    "#  KNeighbors()\n",
    "model_kn = KNeighborsClassifier(n_neighbors=3)\n",
    "model_kn.fit(X_train_scaled, y_train)\n",
    "\n",
    "print(model_kn.score(X_train_scaled, y_train))\n",
    "print(model_kn.score(X_test_scaled, y_test))"
   ]
  },
  {
   "cell_type": "code",
   "execution_count": 62,
   "id": "ce2daaa2",
   "metadata": {
    "ExecuteTime": {
     "end_time": "2022-03-27T14:59:00.963142Z",
     "start_time": "2022-03-27T14:59:00.948666Z"
    }
   },
   "outputs": [
    {
     "name": "stdout",
     "output_type": "stream",
     "text": [
      "1.0\n",
      "0.9555555555555556\n"
     ]
    }
   ],
   "source": [
    "#  DecisionTreeClassifier()\n",
    "model_dt = DecisionTreeClassifier(random_state=11)\n",
    "model_dt.fit(X_train_scaled, y_train)\n",
    "\n",
    "print(model_dt.score(X_train_scaled, y_train))\n",
    "print(model_dt.score(X_test_scaled, y_test))"
   ]
  },
  {
   "cell_type": "code",
   "execution_count": 63,
   "id": "727ae005",
   "metadata": {
    "ExecuteTime": {
     "end_time": "2022-03-27T14:59:00.978141Z",
     "start_time": "2022-03-27T14:59:00.964140Z"
    }
   },
   "outputs": [
    {
     "name": "stdout",
     "output_type": "stream",
     "text": [
      "1.0\n",
      "1.0\n"
     ]
    }
   ],
   "source": [
    "model_lr = LogisticRegression()\n",
    "model_lr.fit(X_train_scaled, y_train)\n",
    "\n",
    "print(model_lr.score(X_train_scaled, y_train))\n",
    "print(model_lr.score(X_test_scaled, y_test))"
   ]
  },
  {
   "cell_type": "code",
   "execution_count": 64,
   "id": "561bdb14",
   "metadata": {
    "ExecuteTime": {
     "end_time": "2022-03-27T14:59:00.994139Z",
     "start_time": "2022-03-27T14:59:00.979140Z"
    }
   },
   "outputs": [
    {
     "name": "stdout",
     "output_type": "stream",
     "text": [
      "              precision    recall  f1-score   support\n",
      "\n",
      "           0       1.00      1.00      1.00        15\n",
      "           1       1.00      1.00      1.00        18\n",
      "           2       1.00      1.00      1.00        12\n",
      "\n",
      "    accuracy                           1.00        45\n",
      "   macro avg       1.00      1.00      1.00        45\n",
      "weighted avg       1.00      1.00      1.00        45\n",
      "\n"
     ]
    }
   ],
   "source": [
    "print(classification_report(y_test, model_lr.predict(X_test_scaled)))"
   ]
  },
  {
   "cell_type": "code",
   "execution_count": 65,
   "id": "19c75d51",
   "metadata": {
    "ExecuteTime": {
     "end_time": "2022-03-27T14:59:01.009622Z",
     "start_time": "2022-03-27T14:59:00.995140Z"
    }
   },
   "outputs": [
    {
     "data": {
      "text/plain": [
       "array([[0.92581337, 0.07255281, 0.00163382]])"
      ]
     },
     "execution_count": 65,
     "metadata": {},
     "output_type": "execute_result"
    }
   ],
   "source": [
    "# 타겟 확률 \n",
    "model_lr.predict_proba([X_test_scaled[0]])"
   ]
  },
  {
   "cell_type": "code",
   "execution_count": 66,
   "id": "c3e0e494",
   "metadata": {
    "ExecuteTime": {
     "end_time": "2022-03-27T14:59:01.025137Z",
     "start_time": "2022-03-27T14:59:01.010622Z"
    }
   },
   "outputs": [
    {
     "data": {
      "text/plain": [
       "(0, 0)"
      ]
     },
     "execution_count": 66,
     "metadata": {},
     "output_type": "execute_result"
    }
   ],
   "source": [
    "# 실제 정답 \n",
    "y_test[35], y_test.to_numpy()[0]"
   ]
  },
  {
   "cell_type": "code",
   "execution_count": 67,
   "id": "4036e368",
   "metadata": {
    "ExecuteTime": {
     "end_time": "2022-03-27T14:59:01.041137Z",
     "start_time": "2022-03-27T14:59:01.026137Z"
    }
   },
   "outputs": [
    {
     "data": {
      "text/plain": [
       "array([0, 1, 2])"
      ]
     },
     "execution_count": 67,
     "metadata": {},
     "output_type": "execute_result"
    }
   ],
   "source": [
    "# 타겟 라벨 확인 \n",
    "model_lr.classes_"
   ]
  },
  {
   "cell_type": "code",
   "execution_count": 68,
   "id": "c0cc3875",
   "metadata": {
    "ExecuteTime": {
     "end_time": "2022-03-27T14:59:01.056712Z",
     "start_time": "2022-03-27T14:59:01.042138Z"
    }
   },
   "outputs": [
    {
     "data": {
      "text/plain": [
       "((3, 13), (3,))"
      ]
     },
     "execution_count": 68,
     "metadata": {},
     "output_type": "execute_result"
    }
   ],
   "source": [
    "# 기울기, 절편 \n",
    "# 기울기는? (라벨수, 피처갯수 ), 절편은? 라벨수\n",
    "model_lr.coef_.shape, model_lr.intercept_.shape"
   ]
  },
  {
   "cell_type": "code",
   "execution_count": 69,
   "id": "53348a6e",
   "metadata": {
    "ExecuteTime": {
     "end_time": "2022-03-27T14:59:01.072656Z",
     "start_time": "2022-03-27T14:59:01.057685Z"
    }
   },
   "outputs": [
    {
     "data": {
      "text/plain": [
       "array([[ 0.72022365,  0.16308539,  0.46725956, -0.8134106 ,  0.08138134,\n",
       "         0.22188122,  0.70016233, -0.10475373,  0.13828781,  0.19506694,\n",
       "         0.08824086,  0.65152478,  0.9189842 ],\n",
       "       [-0.84159908, -0.50909539, -0.78941452,  0.51560927, -0.1234339 ,\n",
       "         0.0518232 ,  0.18828267,  0.12672453,  0.37515642, -1.02061909,\n",
       "         0.67741589, -0.11263639, -0.93765321],\n",
       "       [ 0.12137543,  0.34601   ,  0.32215496,  0.29780133,  0.04205256,\n",
       "        -0.27370441, -0.888445  , -0.0219708 , -0.51344423,  0.82555214,\n",
       "        -0.76565675, -0.53888839,  0.018669  ]])"
      ]
     },
     "execution_count": 69,
     "metadata": {},
     "output_type": "execute_result"
    }
   ],
   "source": [
    "# 기울기 \n",
    "model_lr.coef_"
   ]
  },
  {
   "cell_type": "code",
   "execution_count": 70,
   "id": "c57d8f9c",
   "metadata": {
    "ExecuteTime": {
     "end_time": "2022-03-27T14:59:01.087745Z",
     "start_time": "2022-03-27T14:59:01.073656Z"
    }
   },
   "outputs": [
    {
     "name": "stdout",
     "output_type": "stream",
     "text": [
      "[ 0.72022365  0.16308539  0.46725956 -0.8134106   0.08138134  0.22188122\n",
      "  0.70016233 -0.10475373  0.13828781  0.19506694  0.08824086  0.65152478\n",
      "  0.9189842 ] [ 0.64055666 -0.48144861  0.15904201  0.23809346  0.          0.66522952\n",
      "  1.033603   -0.85892977  0.43758133  0.03911337  0.4011093   1.28190432\n",
      "  0.56819862] 0.27640202887486165\n",
      "\n",
      "[-0.84159908 -0.50909539 -0.78941452  0.51560927 -0.1234339   0.0518232\n",
      "  0.18828267  0.12672453  0.37515642 -1.02061909  0.67741589 -0.11263639\n",
      " -0.93765321] [ 0.64055666 -0.48144861  0.15904201  0.23809346  0.          0.66522952\n",
      "  1.033603   -0.85892977  0.43758133  0.03911337  0.4011093   1.28190432\n",
      "  0.56819862] 0.8734211654267946\n",
      "\n",
      "[ 0.12137543  0.34601     0.32215496  0.29780133  0.04205256 -0.27370441\n",
      " -0.888445   -0.0219708  -0.51344423  0.82555214 -0.76565675 -0.53888839\n",
      "  0.018669  ] [ 0.64055666 -0.48144861  0.15904201  0.23809346  0.          0.66522952\n",
      "  1.033603   -0.85892977  0.43758133  0.03911337  0.4011093   1.28190432\n",
      "  0.56819862] -1.1498231943016546\n"
     ]
    }
   ],
   "source": [
    "# 기울기*피처 + 절편 \n",
    "print(model_lr.coef_[0], X_test_scaled[0], model_lr.intercept_[0])\n",
    "print()\n",
    "print(model_lr.coef_[1], X_test_scaled[0], model_lr.intercept_[1])\n",
    "print()\n",
    "print(model_lr.coef_[2], X_test_scaled[0], model_lr.intercept_[2])"
   ]
  },
  {
   "cell_type": "code",
   "execution_count": 71,
   "id": "503b3122",
   "metadata": {
    "ExecuteTime": {
     "end_time": "2022-03-27T14:59:01.103183Z",
     "start_time": "2022-03-27T14:59:01.088666Z"
    }
   },
   "outputs": [
    {
     "data": {
      "text/plain": [
       "array([0, 1, 0, 0, 1, 0, 0, 1, 1, 2, 1, 1, 2, 2, 0, 1, 1, 0, 0, 2, 2, 2,\n",
       "       0, 0, 1, 1, 0, 1, 0, 1, 0, 2, 1, 2, 2, 1, 0, 2, 2, 1, 2, 1, 0, 1,\n",
       "       1])"
      ]
     },
     "execution_count": 71,
     "metadata": {},
     "output_type": "execute_result"
    }
   ],
   "source": [
    "model_lr.predict(X_test_scaled)"
   ]
  },
  {
   "cell_type": "code",
   "execution_count": 72,
   "id": "7c9b8c66",
   "metadata": {
    "ExecuteTime": {
     "end_time": "2022-03-27T14:59:01.118429Z",
     "start_time": "2022-03-27T14:59:01.104180Z"
    }
   },
   "outputs": [
    {
     "name": "stdout",
     "output_type": "stream",
     "text": [
      "2.962037026419022\n",
      "0.4156791279772678\n",
      "-3.3777161543962775\n"
     ]
    }
   ],
   "source": [
    "# z 값 구하기 1\n",
    "for i in range(3) :\n",
    "    print(np.sum(model_lr.coef_[i]*X_test_scaled[0])+model_lr.intercept_[i])"
   ]
  },
  {
   "cell_type": "code",
   "execution_count": 73,
   "id": "ff1a8b68",
   "metadata": {
    "ExecuteTime": {
     "end_time": "2022-03-27T14:59:01.134124Z",
     "start_time": "2022-03-27T14:59:01.120157Z"
    }
   },
   "outputs": [
    {
     "data": {
      "text/plain": [
       "array([[ 2.96203703,  0.41567913, -3.37771615]])"
      ]
     },
     "execution_count": 73,
     "metadata": {},
     "output_type": "execute_result"
    }
   ],
   "source": [
    "# z 값 구하기 2 \n",
    "decision = model_lr.decision_function([X_test_scaled[0]])\n",
    "decision\n",
    "# np.round(decision, decimals=2)"
   ]
  },
  {
   "cell_type": "code",
   "execution_count": 74,
   "id": "942f121c",
   "metadata": {
    "ExecuteTime": {
     "end_time": "2022-03-27T14:59:01.149665Z",
     "start_time": "2022-03-27T14:59:01.135123Z"
    }
   },
   "outputs": [
    {
     "data": {
      "text/plain": [
       "array([[0.92581337, 0.07255281, 0.00163382]])"
      ]
     },
     "execution_count": 74,
     "metadata": {},
     "output_type": "execute_result"
    }
   ],
   "source": [
    "# softmax 1\n",
    "from scipy.special import softmax\n",
    "\n",
    "# z 값 구하기 \n",
    "decision = model_lr.decision_function([X_test_scaled[0]])\n",
    "# 라벨의 확률 \n",
    "proba = softmax(decision, axis=1)\n",
    "np.round(proba, decimals=3)\n",
    "proba"
   ]
  },
  {
   "cell_type": "code",
   "execution_count": 75,
   "id": "d50ba02c",
   "metadata": {
    "ExecuteTime": {
     "end_time": "2022-03-27T14:59:01.165256Z",
     "start_time": "2022-03-27T14:59:01.151258Z"
    }
   },
   "outputs": [
    {
     "data": {
      "text/plain": [
       "array([[0.92581337, 0.07255281, 0.00163382]])"
      ]
     },
     "execution_count": 75,
     "metadata": {},
     "output_type": "execute_result"
    }
   ],
   "source": [
    "# 모델의 predict_proba([X_test_scaled[0]])\n",
    "model_lr.predict_proba([X_test_scaled[0]])"
   ]
  },
  {
   "cell_type": "markdown",
   "id": "52b0044e",
   "metadata": {
    "ExecuteTime": {
     "end_time": "2022-03-27T14:59:01.181256Z",
     "start_time": "2022-03-27T14:59:01.167257Z"
    }
   },
   "source": [
    "### softmax 2 - 소프트맥스 함수 공식에 의해서 확률 구하기 \n",
    "\n",
    "<img src='https://ichi.pro/assets/images/max/724/1*jf_Qr_etCPtIKq7NYa6F_w.png' width=\"50%\">"
   ]
  },
  {
   "cell_type": "code",
   "execution_count": 77,
   "id": "7b6ec711",
   "metadata": {
    "ExecuteTime": {
     "end_time": "2022-03-27T14:59:15.624324Z",
     "start_time": "2022-03-27T14:59:15.602990Z"
    }
   },
   "outputs": [
    {
     "data": {
      "text/plain": [
       "(array([[ 2.96203703,  0.41567913, -3.37771615]]), (1, 3))"
      ]
     },
     "execution_count": 77,
     "metadata": {},
     "output_type": "execute_result"
    }
   ],
   "source": [
    "# 2차원\n",
    "decision, decision.shape"
   ]
  },
  {
   "cell_type": "code",
   "execution_count": 78,
   "id": "da397d70",
   "metadata": {
    "ExecuteTime": {
     "end_time": "2022-03-27T14:59:15.780922Z",
     "start_time": "2022-03-27T14:59:15.763617Z"
    }
   },
   "outputs": [
    {
     "data": {
      "text/plain": [
       "array([ 2.96203703,  0.41567913, -3.37771615])"
      ]
     },
     "execution_count": 78,
     "metadata": {},
     "output_type": "execute_result"
    }
   ],
   "source": [
    "# 1차원으로 풀이 \n",
    "decision[0]"
   ]
  },
  {
   "cell_type": "code",
   "execution_count": 79,
   "id": "01b0a1f2",
   "metadata": {
    "ExecuteTime": {
     "end_time": "2022-03-27T14:59:15.905364Z",
     "start_time": "2022-03-27T14:59:15.886308Z"
    }
   },
   "outputs": [
    {
     "name": "stdout",
     "output_type": "stream",
     "text": [
      "[19.3373223   1.51539954  0.0341253 ]\n",
      "20.88684714350501\n",
      "[0.9258133679240814, 0.07255281427218248, 0.0016338178037360943]\n"
     ]
    }
   ],
   "source": [
    "# np.exp(z값(라벨별)[0])\n",
    "expL = np.exp(decision[0])\n",
    "# sum(np.exp(z값(라벨별)[0]))\n",
    "sumExpL = sum(expL)\n",
    "\n",
    "print(expL)\n",
    "print(sumExpL)\n",
    "\n",
    "result = []\n",
    "for i in expL:\n",
    "    result.append(i/sumExpL) \n",
    "\n",
    "print(result)"
   ]
  },
  {
   "cell_type": "code",
   "execution_count": 80,
   "id": "f77934c1",
   "metadata": {
    "ExecuteTime": {
     "end_time": "2022-03-27T14:59:16.030416Z",
     "start_time": "2022-03-27T14:59:16.014945Z"
    }
   },
   "outputs": [],
   "source": [
    "# array([[0.92581337, 0.07255281, 0.00163382]])"
   ]
  },
  {
   "cell_type": "code",
   "execution_count": 81,
   "id": "500a6484",
   "metadata": {
    "ExecuteTime": {
     "end_time": "2022-03-27T14:59:16.138976Z",
     "start_time": "2022-03-27T14:59:16.132462Z"
    }
   },
   "outputs": [],
   "source": [
    "# 함수구현 \n",
    "def softmax2(L):\n",
    "    expL = np.exp(L) \n",
    "    sumExpL = sum(expL) \n",
    "    result = []\n",
    "    for i in expL:\n",
    "        result.append(i/sumExpL) \n",
    "    return result"
   ]
  },
  {
   "cell_type": "code",
   "execution_count": 82,
   "id": "ca203fc7",
   "metadata": {
    "ExecuteTime": {
     "end_time": "2022-03-27T14:59:16.264570Z",
     "start_time": "2022-03-27T14:59:16.255568Z"
    }
   },
   "outputs": [
    {
     "data": {
      "text/plain": [
       "[0.9258133679240814, 0.07255281427218248, 0.0016338178037360943]"
      ]
     },
     "execution_count": 82,
     "metadata": {},
     "output_type": "execute_result"
    }
   ],
   "source": [
    "softmax2(decision[0])"
   ]
  }
 ],
 "metadata": {
  "kernelspec": {
   "display_name": "Python 3 (ipykernel)",
   "language": "python",
   "name": "python3"
  },
  "language_info": {
   "codemirror_mode": {
    "name": "ipython",
    "version": 3
   },
   "file_extension": ".py",
   "mimetype": "text/x-python",
   "name": "python",
   "nbconvert_exporter": "python",
   "pygments_lexer": "ipython3",
   "version": "3.8.8"
  },
  "toc": {
   "base_numbering": 1,
   "nav_menu": {},
   "number_sections": true,
   "sideBar": true,
   "skip_h1_title": false,
   "title_cell": "Table of Contents",
   "title_sidebar": "Contents",
   "toc_cell": false,
   "toc_position": {},
   "toc_section_display": true,
   "toc_window_display": false
  }
 },
 "nbformat": 4,
 "nbformat_minor": 5
}
