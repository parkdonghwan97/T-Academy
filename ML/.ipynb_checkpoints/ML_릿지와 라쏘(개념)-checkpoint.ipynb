{
 "cells": [
  {
   "cell_type": "code",
   "execution_count": 19,
   "id": "b4e89307",
   "metadata": {
    "ExecuteTime": {
     "end_time": "2022-03-27T14:39:04.454695Z",
     "start_time": "2022-03-27T14:39:04.436080Z"
    }
   },
   "outputs": [],
   "source": [
    "import numpy as np\n",
    "import pandas as pd\n",
    "import os\n",
    "\n",
    "import matplotlib\n",
    "import matplotlib.pyplot as plt\n",
    "import seaborn as sns\n",
    "\n",
    "%matplotlib inline\n",
    "\n",
    "# 관련 라이브러리 임포트 \n",
    "import matplotlib.font_manager as fm\n",
    "\n",
    "#  한글글꼴로 변경\n",
    "# plt.rcParams['font.family'] = '한글글꼴명'\n",
    "plt.rcParams['font.size'] = 11.0\n",
    "# plt.rcParams['font.family'] = 'batang'\n",
    "plt.rcParams['font.family'] = 'Malgun Gothic'\n",
    "\n",
    "# 그래프에서 마이너스 폰트 깨지는 문제에 대한 대처\n",
    "matplotlib.rcParams['axes.unicode_minus'] = False\n",
    "plt.style.use('ggplot')\n",
    "\n",
    "# 그래프 기본 크기 설정 \n",
    "plt.rcParams['figure.figsize'] = [10, 10]"
   ]
  },
  {
   "cell_type": "code",
   "execution_count": 4,
   "id": "d81d7d14",
   "metadata": {
    "ExecuteTime": {
     "end_time": "2022-03-27T14:36:52.084361Z",
     "start_time": "2022-03-27T14:36:51.910000Z"
    }
   },
   "outputs": [],
   "source": [
    "from sklearn.linear_model import LinearRegression, LogisticRegression\n",
    "from sklearn.linear_model import Ridge, Lasso\n",
    "\n",
    "from sklearn.metrics import f1_score, recall_score, precision_score, classification_report\n",
    "from sklearn.metrics import r2_score, mean_squared_error, mean_absolute_error\n",
    "\n",
    "from sklearn.preprocessing import PolynomialFeatures, StandardScaler, MinMaxScaler\n",
    "from sklearn.model_selection import train_test_split, cross_val_score, GridSearchCV\n",
    "\n",
    "from sklearn.pipeline import Pipeline"
   ]
  },
  {
   "cell_type": "markdown",
   "id": "6d3785f1",
   "metadata": {},
   "source": [
    "## 릿지와 라쏘\n",
    "\n",
    "#### 규제(Rugularization) \n",
    "- 머신러닝 모델이 훈련 세트를 너무 과도하게 학습하지 못하도록 제어하는 것. 선형 회귀의 경우 계수 즉 기울기의 크기를 작게 만든다.  \n",
    "\n",
    "#### 릿지(ridge) 회귀 \n",
    "- 규제가 있는 선형 회귀 모델중 하나이며 선형 모델의 계수를 작게 만들어 과대 적합을 완화시킨다.계수의 제곱 기준 \n",
    "\n",
    "#### 라쏘(lasso) 회귀 \n",
    "- 릿지와 같이 규제가 있는 선형 회귀 모델중 하나이며 회귀 계수 값을 0으로 만들수도 있다. 계수의 절대값 기준"
   ]
  },
  {
   "cell_type": "markdown",
   "id": "2f999854",
   "metadata": {},
   "source": [
    "## 릿지\n",
    "- perch: 농어"
   ]
  },
  {
   "cell_type": "code",
   "execution_count": 2,
   "id": "2a9ad3ae",
   "metadata": {
    "ExecuteTime": {
     "end_time": "2022-03-27T14:36:01.367306Z",
     "start_time": "2022-03-27T14:35:59.734000Z"
    }
   },
   "outputs": [
    {
     "data": {
      "text/html": [
       "<div>\n",
       "<style scoped>\n",
       "    .dataframe tbody tr th:only-of-type {\n",
       "        vertical-align: middle;\n",
       "    }\n",
       "\n",
       "    .dataframe tbody tr th {\n",
       "        vertical-align: top;\n",
       "    }\n",
       "\n",
       "    .dataframe thead th {\n",
       "        text-align: right;\n",
       "    }\n",
       "</style>\n",
       "<table border=\"1\" class=\"dataframe\">\n",
       "  <thead>\n",
       "    <tr style=\"text-align: right;\">\n",
       "      <th></th>\n",
       "      <th>length</th>\n",
       "      <th>height</th>\n",
       "      <th>width</th>\n",
       "    </tr>\n",
       "  </thead>\n",
       "  <tbody>\n",
       "    <tr>\n",
       "      <th>0</th>\n",
       "      <td>8.4</td>\n",
       "      <td>2.11</td>\n",
       "      <td>1.41</td>\n",
       "    </tr>\n",
       "    <tr>\n",
       "      <th>1</th>\n",
       "      <td>13.7</td>\n",
       "      <td>3.53</td>\n",
       "      <td>2.00</td>\n",
       "    </tr>\n",
       "    <tr>\n",
       "      <th>2</th>\n",
       "      <td>15.0</td>\n",
       "      <td>3.82</td>\n",
       "      <td>2.43</td>\n",
       "    </tr>\n",
       "    <tr>\n",
       "      <th>3</th>\n",
       "      <td>16.2</td>\n",
       "      <td>4.59</td>\n",
       "      <td>2.63</td>\n",
       "    </tr>\n",
       "    <tr>\n",
       "      <th>4</th>\n",
       "      <td>17.4</td>\n",
       "      <td>4.59</td>\n",
       "      <td>2.94</td>\n",
       "    </tr>\n",
       "  </tbody>\n",
       "</table>\n",
       "</div>"
      ],
      "text/plain": [
       "   length   height   width\n",
       "0     8.4     2.11    1.41\n",
       "1    13.7     3.53    2.00\n",
       "2    15.0     3.82    2.43\n",
       "3    16.2     4.59    2.63\n",
       "4    17.4     4.59    2.94"
      ]
     },
     "execution_count": 2,
     "metadata": {},
     "output_type": "execute_result"
    }
   ],
   "source": [
    "df = pd.read_csv('https://bit.ly/perch_csv')\n",
    "df.head()"
   ]
  },
  {
   "cell_type": "code",
   "execution_count": 6,
   "id": "eb6cc312",
   "metadata": {
    "ExecuteTime": {
     "end_time": "2022-03-27T14:37:31.202289Z",
     "start_time": "2022-03-27T14:37:31.191274Z"
    }
   },
   "outputs": [],
   "source": [
    "perch_full = df.to_numpy()\n",
    "\n",
    "# 타겟 \n",
    "perch_weight = np.array(\n",
    "    [5.9, 32.0, 40.0, 51.5, 70.0, 100.0, 78.0, 80.0, 85.0, 85.0, \n",
    "     110.0, 115.0, 125.0, 130.0, 120.0, 120.0, 130.0, 135.0, 110.0, \n",
    "     130.0, 150.0, 145.0, 150.0, 170.0, 225.0, 145.0, 188.0, 180.0, \n",
    "     197.0, 218.0, 300.0, 260.0, 265.0, 250.0, 250.0, 300.0, 320.0, \n",
    "     514.0, 556.0, 840.0, 685.0, 700.0, 700.0, 690.0, 900.0, 650.0, \n",
    "     820.0, 850.0, 900.0, 1015.0, 820.0, 1100.0, 1000.0, 1100.0, \n",
    "     1000.0, 1000.0]\n",
    "     )\n",
    "# Train , Test 분리\n",
    "X_train, X_test, y_train, y_test = train_test_split(perch_full, perch_weight, \\\n",
    "                                                    random_state=42)\n",
    "\n",
    "poly = PolynomialFeatures(degree=5, include_bias=False)\n",
    "\n",
    "poly.fit(X_train)\n",
    "X_train_poly = poly.transform(X_train)\n",
    "X_test_poly = poly.transform(X_test)\n",
    "\n",
    "# 스탠다드 스캐일러 \n",
    "scale = StandardScaler()\n",
    "scale.fit(X_train_poly)\n",
    "\n",
    "\n",
    "X_train_scaled = scale.transform(X_train_poly)\n",
    "X_test_scaled = scale.transform(X_test_poly)"
   ]
  },
  {
   "cell_type": "code",
   "execution_count": 7,
   "id": "bb3f0380",
   "metadata": {
    "ExecuteTime": {
     "end_time": "2022-03-27T14:37:31.453326Z",
     "start_time": "2022-03-27T14:37:31.438805Z"
    }
   },
   "outputs": [
    {
     "data": {
      "text/plain": [
       "((14, 55), (42, 55))"
      ]
     },
     "execution_count": 7,
     "metadata": {},
     "output_type": "execute_result"
    }
   ],
   "source": [
    "X_test_scaled.shape, X_train_scaled.shape"
   ]
  },
  {
   "cell_type": "code",
   "execution_count": 8,
   "id": "6de14c8b",
   "metadata": {
    "ExecuteTime": {
     "end_time": "2022-03-27T14:37:47.814255Z",
     "start_time": "2022-03-27T14:37:47.773666Z"
    }
   },
   "outputs": [
    {
     "data": {
      "text/plain": [
       "Ridge()"
      ]
     },
     "execution_count": 8,
     "metadata": {},
     "output_type": "execute_result"
    }
   ],
   "source": [
    "# from sklearn.linear_model import Ridge\n",
    "\n",
    "# 릿지\n",
    "model_ridge = Ridge()\n",
    "model_ridge.fit(X_train_scaled, y_train)\n"
   ]
  },
  {
   "cell_type": "code",
   "execution_count": 9,
   "id": "79d48bed",
   "metadata": {
    "ExecuteTime": {
     "end_time": "2022-03-27T14:38:07.231237Z",
     "start_time": "2022-03-27T14:38:07.215240Z"
    }
   },
   "outputs": [
    {
     "name": "stdout",
     "output_type": "stream",
     "text": [
      "0.9896101671037343\n",
      "0.9790693977615386\n"
     ]
    }
   ],
   "source": [
    "\n",
    "# 1.0  보다 작으면 약한 규제\n",
    "# 1.0 보다 크면 강한 규제 \n",
    "print(model_ridge.score(X_train_scaled, y_train))\n",
    "print(model_ridge.score(X_test_scaled, y_test))"
   ]
  },
  {
   "cell_type": "code",
   "execution_count": 10,
   "id": "e2face59",
   "metadata": {
    "ExecuteTime": {
     "end_time": "2022-03-27T14:38:14.939350Z",
     "start_time": "2022-03-27T14:38:14.911638Z"
    }
   },
   "outputs": [
    {
     "name": "stdout",
     "output_type": "stream",
     "text": [
      "1.0\n",
      "-358.85068834475675\n"
     ]
    }
   ],
   "source": [
    "model_lr = LinearRegression()\n",
    "model_lr.fit(X_train_scaled, y_train)\n",
    "\n",
    "print(model_lr.score(X_train_scaled, y_train))\n",
    "print(model_lr.score(X_test_scaled, y_test))"
   ]
  },
  {
   "cell_type": "code",
   "execution_count": 11,
   "id": "aa924fbb",
   "metadata": {
    "ExecuteTime": {
     "end_time": "2022-03-27T14:38:15.078589Z",
     "start_time": "2022-03-27T14:38:15.073589Z"
    }
   },
   "outputs": [
    {
     "name": "stdout",
     "output_type": "stream",
     "text": [
      "[18.75202605  9.99048537  9.64586193 17.278557   14.42089598 12.69251285\n",
      " 12.34283964 10.88252862 12.55963482 12.93825844 12.67925897  9.12136175\n",
      " 12.49327194  9.02641662  8.39716922 12.21409663  8.99564455  8.85968975\n",
      " 11.68602892  7.48294042  8.98610839  3.37199818 10.27381252  4.61786228\n",
      "  1.60700275 11.21975321  5.66171476  2.9808368   3.17359806 11.72544455\n",
      "  6.40554378  4.19129005  5.06384222  8.89201309  1.89344091  4.81186299\n",
      " -2.91832747  7.38733861 -0.51038117 -5.91335297  9.5029666   1.56464851\n",
      " -3.66645267 -6.13031213 11.06068777  3.21356622 -1.71089861 -3.65107495\n",
      " -2.63704498 11.98418393  4.3636902  -0.11776857 -1.40420516  0.45174316\n",
      "  5.29453248]\n",
      "\n",
      "-6.1303121260897 18.75202604944722 6.427257142033631\n"
     ]
    }
   ],
   "source": [
    "# 기울기 - 릿지 \n",
    "print(model_ridge.coef_)\n",
    "print()\n",
    "print(model_ridge.coef_.min(), model_ridge.coef_.max(), model_ridge.coef_.mean())"
   ]
  },
  {
   "cell_type": "code",
   "execution_count": 12,
   "id": "3dba8d52",
   "metadata": {
    "ExecuteTime": {
     "end_time": "2022-03-27T14:38:19.732482Z",
     "start_time": "2022-03-27T14:38:19.713763Z"
    }
   },
   "outputs": [
    {
     "name": "stdout",
     "output_type": "stream",
     "text": [
      "[  -589630.50632573     58882.34307393    292479.57523751\n",
      "   3614696.52944019   2676387.96658711  -4179338.8183397\n",
      "   1913385.13425656  -7462398.40355898   4644311.62003781\n",
      "   1112036.24181948 -36636084.82557356   8265194.95413774\n",
      "  10957186.12609442  44560029.65213348 -18234640.90463739\n",
      " -10575138.85150567   7800352.445491   -11116646.09414671\n",
      "   1508213.95523818  -2366902.43083687  32780600.39125528\n",
      "  -7086929.3693608    6162417.06085747 -21442493.57754867\n",
      "    958974.27238498  -6479999.52099698 -16087564.77922762\n",
      " -24612355.68888687  26477276.42394567  10193063.31613975\n",
      "  -2161671.3520718   -1494714.7276726   18751462.9630843\n",
      " -11464734.54921941 -16778724.41607646  21634520.13183951\n",
      "  17961770.55614863 -15580796.56823964  -3698271.78552324\n",
      "   1658671.1844641  -22830888.79889741   4544534.31191496\n",
      " -20028332.69261038  -7658878.7441799   12298552.58593444\n",
      "  34365168.22879573  14317535.83776338  -3335164.67255283\n",
      "   5353004.90967735  -4052599.90997071  -8063366.6820366\n",
      " -10439620.55746448  -4841213.50626631   9446025.04697538\n",
      "  -5007408.42389034]\n",
      "\n",
      "-36636084.825573556 44560029.65213348 4.047402011264454\n"
     ]
    }
   ],
   "source": [
    "# 기울기 - Linear\n",
    "print(model_lr.coef_)\n",
    "print()\n",
    "print(model_lr.coef_.min(), model_lr.coef_.max(), model_lr.coef_.mean())"
   ]
  },
  {
   "cell_type": "code",
   "execution_count": 13,
   "id": "34654ff9",
   "metadata": {
    "ExecuteTime": {
     "end_time": "2022-03-27T14:38:31.978339Z",
     "start_time": "2022-03-27T14:38:31.966830Z"
    }
   },
   "outputs": [],
   "source": [
    "# alpha 값에 따른 점수 리스트 \n",
    "train_score = []\n",
    "test_score = []\n",
    "alpha_list = [0.001, 0.01, 0.1, 1, 10, 100]\n",
    "for a in alpha_list:    \n",
    "    model_ridge = Ridge(alpha=a)    \n",
    "    model_ridge.fit(X_train_scaled, y_train)    \n",
    "    train_score.append(model_ridge.score(X_train_scaled, y_train))\n",
    "    test_score.append(model_ridge.score(X_test_scaled, y_test))"
   ]
  },
  {
   "cell_type": "code",
   "execution_count": 14,
   "id": "34571c90",
   "metadata": {
    "ExecuteTime": {
     "end_time": "2022-03-27T14:38:35.643407Z",
     "start_time": "2022-03-27T14:38:35.631878Z"
    }
   },
   "outputs": [
    {
     "data": {
      "text/plain": [
       "[0.001, 0.01, 0.1, 1, 10, 100]"
      ]
     },
     "execution_count": 14,
     "metadata": {},
     "output_type": "execute_result"
    }
   ],
   "source": [
    "alpha_list"
   ]
  },
  {
   "cell_type": "code",
   "execution_count": 15,
   "id": "4bf550b9",
   "metadata": {
    "ExecuteTime": {
     "end_time": "2022-03-27T14:38:42.705552Z",
     "start_time": "2022-03-27T14:38:42.688619Z"
    }
   },
   "outputs": [
    {
     "data": {
      "text/plain": [
       "([0.001, 0.01, 0.1, 1, 10, 100],\n",
       " [0.9930455252088454,\n",
       "  0.9917809981250512,\n",
       "  0.9903815817570368,\n",
       "  0.9896101671037343,\n",
       "  0.988728468997471,\n",
       "  0.9841843235774494])"
      ]
     },
     "execution_count": 15,
     "metadata": {},
     "output_type": "execute_result"
    }
   ],
   "source": [
    "# 학습 점수인 경우에는 \n",
    "# alpha 값이 낮으면 점수가 높아진다 \n",
    "alpha_list, train_score"
   ]
  },
  {
   "cell_type": "code",
   "execution_count": 16,
   "id": "8664c73d",
   "metadata": {
    "ExecuteTime": {
     "end_time": "2022-03-27T14:38:42.798546Z",
     "start_time": "2022-03-27T14:38:42.788542Z"
    }
   },
   "outputs": [
    {
     "data": {
      "text/plain": [
       "([0.001, 0.01, 0.1, 1, 10, 100],\n",
       " [0.9569388961553603,\n",
       "  0.9800187936872427,\n",
       "  0.9827976465386984,\n",
       "  0.9790693977615386,\n",
       "  0.9725329582461569,\n",
       "  0.9627042641050291])"
      ]
     },
     "execution_count": 16,
     "metadata": {},
     "output_type": "execute_result"
    }
   ],
   "source": [
    "# 테스트 점수인 경우에는 \n",
    "# alpha 값이 낮으면 점수가 낮아진다 \n",
    "alpha_list, test_score"
   ]
  },
  {
   "cell_type": "code",
   "execution_count": 21,
   "id": "69e66aae",
   "metadata": {
    "ExecuteTime": {
     "end_time": "2022-03-27T14:39:14.160959Z",
     "start_time": "2022-03-27T14:39:14.035110Z"
    }
   },
   "outputs": [
    {
     "data": {
      "image/png": "[encoded data removed]",
      "text/plain": [
       "<Figure size 720x720 with 1 Axes>"
      ]
     },
     "metadata": {},
     "output_type": "display_data"
    }
   ],
   "source": [
    "# 시각화 \n",
    "\n",
    "plt.plot(alpha_list, train_score, label='train', marker='o')\n",
    "plt.plot(alpha_list, test_score, label='test', marker='o')\n",
    "plt.legend()\n",
    "plt.show()"
   ]
  },
  {
   "cell_type": "code",
   "execution_count": 22,
   "id": "83127947",
   "metadata": {
    "ExecuteTime": {
     "end_time": "2022-03-27T14:39:19.426325Z",
     "start_time": "2022-03-27T14:39:19.301613Z"
    }
   },
   "outputs": [
    {
     "data": {
      "image/png": "[encoded data removed]",
      "text/plain": [
       "<Figure size 720x720 with 1 Axes>"
      ]
     },
     "metadata": {},
     "output_type": "display_data"
    }
   ],
   "source": [
    "plt.plot(alpha_list, train_score, label='train', marker='o')\n",
    "plt.plot(alpha_list, test_score, label='test', marker='o')\n",
    "plt.xlim([0, 0.2])\n",
    "plt.ylim([0.975, 1.0])\n",
    "plt.legend()\n",
    "plt.show()"
   ]
  },
  {
   "cell_type": "code",
   "execution_count": 23,
   "id": "65fe280c",
   "metadata": {
    "ExecuteTime": {
     "end_time": "2022-03-27T14:39:37.608803Z",
     "start_time": "2022-03-27T14:39:37.594117Z"
    }
   },
   "outputs": [
    {
     "name": "stdout",
     "output_type": "stream",
     "text": [
      "[-3. -2. -1.  0.  1.  2.]\n",
      "[1.e-03 1.e-02 1.e-01 1.e+00 1.e+01 1.e+02]\n"
     ]
    }
   ],
   "source": [
    "alpha_list = [0.001, 0.01, 0.1, 1, 10, 100]\n",
    "print(np.log10(alpha_list))\n",
    "print(10**(np.log10(alpha_list)))"
   ]
  },
  {
   "cell_type": "code",
   "execution_count": 24,
   "id": "57c5e6ce",
   "metadata": {
    "ExecuteTime": {
     "end_time": "2022-03-27T14:39:37.829438Z",
     "start_time": "2022-03-27T14:39:37.693823Z"
    }
   },
   "outputs": [
    {
     "data": {
      "image/png": "[encoded data removed]",
      "text/plain": [
       "<Figure size 720x720 with 1 Axes>"
      ]
     },
     "metadata": {},
     "output_type": "display_data"
    }
   ],
   "source": [
    "plt.plot(np.log10(alpha_list), train_score, label='Train', marker='o')\n",
    "plt.plot(np.log10(alpha_list), test_score, label='Test', marker='o')\n",
    "plt.legend()\n",
    "plt.show()"
   ]
  },
  {
   "cell_type": "code",
   "execution_count": 25,
   "id": "09777cb5",
   "metadata": {
    "ExecuteTime": {
     "end_time": "2022-03-27T14:39:44.076011Z",
     "start_time": "2022-03-27T14:39:44.068012Z"
    }
   },
   "outputs": [
    {
     "name": "stdout",
     "output_type": "stream",
     "text": [
      "0.9903815817570368\n",
      "0.9827976465386984\n"
     ]
    }
   ],
   "source": [
    "# alpha 0.1 로 다시 학습 \n",
    "model_ridge = Ridge(alpha=0.1)\n",
    "model_ridge.fit(X_train_scaled, y_train)\n",
    "\n",
    "print(model_ridge.score(X_train_scaled, y_train))\n",
    "print(model_ridge.score(X_test_scaled, y_test))"
   ]
  },
  {
   "cell_type": "code",
   "execution_count": null,
   "id": "1a54c0e9",
   "metadata": {},
   "outputs": [],
   "source": [
    "# alpha 1 의 경우 \n",
    "# 0.9896101671037343\n",
    "# 0.979069397761539"
   ]
  },
  {
   "cell_type": "markdown",
   "id": "3f108f35",
   "metadata": {},
   "source": [
    "\n",
    "## 라쏘"
   ]
  },
  {
   "cell_type": "code",
   "execution_count": 27,
   "id": "eef62d7c",
   "metadata": {
    "ExecuteTime": {
     "end_time": "2022-03-27T14:40:33.772945Z",
     "start_time": "2022-03-27T14:40:33.762939Z"
    }
   },
   "outputs": [
    {
     "data": {
      "text/plain": [
       "array([[-1.01339619, -1.01007487, -1.01952321, -0.9549757 , -0.9496784 ,\n",
       "        -0.95745849, -0.93942079, -0.94342509, -0.94100107, -0.88757122,\n",
       "        -0.88399964, -0.89100599, -0.87785292, -0.88311456, -0.88430909,\n",
       "        -0.8691891 , -0.87259422, -0.87147928, -0.86603533, -0.82233944,\n",
       "        -0.82171953, -0.8280588 , -0.81928269, -0.82512549, -0.8278857 ,\n",
       "        -0.81486775, -0.82006923, -0.82177279, -0.82010716, -0.80835934,\n",
       "        -0.81274154, -0.81321125, -0.8098514 , -0.80275974, -0.7637909 ,\n",
       "        -0.76597773, -0.77150714, -0.76668667, -0.77246614, -0.77577893,\n",
       "        -0.76571689, -0.77162398, -0.77472752, -0.77517751, -0.76290623,\n",
       "        -0.76877311, -0.77148634, -0.77113383, -0.767785  , -0.75814062,\n",
       "        -0.76376113, -0.76586966, -0.76449499, -0.75967179, -0.75143746]])"
      ]
     },
     "execution_count": 27,
     "metadata": {},
     "output_type": "execute_result"
    }
   ],
   "source": [
    "X_train_scaled[:1]"
   ]
  },
  {
   "cell_type": "code",
   "execution_count": 28,
   "id": "b85daf02",
   "metadata": {
    "ExecuteTime": {
     "end_time": "2022-03-27T14:40:33.916615Z",
     "start_time": "2022-03-27T14:40:33.902610Z"
    }
   },
   "outputs": [
    {
     "data": {
      "text/plain": [
       "Lasso()"
      ]
     },
     "execution_count": 28,
     "metadata": {},
     "output_type": "execute_result"
    }
   ],
   "source": [
    "# from sklearn.linear_model import Lasso\n",
    "\n",
    "# alpha=1.0\n",
    "model_lasso = Lasso()\n",
    "model_lasso.fit(X_train_scaled, y_train)"
   ]
  },
  {
   "cell_type": "code",
   "execution_count": 29,
   "id": "b259eea9",
   "metadata": {
    "ExecuteTime": {
     "end_time": "2022-03-27T14:40:34.042728Z",
     "start_time": "2022-03-27T14:40:34.026730Z"
    }
   },
   "outputs": [
    {
     "name": "stdout",
     "output_type": "stream",
     "text": [
      "0.989789897208096\n",
      "0.9800593698421884\n"
     ]
    }
   ],
   "source": [
    "print(model_lasso.score(X_train_scaled, y_train))\n",
    "print(model_lasso.score(X_test_scaled, y_test))"
   ]
  },
  {
   "cell_type": "code",
   "execution_count": 30,
   "id": "30bca546",
   "metadata": {
    "ExecuteTime": {
     "end_time": "2022-03-27T14:40:34.184766Z",
     "start_time": "2022-03-27T14:40:34.172767Z"
    }
   },
   "outputs": [
    {
     "data": {
      "text/plain": [
       "array([ 0.        ,  0.        ,  0.        , 95.61184844, 11.60230215,\n",
       "        0.        , 10.5804005 ,  0.        , 31.51508869,  0.        ,\n",
       "       22.30028081,  0.        , 29.10414951,  0.        ,  0.        ,\n",
       "       18.50441438,  0.        ,  0.        , 41.93702532,  0.        ,\n",
       "        0.        ,  0.        ,  0.        ,  0.        ,  0.        ,\n",
       "        5.74835225,  0.        ,  0.        ,  0.        , 20.53363452,\n",
       "        0.        ,  0.        ,  0.        ,  8.8783085 ,  0.        ,\n",
       "        0.        ,  0.        ,  0.        ,  0.        ,  0.        ,\n",
       "        0.        ,  0.        ,  0.        ,  0.        , 35.3124872 ,\n",
       "        0.        ,  0.        ,  0.        ,  0.        , 21.35881131,\n",
       "        0.        ,  0.        ,  0.        ,  0.        ,  0.        ])"
      ]
     },
     "execution_count": 30,
     "metadata": {},
     "output_type": "execute_result"
    }
   ],
   "source": [
    "# 기울기 - alpha 1.0\n",
    "# 기울기가 0 ?\n",
    "model_lasso.coef_"
   ]
  },
  {
   "cell_type": "code",
   "execution_count": 31,
   "id": "99ccb0f8",
   "metadata": {
    "ExecuteTime": {
     "end_time": "2022-03-27T14:40:34.278861Z",
     "start_time": "2022-03-27T14:40:34.275855Z"
    }
   },
   "outputs": [],
   "source": [
    "# alpha 하이퍼파라미터 테스트 "
   ]
  },
  {
   "cell_type": "code",
   "execution_count": 33,
   "id": "742b3fee",
   "metadata": {
    "ExecuteTime": {
     "end_time": "2022-03-27T14:40:44.318685Z",
     "start_time": "2022-03-27T14:40:44.286653Z"
    }
   },
   "outputs": [
    {
     "name": "stderr",
     "output_type": "stream",
     "text": [
      "C:\\Users\\TFG5076XG\\anaconda3\\lib\\site-packages\\sklearn\\linear_model\\_coordinate_descent.py:647: ConvergenceWarning: Objective did not converge. You might want to increase the number of iterations, check the scale of the features or consider increasing regularisation. Duality gap: 2.336e+04, tolerance: 5.183e+02\n",
      "  model = cd_fast.enet_coordinate_descent(\n",
      "C:\\Users\\TFG5076XG\\anaconda3\\lib\\site-packages\\sklearn\\linear_model\\_coordinate_descent.py:647: ConvergenceWarning: Objective did not converge. You might want to increase the number of iterations, check the scale of the features or consider increasing regularisation. Duality gap: 2.025e+04, tolerance: 5.183e+02\n",
      "  model = cd_fast.enet_coordinate_descent(\n",
      "C:\\Users\\TFG5076XG\\anaconda3\\lib\\site-packages\\sklearn\\linear_model\\_coordinate_descent.py:647: ConvergenceWarning: Objective did not converge. You might want to increase the number of iterations, check the scale of the features or consider increasing regularisation. Duality gap: 8.062e+02, tolerance: 5.183e+02\n",
      "  model = cd_fast.enet_coordinate_descent(\n"
     ]
    }
   ],
   "source": [
    "train_score = []\n",
    "test_score = []\n",
    "\n",
    "alpha_list = [0.001, 0.01, 0.1, 1, 10, 100]\n",
    "for a in alpha_list:\n",
    "    # 라쏘 모델을 만듭니다\n",
    "    model_lasso = Lasso(alpha=a)\n",
    "    # 라쏘 모델을 훈련합니다\n",
    "    model_lasso.fit(X_train_scaled, y_train)\n",
    "    # 훈련 점수와 테스트 점수를 저장합니다\n",
    "    train_score.append(model_lasso.score(X_train_scaled, y_train))\n",
    "    test_score.append(model_lasso.score(X_test_scaled, y_test))"
   ]
  },
  {
   "cell_type": "code",
   "execution_count": 34,
   "id": "3b3d9261",
   "metadata": {
    "ExecuteTime": {
     "end_time": "2022-03-27T14:40:56.912506Z",
     "start_time": "2022-03-27T14:40:56.900481Z"
    }
   },
   "outputs": [
    {
     "name": "stdout",
     "output_type": "stream",
     "text": [
      "[0.001, 0.01, 0.1, 1, 10, 100]\n",
      "\n"
     ]
    },
    {
     "data": {
      "text/plain": [
       "[0.990856843502147,\n",
       " 0.9907921500205304,\n",
       " 0.990137631128448,\n",
       " 0.989789897208096,\n",
       " 0.9888067471131867,\n",
       " 0.9078632190121445]"
      ]
     },
     "execution_count": 34,
     "metadata": {},
     "output_type": "execute_result"
    }
   ],
   "source": [
    "# alpha 값이 낮을 수록 학습 점수가 올라간다. \n",
    "print(alpha_list)\n",
    "print()\n",
    "train_score"
   ]
  },
  {
   "cell_type": "code",
   "execution_count": 35,
   "id": "efc95c8b",
   "metadata": {
    "ExecuteTime": {
     "end_time": "2022-03-27T14:40:57.053851Z",
     "start_time": "2022-03-27T14:40:57.037853Z"
    }
   },
   "outputs": [
    {
     "name": "stdout",
     "output_type": "stream",
     "text": [
      "[0.001, 0.01, 0.1, 1, 10, 100]\n",
      "\n"
     ]
    },
    {
     "data": {
      "text/plain": [
       "[0.9836870822242811,\n",
       " 0.9836730006301537,\n",
       " 0.9819405116249365,\n",
       " 0.9800593698421884,\n",
       " 0.9824470598706695,\n",
       " 0.9089071866576978]"
      ]
     },
     "execution_count": 35,
     "metadata": {},
     "output_type": "execute_result"
    }
   ],
   "source": [
    "# alpha 값 1을 기준으로  낮을 수록 학습 점수가 올라간다. \n",
    "print(alpha_list)\n",
    "print()\n",
    "test_score"
   ]
  },
  {
   "cell_type": "code",
   "execution_count": 36,
   "id": "6c4a5acd",
   "metadata": {
    "ExecuteTime": {
     "end_time": "2022-03-27T14:40:57.241561Z",
     "start_time": "2022-03-27T14:40:57.129054Z"
    }
   },
   "outputs": [
    {
     "data": {
      "image/png": "[encoded data removed]",
      "text/plain": [
       "<Figure size 720x720 with 1 Axes>"
      ]
     },
     "metadata": {},
     "output_type": "display_data"
    }
   ],
   "source": [
    "alpha_list = [0.001, 0.01, 0.1, 1, 10, 100]\n",
    "plt.plot(alpha_list, train_score, marker='o', label='train')\n",
    "plt.plot(alpha_list, test_score, marker='o', label='test')\n",
    "plt.legend()\n",
    "plt.show()"
   ]
  },
  {
   "cell_type": "code",
   "execution_count": 37,
   "id": "2979f8ad",
   "metadata": {
    "ExecuteTime": {
     "end_time": "2022-03-27T14:41:05.978391Z",
     "start_time": "2022-03-27T14:41:05.858827Z"
    }
   },
   "outputs": [
    {
     "data": {
      "image/png": "[encoded data removed]",
      "text/plain": [
       "<Figure size 720x720 with 1 Axes>"
      ]
     },
     "metadata": {},
     "output_type": "display_data"
    }
   ],
   "source": [
    "alpha_list = [0.001, 0.01, 0.1, 1, 10, 100]\n",
    "plt.plot(alpha_list, train_score, marker='o', label='train')\n",
    "plt.plot(alpha_list, test_score, marker='o', label='test')\n",
    "plt.xlim([-1, 20])\n",
    "plt.ylim([0.97, 1.0])\n",
    "plt.legend()\n",
    "plt.show()"
   ]
  },
  {
   "cell_type": "code",
   "execution_count": 38,
   "id": "ce93be8f",
   "metadata": {
    "ExecuteTime": {
     "end_time": "2022-03-27T14:41:10.043941Z",
     "start_time": "2022-03-27T14:41:09.946754Z"
    }
   },
   "outputs": [
    {
     "data": {
      "image/png": "[encoded data removed]",
      "text/plain": [
       "<Figure size 720x720 with 1 Axes>"
      ]
     },
     "metadata": {},
     "output_type": "display_data"
    }
   ],
   "source": [
    "# np.log10() 이용 \n",
    "alpha_list = [0.001, 0.01, 0.1, 1, 10, 100]\n",
    "# 1일때 가장 점수 차이가 적게난다. = 10**(1)\n",
    "\n",
    "plt.plot(np.log10(alpha_list), train_score, marker='o')\n",
    "plt.plot(np.log10(alpha_list), test_score, marker='o')\n",
    "plt.show()"
   ]
  },
  {
   "cell_type": "code",
   "execution_count": 40,
   "id": "cdc8206e",
   "metadata": {
    "ExecuteTime": {
     "end_time": "2022-03-27T14:41:16.315146Z",
     "start_time": "2022-03-27T14:41:16.296707Z"
    }
   },
   "outputs": [
    {
     "name": "stdout",
     "output_type": "stream",
     "text": [
      "0.9888067471131867\n",
      "0.9824470598706695\n"
     ]
    }
   ],
   "source": [
    "# alpha=10 재적용 \n",
    "model_lasso2 = Lasso(alpha=10)\n",
    "model_lasso2.fit(X_train_scaled, y_train)\n",
    "\n",
    "print(model_lasso2.score(X_train_scaled, y_train))\n",
    "print(model_lasso2.score(X_test_scaled, y_test))"
   ]
  },
  {
   "cell_type": "code",
   "execution_count": 42,
   "id": "c43d68ae",
   "metadata": {
    "ExecuteTime": {
     "end_time": "2022-03-27T14:42:44.754740Z",
     "start_time": "2022-03-27T14:42:44.746716Z"
    }
   },
   "outputs": [
    {
     "data": {
      "text/plain": [
       "array([ 0.        ,  0.        ,  0.        , 12.14852453, 55.44856399,\n",
       "       42.23100799,  0.        ,  0.        , 13.70596191,  0.        ,\n",
       "       43.2185952 ,  5.7033775 , 47.46254536,  7.42309425, 11.85823365,\n",
       "        0.        ,  0.        , 13.53038193, 21.22111356,  0.        ,\n",
       "        0.        ,  0.        ,  0.        ,  0.        ,  0.        ,\n",
       "       18.66993032,  0.        ,  0.        ,  0.        , 15.81041778,\n",
       "        0.        ,  0.        ,  0.        ,  0.        ,  0.        ,\n",
       "        0.        ,  0.        ,  0.        ,  0.        ,  0.        ,\n",
       "        0.        ,  0.        ,  0.        ,  0.        , 18.14672268,\n",
       "        0.        ,  0.        ,  0.        ,  0.        , 15.51272953,\n",
       "        0.        ,  0.        ,  0.        ,  0.        ,  0.        ])"
      ]
     },
     "execution_count": 42,
     "metadata": {},
     "output_type": "execute_result"
    }
   ],
   "source": [
    "# alpha 10 \n",
    "model_lasso2.coef_"
   ]
  },
  {
   "cell_type": "code",
   "execution_count": 43,
   "id": "082aba26",
   "metadata": {
    "ExecuteTime": {
     "end_time": "2022-03-27T14:42:49.138504Z",
     "start_time": "2022-03-27T14:42:49.125173Z"
    }
   },
   "outputs": [
    {
     "data": {
      "text/plain": [
       "40"
      ]
     },
     "execution_count": 43,
     "metadata": {},
     "output_type": "execute_result"
    }
   ],
   "source": [
    "np.sum(model_lasso2.coef_ == 0)"
   ]
  },
  {
   "cell_type": "code",
   "execution_count": 44,
   "id": "5df83f3d",
   "metadata": {
    "ExecuteTime": {
     "end_time": "2022-03-27T14:42:58.680049Z",
     "start_time": "2022-03-27T14:42:58.671050Z"
    }
   },
   "outputs": [
    {
     "data": {
      "text/plain": [
       "array([  0.        ,   0.        ,   0.        ,   0.        ,\n",
       "         0.50261219,   0.        ,   0.        ,   0.        ,\n",
       "         0.        ,   0.        ,   0.        ,   0.        ,\n",
       "        81.7197224 , 167.24554985,   0.        ,   0.        ,\n",
       "         0.        ,   0.        ,   0.        ,   0.        ,\n",
       "         0.        ,   0.        ,   0.        ,   0.        ,\n",
       "         0.        ,   0.        ,   0.        ,   0.        ,\n",
       "         0.        ,   0.        ,   0.        ,   0.        ,\n",
       "         0.        ,   0.        ,   0.        ,   0.        ,\n",
       "         0.        ,   0.        ,   0.        ,   0.        ,\n",
       "         0.        ,   0.        ,   0.        ,   0.        ,\n",
       "         0.        ,   0.        ,   0.        ,   0.        ,\n",
       "         0.        ,   0.        ,   0.        ,   0.        ,\n",
       "         0.        ,   0.        ,   0.        ])"
      ]
     },
     "execution_count": 44,
     "metadata": {},
     "output_type": "execute_result"
    }
   ],
   "source": [
    "# alpha 1\n",
    "model_lasso.coef_"
   ]
  },
  {
   "cell_type": "code",
   "execution_count": 45,
   "id": "aea7c265",
   "metadata": {
    "ExecuteTime": {
     "end_time": "2022-03-27T14:42:58.833459Z",
     "start_time": "2022-03-27T14:42:58.822935Z"
    }
   },
   "outputs": [
    {
     "data": {
      "text/plain": [
       "52"
      ]
     },
     "execution_count": 45,
     "metadata": {},
     "output_type": "execute_result"
    }
   ],
   "source": [
    "np.sum(model_lasso.coef_ == 0)"
   ]
  }
 ],
 "metadata": {
  "kernelspec": {
   "display_name": "Python 3 (ipykernel)",
   "language": "python",
   "name": "python3"
  },
  "language_info": {
   "codemirror_mode": {
    "name": "ipython",
    "version": 3
   },
   "file_extension": ".py",
   "mimetype": "text/x-python",
   "name": "python",
   "nbconvert_exporter": "python",
   "pygments_lexer": "ipython3",
   "version": "3.8.8"
  },
  "toc": {
   "base_numbering": 1,
   "nav_menu": {},
   "number_sections": true,
   "sideBar": true,
   "skip_h1_title": false,
   "title_cell": "Table of Contents",
   "title_sidebar": "Contents",
   "toc_cell": false,
   "toc_position": {},
   "toc_section_display": true,
   "toc_window_display": false
  }
 },
 "nbformat": 4,
 "nbformat_minor": 5
}
